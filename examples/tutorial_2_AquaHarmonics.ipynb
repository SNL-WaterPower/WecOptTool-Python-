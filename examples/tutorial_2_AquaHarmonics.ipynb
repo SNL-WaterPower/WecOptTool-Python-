{
 "cells": [
  {
   "attachments": {},
   "cell_type": "markdown",
   "metadata": {},
   "source": [
    "# Tutorial 2 - AquaHarmonics\n",
    "The goal of this tutorial is to illustrate a more realistic model of a PTO, including non-linear power conversion chain. \n",
    "It uses the [AquaHarmonics](https://aquaharmonics.com/wec_vis/) device in one degree of freedom in regular waves and models the PTO generator using a non-linear efficiency map and adds realistic constraints, including generator maximum torque and min/max line tension.\n",
    "\n",
    "![AquaHarmonics device](https://aquaharmonics.com/wec_vis.png)"
   ]
  },
  {
   "cell_type": "code",
   "execution_count": null,
   "metadata": {},
   "outputs": [],
   "source": [
    "import capytaine as cpy\n",
    "import autograd.numpy as np\n",
    "import matplotlib.pyplot as plt\n",
    "from matplotlib import cm\n",
    "from scipy.optimize import brute\n",
    "\n",
    "import wecopttool as wot"
   ]
  },
  {
   "attachments": {},
   "cell_type": "markdown",
   "metadata": {},
   "source": [
    "## 1. Optimal control with non-liner power conversion chain\n",
    "\n",
    "### WEC object\n",
    "We will go through a number of steps to create a `WEC` object, with which we can solve for the optimal control trajectory.\n",
    "To compose the `WEC` object, we will need to...\n",
    "\n",
    "TODO\n",
    "\n",
    "#### Geometry\n",
    "First we create a surface mesh for the WEC hull.\n",
    "We can quickly visualize the cross-sectional shape of the hull."
   ]
  },
  {
   "cell_type": "code",
   "execution_count": null,
   "metadata": {},
   "outputs": [],
   "source": [
    "ah_hull = wot.geom.AquaHarmonics()\n",
    "mesh = ah_hull.mesh(mesh_size_factor=0.25)\n",
    "_ = ah_hull.plot_cross_section()"
   ]
  },
  {
   "attachments": {},
   "cell_type": "markdown",
   "metadata": {},
   "source": [
    "Next we create a `FloatingBody` object from the mesh in Capytaine, which we will use to calculate the hydrodynamics.\n",
    "We can visualize the a 3D rendering of the mesh now as well."
   ]
  },
  {
   "cell_type": "code",
   "execution_count": null,
   "metadata": {},
   "outputs": [],
   "source": [
    "fb = cpy.FloatingBody.from_meshio(mesh, name=\"AquaHarmonics\")\n",
    "fb.add_translation_dof(name=\"Heave\")\n",
    "ndof = fb.nb_dofs\n",
    "fb.show_matplotlib()"
   ]
  },
  {
   "attachments": {},
   "cell_type": "markdown",
   "metadata": {},
   "source": [
    "#### Hydrostatics and mass\n",
    "The AquaHarmonics device is positively buoyant (i.e., the buoyancy force and greater than the force due to gravity).\n",
    "Therefore, we'll calculate the hydrostatic effects from the mesh, but set rigid-body mass manually."
   ]
  },
  {
   "cell_type": "code",
   "execution_count": null,
   "metadata": {},
   "outputs": [],
   "source": [
    "mass = np.atleast_2d(5500) # [kg] mass w. ballast\n",
    "stiffness = wot.hydrostatics.stiffness_matrix(fb).values\n",
    "\n",
    "# will be needed for additional forces/constraints.\n",
    "g = 9.81\n",
    "rho = 1025\n",
    "displaced_mass_cpy = wot.hydrostatics.inertia_matrix(fb, rho).values\n",
    "displacement = displaced_mass_cpy/rho # [m^3] disp. vol w. ballast and pretension"
   ]
  },
  {
   "attachments": {},
   "cell_type": "markdown",
   "metadata": {},
   "source": [
    "#### Hydrodynamics\n",
    "\n",
    "Next we will run the boundary element model (BEM; [Capytaine](https://github.com/capytaine/capytaine)) to obtaine the hydrodynamics for the hull.\n",
    "We can also quickly plot the results to confirm they look reasonable.\n",
    "Before running the BEM solver, we must specify a set of frequencies at which to perform the calculations.\n",
    "For `WecOptTool`, these must be a regularly spaced frequency array."
   ]
  },
  {
   "cell_type": "code",
   "execution_count": null,
   "metadata": {},
   "outputs": [],
   "source": [
    "f1 = 0.08 # [Hz]\n",
    "nfreq = 10\n",
    "freq = wot.frequency(f1, nfreq, False) # False -> no zero frequency\n",
    "\n",
    "bem_data = wot.run_bem(fb, freq, rho=rho, g=g)\n",
    "\n",
    "bem_file = \"./bem_data.nc\"\n",
    "wot.write_netcdf(bem_file, bem_data)"
   ]
  },
  {
   "cell_type": "code",
   "execution_count": null,
   "metadata": {},
   "outputs": [],
   "source": [
    "fig, axes = plt.subplots(3,1)\n",
    "bem_data['added_mass'].plot(ax = axes[0])\n",
    "bem_data['radiation_damping'].plot(ax = axes[1])\n",
    "axes[2].plot(bem_data['omega'],np.abs(np.squeeze(bem_data['diffraction_force'].values)), color = 'orange')\n",
    "axes[2].set_ylabel('abs(diffraction_force)', color = 'orange')\n",
    "axes[2].tick_params(axis ='y', labelcolor = 'orange')\n",
    "ax2r = axes[2].twinx()\n",
    "ax2r.plot(bem_data['omega'],np.abs(np.squeeze(bem_data['Froude_Krylov_force'].values)), color = 'blue')\n",
    "ax2r.set_ylabel('abs(FK_force)', color = 'blue')\n",
    "ax2r.tick_params(axis ='y', labelcolor = 'blue')\n",
    "\n",
    "for axi in axes:\n",
    "    axi.set_title('')\n",
    "    axi.label_outer()\n",
    "    axi.grid()\n",
    "    \n",
    "axes[-1].set_xlabel('Frequency [rad/s]')"
   ]
  },
  {
   "attachments": {},
   "cell_type": "markdown",
   "metadata": {},
   "source": [
    "#### PTO \n",
    "The AquaHarmonics device drive train includes a generator and pneumatic air spring, each of which have distinct gearings relative to linear tether motion as well as finite levels of inertia and friction.\n",
    "Here, we define each of these factors.\n",
    "\n",
    "![PTO diagram](./PTO.png)"
   ]
  },
  {
   "cell_type": "code",
   "execution_count": null,
   "metadata": {},
   "outputs": [],
   "source": [
    "radii = {\n",
    "    \"S1\": 0.124775, \"S2\": 0.4991, \"S3\": 0.1595, \"S4\": 0.200525, \"S5\": 0.40105, \n",
    "    \"S6\": 0.12575, \"S7\": 0.103\n",
    "}\n",
    "\n",
    "inertias = {\n",
    "    \"Igen\": 3.9, \"I1\": 0.029, \"I2\": 25.6, \"I3\": 1.43, \"I4\": 1.165, \"I5\": 4.99, \n",
    "    \"I6\": 1.43, \"I7\": 1.5, \"mps\": 40\n",
    "}\n",
    "\n",
    "friction = {\n",
    "    \"Bgen\": 7, \"Bdrivetrain\": 40, \"Bshaft\": 40, \"Bspring_pulley\": 80, \n",
    "    \"Bpneumatic_spring\": 700, \"Bpneumatic_spring_static1\": 0, \n",
    "    \"Bpspneumatic_spring_static2\": 0\n",
    "}\n",
    "\n",
    "airspring = {\n",
    "    \"gamma\": 1.4, \"height\": 1, \"diameter\": 3, \"area\": 0.0709676, \n",
    "    \"press_init\": 854e3, \"vol_init\": 1\n",
    "}\n",
    "\n",
    "gear_ratios = {\n",
    "    \"R21\": radii['S2']/radii['S1'],\n",
    "    \"R45\": radii['S4']/radii['S5'], \n",
    "    \"R67\": radii['S6']/radii['S7'],\n",
    "    \"spring\": radii['S6']*(radii['S4']/radii['S5'])\n",
    "}\n",
    "\n",
    "inertia_PTO = (\n",
    "    (inertias[\"Igen\"]  + inertias[\"I1\"])*gear_ratios['R21']**2 +\n",
    "    (inertias['I2'] +inertias['I3'] + inertias['I4']) +\n",
    "    gear_ratios[\"R45\"]**2 * (\n",
    "        inertias['I5'] + inertias['I6'] +\n",
    "        inertias[\"I7\"] * gear_ratios['R67']**2 +\n",
    "        inertias['mps'] * radii['S6']**2   \n",
    "    )\n",
    ")\n",
    "\n",
    "friction_PTO = (\n",
    "    friction['Bgen']*gear_ratios['R21']**2 + \n",
    "    friction['Bdrivetrain'] +\n",
    "    gear_ratios[\"R45\"]**2 * (\n",
    "        friction[\"Bshaft\"]+\n",
    "        friction[\"Bspring_pulley\"]*gear_ratios['R67']**2 +\n",
    "        friction[\"Bpneumatic_spring\"]*radii['S6']**2\n",
    "    )\n",
    ")"
   ]
  },
  {
   "attachments": {},
   "cell_type": "markdown",
   "metadata": {},
   "source": [
    "##### Generator efficiency map\n",
    "The generator used by the AquaHarmonics devices is a motor from a Nissan Leaf.\n",
    "Nissan (and Oak Ridge National Lab) have published efficiency data on the motor.\n",
    "Here, we have fit a polynomial to the discrete efficiency map provided by Nissan.\n",
    "The advantage of this polynomial is that it is differentiable, and thus will allow the usage of automatic differentiation to obtain the optimal control trajectory solution."
   ]
  },
  {
   "cell_type": "code",
   "execution_count": null,
   "metadata": {},
   "outputs": [],
   "source": [
    "def efficiency(flow, effort):\n",
    "    eff_max = 300\n",
    "    flow_max = 10000*2*np.pi/60\n",
    "    a = 1.148\n",
    "    b = -0.4589\n",
    "    c = -0.297\n",
    "    d = 3.204\n",
    "    e = -1.695\n",
    "    f = 0.01\n",
    "    o = -3.683\n",
    "\n",
    "    efficiency = []\n",
    "    for eff, flo in zip(effort/eff_max, flow/flow_max):\n",
    "        efficiency.append(\n",
    "            (1.2-f/(55*flo**2+0.377)**(3/2)) *\n",
    "            (1.2-f/(230*eff**2+0.367)**(3/2))\n",
    "            * (\n",
    "                (a**3*flo**2*eff**2) + b**3*eff**2 + c**3.*flo**2 +\n",
    "                e**5*eff**4*flo**4 + d\n",
    "            )\n",
    "            + o\n",
    "        )\n",
    "\n",
    "    return np.array(efficiency)"
   ]
  },
  {
   "attachments": {},
   "cell_type": "markdown",
   "metadata": {},
   "source": [
    "In addition to the efficiency data, we can also include limitations on the system.\n",
    "Here, we will define:\n",
    "\n",
    " * Maximum rotational speed\n",
    " * Maximum torque\n",
    " * Maximum power"
   ]
  },
  {
   "cell_type": "code",
   "execution_count": null,
   "metadata": {},
   "outputs": [],
   "source": [
    "rot_max = 10000*2*np.pi/60 # [rad/s]\n",
    "torque_max = 300 # [Nm]\n",
    "power_max = 80e3 # [W]"
   ]
  },
  {
   "attachments": {},
   "cell_type": "markdown",
   "metadata": {},
   "source": [
    "Finally, we can plot the efficiency surface to see how it looks.\n",
    "Here, the independent variables are motor speed in [rad/s] and motor torque in [Nm].\n",
    "Note that we limit the plot by power limit."
   ]
  },
  {
   "cell_type": "code",
   "execution_count": null,
   "metadata": {},
   "outputs": [],
   "source": [
    "x = np.arange(-1*rot_max, 1*rot_max, 10)\n",
    "y = np.arange(-1*torque_max, 1.0*torque_max, 5)\n",
    "X, Y = np.meshgrid(x, y)\n",
    "Z = efficiency(X, Y).copy()\n",
    "Z[np.abs(X*Y) > power_max] = np.NaN  # cut off area outside of power limit\n",
    "\n",
    "fig = plt.figure(figsize=plt.figaspect(0.4))\n",
    "ax = [fig.add_subplot(1, 2, 1, projection=\"3d\"),\n",
    "      fig.add_subplot(1, 2, 2)]\n",
    "\n",
    "ax[0].plot_surface(X, Y, Z, cmap=cm.coolwarm,linewidth=0)\n",
    "ax[0].set_xlabel('Shaft speed [rad/s]')\n",
    "ax[0].set_ylabel('Torque [Nm]')\n",
    "ax[0].set_zlabel('Efficiency')\n",
    "ax[0].set_zlim([0, 1.1])\n",
    "\n",
    "contour = ax[1].contourf(X, Y, Z)\n",
    "plt.colorbar(contour, label=\"Efficiency\")\n",
    "ax[1].set_xlabel('Shaft speed [rad/s]')\n",
    "ax[1].set_ylabel('Torque [Nm]')\n",
    "\n",
    "plt.tight_layout()"
   ]
  },
  {
   "attachments": {},
   "cell_type": "markdown",
   "metadata": {},
   "source": [
    "##### PTO object\n",
    "Using both the parametric kinematics (gear ratios) and the efficiency map, we can now create a PTO object that will be inserted in our WEC object.\n",
    "Note that the friction and inertia effects will be included as additional forces.\n",
    "By defining the PTO object in this way, we will be able to more clearly distinguish the power generating forces for other effects (e.g., friction)."
   ]
  },
  {
   "cell_type": "code",
   "execution_count": null,
   "metadata": {},
   "outputs": [],
   "source": [
    "name = [\"PTO_Heave\",]\n",
    "gear_ratio_generator = gear_ratios['R21']/radii['S3']\n",
    "gear_ratio_generator = 249.5    # which one is correct???\n",
    "kinematics = gear_ratio_generator*np.eye(ndof)\n",
    "controller = None\n",
    "nstate_opt = 2*nfreq + 1\n",
    "pto_impedance = None\n",
    "pto = wot.pto.PTO(\n",
    "    ndof, kinematics, controller, pto_impedance, efficiency, name\n",
    ")"
   ]
  },
  {
   "attachments": {},
   "cell_type": "markdown",
   "metadata": {},
   "source": [
    "#### Additional Forces\n",
    "Now we can define other forces on the WEC:\n",
    "\n",
    " * **Buoyancy, gravitym and pretension** - While the buoyancy and gravity phenomena are often lumped together, we will keep them seperate here. This is useful because the AquaHarmonics devices has a pretension force, so the buoyancy and gravity forces are not balances at the neutral position with the pretension force from the tether/air spring.\n",
    "* **Passive PTO forces** - Inertia forces due to finite rigid body inertia of gears and friction forces within the drive train are captured by this function.\n",
    "* **PTO line force** - The total force imposed on the WEC from its tether is the sum of the PTO force due to action by the generator and the pretension force from the air spring.\n",
    " "
   ]
  },
  {
   "cell_type": "code",
   "execution_count": null,
   "metadata": {},
   "outputs": [],
   "source": [
    "def F_buoyancy(wec, x_wec, x_opt, waves, nsubsteps = 1):\n",
    "    \"\"\"Only the zero-th order component (doesn't include linear stiffness\"\"\"\n",
    "    return displacement * rho * g * np.ones([wec.ncomponents*nsubsteps, wec.ndof])\n",
    "\n",
    "def F_gravity(wec, x_wec, x_opt, waves, nsubsteps = 1):\n",
    "    return -1 * wec.inertia_matrix.item() * g * np.ones([wec.ncomponents*nsubsteps, wec.ndof])\n",
    "\n",
    "def F_pretension_wec(wec, x_wec, x_opt, waves, nsubsteps = 1):\n",
    "    \"\"\"Pretension force as it acts on the WEC\"\"\"\n",
    "    F_b = F_buoyancy(wec, x_wec, x_opt, waves, nsubsteps) \n",
    "    F_g = F_gravity(wec, x_wec, x_opt, waves, nsubsteps)\n",
    "    return  -1*(F_b+F_g)\n",
    "\n",
    "def F_pto_passive(wec, x_wec, x_opt, waves, nsubsteps = 1):\n",
    "    pos = wec.vec_to_dofmat(x_wec)\n",
    "    vel = np.dot(wec.derivative_mat,pos)\n",
    "    acc = np.dot(wec.derivative_mat, vel)\n",
    "    time_matrix = wec.time_mat_nsubsteps(nsubsteps)\n",
    "    spring = -(gear_ratios['spring']*airspring['gamma']*airspring['area']*\n",
    "              airspring['press_init']/airspring['vol_init']) * pos\n",
    "    F_spring = np.dot(time_matrix,spring)\n",
    "    fric = -(friction_PTO  + \n",
    "                friction['Bpneumatic_spring_static1']*\n",
    "                gear_ratios['spring']) * vel\n",
    "    F_fric = np.dot(time_matrix,fric)\n",
    "    inertia = inertia_PTO * acc\n",
    "    F_inertia = np.dot(time_matrix,inertia)\n",
    "    return F_spring + F_fric + F_inertia\n",
    "\n",
    "def F_pto_line(wec, x_wec, x_opt, waves, nsubsteps = 1):\n",
    "    f_pto = pto.force_on_wec(wec, x_wec, x_opt, waves, nsubsteps)\n",
    "    f_pre = F_pretension_wec(wec, x_wec, x_opt, waves, nsubsteps)\n",
    "    return f_pto + f_pre\n",
    "\n",
    "f_add = {'PTO': F_pto_line,\n",
    "         'PTO_passive': F_pto_passive,\n",
    "         'buoyancy': F_buoyancy,\n",
    "         'gravity': F_gravity}"
   ]
  },
  {
   "attachments": {},
   "cell_type": "markdown",
   "metadata": {},
   "source": [
    "#### Constraints\n",
    "A number a constraints need to be imposed to reflect finite limitation of the drive train hardware.\n",
    "Each of these will be implemented as inequality constraints that will be passed to the numerical optimization solver.\n",
    "\n",
    " * **Peak torque** - The absolute motor torque cannot exceed this value.\n",
    " * **Maximum rotational speed** - The absolute motor speed cannot exceed this value.\n",
    " * **Maximum power** - The maximum mechanical power (i.e., product of torque and velocity) cannot exceed this value.\n",
    " * **Minumum line tension** - In addition to these limitations on the hardware, we will also constrain the solution to prevent the tether tension from going below a certain threshold. We absolutely cannot allow the line tension to be less than zero, or else it will go slack. In practice, it is prudent to set some nonzero limit for the tether tension."
   ]
  },
  {
   "cell_type": "code",
   "execution_count": null,
   "metadata": {},
   "outputs": [],
   "source": [
    "# Generator constraints\n",
    "torque_peak_max = 280    #[Nm]   \n",
    "rot_speed_max = 10000*2*np.pi/60    #[rad/s]\n",
    "# mooring line constraint\n",
    "min_line_tension = -1000\n",
    "\n",
    "nsubsteps = 10\n",
    "\n",
    "def const_peak_torque_pto(wec, x_wec, x_opt, waves): # Format for scipy.optimize.minimize\n",
    "    \"\"\"Instantaneous torque must not exceed max torque \n",
    "        Tmax - |T| >=0 \"\"\"\n",
    "    torque = pto.force(wec, x_wec, x_opt, waves, nsubsteps)\n",
    "    return torque_peak_max - np.abs(torque.flatten())\n",
    "\n",
    "def const_speed_pto(wec, x_wec, x_opt, waves): # Format for scipy.optimize.minimize\n",
    "    rot_vel = pto.velocity(wec, x_wec, x_opt, waves, nsubsteps)\n",
    "    return rot_speed_max - np.abs(rot_vel.flatten())\n",
    "\n",
    "def const_power_pto(wec, x_wec, x_opt, waves): # Format for scipy.optimize.minimize\n",
    "    power_mech = (pto.velocity(wec, x_wec, x_opt, waves, nsubsteps) *\n",
    "                    pto.force(wec, x_wec, x_opt, waves, nsubsteps))\n",
    "\n",
    "    return power_max - np.abs(power_mech.flatten())\n",
    "\n",
    "def constrain_min_tension(wec, x_wec, x_opt, waves):\n",
    "    total_tension = -1*F_pto_line(wec, x_wec, x_opt, waves, nsubsteps)\n",
    "    return total_tension.flatten() + min_line_tension\n",
    "\n",
    "\n",
    "constraints = [{'type': 'ineq','fun': constrain_min_tension,},\n",
    "               {'type': 'ineq','fun': const_peak_torque_pto,},\n",
    "               {'type': 'ineq','fun': const_speed_pto,},\n",
    "               {'type': 'ineq','fun': const_power_pto,}]\n"
   ]
  },
  {
   "attachments": {},
   "cell_type": "markdown",
   "metadata": {},
   "source": [
    "#### WEC object\n",
    "Finally, we can use the different components we've developed to construct a `WEC` object:\n",
    "\n",
    " * **BEM data** - defines the hydrodynamics of the hull\n",
    " * **Inertia and hydrostatics** - rigid-body inertia and hydrostatic stiffness\n",
    " * **Constraints** - limitations on the hardware (max power, max torque, etc.) and the constraint to prevent the tether from going slack\n",
    " * **Additional forces** - this captures all of the forces on the WEC that are not due to the interaction between the hull and water (PTO, friction, etc.)"
   ]
  },
  {
   "cell_type": "code",
   "execution_count": null,
   "metadata": {},
   "outputs": [],
   "source": [
    "wec = wot.WEC.from_bem(\n",
    "    bem_data,\n",
    "    inertia_matrix=mass,\n",
    "    hydrostatic_stiffness=stiffness,\n",
    "    constraints=constraints,\n",
    "    friction=None,\n",
    "    f_add=f_add,\n",
    ")"
   ]
  },
  {
   "attachments": {},
   "cell_type": "markdown",
   "metadata": {},
   "source": [
    "### Waves\n",
    "A regular wave will allow us to get a good understanding of the optimal control trajectory.\n",
    "Note that we'll want to choose a wave frequency that is within the frequency array we used to calculate the hydrodynamic data."
   ]
  },
  {
   "cell_type": "code",
   "execution_count": null,
   "metadata": {},
   "outputs": [],
   "source": [
    "amplitude = 0.25 \n",
    "wavefreq =  0.24 #6*f1 \n",
    "phase = 30\n",
    "wavedir = 0\n",
    "waves = wot.waves.regular_wave(f1, nfreq, wavefreq, amplitude, phase, wavedir)"
   ]
  },
  {
   "attachments": {},
   "cell_type": "markdown",
   "metadata": {},
   "source": [
    "### Objective function\n",
    "To drive the solution of the optimal control trajectory, we will optimize the average electrical power from the PTO."
   ]
  },
  {
   "cell_type": "code",
   "execution_count": null,
   "metadata": {},
   "outputs": [],
   "source": [
    "obj_fun = pto.average_power"
   ]
  },
  {
   "attachments": {},
   "cell_type": "markdown",
   "metadata": {},
   "source": [
    "### Solve\n",
    "Finally, we solve for the optimal control trajectory.\n",
    "To ensure the numerical optimization problem is well-scaled, we set [specific scaling factors](https://snl-waterpower.github.io/WecOptTool/theory.html#scaling) for the WEC position (`scale_x_wec`), the PTO force (`scale_x_opt`), and objective function (`scale_obj`).\n",
    "We will also set the [maximum iteration and objective function tolerance for the optimization solver](https://docs.scipy.org/doc/scipy/reference/optimize.minimize-lbfgsb.html).\n",
    "This step typically takes 10-15s."
   ]
  },
  {
   "cell_type": "code",
   "execution_count": null,
   "metadata": {},
   "outputs": [],
   "source": [
    "scale_x_wec = 1e1\n",
    "scale_x_opt = 50e-2\n",
    "scale_obj = 1e-3\n",
    "\n",
    "options = {'maxiter': 200, 'ftol':1e-8} \n",
    "\n",
    "results = wec.solve(\n",
    "    waves, \n",
    "    obj_fun, \n",
    "    nstate_opt,\n",
    "    x_wec_0=np.ones(wec.nstate_wec)*1e-3,\n",
    "    x_opt_0=np.ones(nstate_opt)*1e-3,\n",
    "    optim_options=options, \n",
    "    scale_x_wec=scale_x_wec,\n",
    "    scale_x_opt=scale_x_opt,\n",
    "    scale_obj=scale_obj,\n",
    "    )\n",
    "\n",
    "print(f'Optimal average power: {results.fun} W')"
   ]
  },
  {
   "cell_type": "code",
   "execution_count": null,
   "metadata": {},
   "outputs": [],
   "source": [
    "results"
   ]
  },
  {
   "attachments": {},
   "cell_type": "markdown",
   "metadata": {},
   "source": [
    "### Post-process and plotting\n",
    "Next, we post-process the results to allow us visualize them in a series of plots.\n",
    "Note that because the `WEC` and `PTO` objects are distinct (the WEC object really only knows what the force from the PTO is, not how it is obtained), we create two separate sets results objects (in each case, we get results in the frequency domain and time domain)."
   ]
  },
  {
   "cell_type": "code",
   "execution_count": null,
   "metadata": {},
   "outputs": [],
   "source": [
    "wec_fdom, wec_tdom = wec.post_process(results, waves, nsubsteps=nsubsteps)\n",
    "pto_fdom, pto_tdom = pto.post_process(wec, results, waves, nsubsteps=nsubsteps)\n",
    "wec_tdom"
   ]
  },
  {
   "attachments": {},
   "cell_type": "markdown",
   "metadata": {},
   "source": [
    "#### Time histories\n",
    "We will now generate a series of time history plots:\n",
    "\n",
    " * **Excitation force and velocity** - Looking at the velocity of the WEC along with the excitation force is useful as we expect the two of these to be in phase when maximizing mechanical power and in the absence of constraints.\n",
    " * **PTO and total mooring tether force** - Since we constrained the PTO force in order to maintain a minimum mooring tether tension, it is useful to visualize these values to confirm that the constraint was properly enforced.\n",
    " * **Generator torque** - Similarly, we constrained the maximum torque from the generator\n",
    " * **Power** - We can look at both electrical and mechanical power along with the constraint on mechanical power."
   ]
  },
  {
   "cell_type": "code",
   "execution_count": null,
   "metadata": {},
   "outputs": [],
   "source": [
    "fig, ax = plt.subplots(nrows=4,\n",
    "                       sharex=True,\n",
    "                       figsize=(12, 12))\n",
    "\n",
    "# Excitation and velocity\n",
    "ax1 = ax[0].twinx()\n",
    "(wec_tdom.force.sel(type=['Froude_Krylov', 'diffraction']).sum('type')/1e3).plot(ax=ax[0], color='k')\n",
    "wec_tdom.vel.plot(ax=ax1, color='orange')\n",
    "ax1.set_ylabel('Velocity [m/s]', color='orange')\n",
    "ax1.tick_params(axis='y', labelcolor='orange')\n",
    "ax1.set_title('')\n",
    "ax1.autoscale(enable=True, axis='x', tight=False)\n",
    "ax[0].set_ylabel('Excitation force [kN]')\n",
    "\n",
    "# Forces\n",
    "(wec_tdom.force.sel(type='PTO')/1e3).plot(ax=ax[1], \n",
    "                                          label='PTO force in WEC frame')\n",
    "x_wec, x_opt = wot.decompose_state(results.x, ndof=ndof, nfreq=nfreq)\n",
    "ax[1].plot(wec.time_nsubsteps(nsubsteps),\n",
    "           F_pto_line(wec, x_wec, x_opt, waves, nsubsteps)/1e3,\n",
    "           linestyle='dashed', label='Mooring line tension')\n",
    "ax[1].plot(wec.time, min_line_tension*np.ones(wec.time.shape)/1e3,\n",
    "           linestyle='dotted', color='black',\n",
    "           label=f'Minimum line tension ({min_line_tension/1e3:.0f}kN)')\n",
    "ax[1].axhline(y=0, xmin=0, xmax=1, color='0.75', linewidth=0.5)\n",
    "ax[1].set_ylabel('Force [kN]')\n",
    "ax[1].legend(loc=1)\n",
    "\n",
    "# Torque\n",
    "pto_tdom.force.plot(ax=ax[2], linestyle='solid',\n",
    "                    label='PTO torque in PTO frame')\n",
    "ax[2].plot(pto_tdom.time, 1*torque_peak_max*np.ones(pto_tdom.time.shape),\n",
    "           color='black', linestyle='dotted',\n",
    "           label=f'Peak torque limit ($\\pm${torque_peak_max}Nm)')\n",
    "ax[2].plot(pto_tdom.time, -1*torque_peak_max *\n",
    "           np.ones(pto_tdom.time.shape), color='black', linestyle='dotted')\n",
    "ax[2].set_ylabel('Torque [Nm] ')\n",
    "ax[2].legend(loc='upper right',)\n",
    "\n",
    "# Power\n",
    "(pto_tdom['mech_power']/1e3).plot(ax=ax[3], label='Mech. power')\n",
    "(pto_tdom['power']/1e3).plot(ax=ax[3], linestyle='dashed', label='Elec. power')\n",
    "ax[3].axhline(-1*power_max/1e3,\n",
    "              linestyle='dotted', color='black', \n",
    "              label=f'Max mech. power ($\\pm${power_max/1e3:.0f}kW)')\n",
    "ax[3].axhline(1*power_max/1e3,\n",
    "              linestyle='dotted', color='black')\n",
    "ax[3].grid(color='0.75', linestyle='-',\n",
    "           linewidth=0.5, axis='x')\n",
    "ax[3].legend(loc='upper right')\n",
    "ax[3].set_title('')\n",
    "ax[3].set_ylabel('Power [kW]')\n",
    "\n",
    "for axi in ax:\n",
    "    axi.set_title('')\n",
    "    axi.grid()\n",
    "    axi.label_outer()\n",
    "    axi.autoscale(axis='x', tight=True)\n"
   ]
  },
  {
   "attachments": {},
   "cell_type": "markdown",
   "metadata": {},
   "source": [
    "#### Generator torque vs. shaft speed\n",
    "An important factor in this study was the efficiency map that we defined for the generator.\n",
    "We can visualize how the optimal control trajectory looks along with that efficiency map."
   ]
  },
  {
   "cell_type": "code",
   "execution_count": null,
   "metadata": {},
   "outputs": [],
   "source": [
    "fig, ax = plt.subplots(1, 1, figsize=(8,6))\n",
    "ax.plot(pto_tdom.vel, pto_tdom.force, color='k')\n",
    "contour = ax.contourf(X, Y, Z)\n",
    "plt.colorbar(contour, label=\"Efficiency\")\n",
    "ax.grid(which='major', linestyle='--')\n",
    "ax.axvline(0, color='k', lw=1)\n",
    "ax.axhline(0, color='k', lw=1)\n",
    "ax.set_ylim([-torque_max, torque_max])\n",
    "ax.set_ylabel('Torque [Nm]')\n",
    "ax.set_xlabel('Shaft speed [rad/s]')"
   ]
  },
  {
   "attachments": {},
   "cell_type": "markdown",
   "metadata": {},
   "source": [
    "## 2. Control co-design of line pre-tension with non-linear power conversion\n",
    "Design study: optimal mass vs pretension. Control co-design: for each design considered find it's optimal control strategy.\n",
    "\n",
    "First, create a function that encapsulates everything from Part 1. The input is the mass of the device, and the output is the average electric power produced. "
   ]
  },
  {
   "cell_type": "code",
   "execution_count": null,
   "metadata": {},
   "outputs": [],
   "source": [
    "def design_obj_fun(x):\n",
    "    global n\n",
    "    n += 1\n",
    "\n",
    "    # Unpack geometry variables\n",
    "    mass_var = x[0]\n",
    "    displacement = displaced_mass_cpy/rho\n",
    "    \n",
    "    #BEM\n",
    "    bem_data = bem_file\n",
    "    \n",
    "    #PTO\n",
    "    name = [\"PTO_Heave\",]\n",
    "    kinematics = gear_ratio_generator*np.eye(ndof)\n",
    "    controller = None\n",
    "    nstate_opt = 2*nfreq+1\n",
    "    \n",
    "    # loss = loss_interp\n",
    "    pto_impedance = None\n",
    "    pto = wot.pto.PTO(ndof, kinematics, controller, pto_impedance, efficiency, name)\n",
    "    obj_fun = pto.average_power\n",
    "    \n",
    "    #forces\n",
    "    def F_gravity(wec, x_wec, x_opt, waves, nsubsteps = 1):\n",
    "        return -1 * wec.inertia_matrix.item() * g * np.ones([wec.ncomponents*nsubsteps, wec.ndof])\n",
    "\n",
    "    def F_buoyancy(wec, x_wec, x_opt, waves, nsubsteps = 1):\n",
    "        \"\"\"Only the zero-th order component (doesn't include linear stiffness\"\"\"\n",
    "        return displacement * rho * g * np.ones([wec.ncomponents*nsubsteps, wec.ndof])\n",
    "\n",
    "    def F_pretension_wec(wec, x_wec, x_opt, waves, nsubsteps = 1):\n",
    "        \"\"\"Pretension force as it acts on the WEC\"\"\"\n",
    "        F_b = F_buoyancy(wec, x_wec, x_opt, waves, nsubsteps) \n",
    "        F_g = F_gravity(wec, x_wec, x_opt, waves, nsubsteps)\n",
    "        return  -1*(F_b+F_g)\n",
    "\n",
    "    def F_pto_line(wec, x_wec, x_opt, waves, nsubsteps = 1):\n",
    "        f_pto = pto.force_on_wec(wec, x_wec, x_opt, waves, nsubsteps)\n",
    "        f_pre = F_pretension_wec(wec, x_wec, x_opt, waves, nsubsteps)\n",
    "        return f_pto + f_pre\n",
    "\n",
    "    def F_pto_passive(wec, x_wec, x_opt, waves, nsubsteps = 1):\n",
    "        pos = wec.vec_to_dofmat(x_wec)\n",
    "        vel = np.dot(wec.derivative_mat,pos)\n",
    "        acc = np.dot(wec.derivative_mat, vel)\n",
    "        time_matrix = wec.time_mat_nsubsteps(nsubsteps)\n",
    "        spring = -(gear_ratios['spring']*airspring['gamma']*airspring['area']*\n",
    "                airspring['press_init']/airspring['vol_init']) * pos\n",
    "        F_spring = np.dot(time_matrix,spring)\n",
    "        fric = -(friction_PTO  + \n",
    "                    friction['Bpneumatic_spring_static1']*\n",
    "                    gear_ratios['spring']) * vel\n",
    "        F_fric = np.dot(time_matrix,fric)\n",
    "        inertia = inertia_PTO * acc\n",
    "        F_inertia = np.dot(time_matrix,inertia)\n",
    "        return F_spring + F_fric + F_inertia\n",
    "\n",
    "    #constraints\n",
    "    torque_peak_max = 280    #[Nm]   \n",
    "    torque_continues_max = 120 #[Nm]\n",
    "    rot_speed_max = 10000*2*np.pi/60    #[rad/s]\n",
    "    power_max = 80000   #[W]\n",
    "    min_line_tension = -1000\n",
    "    # nsubsteps = 5\n",
    "\n",
    "    def const_peak_torque_pto(wec, x_wec, x_opt, waves): \n",
    "        \"\"\"Instantaneous torque must not exceed max torque \n",
    "            Tmax - |T| >=0 \"\"\"\n",
    "        torque = pto.force(wec, x_wec, x_opt, waves, nsubsteps)\n",
    "        return torque_peak_max - np.abs(torque.flatten())\n",
    "\n",
    "    ineq_cons_peak_torque = {'type': 'ineq', 'fun': const_peak_torque_pto}\n",
    "\n",
    "    # def const_torque_pto(wec, x_wec, x_opt, waves): \n",
    "    #     \"\"\"RMS torque must not exceed max continous torque \n",
    "    #         Tmax_conti - Trms >=0 \"\"\"\n",
    "    #     torque_rms = np.sqrt(np.mean(pto.force(wec, x_wec, x_opt, waves, nsubsteps)**2))\n",
    "    #     return torque_continues_max - np.abs(torque_rms.flatten())\n",
    "    # \n",
    "    # ineq_cons_torque = {'type': 'ineq', 'fun': const_torque_pto}\n",
    "\n",
    "    def const_speed_pto(wec, x_wec, x_opt, waves):\n",
    "        rot_vel = pto.velocity(wec, x_wec, x_opt, waves, nsubsteps)\n",
    "        return rot_speed_max - np.abs(rot_vel.flatten())\n",
    "\n",
    "    ineq_cons_rot_speed = {'type': 'ineq', 'fun': const_speed_pto}\n",
    "\n",
    "    def const_power_pto(wec, x_wec, x_opt, waves):\n",
    "        power_mech = (pto.velocity(wec, x_wec, x_opt, waves, nsubsteps) *\n",
    "                        pto.force(wec, x_wec, x_opt, waves, nsubsteps))\n",
    "        return power_max - np.abs(power_mech.flatten())\n",
    "\n",
    "    ineq_cons_power = {'type': 'ineq', 'fun': const_power_pto}\n",
    "\n",
    "    def constrain_min_tension(wec, x_wec, x_opt, waves):\n",
    "        total_tension = -1*F_pto_line(wec, x_wec, x_opt, waves, nsubsteps)\n",
    "        return total_tension.flatten() + min_line_tension\n",
    "\n",
    "    ineq_cons_tension = {'type': 'ineq', 'fun': constrain_min_tension}\n",
    "\n",
    "    constraints = [\n",
    "        ineq_cons_tension, \n",
    "        # ineq_cons_torque, \n",
    "        ineq_cons_peak_torque, \n",
    "        ineq_cons_rot_speed, \n",
    "        ineq_cons_power]\n",
    "     \n",
    "    f_add_var = {'PTO': F_pto_line,\n",
    "         'PTO_passive': F_pto_passive,\n",
    "         'buoyancy': F_buoyancy,\n",
    "         'gravity': F_gravity}\n",
    "\n",
    "    # update WEC \n",
    "    wec_mass = wot.WEC.from_bem(\n",
    "                bem_data,\n",
    "                inertia_matrix= mass_var,\n",
    "                hydrostatic_stiffness=stiffness,\n",
    "                constraints=constraints,\n",
    "                friction=None,\n",
    "                f_add=f_add_var,\n",
    "            )\n",
    "\n",
    "    # Solve\n",
    "    print(f'Run {n} off {N}: Mass: {mass_var}kg')\n",
    "    # scale_x_wec = 1e1\n",
    "    # scale_x_opt = 1e-2*1 \n",
    "    # scale_obj = 1e-3 \n",
    "    res = wec_mass.solve(\n",
    "        waves, \n",
    "        obj_fun, \n",
    "        nstate_opt, \n",
    "        optim_options=options, \n",
    "        scale_x_wec=scale_x_wec,\n",
    "        scale_x_opt=scale_x_opt,\n",
    "        scale_obj=scale_obj)\n",
    "    opt_average_power = res.fun\n",
    "    print(f'Mass: {mass_var}kg, Optimal average power: {opt_average_power} W')\n",
    "    return res.fun"
   ]
  },
  {
   "attachments": {},
   "cell_type": "markdown",
   "metadata": {},
   "source": [
    "decide on the range of mass/pretension to look at. \n",
    "The max mass is the one that results in the min pre-tension being met at still water. \n",
    "We should not run it at that high of a mass, but we use it to non-dimensionlize mass (a mass ratio of 1 is mass equal to this max)."
   ]
  },
  {
   "cell_type": "code",
   "execution_count": null,
   "metadata": {},
   "outputs": [],
   "source": [
    "min_ten = -1000\n",
    "max_mass = (min_ten/g + displaced_mass_cpy).item()\n",
    "\n",
    "global n, N\n",
    "n = 0\n",
    "N = 7\n",
    "min_mass_ratio = 0.3\n",
    "max_mass_ratio = 1.0\n",
    "mass_vals = np.linspace(\n",
    "    min_mass_ratio*max_mass, \n",
    "    max_mass_ratio*max_mass, \n",
    "    N, \n",
    "    endpoint=False\n",
    ")\n",
    "ranges = (slice(\n",
    "    mass_vals[0], \n",
    "    mass_vals[-1]+np.diff(mass_vals)[0], \n",
    "    np.diff(mass_vals)[0]),\n",
    ")"
   ]
  },
  {
   "attachments": {},
   "cell_type": "markdown",
   "metadata": {},
   "source": [
    "### Solve"
   ]
  },
  {
   "cell_type": "code",
   "execution_count": null,
   "metadata": {},
   "outputs": [],
   "source": [
    "res = brute(func=design_obj_fun, ranges=ranges, full_output=True,  finish=None)"
   ]
  },
  {
   "cell_type": "code",
   "execution_count": null,
   "metadata": {},
   "outputs": [],
   "source": [
    "fig, ax = plt.subplots()\n",
    "ax.plot(res[2]/max_mass, res[3], 'o-')\n",
    "ax.set_xlabel(\"$m/m_{max}$\")\n",
    "ax.set_ylabel(\"$\\overline{P}_e$ [W]\")\n",
    "ax.set_ylim(top=0.0)"
   ]
  },
  {
   "attachments": {},
   "cell_type": "markdown",
   "metadata": {},
   "source": [
    "Summary: It has little effect."
   ]
  }
 ],
 "metadata": {
  "kernelspec": {
   "display_name": "wot_dev",
   "language": "python",
   "name": "python3"
  },
  "language_info": {
   "codemirror_mode": {
    "name": "ipython",
    "version": 3
   },
   "file_extension": ".py",
   "mimetype": "text/x-python",
   "name": "python",
   "nbconvert_exporter": "python",
   "pygments_lexer": "ipython3",
   "version": "3.10.8"
  },
  "vscode": {
   "interpreter": {
    "hash": "caaaf143527b32ca1d6056ca65c73bf8275eb7b562f39aa0b7adcbdad499fc32"
   }
  }
 },
 "nbformat": 4,
 "nbformat_minor": 2
}
