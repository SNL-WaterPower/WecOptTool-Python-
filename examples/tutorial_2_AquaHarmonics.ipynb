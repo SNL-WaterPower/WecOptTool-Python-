{
 "cells": [
  {
   "attachments": {},
   "cell_type": "markdown",
   "metadata": {},
   "source": [
    "# Tutorial 2 - AquaHarmonics\n",
    "The goal of this tutorial is to illustrate a more realistic model of a PTO, including non-linear power conversion chain. \n",
    "It uses the [AquaHarmonics](https://aquaharmonics.com/wec_vis/) device in one degree of freedom in regular waves and models the PTO generator using a non-linear efficiency map and adds realistic constraints, including generator maximum torque and min/max line tension.\n",
    "\n",
    "![AquaHarmonics device](https://aquaharmonics.com/wec_vis.png)"
   ]
  },
  {
   "cell_type": "code",
   "execution_count": null,
   "metadata": {},
   "outputs": [],
   "source": [
    "import pygmsh\n",
    "import gmsh\n",
    "import capytaine as cpy\n",
    "import autograd.numpy as np\n",
    "import matplotlib.pyplot as plt\n",
    "from matplotlib import cm\n",
    "from scipy.optimize import brute\n",
    "\n",
    "import wecopttool as wot"
   ]
  },
  {
   "attachments": {},
   "cell_type": "markdown",
   "metadata": {},
   "source": [
    "## 1. Optimal control with non-liner power conversion chain\n",
    "\n",
    "### WEC object\n",
    "Create a WEC: mesh, DOFs, hydrostatics, BEM, constraints\n",
    "\n",
    "#### Geometry\n",
    "First we create a surface mesh for the WEC hull.\n",
    "We can quickly visualize the cross-sectional shape of the hull."
   ]
  },
  {
   "cell_type": "code",
   "execution_count": null,
   "metadata": {},
   "outputs": [],
   "source": [
    "ah_hull = wot.geom.AquaHarmonics()\n",
    "mesh = ah_hull.mesh(mesh_size_factor=0.25)\n",
    "_ = ah_hull.plot_cross_section()"
   ]
  },
  {
   "attachments": {},
   "cell_type": "markdown",
   "metadata": {},
   "source": [
    "Next we create a `FloatingBody` object from the mesh in Capytaine, which we will use to calculate the hydrodynamics.\n",
    "We can visualize the a 3D rendering of the mesh now as well."
   ]
  },
  {
   "cell_type": "code",
   "execution_count": null,
   "metadata": {},
   "outputs": [],
   "source": [
    "fb = cpy.FloatingBody.from_meshio(mesh, name=\"AquaHarmonics\")\n",
    "fb.add_translation_dof(name=\"Heave\")\n",
    "ndof = fb.nb_dofs\n",
    "fb.show_matplotlib()"
   ]
  },
  {
   "attachments": {},
   "cell_type": "markdown",
   "metadata": {},
   "source": [
    "#### Hydrostatics and mass\n",
    "The AquaHarmonics device is positively buoyant (i.e., the buoyancy force and greater than the force due to gravity).\n",
    "Therefore, we'll calculate the hydrostatic effects from the mesh, but set rigid-body mass manually."
   ]
  },
  {
   "cell_type": "code",
   "execution_count": null,
   "metadata": {},
   "outputs": [],
   "source": [
    "mass = np.atleast_2d(5500) # [kg] mass w. ballast\n",
    "stiffness = wot.hydrostatics.stiffness_matrix(fb).values\n",
    "\n",
    "# will be needed for additional forces/constraints.\n",
    "g = 9.81\n",
    "rho = 1025\n",
    "displaced_mass_cpy = wot.hydrostatics.inertia_matrix(fb, rho).values\n",
    "displacement = displaced_mass_cpy/rho # [m^3] disp. vol w. ballast and pretension"
   ]
  },
  {
   "attachments": {},
   "cell_type": "markdown",
   "metadata": {},
   "source": [
    "#### Hydrodynamics\n",
    "\n",
    "Next we will run the boundary element model (BEM; [Capytaine](https://github.com/capytaine/capytaine)) to obtaine the hydrodynamics for the hull.\n",
    "We can also quickly plot the results to confirm they look reasonable.\n",
    "Before running the BEM solver, we must specify a set of frequencies at which to perform the calculations.\n",
    "For `WecOptTool`, these must be a regularly spaced frequency array."
   ]
  },
  {
   "cell_type": "code",
   "execution_count": null,
   "metadata": {},
   "outputs": [],
   "source": [
    "f1 = 0.08 # [Hz]\n",
    "nfreq = 10\n",
    "freq = wot.frequency(f1, nfreq, False) # False -> no zero frequency\n",
    "\n",
    "bem_data = wot.run_bem(fb, freq, rho=rho, g=g)\n",
    "\n",
    "fig, axes = plt.subplots(3,1)\n",
    "bem_data['added_mass'].plot(ax = axes[0])\n",
    "bem_data['radiation_damping'].plot(ax = axes[1])\n",
    "axes[2].plot(bem_data['omega'],np.abs(np.squeeze(bem_data['diffraction_force'].values)), color = 'orange')\n",
    "axes[2].set_ylabel('abs(diffraction_force)', color = 'orange')\n",
    "axes[2].tick_params(axis ='y', labelcolor = 'orange')\n",
    "ax2r = axes[2].twinx()\n",
    "ax2r.plot(bem_data['omega'],np.abs(np.squeeze(bem_data['Froude_Krylov_force'].values)), color = 'blue')\n",
    "ax2r.set_ylabel('abs(FK_force)', color = 'blue')\n",
    "ax2r.tick_params(axis ='y', labelcolor = 'blue')\n",
    "\n",
    "for axi in axes:\n",
    "    axi.set_title('')\n",
    "    axi.label_outer()\n",
    "    axi.grid()\n",
    "    \n",
    "axes[-1].set_xlabel('Frequency [rad/s]')"
   ]
  },
  {
   "attachments": {},
   "cell_type": "markdown",
   "metadata": {},
   "source": [
    "#### PTO \n",
    "The AquaHarmonics device drive train includes a generator and pneumatic air spring, each of which have distinct gearings relative to linear tether motion as well as finite levels of inertia and friction.\n",
    "Here, we define each of these factors.\n",
    "\n",
    "<!-- ![PTO diagram](./PTO.png) -->"
   ]
  },
  {
   "cell_type": "code",
   "execution_count": null,
   "metadata": {},
   "outputs": [],
   "source": [
    "radii = {\n",
    "    \"S1\": 0.124775, \"S2\": 0.4991, \"S3\": 0.1595, \"S4\": 0.200525, \"S5\": 0.40105, \n",
    "    \"S6\": 0.12575, \"S7\": 0.103\n",
    "}\n",
    "\n",
    "inertias = {\n",
    "    \"Igen\": 3.9, \"I1\": 0.029, \"I2\": 25.6, \"I3\": 1.43, \"I4\": 1.165, \"I5\": 4.99, \n",
    "    \"I6\": 1.43, \"I7\": 1.5, \"mps\": 40\n",
    "}\n",
    "\n",
    "friction = {\n",
    "    \"Bgen\": 7, \"Bdrivetrain\": 40, \"Bshaft\": 40, \"Bspring_pulley\": 80, \n",
    "    \"Bpneumatic_spring\": 700, \"Bpneumatic_spring_static1\": 0, \n",
    "    \"Bpspneumatic_spring_static2\": 0\n",
    "}\n",
    "\n",
    "airspring = {\n",
    "    \"gamma\": 1.4, \"height\": 1, \"diameter\": 3, \"area\": 0.0709676, \n",
    "    \"press_init\": 854e3, \"vol_init\": 1\n",
    "}\n",
    "\n",
    "gear_ratios = {\n",
    "    \"R21\": radii['S2']/radii['S1'],\n",
    "    \"R45\": radii['S4']/radii['S5'], \n",
    "    \"R67\": radii['S6']/radii['S7'],\n",
    "    \"spring\": radii['S6']*(radii['S4']/radii['S5'])\n",
    "}\n",
    "\n",
    "inertia_PTO = (\n",
    "    (inertias[\"Igen\"]  + inertias[\"I1\"])*gear_ratios['R21']**2 +\n",
    "    (inertias['I2'] +inertias['I3'] + inertias['I4']) +\n",
    "    gear_ratios[\"R45\"]**2 * (\n",
    "        inertias['I5'] + inertias['I6'] +\n",
    "        inertias[\"I7\"] * gear_ratios['R67']**2 +\n",
    "        inertias['mps'] * radii['S6']**2   \n",
    "    )\n",
    ")\n",
    "\n",
    "friction_PTO = (\n",
    "    friction['Bgen']*gear_ratios['R21']**2 + \n",
    "    friction['Bdrivetrain'] +\n",
    "    gear_ratios[\"R45\"]**2 * (\n",
    "        friction[\"Bshaft\"]+\n",
    "        friction[\"Bspring_pulley\"]*gear_ratios['R67']**2 +\n",
    "        friction[\"Bpneumatic_spring\"]*radii['S6']**2\n",
    "    )\n",
    ")"
   ]
  },
  {
   "attachments": {},
   "cell_type": "markdown",
   "metadata": {},
   "source": [
    "##### Generator efficiency map\n",
    "The generator used by the AquaHarmonics devices is a motor from a Nissan Leaf.\n",
    "Nissan (and Oak Ridge National Lab) have published efficiency data on the motor.\n",
    "Here, we have fit a polynomial to the discrete efficiency map provided by Nissan.\n",
    "The advantage of this polynomial is that it is differentiable, and thus will allow the usage of automatic differentiation to obtain the optimal control trajectory solution."
   ]
  },
  {
   "cell_type": "code",
   "execution_count": null,
   "metadata": {},
   "outputs": [],
   "source": [
    "def efficiency(flow, effort): \n",
    "    eff_max = 300\n",
    "    flow_max = 10000*2*np.pi/60\n",
    "    a =       1.148  \n",
    "    b =     -0.4589  \n",
    "    c =      -0.297  \n",
    "    d =       3.204  \n",
    "    e =      -1.695  \n",
    "    f =        0.01 \n",
    "    o =      -3.683 \n",
    "\n",
    "    efficiency = []\n",
    "    for eff, flo in zip(effort/eff_max, flow/flow_max):\n",
    "        efficiency.append(\n",
    "            (1.2-f/(55*flo**2+0.377)**(3/2)) * \n",
    "            (1.2-f/(230*eff**2+0.367)**(3/2))\n",
    "            * (\n",
    "                (a**3*flo**2*eff**2) + b**3*eff**2 + c**3.*flo**2 + \n",
    "                e**5*eff**4*flo**4 + d\n",
    "            ) \n",
    "            + o\n",
    "        )\n",
    "     \n",
    "    return np.array(efficiency)"
   ]
  },
  {
   "attachments": {},
   "cell_type": "markdown",
   "metadata": {},
   "source": [
    "In addition to the efficiency data, we can also include limitations on the system.\n",
    "Here, we will define:\n",
    "\n",
    " * Maximum rotational speed\n",
    " * Maximum torque\n",
    " * Maximum power"
   ]
  },
  {
   "cell_type": "code",
   "execution_count": null,
   "metadata": {},
   "outputs": [],
   "source": [
    "rot_max = 10000*2*np.pi/60\n",
    "torque_max = 300\n",
    "power_limit = 8e3"
   ]
  },
  {
   "attachments": {},
   "cell_type": "markdown",
   "metadata": {},
   "source": [
    "Finally, we can plot the efficiency surface to see how it looks.\n",
    "Here, the independent variables are motor speed in [rad/s] and motor torque in [Nm].\n",
    "Note that we limit the plot by power limit."
   ]
  },
  {
   "cell_type": "code",
   "execution_count": null,
   "metadata": {},
   "outputs": [],
   "source": [
    "x = np.arange(-1*rot_max, 1*rot_max, 10)\n",
    "y = np.arange(-1*torque_max, 1.0*torque_max, 5)\n",
    "X, Y = np.meshgrid(x, y)\n",
    "Z = efficiency(X, Y)\n",
    "Z[np.abs(X*Y) > power_limit] = np.NaN  # cut off area outside of power limit\n",
    "\n",
    "# fig, axes = plt.subplots(1, 2, subplot_kw={\"projection\": \"3d\"})\n",
    "fig = plt.figure(figsize=plt.figaspect(0.4))\n",
    "ax = [\n",
    "    fig.add_subplot(1, 2, 1, projection=\"3d\"),\n",
    "    fig.add_subplot(1, 2, 2)\n",
    "]\n",
    "\n",
    "ax[0].plot_surface(X, Y, Z, cmap=cm.coolwarm,linewidth=0)\n",
    "ax[0].set_xlabel('rotational speed [rad/s]')\n",
    "ax[0].set_ylabel('mechanical torque [Nm]')\n",
    "ax[0].set_zlabel('efficiency')\n",
    "ax[0].set_zlim([0, 1.1])\n",
    "\n",
    "contour = ax[1].contourf(X, Y, Z)\n",
    "plt.colorbar(contour, label=\"efficiency\")\n",
    "ax[1].set_xlabel('rotational speed [rad/s]')\n",
    "ax[1].set_ylabel('mechanical torque [Nm]')\n",
    "\n",
    "plt.tight_layout()"
   ]
  },
  {
   "attachments": {},
   "cell_type": "markdown",
   "metadata": {},
   "source": [
    "##### PTO object\n",
    "Using both the parametric kinematics (gear ratios) and the efficiency map, we can now create a PTO object that will be inserted in our WEC object.\n",
    "Note that the friction and inertia effects will be included as additional forces.\n",
    "By defining the PTO object in this way, we will be able to more clearly distinguish the power generating forces for other effects (e.g., friction)."
   ]
  },
  {
   "cell_type": "code",
   "execution_count": null,
   "metadata": {},
   "outputs": [],
   "source": [
    "name = [\"PTO_Heave\",]\n",
    "gear_ratio_generator = gear_ratios['R21']/radii['S3']\n",
    "gear_ratio_generator = 249.5    # which one is correct???\n",
    "kinematics = gear_ratio_generator*np.eye(ndof)\n",
    "controller = None\n",
    "nstate_opt = 2*nfreq + 1\n",
    "pto_impedance = None\n",
    "pto = wot.pto.PTO(\n",
    "    ndof, kinematics, controller, pto_impedance, efficiency, name\n",
    ")"
   ]
  },
  {
   "attachments": {},
   "cell_type": "markdown",
   "metadata": {},
   "source": [
    "#### Additional Forces\n",
    "Now we can define other forces on the WEC:\n",
    "\n",
    " * **Buoyancy, gravitym and pretension** - While the buoyancy and gravity phenomena are often lumped together, we will keep them seperate here. This is useful because the AquaHarmonics devices has a pretension force, so the buoyancy and gravity forces are not balances at the neutral position with the pretension force from the tether/air spring.\n",
    "* **Passive PTO forces** - Inertia forces due to finite rigid body inertia of gears and friction forces within the drive train are captured by this function.\n",
    "* **PTO line force** - The total force imposed on the WEC from its tether is the sum of the PTO force due to action by the generator and the pretension force from the air spring.\n",
    " "
   ]
  },
  {
   "cell_type": "code",
   "execution_count": null,
   "metadata": {},
   "outputs": [],
   "source": [
    "def F_buoyancy(wec, x_wec, x_opt, waves, nsubsteps = 1):\n",
    "    \"\"\"Only the zero-th order component (doesn't include linear stiffness\"\"\"\n",
    "    return displacement * rho * g * np.ones([wec.ncomponents*nsubsteps, wec.ndof])\n",
    "\n",
    "def F_gravity(wec, x_wec, x_opt, waves, nsubsteps = 1):\n",
    "    return -1 * wec.inertia_matrix.item() * g * np.ones([wec.ncomponents*nsubsteps, wec.ndof])\n",
    "\n",
    "def F_pretension_wec(wec, x_wec, x_opt, waves, nsubsteps = 1):\n",
    "    \"\"\"Pretension force as it acts on the WEC\"\"\"\n",
    "    F_b = F_buoyancy(wec, x_wec, x_opt, waves, nsubsteps) \n",
    "    F_g = F_gravity(wec, x_wec, x_opt, waves, nsubsteps)\n",
    "    return  -1*(F_b+F_g)\n",
    "\n",
    "def F_pto_passive(wec, x_wec, x_opt, waves, nsubsteps = 1):\n",
    "    pos = wec.vec_to_dofmat(x_wec)\n",
    "    vel = np.dot(wec.derivative_mat,pos)\n",
    "    acc = np.dot(wec.derivative_mat, vel)\n",
    "    time_matrix = wec.time_mat_nsubsteps(nsubsteps)\n",
    "    spring = -(gear_ratios['spring']*airspring['gamma']*airspring['area']*\n",
    "              airspring['press_init']/airspring['vol_init']) * pos\n",
    "    F_spring = np.dot(time_matrix,spring)\n",
    "    fric = -(friction_PTO  + \n",
    "                friction['Bpneumatic_spring_static1']*\n",
    "                gear_ratios['spring']) * vel\n",
    "    F_fric = np.dot(time_matrix,fric)\n",
    "    inertia = inertia_PTO * acc\n",
    "    F_inertia = np.dot(time_matrix,inertia)\n",
    "    return F_spring + F_fric + F_inertia\n",
    "\n",
    "def F_pto_line(wec, x_wec, x_opt, waves, nsubsteps = 1):\n",
    "    f_pto = pto.force_on_wec(wec, x_wec, x_opt, waves, nsubsteps)\n",
    "    f_pre = F_pretension_wec(wec, x_wec, x_opt, waves, nsubsteps)\n",
    "    return f_pto + f_pre\n",
    "\n",
    "f_add = {'PTO': F_pto_line,\n",
    "         'PTO_passive': F_pto_passive,\n",
    "         'buoyancy': F_buoyancy,\n",
    "         'gravity': F_gravity}"
   ]
  },
  {
   "attachments": {},
   "cell_type": "markdown",
   "metadata": {},
   "source": [
    "#### Constraints\n",
    "A number a constraints need to be imposed to reflect finite limitation of the drive train hardware.\n",
    "Each of these will be implemented as inequality constraints that will be passed to the numerical optimization solver.\n",
    "\n",
    " * **Peak torque** - The absolute motor torque cannot exceed this value.\n",
    " * **Maximum rotational speed** - The absolute motor speed cannot exceed this value.\n",
    " * **Maximum power** - The maximum mechanical power (i.e., product of torque and velocity) cannot exceed this value.\n",
    " * **Minumum line tension** - In addition to these limitations on the hardware, we will also constrain the solution to prevent the tether tension from going below a certain threshold. We absolutely cannot allow the line tension to be less than zero, or else it will go slack. In practice, it is prudent to set some nonzero limit for the tether tension."
   ]
  },
  {
   "cell_type": "code",
   "execution_count": null,
   "metadata": {},
   "outputs": [],
   "source": [
    "# Generator constraints\n",
    "torque_peak_max = 280    #[Nm]   \n",
    "torque_continues_max = 120 #[Nm]\n",
    "rot_speed_max = 10000*2*np.pi/60    #[rad/s]\n",
    "power_max = 80000   #[W]\n",
    "# mooring line constraint\n",
    "min_line_tension = -1000\n",
    "\n",
    "nsubsteps = 10\n",
    "\n",
    "def const_peak_torque_pto(wec, x_wec, x_opt, waves): # Format for scipy.optimize.minimize\n",
    "    \"\"\"Instantaneous torque must not exceed max torque \n",
    "        Tmax - |T| >=0 \"\"\"\n",
    "    torque = pto.force(wec, x_wec, x_opt, waves, nsubsteps)\n",
    "    return torque_peak_max - np.abs(torque.flatten())\n",
    "\n",
    "def const_speed_pto(wec, x_wec, x_opt, waves): # Format for scipy.optimize.minimize\n",
    "    rot_vel = pto.velocity(wec, x_wec, x_opt, waves, nsubsteps)\n",
    "    return rot_speed_max - np.abs(rot_vel.flatten())\n",
    "\n",
    "def const_power_pto(wec, x_wec, x_opt, waves): # Format for scipy.optimize.minimize\n",
    "    power_mech = (pto.velocity(wec, x_wec, x_opt, waves, nsubsteps) *\n",
    "                    pto.force(wec, x_wec, x_opt, waves, nsubsteps))\n",
    "\n",
    "    return power_max - np.abs(power_mech.flatten())\n",
    "\n",
    "def constrain_min_tension(wec, x_wec, x_opt, waves):\n",
    "    total_tension = -1*F_pto_line(wec, x_wec, x_opt, waves, nsubsteps)\n",
    "    return total_tension.flatten() + min_line_tension\n",
    "\n",
    "\n",
    "constraints = [{'type': 'ineq','fun': constrain_min_tension,},\n",
    "               {'type': 'ineq','fun': const_peak_torque_pto,},\n",
    "               {'type': 'ineq','fun': const_speed_pto,},\n",
    "               {'type': 'ineq','fun': const_power_pto,}]\n"
   ]
  },
  {
   "attachments": {},
   "cell_type": "markdown",
   "metadata": {},
   "source": [
    "#### WEC object\n",
    "Finally, we can use the different components we've developed to construct a `WEC` object:\n",
    "\n",
    " * **BEM data** - defines the hydrodynamics of the hull\n",
    " * **Inertia and hydrostatics** - rigid-body inertia and hydrostatic stiffness\n",
    " * **Constraints** - limitations on the hardware (max power, max torque, etc.) and the constraint to prevent the tether from going slack\n",
    " * **Additional forces** - this captures all of the forces on the WEC that are not due to the interaction between the hull and water (PTO, friction, etc.)"
   ]
  },
  {
   "cell_type": "code",
   "execution_count": null,
   "metadata": {},
   "outputs": [],
   "source": [
    "wec = wot.WEC.from_bem(\n",
    "    bem_data,\n",
    "    inertia_matrix=mass,\n",
    "    hydrostatic_stiffness=stiffness,\n",
    "    constraints=constraints,\n",
    "    friction=None,\n",
    "    f_add=f_add,\n",
    ")"
   ]
  },
  {
   "attachments": {},
   "cell_type": "markdown",
   "metadata": {},
   "source": [
    "### Waves\n",
    "A regular wave will allow us to get a good understanding of the optimal control trajectory.\n",
    "Note that we'll want to choose a wave frequency that is within the frequency array we used to calculate the hydrodynamic data."
   ]
  },
  {
   "cell_type": "code",
   "execution_count": null,
   "metadata": {},
   "outputs": [],
   "source": [
    "amplitude = 0.25 \n",
    "wavefreq =  0.24 #6*f1 \n",
    "phase = 30\n",
    "wavedir = 0\n",
    "waves = wot.waves.regular_wave(f1, nfreq, wavefreq, amplitude, phase, wavedir)"
   ]
  },
  {
   "attachments": {},
   "cell_type": "markdown",
   "metadata": {},
   "source": [
    "### Objective function\n",
    "To drive the solution of the optimal control trajectory, we will optimize the average electrical power from the PTO."
   ]
  },
  {
   "cell_type": "code",
   "execution_count": null,
   "metadata": {},
   "outputs": [],
   "source": [
    "obj_fun = pto.average_power"
   ]
  },
  {
   "attachments": {},
   "cell_type": "markdown",
   "metadata": {},
   "source": [
    "### Solve\n",
    "Finally, we solve for the optimal control trajectory.\n",
    "To ensure the numerical optimization problem is well-scaled, we set specific scaling factors for the WEC position (`scale_x_wec`), the PTO force (`scale_x_opt`), and objective function (`scale_obj`)."
   ]
  },
  {
   "cell_type": "code",
   "execution_count": null,
   "metadata": {},
   "outputs": [],
   "source": [
    "options = {'maxiter': 200, 'ftol':1e-8} \n",
    "\n",
    "#scales for unstructured controller A= 0.25m, wf= 0.18 Hz, 10 freq\n",
    "scale_x_wec = 1e1\n",
    "scale_x_opt = 50e-2\n",
    "scale_obj = 1e-3\n",
    "\n",
    "results = wec.solve(\n",
    "    waves, \n",
    "    obj_fun, \n",
    "    nstate_opt,\n",
    "    optim_options=options, \n",
    "    scale_x_wec=scale_x_wec,\n",
    "    scale_x_opt=scale_x_opt,\n",
    "    scale_obj=scale_obj,\n",
    "    )\n",
    "\n",
    "print(f'Optimal average power: {results.fun} W')"
   ]
  },
  {
   "attachments": {},
   "cell_type": "markdown",
   "metadata": {},
   "source": [
    "### Post-process and plotting\n",
    "Next, we post-process the results to allow us visualize them in a series of plots.\n",
    "Note that because the `WEC` and `PTO` objects are distinct (the WEC object really only knows what the force from the PTO is, not how it is obtained), we create two separate sets results objects (in each case, we get results in the frequency domain and time domain)."
   ]
  },
  {
   "cell_type": "code",
   "execution_count": null,
   "metadata": {},
   "outputs": [],
   "source": [
    "# post-process\n",
    "wec_fdom, wec_tdom = wec.post_process(results, waves, nsubsteps=nsubsteps)\n",
    "pto_fdom, pto_tdom = pto.post_process(wec, results, waves, nsubsteps=nsubsteps)\n",
    "wec_tdom"
   ]
  },
  {
   "attachments": {},
   "cell_type": "markdown",
   "metadata": {},
   "source": [
    "redoing plotting to make it a little simple\n",
    "TODO "
   ]
  },
  {
   "cell_type": "code",
   "execution_count": null,
   "metadata": {},
   "outputs": [],
   "source": [
    "fig, ax = plt.subplots(nrows=4,\n",
    "                       sharex=True,\n",
    "                       figsize=(12,12))\n",
    "\n",
    "ax1 = ax[0].twinx()\n",
    "wec_tdom.force.sel(type=['Froude_Krylov', 'diffraction']).sum('type').plot(ax=ax[0], color='k')\n",
    "wec_tdom.vel.plot(ax=ax1, color='orange')\n",
    "ax1.set_ylabel(ax1.get_ylabel(),color='orange')\n",
    "ax1.tick_params(axis='y', labelcolor='orange')\n",
    "ax1.set_title('')\n",
    "ax1.autoscale(enable=True, axis='x', tight=False)\n",
    "ax[0].set_ylabel('Excitation force [N]')\n",
    "\n",
    "wec_tdom.force.sel(type='PTO').plot(ax = ax[1], label = 'PTO force in WEC frame')\n",
    "x_wec, x_opt = wot.decompose_state(results.x,ndof=ndof,nfreq=nfreq)\n",
    "ax[1].plot(wec.time_nsubsteps(nsubsteps), \n",
    "             F_pto_line(wec, x_wec, x_opt, waves, nsubsteps), \n",
    "             linestyle = 'dashed', label = 'Mooring line tension')\n",
    "ax[1].plot(wec.time, min_line_tension*np.ones(wec.time.shape),\n",
    "            linestyle = 'dotted', color = 'black',\n",
    "            label = 'Minimum line tension')\n",
    "ax[1].axhline(y=0, xmin = 0, xmax = 1, color = '0.75', linewidth=0.5)\n",
    "ax[1].set_ylabel('Force [N]')\n",
    "ax[1].legend(loc=1)\n",
    "\n",
    "for axi in ax:\n",
    "    axi.set_title('')\n",
    "    axi.grid()\n",
    "    axi.label_outer()"
   ]
  },
  {
   "cell_type": "code",
   "execution_count": null,
   "metadata": {},
   "outputs": [],
   "source": [
    "def align_yyaxis(ax1, ax2):\n",
    "    ax1_ylims = ax1.axes.get_ylim()           # Find y-axis limits set by the plotter\n",
    "    ax1_yratio = ax1_ylims[0] / ax1_ylims[1]  # Calculate ratio of lowest limit to highest limit\n",
    "\n",
    "    ax2_ylims = ax2.axes.get_ylim()           # Find y-axis limits set by the plotter\n",
    "    ax2_yratio = ax2_ylims[0] / ax2_ylims[1]  # Calculate ratio of lowest limit to highest limit\n",
    "\n",
    "\n",
    "    # If the plot limits ratio of plot 1 is smaller than plot 2, the first data set has\n",
    "    # a wider range range than the second data set. Calculate a new low limit for the\n",
    "    # second data set to obtain a similar ratio to the first data set.\n",
    "    # Else, do it the other way around\n",
    "\n",
    "    if ax1_yratio < ax2_yratio: \n",
    "        ax2.set_ylim(bottom = ax2_ylims[1]*ax1_yratio)\n",
    "    else:\n",
    "        ax1.set_ylim(bottom = ax1_ylims[1]*ax2_yratio)"
   ]
  },
  {
   "cell_type": "code",
   "execution_count": null,
   "metadata": {},
   "outputs": [],
   "source": [
    "# plot\n",
    "# fine time discretization\n",
    "\n",
    "fig, axes = plt.subplots(nrows=4,\n",
    "                       figsize=(6,12), sharex = True,\n",
    "                       constrained_layout=True)\n",
    "\n",
    "\n",
    "#velocity and wave excitation force\n",
    "line1 = wec_tdom.force.sel(type='Froude_Krylov').plot(ax = axes[0], label='FK force')\n",
    "axes[0].set_ylabel('Force [N]')\n",
    "axes[0].set_xlabel('')\n",
    "axes[0].set_title('')\n",
    "axes[0].text(-0.2, 1, \"a)\", ha=\"left\", va=\"top\", transform=axes[0].transAxes)\n",
    "\n",
    "ax0r = axes[0].twinx()\n",
    "line2 = wec_tdom.vel.plot(ax = ax0r, label = 'WEC velocity', linestyle = 'dashed', color = 'orange')\n",
    "\n",
    "\n",
    "ax0r.set_ylabel('Velocity [ms] ')\n",
    "ax0r.set_title('')\n",
    "ax0r.tick_params(axis='y', color='black', labelcolor='black')\n",
    "align_yyaxis(axes[0],ax0r)\n",
    "lines = line1 + line2  \n",
    "ax0r.legend(lines, ['Excitation force','WEC velocity ', ])\n",
    "\n",
    "plt.axhline(y=0, xmin = 0, xmax = 1, color = '0.75', linewidth=0.5)\n",
    "axes[0].grid(color='0.75', linestyle='-',\n",
    "                     linewidth=0.5, axis = 'x')\n",
    "\n",
    "# #line tension and PTO force\n",
    "\n",
    "wec_tdom.force.sel(type='PTO').plot(ax = axes[1], label = 'PTO force in WEC frame')\n",
    "x_wec, x_opt = wot.decompose_state(results.x,ndof=ndof,nfreq=nfreq)\n",
    "axes[1].plot(wec.time_nsubsteps(nsubsteps), \n",
    "             F_pto_line(wec, x_wec, x_opt, waves, nsubsteps), \n",
    "             linestyle = 'dashed', label = 'Mooring line tension')\n",
    "axes[1].plot(wec.time, min_line_tension*np.ones(wec.time.shape),\n",
    "            linestyle = 'dotted', color = 'black',\n",
    "            label = 'Constraint mooring line tension')\n",
    "axes[1].axhline(y=0, xmin = 0, xmax = 1, color = '0.75', linewidth=0.5)\n",
    "\n",
    "axes[1].set_title('')\n",
    "axes[1].set_ylabel('Force [N]')\n",
    "axes[1].legend()\n",
    "axes[1].set_xlabel('')\n",
    "axes[1].grid(color='0.75', linestyle='-',\n",
    "                     linewidth=0.5, axis = 'x')\n",
    "axes[1].text(-0.2, 1, \"b)\", ha=\"left\", va=\"top\", transform=axes[1].transAxes)\n",
    "\n",
    "\n",
    "# PTO torque in PTO frame\n",
    "\n",
    "(pto_tdom.force ).plot(ax= axes[2], linestyle = 'solid', label = 'PTO torque in PTO frame')\n",
    "axes[2].plot(pto_tdom.time, 1*torque_peak_max*np.ones(pto_tdom.time.shape),color = 'black', linestyle = 'dotted', label = 'Constraint peak torque')\n",
    "axes[2].plot(pto_tdom.time, -1*torque_peak_max*np.ones(pto_tdom.time.shape),color = 'black', linestyle = 'dotted')\n",
    "\n",
    "torque_rms = np.sqrt(np.mean(pto_tdom.force.values**2))\n",
    "axes[2].plot(pto_tdom.time, torque_rms*np.ones(pto_tdom.time.shape),linestyle = 'dashed', label = 'RMS(Torque)')\n",
    "axes[2].plot(pto_tdom.time, torque_continues_max*np.ones(pto_tdom.time.shape), color = 'grey', linestyle = 'dotted', label = 'Constraint continous torque')\n",
    "\n",
    "axes[2].grid(color='0.75', linestyle='-',\n",
    "                     linewidth=0.5, axis = 'x')\n",
    "axes[2].legend(loc = 'upper right',)\n",
    "axes[2].set_xlabel('')\n",
    "axes[2].set_ylabel('Torque [Nm] ')\n",
    "\n",
    "axes[2].set_title('')\n",
    "axes[2].axhline(y=0, xmin = 0, xmax = 1, color = '0.75', linewidth=0.5)\n",
    "axes[2].text(-0.2, 1, \"c)\", ha=\"left\", va=\"top\", transform=axes[2].transAxes)\n",
    "\n",
    "\n",
    "# Power\n",
    "\n",
    "pto_tdom['mech_power'].plot(ax = axes[3], label = 'Mechanical power')\n",
    "pto_tdom['power'].plot(ax = axes[3], linestyle = 'dashed', label = 'Electrical power')\n",
    "axes[3].plot(wec.time, -1*power_max*np.ones(wec.time.shape),linestyle = 'dotted',color = 'black', label = 'Constraint max power')\n",
    "axes[3].grid(color='0.75', linestyle='-',\n",
    "                     linewidth=0.5, axis = 'x')\n",
    "axes[3].legend()\n",
    "axes[3].set_title('')\n",
    "axes[3].axhline(y=0, xmin = 0, xmax = 1, color = '0.75', linewidth=0.5)\n",
    "axes[3].text(-0.2, 1, \"d)\", ha=\"left\", va=\"top\", transform=axes[3].transAxes)\n"
   ]
  },
  {
   "cell_type": "code",
   "execution_count": null,
   "metadata": {},
   "outputs": [],
   "source": [
    "(pto_tdom.force ).plot(linestyle = 'solid', label = 'Torque')\n",
    "(pto_tdom.vel ).plot(linestyle = 'solid', label = 'Velocity')\n"
   ]
  },
  {
   "cell_type": "code",
   "execution_count": null,
   "metadata": {},
   "outputs": [],
   "source": [
    "X.shape"
   ]
  },
  {
   "cell_type": "code",
   "execution_count": null,
   "metadata": {},
   "outputs": [],
   "source": [
    "fig, ax = plt.subplots(1,1)\n",
    "ax.plot(pto_tdom.vel, pto_tdom.force,\n",
    "        color='k')\n",
    "ax.grid(which='major', linestyle='--')\n",
    "ax.axvline(0, color='k', lw=1)\n",
    "ax.axhline(0, color='k', lw=1)\n",
    "ax.set_ylabel('Force [N]')\n",
    "ax.set_xlabel('Velocity [rad/s]')"
   ]
  },
  {
   "cell_type": "code",
   "execution_count": null,
   "metadata": {},
   "outputs": [],
   "source": [
    "# fig, axes = plt.subplots(1,1)\n",
    "# time = pto_tdom.time.values\n",
    "# axes.plot(time[time<1/wavefreq],pto_tdom['power'].values[time<1/wavefreq])\n",
    "# mask = [t>1/wavefreq and t < 2/wavefreq for t in time] \n",
    "# axes.plot(time[time<1/wavefreq],pto_tdom['power'].values[mask])\n"
   ]
  },
  {
   "cell_type": "code",
   "execution_count": null,
   "metadata": {},
   "outputs": [],
   "source": [
    "# scipy.io.savemat('AH_orbit.mat', \n",
    "#                  dict(time=pto_tdom.time.values,\n",
    "#                       torque=pto_tdom.force.values,\n",
    "#                       rot_vel=pto_tdom.vel.values,\n",
    "# ))"
   ]
  },
  {
   "cell_type": "code",
   "execution_count": null,
   "metadata": {},
   "outputs": [],
   "source": [
    "fig, axes = plt.subplots(1,2)\n",
    "axes[0].axis('off')\n",
    "axes[1].axis('off')\n",
    "\n",
    "axes[0] = fig.add_subplot(1, 2, 1, projection=Axes3D.name)\n",
    "axes[1] = fig.add_subplot(1, 2, 2, projection=Axes3D.name)\n",
    "rot_max = 10000*2*np.pi/60\n",
    "rot_speed = np.arange(-0.9*rot_max, .9*rot_max, 10)\n",
    "t_max = 280\n",
    "torque = np.arange(-1.2*t_max, 1.2*t_max, 2)\n",
    "X, Y = np.meshgrid(rot_speed, torque)\n",
    "Z = loss_interp(X, Y)\n",
    "eta = pto_tdom['power']/pto_tdom['mech_power']\n",
    "\n",
    "Z[np.abs(X*Y) > 80000] = np.NaN\n",
    "# Plot the loss surface.\n",
    "surf = axes[0].plot_surface(X, Y,np.minimum(Z,0.25),\n",
    "                       cmap=cm.coolwarm,\n",
    "                       linewidth=0, alpha = 0.6)\n",
    "axes[0].set_xlabel('gen rotational speed [rad/s]')\n",
    "axes[0].set_ylabel('mechanical torque [Nm]')\n",
    "axes[0].set_zlim([0, 1.1])\n",
    "\n",
    "# Plot the electric power surface.\n",
    "surf = axes[1].plot_surface(X, Y, X*Y*(1-Z),\n",
    "                       cmap=cm.coolwarm,\n",
    "                       linewidth=0, alpha = 0.6)\n",
    "axes[1].set_xlabel('gen rotational speed [rad/s]')\n",
    "axes[1].set_ylabel('mechanical torque [Nm]')\n",
    "axes[1].set_zlim([-100e3, 100e3])\n",
    "\n",
    "axes[0].plot3D(np.squeeze(pto_tdom.vel.values), \n",
    "          np.squeeze(pto_tdom.force.values),\n",
    "          np.squeeze(1-eta.values), 'red')\n",
    "axes[0].plot3D(rot_speed, \n",
    "          np.zeros(rot_speed.shape),\n",
    "          loss_interp(rot_speed, np.zeros(rot_speed.shape)), 'black', linestyle = 'dashed')\n",
    "axes[0].plot3D(np.zeros(torque.shape), \n",
    "          torque,\n",
    "          loss_interp(np.zeros(torque.shape), torque), 'black', linestyle = 'dashed')\n",
    "axes[1].plot3D(np.squeeze(pto_tdom.vel.values), \n",
    "          np.squeeze(pto_tdom.force.values),\n",
    "          np.squeeze(pto_tdom['power'].values+100), 'red')\n",
    "axes[1].plot3D(rot_speed, \n",
    "          np.zeros(rot_speed.shape),\n",
    "          0*loss_interp(rot_speed, np.zeros(rot_speed.shape)), 'black', linestyle = 'dashed')\n",
    "axes[1].plot3D(np.zeros(torque.shape), \n",
    "          torque,\n",
    "          0*loss_interp(np.zeros(torque.shape), torque), 'black', linestyle = 'dashed')\n",
    "axes[1].view_init(45, -70)"
   ]
  },
  {
   "cell_type": "code",
   "execution_count": null,
   "metadata": {},
   "outputs": [],
   "source": [
    "# Plot the efficiency surface.\n",
    "eff_surf = 1-loss_interp(X,Y)\n",
    "eff_surf[np.abs(X*Y) > 80000] = np.NaN  #cut off area outside of power limit\n",
    "fig = plt.figure()\n",
    "axes = fig.add_subplot(1, 1, 1, projection=Axes3D.name)\n",
    "surf = axes.plot_surface(X, Y,eff_surf,\n",
    "                       cmap=cm.coolwarm,\n",
    "                       linewidth=0, alpha = 0.6)\n",
    "axes.set_xlabel('Generator rotational speed [rad/s]')\n",
    "axes.set_ylabel('Torque [Nm]')\n",
    "axes.set_zlabel('Efficiency [ ]')\n",
    "\n",
    "axes.set_zlim([0.0, 1.1])\n",
    "axes.plot3D(np.squeeze(pto_tdom.vel.values), \n",
    "          np.squeeze(pto_tdom.force.values),\n",
    "          np.squeeze(eta.values), 'red')\n",
    "axes.plot3D(rot_speed, \n",
    "          np.zeros(rot_speed.shape),\n",
    "          1-loss_interp(rot_speed, np.zeros(rot_speed.shape)), 'black', linestyle = 'dashed')\n",
    "axes.plot3D(np.zeros(torque.shape), \n",
    "          torque,\n",
    "          1-loss_interp(np.zeros(torque.shape), torque), 'black', linestyle = 'dashed')\n",
    "# axes.view_init(90, -90)\n",
    "axes.view_init(45, -70)\n",
    "\n",
    "fig.savefig(os.path.join(fig_dir,'efficiency_orbit_3D.pdf'),\n",
    "            bbox_inches='tight')\n"
   ]
  },
  {
   "cell_type": "code",
   "execution_count": null,
   "metadata": {},
   "outputs": [],
   "source": [
    "print(f'Average electrical power {(np.sum(pto_tdom.power.values) * wec.dt/nsubsteps)/wec.tf} W')"
   ]
  },
  {
   "attachments": {},
   "cell_type": "markdown",
   "metadata": {},
   "source": [
    "## 2. Comparison to linear power conversion"
   ]
  },
  {
   "cell_type": "code",
   "execution_count": null,
   "metadata": {},
   "outputs": [],
   "source": []
  },
  {
   "attachments": {},
   "cell_type": "markdown",
   "metadata": {},
   "source": [
    "## 3. Control co-design of line pre-tension with non-linear power conversion"
   ]
  },
  {
   "cell_type": "markdown",
   "metadata": {},
   "source": []
  }
 ],
 "metadata": {
  "kernelspec": {
   "display_name": "wot_dev",
   "language": "python",
   "name": "python3"
  },
  "language_info": {
   "codemirror_mode": {
    "name": "ipython",
    "version": 3
   },
   "file_extension": ".py",
   "mimetype": "text/x-python",
   "name": "python",
   "nbconvert_exporter": "python",
   "pygments_lexer": "ipython3",
   "version": "3.10.8"
  },
  "vscode": {
   "interpreter": {
    "hash": "caaaf143527b32ca1d6056ca65c73bf8275eb7b562f39aa0b7adcbdad499fc32"
   }
  }
 },
 "nbformat": 4,
 "nbformat_minor": 2
}
