{
 "cells": [
  {
   "cell_type": "code",
   "execution_count": null,
   "metadata": {},
   "outputs": [],
   "source": [
    "import os\n",
    "import capytaine as cpy\n",
    "import autograd.numpy as np\n",
    "import matplotlib.pyplot as plt\n",
    "from scipy.optimize import brute\n",
    "\n",
    "import wecopttool as wot\n",
    "wot.set_loglevel('INFO')"
   ]
  },
  {
   "attachments": {},
   "cell_type": "markdown",
   "metadata": {},
   "source": [
    "## Given properties"
   ]
  },
  {
   "cell_type": "code",
   "execution_count": null,
   "metadata": {},
   "outputs": [],
   "source": [
    "buoy_props = {\n",
    "    'CG': 0.242, # m\n",
    "    'MOI': 7484., # kg-m^2\n",
    "    'f0': 2 * np.pi /3.0842, # rad/s\n",
    "}\n",
    "\n",
    "flywheel_props = {\n",
    "    'MOI': 25,  # kg-m^2\n",
    "    'Coulomb friction': 2.0,  # N-m\n",
    "    'Viscous friction': 0.02,  # N-m/rad\n",
    "}\n",
    "\n",
    "spring_props = {\n",
    "    'Max torque': 750, # N-m\n",
    "    'Max displacement': np.deg2rad(45.0), # rad\n",
    "}"
   ]
  },
  {
   "attachments": {},
   "cell_type": "markdown",
   "metadata": {},
   "source": [
    "## Geometry\n",
    "Same general shape as WaveBot"
   ]
  },
  {
   "cell_type": "code",
   "execution_count": null,
   "metadata": {},
   "outputs": [],
   "source": [
    "in2m = 0.0254 # inch -> meter conversion factor\n",
    "draft = 0.5 # meters\n",
    "freeboard = 40. * in2m - draft\n",
    "hull_geom = wot.geom.WaveBot(r1=130./2 * in2m,\n",
    "                             r2=110./2 * in2m, \n",
    "                             h1=22.679 * in2m,\n",
    "                             h2=17.321 * in2m,\n",
    "                             scale_factor=1,\n",
    "                             freeboard=freeboard)\n",
    "mesh = hull_geom.mesh(mesh_size_factor=0.5)\n",
    "_ = hull_geom.plot_cross_section()"
   ]
  },
  {
   "attachments": {},
   "cell_type": "markdown",
   "metadata": {},
   "source": [
    "### Floating body\n",
    "1DOF in pitch. The `FloatingBody` object in Capytaine only models the buoy since it is the only body being excited by the waves; the flywheel dynamics will be captured later on."
   ]
  },
  {
   "cell_type": "code",
   "execution_count": null,
   "metadata": {},
   "outputs": [],
   "source": [
    "pnr_fb = cpy.FloatingBody.from_meshio(mesh, name=\"Pioneer\")\n",
    "pnr_fb.add_rotation_dof(name='Pitch')\n",
    "pnr_fb.center_of_mass = np.array([0., 0., buoy_props['CG']])\n",
    "pnr_fb.rotation_center = pnr_fb.center_of_mass\n",
    "ndof = pnr_fb.nb_dofs\n",
    "pnr_fb.show_matplotlib()"
   ]
  },
  {
   "attachments": {},
   "cell_type": "markdown",
   "metadata": {},
   "source": [
    "## Hydrodynamics and hydrostatics\n",
    "Hydrostatic stiffness values match closely to experimental values"
   ]
  },
  {
   "cell_type": "code",
   "execution_count": null,
   "metadata": {},
   "outputs": [],
   "source": [
    "rho = 1025. # kg/m^3\n",
    "f1 = 0.025 # Hz\n",
    "nfreq = 25\n",
    "freq = wot.frequency(f1, nfreq, False) # False -> no zero frequency\n",
    "\n",
    "\n",
    "file_name = \"data/pioneer_bem_25freq.nc\"\n",
    "if os.path.exists(file_name):\n",
    "    bem_data = wot.read_netcdf(file_name)\n",
    "else:    \n",
    "    bem_data = wot.run_bem(pnr_fb, freq)\n",
    "    wot.write_netcdf(file_name, bem_data)\n",
    "omega = bem_data.omega.values\n",
    "\n",
    "pnr_fb.keep_immersed_part()\n",
    "k_buoy = 37204 #pnr_fb.compute_hydrostatic_stiffness(rho=rho).values.squeeze()\n",
    "k_spring = spring_props['Max torque'] / spring_props['Max displacement']\n",
    "print(f'Hydrostatic stiffness from Capytaine: {k_buoy} N-m/rad')\n",
    "print('Hydrostatic stiffness from experiment: 37204 N-m/rad')"
   ]
  },
  {
   "cell_type": "code",
   "execution_count": null,
   "metadata": {},
   "outputs": [],
   "source": [
    "# plots\n",
    "fig_am, ax_am = plt.subplots(tight_layout=True, sharex=True)\n",
    "fig_rd, ax_rd = plt.subplots(tight_layout=True, sharex=True)\n",
    "fig_ex, ax_ex = plt.subplots(tight_layout=True, sharex=True)\n",
    "\n",
    "# Excitation\n",
    "np.abs(bem_data.diffraction_force.sel(influenced_dof='Pitch')).plot(\n",
    "    ax=ax_ex, linestyle='dashed', label='Diffraction force')\n",
    "np.abs(bem_data.Froude_Krylov_force.sel(influenced_dof='Pitch')).plot(\n",
    "    ax=ax_ex, linestyle='dashdot', label='Froude-Krylov force')\n",
    "ex_handles, ex_labels = ax_ex.get_legend_handles_labels()\n",
    "ax_ex.set_xlabel(f'$\\omega$', fontsize=10)\n",
    "ax_ex.set_title('Wave Excitation Coefficients', fontweight='bold')\n",
    "fig_ex.legend(ex_handles, ex_labels, loc='center right', frameon=False)\n",
    "\n",
    "# Added mass\n",
    "bem_data.added_mass.sel(\n",
    "    radiating_dof='Pitch', influenced_dof='Pitch').plot(ax=ax_am)\n",
    "ax_am.set_xlabel(f'$\\omega$', fontsize=10)\n",
    "ax_am.set_title('Added Mass Coefficients', fontweight='bold')\n",
    "\n",
    "# Radiation damping\n",
    "bem_data.radiation_damping.sel(\n",
    "    radiating_dof='Pitch', influenced_dof='Pitch').plot(ax=ax_rd)\n",
    "ax_rd.set_xlabel(f'$\\omega$', fontsize=10)\n",
    "ax_rd.set_title('Radiation Damping Coefficients', fontweight='bold')"
   ]
  },
  {
   "cell_type": "code",
   "execution_count": null,
   "metadata": {},
   "outputs": [],
   "source": [
    "bem_data.added_mass[:] = 1480.\n",
    "bem_data.radiation_damping[:] = 2289."
   ]
  },
  {
   "cell_type": "code",
   "execution_count": null,
   "metadata": {},
   "outputs": [],
   "source": [
    "X = (\n",
    "    np.abs(bem_data.diffraction_force.sel(influenced_dof='Pitch'))\n",
    "  + np.abs(bem_data.Froude_Krylov_force.sel(influenced_dof='Pitch')).values\n",
    "  )"
   ]
  },
  {
   "attachments": {},
   "cell_type": "markdown",
   "metadata": {},
   "source": [
    "## PTO\n",
    "Using same impedance matrix as WaveBot, except replace gear ratio with the one determined from the spring stiffness and buoy moment of inertia + natural frequency."
   ]
  },
  {
   "cell_type": "code",
   "execution_count": null,
   "metadata": {},
   "outputs": [],
   "source": [
    "def gear_ratio(k_spring, moi, nat_freq):\n",
    "    return np.sqrt(k_spring / (moi * nat_freq**2))\n",
    "\n",
    "# impedance model\n",
    "n_default = 1 / gear_ratio(k_spring, flywheel_props['MOI'], buoy_props['f0'])\n",
    "torque_constant = 6.7 # FOSWEC - 0.88; Jantzen has been using 3.512\n",
    "winding_resistance = 0.5 # FOSWEC - 0.527; Jantzen has been using 0.304\n",
    "winding_inductance = 0.0\n",
    "drivetrain_inertia = 2.0\n",
    "drivetrain_friction = 0.0\n",
    "drivetrain_stiffness = 0.0\n",
    "# \n",
    "drivetrain_impedance = (1j*omega*drivetrain_inertia + \n",
    "                        drivetrain_friction + \n",
    "                        1/(1j*omega)*drivetrain_stiffness) \n",
    "\n",
    "winding_impedance = winding_resistance + 1j*omega*winding_inductance\n",
    "\n",
    "\n",
    "pto_impedance_11 = -1* n_default**2 * drivetrain_impedance\n",
    "off_diag = np.sqrt(3.0/2.0) * torque_constant * n_default\n",
    "pto_impedance_12 = -1*(off_diag+0j) * np.ones(omega.shape) \n",
    "pto_impedance_21 = -1*(off_diag+0j) * np.ones(omega.shape)\n",
    "pto_impedance_22 = winding_impedance\n",
    "pto_impedance = np.array([[pto_impedance_11, pto_impedance_12],\n",
    "                            [pto_impedance_21, pto_impedance_22]])\n",
    "\n",
    "# PTO object\n",
    "name = [\"PTO_Pitch\",]\n",
    "kinematics = np.array([[-1]])\n",
    "nstate_pto = 1 #2 * nfreq\n",
    "pto_ndof = 1\n",
    "controller = wot.pto.controller_p\n",
    "impedance = None\n",
    "pto_obj = wot.pto.PTO(\n",
    "                  pto_ndof,\n",
    "                  kinematics=kinematics,\n",
    "                  impedance=impedance,\n",
    "                  controller=controller,\n",
    "                  )"
   ]
  },
  {
   "attachments": {},
   "cell_type": "markdown",
   "metadata": {},
   "source": [
    "In previous tutorials, all the relevant WEC dynamics have been captured in the `x_wec` vector. However, `x_wec` assumes all the degrees of freedom are excited by waves, which is not the case with the flywheel in the Pioneer model. Since we need to capture the flywheel dynamics to properly model the PTO, we work around this by including the position states of the flywheel as appended entries in `x_opt`, and overwrite the motion functions within the `PTO` module to capture the relative motion of the flywheel so the power calculations within that module are correct. This is a dirty hack for now -- this will be more cleanly implemented in an upcoming release, and this tutorial will be updated accordingly."
   ]
  },
  {
   "cell_type": "code",
   "execution_count": null,
   "metadata": {},
   "outputs": [],
   "source": [
    "n_default"
   ]
  },
  {
   "cell_type": "code",
   "execution_count": null,
   "metadata": {},
   "outputs": [],
   "source": [
    "import types\n",
    "\n",
    "def position_fw(wec, x_opt):\n",
    "    return wec.vec_to_dofmat(x_opt[nstate_pto:])\n",
    "\n",
    "def velocity_fw(wec, x_opt):\n",
    "    pos_fw = wec.vec_to_dofmat(x_opt[nstate_pto:])\n",
    "    return np.dot(wec.derivative_mat, pos_fw)\n",
    "     \n",
    "def acceleration_fw(wec, x_opt):\n",
    "    pos_fw = wec.vec_to_dofmat(x_opt[nstate_pto:])\n",
    "    return np.dot(wec.derivative2_mat, pos_fw)\n",
    "\n",
    "def rel_position(self, wec, x_wec, x_opt, waves, nsubsteps):\n",
    "    pos_wec = wec.vec_to_dofmat(x_wec)\n",
    "    pos_rel = pos_wec - position_fw(wec, x_opt)\n",
    "    time_matrix = wec.time_mat_nsubsteps(nsubsteps)\n",
    "    return np.dot(time_matrix, pos_rel)\n",
    "\n",
    "def rel_velocity(self, wec, x_wec, x_opt, waves, nsubsteps):\n",
    "    pos_wec = wec.vec_to_dofmat(x_wec)\n",
    "    vel_wec = np.dot(wec.derivative_mat, pos_wec)\n",
    "    vel_rel = vel_wec - velocity_fw(wec, x_opt)\n",
    "    time_matrix = wec.time_mat_nsubsteps(nsubsteps)\n",
    "    return np.dot(time_matrix, vel_rel)\n",
    "\n",
    "def rel_acceleration(self, wec, x_wec, x_opt, waves, nsubsteps):\n",
    "    pos_wec = wec.vec_to_dofmat(x_wec)\n",
    "    acc_wec = np.dot(wec.derivative2_mat, pos_wec)\n",
    "    acc_rel = acc_wec - acceleration_fw(wec, x_opt)\n",
    "    time_matrix = wec.time_mat_nsubsteps(nsubsteps)\n",
    "    return np.dot(time_matrix, acc_rel)\n",
    "\n",
    "\n",
    "pto_obj.position = types.MethodType(rel_position, pto_obj)\n",
    "pto_obj.velocity = types.MethodType(rel_velocity, pto_obj)\n",
    "pto_obj.acceleration = types.MethodType(rel_acceleration, pto_obj)"
   ]
  },
  {
   "attachments": {},
   "cell_type": "markdown",
   "metadata": {},
   "source": [
    "### Constraints\n",
    " * **Peak torque** - Peak torque\n",
    " * **Peak RMS speed** - Peak RMS speed"
   ]
  },
  {
   "cell_type": "code",
   "execution_count": null,
   "metadata": {},
   "outputs": [],
   "source": [
    "torque_peak_max = 50.\n",
    "permitted_rms_speed = 3300 * 2*np.pi / 60 # rad/s\n",
    "def const_peak_torque_pto(wec, x_wec, x_opt, waves, nsubsteps=2):\n",
    "    torque = pto_obj.force(wec, x_wec, x_opt, waves, nsubsteps)\n",
    "    return torque_peak_max - np.abs(torque.flatten())\n",
    "\n",
    "def const_rms_velocity_pto(wec, x_wec, x_opt, waves, nsubsteps=2):\n",
    "    pos = wec.vec_to_dofmat(x_opt[nstate_pto:])\n",
    "    pto_vel = np.dot(wec.derivative_mat, pos)\n",
    "    rms_vel = np.sqrt(np.mean(pto_vel**2))\n",
    "    return permitted_rms_speed - rms_vel\n",
    "\n",
    "def const_peak_spring_angle(wec, x_wec, x_opt, waves, nsubsteps): # temporary, for validation\n",
    "    rel_pos = pto_obj.position(wec, x_wec, x_opt, waves, nsubsteps)\n",
    "    return spring_props['Max displacement'] - np.abs(rel_pos)\n",
    "\n",
    "# min_line_tension = 100\n",
    "# def const_min_tension(wec, x_wec, x_opt, waves, nsubsteps=2):\n",
    "#     total_tension = -1*f_pto_line(wec, x_wec, x_opt, waves, nsubsteps)\n",
    "#     return total_tension.flatten() - min_line_tension #TODO"
   ]
  },
  {
   "attachments": {},
   "cell_type": "markdown",
   "metadata": {},
   "source": [
    "### Additional forces\n",
    " * **Flywheel friction** - Flywheel friction\n",
    " * **Magnetic spring** - Magnetic spring\n",
    " * **Flywheel inertia** - Not really a force, but captured here for the flywheel residual function below"
   ]
  },
  {
   "cell_type": "code",
   "execution_count": null,
   "metadata": {},
   "outputs": [],
   "source": [
    "def f_friction(wec, x_wec, x_opt, waves, nsubsteps=1):\n",
    "    # pos_b = wec.vec_to_dofmat(x_wec)\n",
    "    # vel_b = np.dot(wec.derivative_mat, pos_b)\n",
    "    # pos_fw = wec.vec_to_dofmat(x_opt[nstate_pto:])\n",
    "    # vel_fw = np.dot(wec.derivative_mat, pos_fw)\n",
    "    # rel_vel = vel_b - vel_fw\n",
    "    rel_vel = pto_obj.velocity(wec, x_wec, x_opt, waves, nsubsteps)\n",
    "    time_matrix = wec.time_mat_nsubsteps(nsubsteps)\n",
    "    fric = -1 * (\n",
    "        np.tanh(rel_vel) * flywheel_props['Coulomb friction']\n",
    "      + flywheel_props['Viscous friction'] * rel_vel)\n",
    "    return np.dot(time_matrix, fric)\n",
    "\n",
    "def f_spring(wec, x_wec, x_opt, waves, nsubsteps=1):\n",
    "    # pos_b = wec.vec_to_dofmat(x_wec)\n",
    "    # pos_fw = wec.vec_to_dofmat(x_opt[nstate_pto:])\n",
    "    # rel_pos = pos_b - pos_fw\n",
    "    rel_pos = pto_obj.position(wec, x_wec, x_opt, waves, nsubsteps)\n",
    "    time_matrix = wec.time_mat_nsubsteps(nsubsteps)\n",
    "    spring = k_spring * rel_pos\n",
    "    return -np.dot(time_matrix, spring)\n",
    "\n",
    "def fw_inertia(wec, x_wec, x_opt, waves, nsubsteps=1):\n",
    "    pos_fw = wec.vec_to_dofmat(x_opt[nstate_pto:])\n",
    "    acc_fw = np.dot(wec.derivative2_mat, pos_fw)\n",
    "    acc_fw = np.dot(wec.time_mat, acc_fw)\n",
    "    return flywheel_props['MOI'] * acc_fw"
   ]
  },
  {
   "attachments": {},
   "cell_type": "markdown",
   "metadata": {},
   "source": [
    "#### Residual\n",
    "Equality constraint of Newton's 2nd law on the flywheel (i.e. $r(x) = I \\alpha - \\tau = 0 $). Same basic structure as residual for the WEC dynamics as described in the [WecOptTool theory documentation](https://sandialabs.github.io/WecOptTool/theory.html)."
   ]
  },
  {
   "cell_type": "code",
   "execution_count": null,
   "metadata": {},
   "outputs": [],
   "source": [
    "def const_flywheel_resid(wec, x_wec, x_opt, waves):\n",
    "    return (fw_inertia(wec, x_wec, x_opt, waves)\n",
    "          + f_spring(wec, x_wec, x_opt, waves)\n",
    "          - f_friction(wec, x_wec, x_opt, waves)\n",
    "          - pto_obj.force(wec, x_wec, x_opt, waves)).flatten()\n",
    "    "
   ]
  },
  {
   "attachments": {},
   "cell_type": "markdown",
   "metadata": {},
   "source": [
    "### WEC object\n",
    "Finally, we can use all the different components we've developed thus far to construct a `WEC` object:"
   ]
  },
  {
   "cell_type": "code",
   "execution_count": null,
   "metadata": {},
   "outputs": [],
   "source": [
    "f_add = {\n",
    "    'Spring': f_spring,\n",
    "    'PTO': pto_obj.force_on_wec,\n",
    "}\n",
    "\n",
    "constraints = [\n",
    "    # {'type': 'ineq', 'fun': const_peak_torque_pto},\n",
    "    # {'type': 'ineq', 'fun': const_rms_velocity_pto},\n",
    "    {'type': 'eq', 'fun': const_flywheel_resid},\n",
    "    # {'type': 'ineq', 'fun':const_peak_spring_angle},\n",
    "    # {'type': 'ineq', 'fun': const_min_tension},\n",
    "]"
   ]
  },
  {
   "cell_type": "code",
   "execution_count": null,
   "metadata": {},
   "outputs": [],
   "source": [
    "wec = wot.WEC.from_bem(bem_data,\n",
    "                       inertia_matrix=np.array([[buoy_props['MOI']]]),\n",
    "                       hydrostatic_stiffness=k_buoy,\n",
    "                     #   friction=friction,\n",
    "                       f_add=f_add,\n",
    "                       constraints=constraints,\n",
    "                       dof_names=bem_data.influenced_dof.values,\n",
    "                        )"
   ]
  },
  {
   "attachments": {},
   "cell_type": "markdown",
   "metadata": {},
   "source": [
    "## Waves\n",
    "A regular wave will allow us to get a good initial understanding of the optimal control trajectory.\n",
    "Note that we'll want to choose a wave frequency that is within the frequency array we used to calculate the hydrodynamic data."
   ]
  },
  {
   "cell_type": "code",
   "execution_count": null,
   "metadata": {},
   "outputs": [],
   "source": [
    "max_trq = 2500.\n",
    "amplitude = max_trq / X[11]\n",
    "# wavefreq =  1/5.3\n",
    "wavefreq =  0.3\n",
    "phase = 0\n",
    "wavedir = 0\n",
    "waves = wot.waves.regular_wave(f1, nfreq, wavefreq, amplitude, phase, wavedir)\n",
    "# spectrum = lambda f: wot.waves.jonswap_spectrum(freq=f, fp=wavefreq, hs=2*amplitude)\n",
    "# efth = wot.waves.omnidirectional_spectrum(f1, nfreq, spectrum, \"JONSWAP\")\n",
    "# waves = wot.waves.long_crested_wave(efth)\n",
    "# efth.plot(marker='.')"
   ]
  },
  {
   "cell_type": "code",
   "execution_count": null,
   "metadata": {},
   "outputs": [],
   "source": [
    "# fig, ax = plt.subplots()\n",
    "# (np.abs(waves)/np.max(np.abs(waves))).plot(marker='.', label='Waves')\n",
    "# Zi_mag = np.abs(Zi.sel(radiating_dof='Pitch', influenced_dof='Pitch').squeeze())\n",
    "# (Zi_mag/np.max(Zi_mag)).plot(label='Impedance')\n",
    "\n",
    "# ax.autoscale(axis='x', tight=True)\n",
    "# ax.set_ylim((0,1))\n",
    "# ax.set_title('')\n",
    "# ax.legend()"
   ]
  },
  {
   "cell_type": "code",
   "execution_count": null,
   "metadata": {},
   "outputs": [],
   "source": [
    "wec.nstate_wec"
   ]
  },
  {
   "attachments": {},
   "cell_type": "markdown",
   "metadata": {},
   "source": [
    "## Solve\n",
    "Note the size of the `nstate_opt` variable compared to previous tutorials. The first half of the variable includes the PTO force states at each Fourier component, as in previous tutorials (the `nstate_pto` component). The second half is the flywheel positions at each Fourier component, which is basically an analog to `wec.nstate_wec`."
   ]
  },
  {
   "cell_type": "code",
   "execution_count": null,
   "metadata": {},
   "outputs": [],
   "source": [
    "b_pto = 1.7568\n",
    "def verification(wec, x_wec, x_opt, waves, nsubsteps=1):\n",
    "    return np.abs(x_opt[0] - b_pto)\n",
    "\n",
    "obj_fun = verification\n",
    "nstate_opt = 1 + wec.nstate_wec #nstate_pto + wec.nstate_wec\n",
    "results = wec.solve(\n",
    "    waves,\n",
    "    obj_fun,\n",
    "    nstate_opt,\n",
    "    x_wec_0=np.ones(wec.nstate_wec)*0.8,\n",
    "    x_opt_0=np.ones(nstate_opt),\n",
    "    scale_x_wec=1,\n",
    "    scale_x_opt=1e-3,\n",
    "    scale_obj=1e-2,\n",
    ")"
   ]
  },
  {
   "attachments": {},
   "cell_type": "markdown",
   "metadata": {},
   "source": [
    "## Post-process and plotting"
   ]
  },
  {
   "cell_type": "code",
   "execution_count": null,
   "metadata": {},
   "outputs": [],
   "source": [
    "wec_fdom, wec_tdom = wec.post_process(results, waves, nsubsteps=5)\n",
    "pto_fdom, pto_tdom = pto_obj.post_process(wec, results, waves, nsubsteps=5)\n",
    "force_excitation = (wec_tdom.force.sel(type='Froude_Krylov') + \n",
    "                    wec_tdom.force.sel(type='diffraction'))"
   ]
  },
  {
   "cell_type": "code",
   "execution_count": null,
   "metadata": {},
   "outputs": [],
   "source": [
    "x_wec, x_opt = wot.decompose_state(results.x, 1, nfreq)\n",
    "fw_pos = np.dot(wec.time_mat_nsubsteps(5), x_opt[1:])\n",
    "spring_pos = np.rad2deg(wec_tdom.pos - fw_pos)"
   ]
  },
  {
   "cell_type": "code",
   "execution_count": null,
   "metadata": {},
   "outputs": [],
   "source": [
    "Fex = np.abs((wec_fdom.force.sel(type='Froude_Krylov') + wec_fdom.force.sel(type='diffraction').squeeze()))\n",
    "plt.plot(wec_fdom.freq, Fex)"
   ]
  },
  {
   "cell_type": "code",
   "execution_count": null,
   "metadata": {},
   "outputs": [],
   "source": [
    "fig, ax = plt.subplots(nrows=4, sharex=True, figsize=(12, 12))\n",
    "\n",
    "# Excitation\n",
    "\n",
    "# force_excitation.sel(influenced_dof='Pitch').plot(ax=ax[0], color='k', label='Excitation')\n",
    "ax[0].set_ylabel('Exc. torque [Nm]')\n",
    "pto_tdom.force.plot(ax=ax[0], label='PTO', color='r')\n",
    "# wec_tdom.force.sel(influenced_dof='Pitch').sum(dim='type').plot(ax=ax[0], label='Pitch', color='b')\n",
    "wec_tdom.force.sel(influenced_dof='Pitch').sum(dim='type').plot(ax=ax[0], label='Buoy', color='c')\n",
    "ax[0].set_ylabel('Torque [Nm]', color='red')\n",
    "ax[0].tick_params(axis='y', labelcolor='red')\n",
    "ax[0].set_title('')\n",
    "ax[0].autoscale(enable=True, axis='x', tight=False)\n",
    "ax[0].legend()\n",
    "\n",
    "(wec_tdom.pos*180/np.pi).plot(ax=ax[1], hue='influenced_dof', label='Buoy')\n",
    "ax[1].plot(wec_tdom.time, fw_pos*180/np.pi, label='Flywheel')\n",
    "spring_pos.plot(ax=ax[1], linestyle='dashed', label='Spring angle')\n",
    "(pto_tdom.pos*180/np.pi).plot(ax=ax[1], linestyle='dotted', hue='influenced_dof', label='PTO')\n",
    "ax[1].set_ylabel('Position [deg]')\n",
    "ax[1].legend()\n",
    "\n",
    "wec_tdom.vel.plot(ax=ax[2], hue='influenced_dof', label='Buoy')\n",
    "pto_tdom.vel.plot(ax=ax[2], hue='influenced_dof', label='Flywheel')\n",
    "ax[2].legend()\n",
    "\n",
    "(pto_tdom['mech_power']).plot(ax=ax[3], \n",
    "                                  label='Mech. power ($\\\\bar{P}_{mech}$: ' + f'{pto_tdom.mech_power.mean().item():.0f} W)')\n",
    "(pto_tdom['power']).plot(ax=ax[3], linestyle='dashed', \n",
    "                         label='Elec. power ($\\\\bar{P}_{elec}$: ' + f'{pto_tdom.power.mean().item():.0f} W)')\n",
    "\n",
    "ax[3].legend(loc='upper right')\n",
    "ax[3].set_ylabel('Power [W]')\n",
    "\n",
    "for axi in ax:\n",
    "    axi.set_title('')\n",
    "    axi.grid()\n",
    "    axi.label_outer()\n",
    "    axi.autoscale(axis='x', tight=True)"
   ]
  }
 ],
 "metadata": {
  "kernelspec": {
   "display_name": "Python 3.10.11 ('wot_dev')",
   "language": "python",
   "name": "python3"
  },
  "language_info": {
   "codemirror_mode": {
    "name": "ipython",
    "version": 3
   },
   "file_extension": ".py",
   "mimetype": "text/x-python",
   "name": "python",
   "nbconvert_exporter": "python",
   "pygments_lexer": "ipython3",
   "version": "3.10.10"
  },
  "vscode": {
   "interpreter": {
    "hash": "3dc3732faf76d567ec6ea86bf61a0204cff5170138bd12cd8b60ad3b24421584"
   }
  }
 },
 "nbformat": 4,
 "nbformat_minor": 2
}
