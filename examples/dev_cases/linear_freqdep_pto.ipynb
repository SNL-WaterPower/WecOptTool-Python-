{
 "cells": [
  {
   "cell_type": "markdown",
   "metadata": {},
   "source": [
    "# Linear Frequency-Dependent PTO "
   ]
  },
  {
   "cell_type": "code",
   "execution_count": 1,
   "metadata": {},
   "outputs": [],
   "source": [
    "import os\n",
    "import logging\n",
    "\n",
    "import matplotlib.pyplot as plt\n",
    "import capytaine as cpy\n",
    "from autograd.builtins import isinstance, tuple, list, dict\n",
    "import autograd.numpy as np\n",
    "\n",
    "import wecopttool as wot\n",
    "\n",
    "\n",
    "# logging \n",
    "logging.basicConfig(level=logging.INFO)\n",
    "\n",
    "# create save directory\n",
    "results_dir = 'results_linear_freqdep_pto'\n",
    "if not os.path.exists(results_dir):\n",
    "  os.makedirs(results_dir)\n",
    "\n",
    "# frequencies\n",
    "f0 = 0.05\n",
    "nfreq = 50"
   ]
  },
  {
   "cell_type": "markdown",
   "metadata": {},
   "source": [
    "### Hull"
   ]
  },
  {
   "cell_type": "code",
   "execution_count": 2,
   "metadata": {},
   "outputs": [
    {
     "name": "stderr",
     "output_type": "stream",
     "text": [
      "INFO:capytaine.bodies.bodies:Stored 1054 triangle faces as quadrilaterals\n",
      "INFO:capytaine.bodies.bodies:New floating body: WaveBot.\n"
     ]
    }
   ],
   "source": [
    "## WEC object\n",
    "# mesh\n",
    "wb = wot.geom.WaveBot()  # use standard dimensions\n",
    "mesh_size_factor = 0.5  # 1.0 for default, smaller to refine mesh\n",
    "mesh = wb.mesh(mesh_size_factor)\n",
    "\n",
    "# floating body\n",
    "fb = cpy.FloatingBody.from_meshio(mesh, name=\"WaveBot\")\n",
    "fb.add_translation_dof(name=\"HEAVE\")\n",
    "\n",
    "# hydrostatics\n",
    "hs_data = wot.hydrostatics.hydrostatics(fb)\n",
    "mass_33 = wot.hydrostatics.mass_matrix_constant_density(hs_data)[2, 2]\n",
    "mass = np.atleast_2d(mass_33)\n",
    "stiffness_33 = wot.hydrostatics.stiffness_matrix(hs_data)[2, 2]\n",
    "stiffness = np.atleast_2d(stiffness_33)"
   ]
  },
  {
   "cell_type": "markdown",
   "metadata": {},
   "source": [
    "### PTO"
   ]
  },
  {
   "cell_type": "code",
   "execution_count": null,
   "metadata": {},
   "outputs": [],
   "source": [
    "# PTO kinematics\n",
    "kinematics = np.eye(fb.nb_dofs)\n",
    "\n",
    "# PTO impedance\n",
    "gear_ratio = 12.0\n",
    "torque_constant = 6.7\n",
    "winding_resistance = 0.5\n",
    "winding_inductance = 0.0\n",
    "drivetrain_inertia = 2.0 \n",
    "drivetrain_friction = 1.0\n",
    "drivetrain_stiffness = 0.0\n",
    "\n",
    "drivetrain_impedance = (1j*omega*drivetrain_inertia + \n",
    "                        drivetrain_friction + \n",
    "                        1/(1j*omega)*drivetrain_stiffness)\n",
    "\n",
    "winding_impedance = winding_resistance + 1j*omega*winding_inductance\n",
    "\n",
    "pto_impedance = np.array([[], []])\n"
   ]
  },
  {
   "cell_type": "code",
   "execution_count": null,
   "metadata": {},
   "outputs": [],
   "source": []
  }
 ],
 "metadata": {
  "interpreter": {
   "hash": "52432d6ee3f19a0e95d153c6ef95316a5902a04bd0ac4e408b2228923a5e25ec"
  },
  "kernelspec": {
   "display_name": "Python 3.9.7 ('wecopttool')",
   "language": "python",
   "name": "python3"
  },
  "language_info": {
   "codemirror_mode": {
    "name": "ipython",
    "version": 3
   },
   "file_extension": ".py",
   "mimetype": "text/x-python",
   "name": "python",
   "nbconvert_exporter": "python",
   "pygments_lexer": "ipython3",
   "version": "3.9.7"
  },
  "orig_nbformat": 4
 },
 "nbformat": 4,
 "nbformat_minor": 2
}
