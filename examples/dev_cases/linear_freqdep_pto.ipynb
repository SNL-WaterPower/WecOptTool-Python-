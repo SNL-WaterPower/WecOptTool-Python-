{
 "cells": [
  {
   "cell_type": "markdown",
   "metadata": {},
   "source": [
    "# Linear Frequency-Dependent PTO "
   ]
  },
  {
   "cell_type": "code",
   "execution_count": 1,
   "metadata": {},
   "outputs": [],
   "source": [
    "import os\n",
    "import logging\n",
    "\n",
    "import matplotlib.pyplot as plt\n",
    "import capytaine as cpy\n",
    "from autograd.builtins import isinstance, tuple, list, dict\n",
    "import autograd.numpy as np\n",
    "\n",
    "import wecopttool as wot\n",
    "\n",
    "\n",
    "# logging \n",
    "logging.basicConfig(level=logging.INFO)\n",
    "\n",
    "# create save directory\n",
    "results_dir = 'results_linear_freqdep_pto'\n",
    "if not os.path.exists(results_dir):\n",
    "  os.makedirs(results_dir)\n",
    "\n",
    "# frequencies\n",
    "f0 = 0.05\n",
    "nfreq = 50"
   ]
  },
  {
   "cell_type": "markdown",
   "metadata": {},
   "source": [
    "### WEC"
   ]
  },
  {
   "cell_type": "code",
   "execution_count": 2,
   "metadata": {},
   "outputs": [
    {
     "name": "stderr",
     "output_type": "stream",
     "text": [
      "INFO:capytaine.bodies.bodies:Stored 1054 triangle faces as quadrilaterals\n",
      "INFO:capytaine.bodies.bodies:New floating body: WaveBot.\n",
      "INFO:wecopttool.core:Changing value of 'f_add'. This might cause some attributes to be reset.\n",
      "INFO:wecopttool.core:New WEC: WaveBot with 1 DOF.\n",
      "INFO:wecopttool.core:Reading BEM data from results_linear_freqdep_pto/bem.nc.\n",
      "INFO:wecopttool.core:Impedance matrix deleted. To calculate impedance call 'self.bem_calc_impedance()'\n",
      "INFO:wecopttool.core:Impedance matrix deleted. To calculate impedance call 'self.bem_calc_impedance()'\n",
      "INFO:wecopttool.core:Calculating impedance matrix.\n",
      "INFO:capytaine.post_pro.impedance:Compute impedance.\n",
      "WARNING:wecopttool.core:Linear damping for DOF \"HEAVE\" has negative or close to zero terms. Shifting up.\n"
     ]
    }
   ],
   "source": [
    "## WEC object\n",
    "# mesh\n",
    "wb = wot.geom.WaveBot() \n",
    "mesh_size_factor = 0.5 \n",
    "mesh = wb.mesh(mesh_size_factor)\n",
    "\n",
    "# floating body\n",
    "fb = cpy.FloatingBody.from_meshio(mesh, name=\"WaveBot\")\n",
    "fb.add_translation_dof(name=\"HEAVE\")\n",
    "\n",
    "# hydrostatics\n",
    "hs_data = wot.hydrostatics.hydrostatics(fb)\n",
    "mass_33 = wot.hydrostatics.mass_matrix_constant_density(hs_data)[2, 2]\n",
    "mass = np.atleast_2d(mass_33)\n",
    "stiffness_33 = wot.hydrostatics.stiffness_matrix(hs_data)[2, 2]\n",
    "stiffness = np.atleast_2d(stiffness_33)\n",
    "\n",
    "# WEC object\n",
    "wec = wot.WEC(fb, mass, stiffness, f0, nfreq)\n",
    "\n",
    "# BEM\n",
    "fname = os.path.join(results_dir, 'bem.nc')\n",
    "if os.path.exists(fname):\n",
    "    wec.read_bem(fname)\n",
    "else:\n",
    "    wec.run_bem()\n",
    "    wec.write_bem(fname)\n"
   ]
  },
  {
   "cell_type": "markdown",
   "metadata": {},
   "source": [
    "### PTO"
   ]
  },
  {
   "cell_type": "code",
   "execution_count": 45,
   "metadata": {},
   "outputs": [
    {
     "name": "stderr",
     "output_type": "stream",
     "text": [
      "INFO:wecopttool.core:Changing value of 'f_add'. This might cause some attributes to be reset.\n"
     ]
    }
   ],
   "source": [
    "# PTO kinematics\n",
    "kinematics = np.eye(fb.nb_dofs)\n",
    "\n",
    "# # PTO impedance\n",
    "gear_ratio = 12.0\n",
    "torque_constant = 6.7\n",
    "winding_resistance = 0.5\n",
    "winding_inductance = 0.0\n",
    "drivetrain_inertia = 2.0 \n",
    "drivetrain_friction = 1.0\n",
    "drivetrain_stiffness = 0.0\n",
    "\n",
    "drivetrain_impedance = (1j*wec.omega*drivetrain_inertia + \n",
    "                        drivetrain_friction + \n",
    "                        # -1/(wec.omega)*drivetrain_stiffness)  # Matlab code\n",
    "                        1/(1j*wec.omega)*drivetrain_stiffness)  # Paper\n",
    "\n",
    "winding_impedance = winding_resistance + 1j*wec.omega*winding_inductance\n",
    "\n",
    "pto_impedance_11 = gear_ratio**2 * drivetrain_impedance\n",
    "off_diag = np.sqrt(3.0/2.0) * torque_constant * gear_ratio\n",
    "pto_impedance_12 = (-off_diag+0j) * np.ones(wec.omega.shape) # * -1 # TODO\n",
    "pto_impedance_21 = (off_diag+0j) * np.ones(wec.omega.shape)\n",
    "pto_impedance_22 = winding_impedance\n",
    "pto_impedance = np.array([[pto_impedance_11, pto_impedance_12],\n",
    "                          [pto_impedance_21, pto_impedance_22]])\n",
    "\n",
    "\n",
    "# gear_ratio = 12.4666\n",
    "# torque_constant = 6.1745\n",
    "# electrical_constant = 4.116\n",
    "# winding_resistance = 0.5\n",
    "\n",
    "# pto_impedance_11 = (0.0+0j)*np.ones(wec.omega.shape)\n",
    "# pto_impedance_12 = (torque_constant*gear_ratio+0j)*np.ones(wec.omega.shape)\n",
    "# pto_impedance_21 = (electrical_constant*gear_ratio+0j)*np.ones(wec.omega.shape)\n",
    "# pto_impedance_22 = (winding_resistance+0j)*np.ones(wec.omega.shape)\n",
    "# pto_impedance_2 = np.array([[pto_impedance_11, pto_impedance_12],\n",
    "#                           [pto_impedance_21, pto_impedance_22]])\n",
    "\n",
    "# create PTO\n",
    "pto = wot.pto.PseudoSpectralLinearPTO(nfreq, kinematics, pto_impedance)\n",
    "\n",
    "# add PTO force to WEC\n",
    "wec.f_add = pto.force_on_wec\n"
   ]
  },
  {
   "cell_type": "markdown",
   "metadata": {},
   "source": [
    "### Waves"
   ]
  },
  {
   "cell_type": "code",
   "execution_count": 32,
   "metadata": {},
   "outputs": [],
   "source": [
    "# waves\n",
    "wfreq = 0.3\n",
    "amplitude = 0.0625\n",
    "phase = -40\n",
    "waves = wot.waves.regular_wave(f0, nfreq, wfreq, amplitude, phase)"
   ]
  },
  {
   "cell_type": "markdown",
   "metadata": {},
   "source": [
    "### Objective Function"
   ]
  },
  {
   "cell_type": "code",
   "execution_count": 33,
   "metadata": {},
   "outputs": [],
   "source": [
    "# objective function\n",
    "obj_fun = pto.electric_average_power\n",
    "nstate_opt = pto.nstate"
   ]
  },
  {
   "cell_type": "markdown",
   "metadata": {},
   "source": [
    "### Solve"
   ]
  },
  {
   "cell_type": "code",
   "execution_count": 30,
   "metadata": {},
   "outputs": [
    {
     "name": "stderr",
     "output_type": "stream",
     "text": [
      "INFO:wecopttool.core:Solving pseudo-spectral control problem.\n",
      "INFO:wecopttool.core:[mean(x_wec), mean(x_opt), obj_fun(x)]: [1.03e-01, 3.49e+01, 2.41e+06]\n",
      "INFO:wecopttool.core:[mean(x_wec), mean(x_opt), obj_fun(x)]: [5.54e-01, 3.96e+01, 2.65e+07]\n",
      "INFO:wecopttool.core:[mean(x_wec), mean(x_opt), obj_fun(x)]: [1.16e+02, 7.87e+03, 1.09e+12]\n",
      "INFO:wecopttool.core:[mean(x_wec), mean(x_opt), obj_fun(x)]: [1.17e+05, 7.98e+06, 1.12e+18]\n",
      "INFO:wecopttool.core:[mean(x_wec), mean(x_opt), obj_fun(x)]: [5.92e+08, 4.03e+10, 2.85e+25]\n",
      "INFO:wecopttool.core:[mean(x_wec), mean(x_opt), obj_fun(x)]: [1.49e+13, 1.02e+15, 1.82e+34]\n",
      "INFO:wecopttool.core:[mean(x_wec), mean(x_opt), obj_fun(x)]: [1.89e+18, 1.29e+20, 2.90e+44]\n",
      "INFO:wecopttool.core:[mean(x_wec), mean(x_opt), obj_fun(x)]: [1.19e+24, 8.12e+25, 1.16e+56]\n",
      "INFO:wecopttool.core:[mean(x_wec), mean(x_opt), obj_fun(x)]: [3.76e+30, 2.56e+32, 1.15e+69]\n",
      "INFO:wecopttool.core:[mean(x_wec), mean(x_opt), obj_fun(x)]: [5.94e+37, 4.05e+39, 2.88e+83]\n",
      "INFO:wecopttool.core:[mean(x_wec), mean(x_opt), obj_fun(x)]: [4.69e+45, 3.20e+47, 1.79e+99]\n",
      "INFO:wecopttool.core:[mean(x_wec), mean(x_opt), obj_fun(x)]: [1.85e+54, 1.26e+56, 2.79e+116]\n",
      "INFO:wecopttool.core:[mean(x_wec), mean(x_opt), obj_fun(x)]: [3.65e+63, 2.49e+65, 1.09e+135]\n",
      "INFO:wecopttool.core:[mean(x_wec), mean(x_opt), obj_fun(x)]: [3.61e+73, 2.46e+75, 1.06e+155]\n",
      "INFO:wecopttool.core:[mean(x_wec), mean(x_opt), obj_fun(x)]: [1.78e+84, 1.21e+86, 2.58e+176]\n",
      "INFO:wecopttool.core:[mean(x_wec), mean(x_opt), obj_fun(x)]: [4.39e+95, 2.99e+97, 1.57e+199]\n",
      "INFO:wecopttool.core:[mean(x_wec), mean(x_opt), obj_fun(x)]: [5.41e+107, 3.69e+109, 2.39e+223]\n",
      "INFO:wecopttool.core:[mean(x_wec), mean(x_opt), obj_fun(x)]: [3.34e+120, 2.27e+122, 9.07e+248]\n",
      "INFO:wecopttool.core:[mean(x_wec), mean(x_opt), obj_fun(x)]: [1.03e+134, 7.01e+135, 8.62e+275]\n",
      "INFO:wecopttool.core:[mean(x_wec), mean(x_opt), obj_fun(x)]: [1.58e+148, 1.07e+150, 2.03e+304]\n",
      "INFO:wecopttool.core:[mean(x_wec), mean(x_opt), obj_fun(x)]: [1.24e+163, 8.42e+164, nan]\n",
      "INFO:wecopttool.core:[mean(x_wec), mean(x_opt), obj_fun(x)]: [nan, nan, nan]\n",
      "INFO:wecopttool.core:[mean(x_wec), mean(x_opt), obj_fun(x)]: [nan, nan, nan]\n",
      "INFO:wecopttool.core:[mean(x_wec), mean(x_opt), obj_fun(x)]: [nan, nan, nan]\n",
      "INFO:wecopttool.core:[mean(x_wec), mean(x_opt), obj_fun(x)]: [nan, nan, nan]\n",
      "INFO:wecopttool.core:[mean(x_wec), mean(x_opt), obj_fun(x)]: [nan, nan, nan]\n",
      "INFO:wecopttool.core:[mean(x_wec), mean(x_opt), obj_fun(x)]: [nan, nan, nan]\n",
      "INFO:wecopttool.core:[mean(x_wec), mean(x_opt), obj_fun(x)]: [nan, nan, nan]\n",
      "INFO:wecopttool.core:[mean(x_wec), mean(x_opt), obj_fun(x)]: [nan, nan, nan]\n",
      "INFO:wecopttool.core:[mean(x_wec), mean(x_opt), obj_fun(x)]: [nan, nan, nan]\n",
      "INFO:wecopttool.core:[mean(x_wec), mean(x_opt), obj_fun(x)]: [nan, nan, nan]\n",
      "INFO:wecopttool.core:[mean(x_wec), mean(x_opt), obj_fun(x)]: [nan, nan, nan]\n",
      "INFO:wecopttool.core:[mean(x_wec), mean(x_opt), obj_fun(x)]: [nan, nan, nan]\n",
      "INFO:wecopttool.core:[mean(x_wec), mean(x_opt), obj_fun(x)]: [nan, nan, nan]\n",
      "INFO:wecopttool.core:[mean(x_wec), mean(x_opt), obj_fun(x)]: [nan, nan, nan]\n",
      "INFO:wecopttool.core:[mean(x_wec), mean(x_opt), obj_fun(x)]: [nan, nan, nan]\n",
      "INFO:wecopttool.core:[mean(x_wec), mean(x_opt), obj_fun(x)]: [nan, nan, nan]\n",
      "INFO:wecopttool.core:[mean(x_wec), mean(x_opt), obj_fun(x)]: [nan, nan, nan]\n",
      "INFO:wecopttool.core:[mean(x_wec), mean(x_opt), obj_fun(x)]: [nan, nan, nan]\n",
      "INFO:wecopttool.core:[mean(x_wec), mean(x_opt), obj_fun(x)]: [nan, nan, nan]\n",
      "INFO:wecopttool.core:[mean(x_wec), mean(x_opt), obj_fun(x)]: [nan, nan, nan]\n",
      "INFO:wecopttool.core:[mean(x_wec), mean(x_opt), obj_fun(x)]: [nan, nan, nan]\n",
      "INFO:wecopttool.core:[mean(x_wec), mean(x_opt), obj_fun(x)]: [nan, nan, nan]\n",
      "INFO:wecopttool.core:[mean(x_wec), mean(x_opt), obj_fun(x)]: [nan, nan, nan]\n",
      "INFO:wecopttool.core:[mean(x_wec), mean(x_opt), obj_fun(x)]: [nan, nan, nan]\n",
      "INFO:wecopttool.core:[mean(x_wec), mean(x_opt), obj_fun(x)]: [nan, nan, nan]\n",
      "INFO:wecopttool.core:[mean(x_wec), mean(x_opt), obj_fun(x)]: [nan, nan, nan]\n",
      "INFO:wecopttool.core:[mean(x_wec), mean(x_opt), obj_fun(x)]: [nan, nan, nan]\n",
      "INFO:wecopttool.core:[mean(x_wec), mean(x_opt), obj_fun(x)]: [nan, nan, nan]\n",
      "INFO:wecopttool.core:[mean(x_wec), mean(x_opt), obj_fun(x)]: [nan, nan, nan]\n",
      "INFO:wecopttool.core:[mean(x_wec), mean(x_opt), obj_fun(x)]: [nan, nan, nan]\n",
      "INFO:wecopttool.core:[mean(x_wec), mean(x_opt), obj_fun(x)]: [nan, nan, nan]\n",
      "INFO:wecopttool.core:[mean(x_wec), mean(x_opt), obj_fun(x)]: [nan, nan, nan]\n",
      "INFO:wecopttool.core:[mean(x_wec), mean(x_opt), obj_fun(x)]: [nan, nan, nan]\n",
      "INFO:wecopttool.core:[mean(x_wec), mean(x_opt), obj_fun(x)]: [nan, nan, nan]\n",
      "INFO:wecopttool.core:[mean(x_wec), mean(x_opt), obj_fun(x)]: [nan, nan, nan]\n",
      "INFO:wecopttool.core:[mean(x_wec), mean(x_opt), obj_fun(x)]: [nan, nan, nan]\n",
      "INFO:wecopttool.core:[mean(x_wec), mean(x_opt), obj_fun(x)]: [nan, nan, nan]\n",
      "INFO:wecopttool.core:[mean(x_wec), mean(x_opt), obj_fun(x)]: [nan, nan, nan]\n",
      "INFO:wecopttool.core:[mean(x_wec), mean(x_opt), obj_fun(x)]: [nan, nan, nan]\n",
      "INFO:wecopttool.core:[mean(x_wec), mean(x_opt), obj_fun(x)]: [nan, nan, nan]\n",
      "INFO:wecopttool.core:[mean(x_wec), mean(x_opt), obj_fun(x)]: [nan, nan, nan]\n",
      "INFO:wecopttool.core:[mean(x_wec), mean(x_opt), obj_fun(x)]: [nan, nan, nan]\n",
      "INFO:wecopttool.core:[mean(x_wec), mean(x_opt), obj_fun(x)]: [nan, nan, nan]\n",
      "INFO:wecopttool.core:[mean(x_wec), mean(x_opt), obj_fun(x)]: [nan, nan, nan]\n",
      "INFO:wecopttool.core:[mean(x_wec), mean(x_opt), obj_fun(x)]: [nan, nan, nan]\n",
      "INFO:wecopttool.core:[mean(x_wec), mean(x_opt), obj_fun(x)]: [nan, nan, nan]\n",
      "INFO:wecopttool.core:[mean(x_wec), mean(x_opt), obj_fun(x)]: [nan, nan, nan]\n",
      "INFO:wecopttool.core:[mean(x_wec), mean(x_opt), obj_fun(x)]: [nan, nan, nan]\n",
      "INFO:wecopttool.core:[mean(x_wec), mean(x_opt), obj_fun(x)]: [nan, nan, nan]\n",
      "INFO:wecopttool.core:[mean(x_wec), mean(x_opt), obj_fun(x)]: [nan, nan, nan]\n",
      "INFO:wecopttool.core:[mean(x_wec), mean(x_opt), obj_fun(x)]: [nan, nan, nan]\n",
      "INFO:wecopttool.core:[mean(x_wec), mean(x_opt), obj_fun(x)]: [nan, nan, nan]\n",
      "INFO:wecopttool.core:[mean(x_wec), mean(x_opt), obj_fun(x)]: [nan, nan, nan]\n",
      "INFO:wecopttool.core:[mean(x_wec), mean(x_opt), obj_fun(x)]: [nan, nan, nan]\n",
      "INFO:wecopttool.core:[mean(x_wec), mean(x_opt), obj_fun(x)]: [nan, nan, nan]\n",
      "INFO:wecopttool.core:[mean(x_wec), mean(x_opt), obj_fun(x)]: [nan, nan, nan]\n",
      "INFO:wecopttool.core:[mean(x_wec), mean(x_opt), obj_fun(x)]: [nan, nan, nan]\n",
      "INFO:wecopttool.core:[mean(x_wec), mean(x_opt), obj_fun(x)]: [nan, nan, nan]\n",
      "INFO:wecopttool.core:[mean(x_wec), mean(x_opt), obj_fun(x)]: [nan, nan, nan]\n",
      "INFO:wecopttool.core:[mean(x_wec), mean(x_opt), obj_fun(x)]: [nan, nan, nan]\n",
      "INFO:wecopttool.core:[mean(x_wec), mean(x_opt), obj_fun(x)]: [nan, nan, nan]\n",
      "INFO:wecopttool.core:[mean(x_wec), mean(x_opt), obj_fun(x)]: [nan, nan, nan]\n",
      "INFO:wecopttool.core:[mean(x_wec), mean(x_opt), obj_fun(x)]: [nan, nan, nan]\n",
      "INFO:wecopttool.core:[mean(x_wec), mean(x_opt), obj_fun(x)]: [nan, nan, nan]\n",
      "INFO:wecopttool.core:[mean(x_wec), mean(x_opt), obj_fun(x)]: [nan, nan, nan]\n",
      "INFO:wecopttool.core:[mean(x_wec), mean(x_opt), obj_fun(x)]: [nan, nan, nan]\n",
      "INFO:wecopttool.core:[mean(x_wec), mean(x_opt), obj_fun(x)]: [nan, nan, nan]\n",
      "INFO:wecopttool.core:[mean(x_wec), mean(x_opt), obj_fun(x)]: [nan, nan, nan]\n",
      "INFO:wecopttool.core:[mean(x_wec), mean(x_opt), obj_fun(x)]: [nan, nan, nan]\n",
      "INFO:wecopttool.core:[mean(x_wec), mean(x_opt), obj_fun(x)]: [nan, nan, nan]\n",
      "INFO:wecopttool.core:[mean(x_wec), mean(x_opt), obj_fun(x)]: [nan, nan, nan]\n",
      "INFO:wecopttool.core:[mean(x_wec), mean(x_opt), obj_fun(x)]: [nan, nan, nan]\n",
      "INFO:wecopttool.core:[mean(x_wec), mean(x_opt), obj_fun(x)]: [nan, nan, nan]\n",
      "INFO:wecopttool.core:[mean(x_wec), mean(x_opt), obj_fun(x)]: [nan, nan, nan]\n",
      "INFO:wecopttool.core:[mean(x_wec), mean(x_opt), obj_fun(x)]: [nan, nan, nan]\n",
      "INFO:wecopttool.core:[mean(x_wec), mean(x_opt), obj_fun(x)]: [nan, nan, nan]\n",
      "INFO:wecopttool.core:[mean(x_wec), mean(x_opt), obj_fun(x)]: [nan, nan, nan]\n",
      "INFO:wecopttool.core:[mean(x_wec), mean(x_opt), obj_fun(x)]: [nan, nan, nan]\n",
      "INFO:wecopttool.core:[mean(x_wec), mean(x_opt), obj_fun(x)]: [nan, nan, nan]\n",
      "WARNING:wecopttool.core:Iteration limit reached    (Exit mode 9)\n"
     ]
    },
    {
     "name": "stdout",
     "output_type": "stream",
     "text": [
      "Iteration limit reached    (Exit mode 9)\n",
      "            Current function value: nan\n",
      "            Iterations: 100\n",
      "            Function evaluations: 891\n",
      "            Gradient evaluations: 100\n"
     ]
    }
   ],
   "source": [
    "# solve\n",
    "scale_x_wec = 1.0\n",
    "scale_x_opt = 1.0\n",
    "scale_obj = 1.0\n",
    "\n",
    "options = {'maxiter': 100, 'ftol': 1e-8}\n",
    "\n",
    "wec_tdom, wec_fdom, x_wec, x_opt, obj, res = wec.solve(\n",
    "    waves, obj_fun, nstate_opt, optim_options=options,\n",
    "    scale_x_wec=scale_x_wec, scale_x_opt=scale_x_opt, scale_obj=scale_obj)\n",
    "\n",
    "# post-process\n",
    "pto_tdom, pto_fdom = pto.post_process(wec, x_wec, x_opt)"
   ]
  },
  {
   "cell_type": "markdown",
   "metadata": {},
   "source": [
    "### CC (Electrical) Solution\n"
   ]
  },
  {
   "cell_type": "code",
   "execution_count": null,
   "metadata": {},
   "outputs": [],
   "source": [
    "Z_11 = pto_impedance[0, 0, :]\n",
    "Z_12 = pto_impedance[0, 1, :]\n",
    "Z_21 = pto_impedance[1, 0, :]\n",
    "Z_22 = pto_impedance[1, 1, :]\n",
    "# V_th = Z_21 / (Z_11 + Zi) * Fe\n",
    "# Z_th = Z_22 - (Z_12*Z_21) / (Z_11 + Zi)\n",
    "V_th = Z_21 / (Z_11 - Zi) * Fe\n",
    "Z_th = Z_22 - (Z_12*Z_21) / (Z_11 - Zi)\n",
    "\n",
    "cc_current_fd = V_th / (2*Z_th.real)\n",
    "cc_voltage_fd = -1.0 * Z_th.conj() * cc_current_fd\n",
    "\n",
    "cc_current_td = wot.post_process_continuous_time(cc_current_fd)\n",
    "cc_voltage_td = wot.post_process_continuous_time(cc_voltage_fd)\n"
   ]
  }
 ],
 "metadata": {
  "interpreter": {
   "hash": "52432d6ee3f19a0e95d153c6ef95316a5902a04bd0ac4e408b2228923a5e25ec"
  },
  "kernelspec": {
   "display_name": "Python 3.9.7 ('wecopttool')",
   "language": "python",
   "name": "python3"
  },
  "language_info": {
   "codemirror_mode": {
    "name": "ipython",
    "version": 3
   },
   "file_extension": ".py",
   "mimetype": "text/x-python",
   "name": "python",
   "nbconvert_exporter": "python",
   "pygments_lexer": "ipython3",
   "version": "3.9.7"
  },
  "orig_nbformat": 4
 },
 "nbformat": 4,
 "nbformat_minor": 2
}
