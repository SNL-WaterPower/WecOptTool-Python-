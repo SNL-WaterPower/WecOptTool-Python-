{
 "cells": [
  {
   "cell_type": "code",
   "execution_count": 1,
   "metadata": {},
   "outputs": [],
   "source": [
    "import autograd.numpy as np\n",
    "\n",
    "import wecopttool as wot"
   ]
  },
  {
   "cell_type": "code",
   "execution_count": 2,
   "metadata": {},
   "outputs": [],
   "source": [
    "unstructured = False  # controller\n",
    "electrical = True  # power"
   ]
  },
  {
   "cell_type": "code",
   "execution_count": 3,
   "metadata": {},
   "outputs": [],
   "source": [
    "file = \"./bem.nc\"\n",
    "data = wot.read_netcdf(file)\n",
    "f1 = 0.05\n",
    "nfreq = 50"
   ]
  },
  {
   "cell_type": "code",
   "execution_count": 4,
   "metadata": {},
   "outputs": [],
   "source": [
    "amplitude = 0.0625 \n",
    "idx = 6  # 0.3 Hz\n",
    "freq = idx*f1\n",
    "waves = wot.waves.regular_wave(f1, nfreq, freq, amplitude)"
   ]
  },
  {
   "cell_type": "code",
   "execution_count": 5,
   "metadata": {},
   "outputs": [],
   "source": [
    "ndof_pto = 1\n",
    "pto_names = [\"PTO_Heave\"]\n",
    "kinematics_mat = np.eye(ndof_pto)\n",
    "\n",
    "kinematics = wot.pto.kinematics_linear(kinematics_mat)\n",
    "\n",
    "# controller\n",
    "if unstructured:\n",
    "    ncomponents_pto = 2*nfreq + 1\n",
    "    controller = wot.pto.controller_unstructured()\n",
    "else:\n",
    "    ncomponents_pto = 2\n",
    "    controller = wot.pto.controller_pid(derivative=False)\n",
    "\n",
    "# PTO impedance - frequency dependent\n",
    "omega = data.omega.values\n",
    "gear_ratio = 12.0\n",
    "torque_constant = 6.7\n",
    "winding_resistance = 0.5\n",
    "winding_inductance = 0.0\n",
    "drivetrain_inertia = 2.0\n",
    "drivetrain_friction = 1.0\n",
    "drivetrain_stiffness = 0.0\n",
    "\n",
    "drivetrain_impedance = (1j*omega*drivetrain_inertia + \n",
    "                        drivetrain_friction + \n",
    "                        1/(1j*omega)*drivetrain_stiffness) \n",
    "\n",
    "winding_impedance = winding_resistance + 1j*omega*winding_inductance\n",
    "\n",
    "\n",
    "pto_impedance_11 = -1* gear_ratio**2 * drivetrain_impedance\n",
    "off_diag = np.sqrt(3.0/2.0) * torque_constant * gear_ratio\n",
    "pto_impedance_12 = -1*(off_diag+0j) * np.ones(omega.shape) \n",
    "pto_impedance_21 = -1*(off_diag+0j) * np.ones(omega.shape)\n",
    "pto_impedance_22 = winding_impedance\n",
    "pto_impedance = np.array([[pto_impedance_11, pto_impedance_12],\n",
    "                          [pto_impedance_21, pto_impedance_22]])\n",
    "\n",
    "power = wot.pto.power_linear(pto_impedance)\n",
    "\n",
    "# PTO\n",
    "pto = wot.pto.PTO(ndof_pto, ncomponents_pto, kinematics, controller, power, pto_names)"
   ]
  },
  {
   "cell_type": "code",
   "execution_count": 6,
   "metadata": {},
   "outputs": [
    {
     "name": "stderr",
     "output_type": "stream",
     "text": [
      "Linear damping for DOF \"HEAVE\" has negative or close to zero terms. Shifting up via linear friction of 36.667232716402985 N/(m/s).\n"
     ]
    }
   ],
   "source": [
    "data = wot.add_zerofreq_to_xr(data)\n",
    "wec = wot.WEC.from_bem(data, f_add={'PTO': pto.force_on_wec})"
   ]
  },
  {
   "cell_type": "code",
   "execution_count": 8,
   "metadata": {},
   "outputs": [
    {
     "name": "stdout",
     "output_type": "stream",
     "text": [
      "Optimization terminated successfully    (Exit mode 0)\n",
      "            Current function value: -28.944593182074065\n",
      "            Iterations: 56\n",
      "            Function evaluations: 85\n",
      "            Gradient evaluations: 56\n"
     ]
    }
   ],
   "source": [
    "scale_x_wec = 1.0\n",
    "scale_x_opt = 0.01 if ((not unstructured) and electrical) else 1.0\n",
    "scale_obj = 1.0\n",
    "if electrical:\n",
    "    obj_fun = pto.average_power\n",
    "else:\n",
    "    obj_fun = pto.mechanical_average_power\n",
    "res = wec.solve(waves, obj_fun, pto.nstate,\n",
    "                scale_x_wec=scale_x_wec, scale_x_opt=scale_x_opt, scale_obj=scale_obj)"
   ]
  },
  {
   "cell_type": "code",
   "execution_count": 9,
   "metadata": {},
   "outputs": [
    {
     "data": {
      "text/plain": [
       "(28.944593182074065, 28.94459318181153)"
      ]
     },
     "execution_count": 9,
     "metadata": {},
     "output_type": "execute_result"
    }
   ],
   "source": [
    "exc_coeff = data['Froude_Krylov_force'] + data['diffraction_force']\n",
    "Fe = wot.wave_excitation(exc_coeff, waves)\n",
    "w = data.coords['omega'].values[1:]\n",
    "m = data['mass'].values\n",
    "A = data['added_mass'].values[0, 0, 1:]\n",
    "B = data['radiation_damping'].values[0, 0, 1:]\n",
    "K = data['hydrostatic_stiffness'].values\n",
    "Zi = ((1j*w)*(m + A)\n",
    "        + B\n",
    "        + (1/(1j*w)) * data['hydrostatic_stiffness'].values\n",
    "        + 36.667232716402985)\n",
    "Fe = np.reshape(Fe, -1)[1:]\n",
    "Zi = np.reshape(Zi, -1)\n",
    "\n",
    "if electrical:\n",
    "    Z_11 = pto_impedance[0, 0, :]\n",
    "    Z_12 = pto_impedance[0, 1, :]\n",
    "    Z_21 = pto_impedance[1, 0, :]\n",
    "    Z_22 = pto_impedance[1, 1, :]\n",
    "\n",
    "    V_th = Z_21 / (Z_11 - Zi) * Fe\n",
    "    Z_th = Z_22 - (Z_12*Z_21) / (Z_11 - Zi)\n",
    "\n",
    "    cc_current_fd = V_th / (2*Z_th.real)\n",
    "    cc_voltage_fd = -1.0 * Z_th.conj() * cc_current_fd\n",
    "    cc_voltage_td = wec.fd_to_td(np.concatenate([[0.0], cc_voltage_fd]))\n",
    "    cc_current_td = wec.fd_to_td(np.concatenate([[0.0], cc_current_fd]))\n",
    "    cc_power_td = cc_voltage_td * cc_current_td\n",
    "    power_theoretical = -np.sum(cc_power_td) * wec.dt/wec.tf\n",
    "else:\n",
    "    Fe = Fe[idx-1]\n",
    "    Zi = Zi[idx-1]\n",
    "    power_theoretical = (np.abs(Fe)**2 / (8 * Zi.real))\n",
    "\n",
    "power = -res.fun\n",
    "power, power_theoretical"
   ]
  },
  {
   "cell_type": "code",
   "execution_count": 13,
   "metadata": {},
   "outputs": [
    {
     "name": "stdout",
     "output_type": "stream",
     "text": [
      "TODO,  (-4406.581354396462+8890.765113241489j)\n"
     ]
    }
   ],
   "source": [
    "if not unstructured:\n",
    "    xopt = res.x[-pto.nstate:]\n",
    "    if electrical:\n",
    "        optimal_gains_expected = \"TODO, \"\n",
    "    else:\n",
    "        omega_wave = waves.omega[idx].data.item()\n",
    "        m = data['mass'] \n",
    "        w = data['omega']\n",
    "        A = data['added_mass']\n",
    "        B = data['radiation_damping']\n",
    "        K = data['hydrostatic_stiffness']\n",
    "        Bf = 36.667232716402985\n",
    "        Zi = 1j*w*(A+m) + B+Bf + 1/(1j*w)*K\n",
    "        Zic = Zi[idx].conj().data.item()\n",
    "        optimal_gains_expected = -1*Zic.real + 1j * omega_wave * Zic.imag\n",
    "    optimal_gains = xopt[0] + 1j*xopt[1]\n",
    "    print(optimal_gains_expected, optimal_gains)"
   ]
  },
  {
   "cell_type": "code",
   "execution_count": null,
   "metadata": {},
   "outputs": [],
   "source": []
  }
 ],
 "metadata": {
  "interpreter": {
   "hash": "723f21f66e8d0a61fa50c731a2afd8116b597a052ef38afbfcb36e5a5e841e22"
  },
  "kernelspec": {
   "display_name": "Python 3.9.13 ('.venv': venv)",
   "language": "python",
   "name": "python3"
  },
  "language_info": {
   "codemirror_mode": {
    "name": "ipython",
    "version": 3
   },
   "file_extension": ".py",
   "mimetype": "text/x-python",
   "name": "python",
   "nbconvert_exporter": "python",
   "pygments_lexer": "ipython3",
   "version": "3.9.13"
  },
  "orig_nbformat": 4
 },
 "nbformat": 4,
 "nbformat_minor": 2
}
