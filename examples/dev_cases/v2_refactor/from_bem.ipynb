{
 "cells": [
  {
   "cell_type": "code",
   "execution_count": 1,
   "metadata": {},
   "outputs": [],
   "source": [
    "import autograd.numpy as np\n",
    "\n",
    "import wecopttool as wot"
   ]
  },
  {
   "cell_type": "code",
   "execution_count": 2,
   "metadata": {},
   "outputs": [],
   "source": [
    "file = \"./bem.nc\"\n",
    "data = wot.read_netcdf(file)\n",
    "f1 = 0.05\n",
    "nfreq = 50"
   ]
  },
  {
   "cell_type": "code",
   "execution_count": 3,
   "metadata": {},
   "outputs": [],
   "source": [
    "amplitude = 0.0625  \n",
    "idx = 6\n",
    "freq = idx*f1\n",
    "waves = wot.waves.regular_wave(f1, nfreq, freq, amplitude)"
   ]
  },
  {
   "cell_type": "code",
   "execution_count": 4,
   "metadata": {},
   "outputs": [],
   "source": [
    "def pto_velocity(wec, x_wec, x_opt, waves):\n",
    "    pos = wec.vec_to_dofmat(x_wec)\n",
    "    vel = np.dot(wec.derivative_mat, pos)\n",
    "    return np.dot(wec.time_mat, vel)\n",
    "\n",
    "def objective_fun(wec, x_wec, x_opt, waves):\n",
    "    force_td = pto_force(wec, x_wec, x_opt, None)\n",
    "    vel_td = pto_velocity(wec, x_wec, x_opt, None)\n",
    "    power_td = vel_td * force_td\n",
    "    return np.sum(power_td) * wec.dt / wec.tf\n",
    "\n",
    "def pto_force(wec, x_wec, x_opt, waves):\n",
    "    return np.dot(wec.time_mat[:, 1:], wec.vec_to_dofmat(x_opt))\n",
    "\n",
    "nstate_opt = 2 * nfreq"
   ]
  },
  {
   "cell_type": "code",
   "execution_count": 5,
   "metadata": {},
   "outputs": [
    {
     "name": "stderr",
     "output_type": "stream",
     "text": [
      "Linear damping for DOF \"HEAVE\" has negative or close to zero terms. Shifting up via linear friction of 36.667232716402985 N/(m/s).\n"
     ]
    }
   ],
   "source": [
    "data = wot.add_zerofreq_to_xr(data)\n",
    "wec = wot.WEC.from_bem(data, f_add={'PTO': pto_force})"
   ]
  },
  {
   "cell_type": "code",
   "execution_count": 6,
   "metadata": {},
   "outputs": [
    {
     "name": "stdout",
     "output_type": "stream",
     "text": [
      "Optimization terminated successfully    (Exit mode 0)\n",
      "            Current function value: -135.07335929241142\n",
      "            Iterations: 42\n",
      "            Function evaluations: 42\n",
      "            Gradient evaluations: 42\n"
     ]
    }
   ],
   "source": [
    "res = wec.solve(waves, objective_fun, nstate_opt)"
   ]
  },
  {
   "cell_type": "code",
   "execution_count": 16,
   "metadata": {},
   "outputs": [
    {
     "data": {
      "text/plain": [
       "(135.07335929241142, 135.0755469893718)"
      ]
     },
     "execution_count": 16,
     "metadata": {},
     "output_type": "execute_result"
    }
   ],
   "source": [
    "w = data.coords['omega'][idx]\n",
    "Z = ((1j*w)*(data['mass'] + data['added_mass'][0,0,idx])\n",
    "     + data['radiation_damping'][0,0,idx]\n",
    "     + (1/(1j*w)) * data['hydrostatic_stiffness']\n",
    "     + 36.667232716402985\n",
    "     )\n",
    "\n",
    "exc_coeff = data['Froude_Krylov_force'] + data['diffraction_force']\n",
    "F = wot.wave_excitation(exc_coeff, waves)[idx]\n",
    "\n",
    "power_theoretical = (np.abs(F)**2 / (8 * Z.real)).values[0,0]\n",
    "power = -res.fun\n",
    "\n",
    "power, power_theoretical"
   ]
  },
  {
   "cell_type": "code",
   "execution_count": null,
   "metadata": {},
   "outputs": [],
   "source": []
  }
 ],
 "metadata": {
  "interpreter": {
   "hash": "723f21f66e8d0a61fa50c731a2afd8116b597a052ef38afbfcb36e5a5e841e22"
  },
  "kernelspec": {
   "display_name": "Python 3.9.13 ('.venv': venv)",
   "language": "python",
   "name": "python3"
  },
  "language_info": {
   "codemirror_mode": {
    "name": "ipython",
    "version": 3
   },
   "file_extension": ".py",
   "mimetype": "text/x-python",
   "name": "python",
   "nbconvert_exporter": "python",
   "pygments_lexer": "ipython3",
   "version": "3.9.13"
  },
  "orig_nbformat": 4
 },
 "nbformat": 4,
 "nbformat_minor": 2
}
