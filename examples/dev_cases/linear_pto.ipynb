{
 "cells": [
  {
   "cell_type": "markdown",
   "metadata": {},
   "source": [
    "# Linear PTO"
   ]
  },
  {
   "cell_type": "markdown",
   "metadata": {},
   "source": [
    "### Options"
   ]
  },
  {
   "cell_type": "code",
   "execution_count": 1,
   "metadata": {},
   "outputs": [],
   "source": [
    "same_electrical_mechanical = False\n",
    "use_constraint = False\n",
    "scale_x_wec = 1.0\n",
    "scale_x_opt = 1.0\n",
    "scale_obj = 1.0\n",
    "\n",
    "# same_electrical_mechanical = True\n",
    "# use_constraint = False\n",
    "# scale_x_wec = 1.0\n",
    "# scale_x_opt = 100.0\n",
    "# scale_obj = 1.0\n",
    "\n",
    "# same_electrical_mechanical = True\n",
    "# use_constraint = True\n",
    "# scale_x_wec = 1.0\n",
    "# scale_x_opt = 0.01\n",
    "# scale_obj = 1.0"
   ]
  },
  {
   "cell_type": "markdown",
   "metadata": {},
   "source": [
    "### Run"
   ]
  },
  {
   "cell_type": "code",
   "execution_count": 2,
   "metadata": {},
   "outputs": [
    {
     "name": "stderr",
     "output_type": "stream",
     "text": [
      "INFO:capytaine.bodies.bodies:Stored 1054 triangle faces as quadrilaterals\n",
      "INFO:capytaine.bodies.bodies:New floating body: WaveBot.\n"
     ]
    },
    {
     "ename": "IndexError",
     "evalue": "too many indices for array: array is 2-dimensional, but 3 were indexed",
     "output_type": "error",
     "traceback": [
      "\u001b[0;31m---------------------------------------------------------------------------\u001b[0m",
      "\u001b[0;31mIndexError\u001b[0m                                Traceback (most recent call last)",
      "\u001b[0;32m/var/folders/lt/g02nr64n5hb_msyqddwt1_v0002gm1/T/ipykernel_11515/2937035171.py\u001b[0m in \u001b[0;36m<module>\u001b[0;34m\u001b[0m\n\u001b[1;32m     55\u001b[0m \u001b[0;34m\u001b[0m\u001b[0m\n\u001b[1;32m     56\u001b[0m \u001b[0;31m# PTO\u001b[0m\u001b[0;34m\u001b[0m\u001b[0;34m\u001b[0m\u001b[0m\n\u001b[0;32m---> 57\u001b[0;31m \u001b[0mpto\u001b[0m \u001b[0;34m=\u001b[0m \u001b[0mwot\u001b[0m\u001b[0;34m.\u001b[0m\u001b[0mpto\u001b[0m\u001b[0;34m.\u001b[0m\u001b[0mPseudoSpectralLinearPTO\u001b[0m\u001b[0;34m(\u001b[0m\u001b[0mnfreq\u001b[0m\u001b[0;34m,\u001b[0m \u001b[0mkinematics\u001b[0m\u001b[0;34m,\u001b[0m \u001b[0mpto_impedance\u001b[0m\u001b[0;34m)\u001b[0m\u001b[0;34m\u001b[0m\u001b[0;34m\u001b[0m\u001b[0m\n\u001b[0m\u001b[1;32m     58\u001b[0m \u001b[0;34m\u001b[0m\u001b[0m\n\u001b[1;32m     59\u001b[0m \u001b[0;31m# constraints\u001b[0m\u001b[0;34m\u001b[0m\u001b[0;34m\u001b[0m\u001b[0m\n",
      "\u001b[0;32m~/WecOptTool/wecopttool/pto.py\u001b[0m in \u001b[0;36m__init__\u001b[0;34m(self, nfreq, kinematics, impedance, names)\u001b[0m\n\u001b[1;32m    400\u001b[0m         \u001b[0mself\u001b[0m\u001b[0;34m.\u001b[0m\u001b[0mimpedance\u001b[0m\u001b[0;34m=\u001b[0m \u001b[0mimpedance\u001b[0m\u001b[0;34m\u001b[0m\u001b[0;34m\u001b[0m\u001b[0m\n\u001b[1;32m    401\u001b[0m         \u001b[0mself\u001b[0m\u001b[0;34m.\u001b[0m\u001b[0mnfreq\u001b[0m \u001b[0;34m=\u001b[0m \u001b[0mnfreq\u001b[0m\u001b[0;34m\u001b[0m\u001b[0;34m\u001b[0m\u001b[0m\n\u001b[0;32m--> 402\u001b[0;31m         \u001b[0mself\u001b[0m\u001b[0;34m.\u001b[0m\u001b[0m_make_mimo_transfer_mat\u001b[0m\u001b[0;34m(\u001b[0m\u001b[0;34m)\u001b[0m\u001b[0;34m\u001b[0m\u001b[0;34m\u001b[0m\u001b[0m\n\u001b[0m\u001b[1;32m    403\u001b[0m \u001b[0;34m\u001b[0m\u001b[0m\n\u001b[1;32m    404\u001b[0m     \u001b[0;34m@\u001b[0m\u001b[0mproperty\u001b[0m\u001b[0;34m\u001b[0m\u001b[0;34m\u001b[0m\u001b[0m\n",
      "\u001b[0;32m~/WecOptTool/wecopttool/pto.py\u001b[0m in \u001b[0;36m_make_mimo_transfer_mat\u001b[0;34m(self)\u001b[0m\n\u001b[1;32m    421\u001b[0m         \u001b[0;32mfor\u001b[0m \u001b[0midof\u001b[0m \u001b[0;32min\u001b[0m \u001b[0mrange\u001b[0m\u001b[0;34m(\u001b[0m\u001b[0mself\u001b[0m\u001b[0;34m.\u001b[0m\u001b[0mndof2\u001b[0m\u001b[0;34m)\u001b[0m\u001b[0;34m:\u001b[0m\u001b[0;34m\u001b[0m\u001b[0;34m\u001b[0m\u001b[0m\n\u001b[1;32m    422\u001b[0m             \u001b[0;32mfor\u001b[0m \u001b[0mjdof\u001b[0m \u001b[0;32min\u001b[0m \u001b[0mrange\u001b[0m\u001b[0;34m(\u001b[0m\u001b[0mself\u001b[0m\u001b[0;34m.\u001b[0m\u001b[0mndof2\u001b[0m\u001b[0;34m)\u001b[0m\u001b[0;34m:\u001b[0m\u001b[0;34m\u001b[0m\u001b[0;34m\u001b[0m\u001b[0m\n\u001b[0;32m--> 423\u001b[0;31m                 \u001b[0mZp\u001b[0m \u001b[0;34m=\u001b[0m \u001b[0mself\u001b[0m\u001b[0;34m.\u001b[0m\u001b[0mimpedance\u001b[0m\u001b[0;34m[\u001b[0m\u001b[0midof\u001b[0m\u001b[0;34m,\u001b[0m \u001b[0mjdof\u001b[0m\u001b[0;34m,\u001b[0m \u001b[0;34m:\u001b[0m\u001b[0;34m]\u001b[0m\u001b[0;34m\u001b[0m\u001b[0;34m\u001b[0m\u001b[0m\n\u001b[0m\u001b[1;32m    424\u001b[0m                 \u001b[0mre\u001b[0m \u001b[0;34m=\u001b[0m \u001b[0mnp\u001b[0m\u001b[0;34m.\u001b[0m\u001b[0mreal\u001b[0m\u001b[0;34m(\u001b[0m\u001b[0mZp\u001b[0m\u001b[0;34m)\u001b[0m\u001b[0;34m\u001b[0m\u001b[0;34m\u001b[0m\u001b[0m\n\u001b[1;32m    425\u001b[0m                 \u001b[0mim\u001b[0m \u001b[0;34m=\u001b[0m \u001b[0mnp\u001b[0m\u001b[0;34m.\u001b[0m\u001b[0mimag\u001b[0m\u001b[0;34m(\u001b[0m\u001b[0mZp\u001b[0m\u001b[0;34m)\u001b[0m\u001b[0;34m\u001b[0m\u001b[0;34m\u001b[0m\u001b[0m\n",
      "\u001b[0;31mIndexError\u001b[0m: too many indices for array: array is 2-dimensional, but 3 were indexed"
     ]
    }
   ],
   "source": [
    "import os\n",
    "import logging\n",
    "\n",
    "import matplotlib.pyplot as plt\n",
    "import capytaine as cpy\n",
    "from autograd.builtins import isinstance, tuple, list, dict\n",
    "import autograd.numpy as np\n",
    "\n",
    "import wecopttool as wot\n",
    "\n",
    "\n",
    "# logging \n",
    "logging.basicConfig(level=logging.INFO)\n",
    "\n",
    "# create save directory\n",
    "results_dir = 'results_linear_pto'\n",
    "if not os.path.exists(results_dir):\n",
    "  os.makedirs(results_dir)\n",
    "\n",
    "## WEC object\n",
    "# mesh\n",
    "wb = wot.geom.WaveBot()  # use standard dimensions\n",
    "mesh_size_factor = 0.5  # 1.0 for default, smaller to refine mesh\n",
    "mesh = wb.mesh(mesh_size_factor)\n",
    "\n",
    "# floating body\n",
    "fb = cpy.FloatingBody.from_meshio(mesh, name=\"WaveBot\")\n",
    "fb.add_translation_dof(name=\"HEAVE\")\n",
    "\n",
    "# hydrostatics\n",
    "hs_data = wot.hydrostatics.hydrostatics(fb)\n",
    "mass_33 = wot.hydrostatics.mass_matrix_constant_density(hs_data)[2, 2]\n",
    "mass = np.atleast_2d(mass_33)\n",
    "stiffness_33 = wot.hydrostatics.stiffness_matrix(hs_data)[2, 2]\n",
    "stiffness = np.atleast_2d(stiffness_33)\n",
    "\n",
    "# frequencies\n",
    "f0 = 0.05\n",
    "nfreq = 50\n",
    "\n",
    "# PTO kinematics\n",
    "kinematics = np.eye(fb.nb_dofs)\n",
    "\n",
    "# PTO impedance\n",
    "if same_electrical_mechanical:\n",
    "    pto_impedance = np.array([[0.0, 1.0], [1.0, 0.0]])\n",
    "else:\n",
    "    gear_ratio = 12.4666\n",
    "    torque_constant = 6.1745\n",
    "    electrical_constant = 4.116\n",
    "    winding_resistance = 0.5\n",
    "    pto_impedance = np.array([[0.0, torque_constant*gear_ratio],\n",
    "                        [electrical_constant*gear_ratio, winding_resistance]])\n",
    "\n",
    "\n",
    "# PTO\n",
    "pto = wot.pto.PseudoSpectralLinearPTO(nfreq, kinematics, pto_impedance)\n",
    "\n",
    "# constraints\n",
    "if use_constraint:\n",
    "    f_max = 2000.0\n",
    "    nsubsteps = 4\n",
    "\n",
    "\n",
    "    def const_f_pto(wec, x_wec, x_opt):\n",
    "        f = pto.force_on_wec(wec, x_wec, x_opt, nsubsteps)\n",
    "        return f_max - np.abs(f.flatten())\n",
    "\n",
    "\n",
    "    ineq_cons = {'type': 'ineq',\n",
    "                'fun': const_f_pto,\n",
    "                }\n",
    "    constraints = [ineq_cons]\n",
    "else:\n",
    "    constraints = []\n",
    "\n",
    "# additional dynamics forces function\n",
    "f_add = pto.force_on_wec\n",
    "\n",
    "# WEC object\n",
    "wec = wot.WEC(fb, mass, stiffness, f0, nfreq,\n",
    "              f_add=f_add, constraints=constraints)\n",
    "\n",
    "# BEM\n",
    "fname = os.path.join(results_dir, 'bem.nc')\n",
    "if os.path.exists(fname):\n",
    "    wec.read_bem(fname)\n",
    "else:\n",
    "    wec.run_bem()\n",
    "    wec.write_bem(fname)\n",
    "\n",
    "# waves\n",
    "wfreq = 0.3\n",
    "amplitude = 0.0625\n",
    "phase = -40\n",
    "waves = wot.waves.regular_wave(f0, nfreq, wfreq, amplitude, phase)\n",
    "\n",
    "# objective function\n",
    "obj_fun = pto.electric_average_power\n",
    "nstate_opt = pto.nstate\n",
    "\n",
    "# solve\n",
    "options = {'maxiter': 1000, 'ftol': 1e-8}\n",
    "\n",
    "wec_tdom, wec_fdom, x_wec, x_opt, obj, res = wec.solve(\n",
    "    waves, obj_fun, nstate_opt, optim_options=options,\n",
    "    scale_x_wec=scale_x_wec, scale_x_opt=scale_x_opt, scale_obj=scale_obj)\n",
    "\n",
    "# post-process\n",
    "pto_tdom, pto_fdom = pto.post_process(wec, x_wec, x_opt)\n"
   ]
  },
  {
   "cell_type": "markdown",
   "metadata": {},
   "source": [
    "### CC (Mechanical) Solution\n",
    "Optimal solution for maximum mechanical power, no constraints."
   ]
  },
  {
   "cell_type": "code",
   "execution_count": null,
   "metadata": {},
   "outputs": [],
   "source": [
    "# CC solution\n",
    "idof = 0\n",
    "Fe = wec_fdom['excitation_force'][1:, idof]\n",
    "Zi = wec.hydro.Zi[:, idof, idof]\n",
    "\n",
    "cc_vel_fd = Fe / (2*Zi.real)\n",
    "cc_force_fd = -1.0 * Zi.conj() * cc_vel_fd\n",
    "\n",
    "cc_vel_td = wot.post_process_continuous_time(cc_vel_fd)\n",
    "cc_force_td = wot.post_process_continuous_time(cc_force_fd)"
   ]
  },
  {
   "cell_type": "markdown",
   "metadata": {},
   "source": [
    "### CC (Electrical) Solution\n",
    "Optimal solution for maximum mechanical power, no constraints."
   ]
  },
  {
   "cell_type": "code",
   "execution_count": null,
   "metadata": {},
   "outputs": [],
   "source": [
    "Z_11, Z_12 = pto_impedance[0, :]\n",
    "Z_21, Z_22 = pto_impedance[1, :]\n",
    "# V_th = Z_21 / (Z_11 + Zi) * Fe\n",
    "# Z_th = Z_22 - (Z_12*Z_21) / (Z_11 + Zi)\n",
    "V_th = Z_21 / (Z_11 - Zi) * Fe\n",
    "Z_th = Z_22 - (Z_12*Z_21) / (Z_11 - Zi)\n",
    "\n",
    "cc_current_fd = V_th / (2*Z_th.real)\n",
    "cc_voltage_fd = -1.0 * Z_th.conj() * cc_current_fd \n",
    "\n",
    "cc_current_td = wot.post_process_continuous_time(cc_current_fd)\n",
    "cc_voltage_td = wot.post_process_continuous_time(cc_voltage_fd)\n"
   ]
  },
  {
   "cell_type": "markdown",
   "metadata": {},
   "source": [
    "### Results"
   ]
  },
  {
   "cell_type": "code",
   "execution_count": null,
   "metadata": {},
   "outputs": [],
   "source": [
    "# print\n",
    "print(f\"Average mechanical power: {pto.average_power(wec, x_wec, x_opt)} W\")\n",
    "print(f\"Average electrical power: {pto.electric_average_power(wec, x_wec, x_opt)} W\\n\")"
   ]
  },
  {
   "cell_type": "code",
   "execution_count": null,
   "metadata": {},
   "outputs": [],
   "source": [
    "nsubsteps = 10\n",
    "\n",
    "t = wec.make_time_vec(nsubsteps)\n",
    "\n",
    "# plot mechanical power\n",
    "plt.figure()\n",
    "plt.plot(t, cc_vel_td(t), '-', label='CC_m')\n",
    "plt.plot(t, pto.velocity(wec, x_wec, x_opt, nsubsteps), '--', label='PS')\n",
    "plt.xlabel('time [s]')\n",
    "plt.ylabel('velocity [m/s]')\n",
    "plt.legend()\n",
    "\n",
    "plt.figure()\n",
    "plt.plot(t, cc_force_td(t), '-')\n",
    "plt.plot(t, pto.force(wec, x_wec, x_opt, nsubsteps), '--')\n",
    "plt.xlabel('time [s]')\n",
    "plt.ylabel('force [N]')\n",
    "\n",
    "plt.figure()\n",
    "plt.plot(t, cc_vel_td(t)*cc_force_td(t), '-')\n",
    "plt.plot(t, pto.power(wec, x_wec, x_opt, nsubsteps), '--')\n",
    "plt.xlabel('time [s]')\n",
    "plt.ylabel('mechanical power [W]')\n"
   ]
  },
  {
   "cell_type": "code",
   "execution_count": null,
   "metadata": {},
   "outputs": [],
   "source": [
    "# plot electrical power\n",
    "plt.figure()\n",
    "plt.plot(t, cc_current_td(t), '-', label='CC_e')\n",
    "plt.plot(t, pto.electric_current(\n",
    "    wec, x_wec, x_opt, nsubsteps), '--', label='PS')\n",
    "plt.xlabel('time [s]')\n",
    "plt.ylabel('current [A]')\n",
    "plt.legend()\n",
    "\n",
    "plt.figure()\n",
    "plt.plot(t, cc_voltage_td(t), '-')\n",
    "plt.plot(t, pto.electric_voltage(wec, x_wec, x_opt, nsubsteps), '--')\n",
    "plt.xlabel('time [s]')\n",
    "plt.ylabel('voltage [V]')\n",
    "\n",
    "plt.figure()\n",
    "plt.plot(t, cc_current_td(t)*cc_voltage_td(t), '-')\n",
    "plt.plot(t, pto.electric_power(wec, x_wec, x_opt, nsubsteps), '--')\n",
    "plt.xlabel('time [s]')\n",
    "plt.ylabel('electrical power [W]')"
   ]
  },
  {
   "cell_type": "code",
   "execution_count": null,
   "metadata": {},
   "outputs": [],
   "source": []
  }
 ],
 "metadata": {
  "interpreter": {
   "hash": "93ececab4e8fce1aad02ee527b9252ca79380e2943bb966fa47bc5b02c217fde"
  },
  "kernelspec": {
   "display_name": "Python 3 (ipykernel)",
   "language": "python",
   "name": "python3"
  },
  "language_info": {
   "codemirror_mode": {
    "name": "ipython",
    "version": 3
   },
   "file_extension": ".py",
   "mimetype": "text/x-python",
   "name": "python",
   "nbconvert_exporter": "python",
   "pygments_lexer": "ipython3",
   "version": "3.9.7"
  }
 },
 "nbformat": 4,
 "nbformat_minor": 2
}
