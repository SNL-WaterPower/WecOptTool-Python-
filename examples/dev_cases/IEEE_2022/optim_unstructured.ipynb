{
 "cells": [
  {
   "cell_type": "markdown",
   "metadata": {},
   "source": [
    "# Optimization of PTO Drive-Train with Unstructured Controller"
   ]
  },
  {
   "cell_type": "code",
   "execution_count": 1,
   "metadata": {},
   "outputs": [],
   "source": [
    "import os\n",
    "import logging\n",
    "\n",
    "from autograd.builtins import isinstance, tuple, list, dict\n",
    "import matplotlib.pyplot as plt\n",
    "import capytaine as cpy\n",
    "import autograd.numpy as np\n",
    "import xarray as xr\n",
    "from scipy.optimize import brute\n",
    "\n",
    "import wecopttool as wot\n",
    "\n",
    "\n",
    "# logging\n",
    "logging.basicConfig(level=logging.ERROR)\n",
    "\n",
    "# create save directory\n",
    "results_dir = 'results_IEEE_2022_unstructured'\n",
    "if not os.path.exists(results_dir):\n",
    "  os.makedirs(results_dir)\n",
    "\n",
    "# frequencies\n",
    "f0 = 0.05\n",
    "nfreq = 50"
   ]
  },
  {
   "cell_type": "markdown",
   "metadata": {},
   "source": [
    "## WEC"
   ]
  },
  {
   "cell_type": "code",
   "execution_count": 2,
   "metadata": {},
   "outputs": [],
   "source": [
    "# mesh\n",
    "wb = wot.geom.WaveBot()\n",
    "mesh_size_factor = 0.5\n",
    "mesh = wb.mesh(mesh_size_factor)\n",
    "\n",
    "# floating body\n",
    "fb = cpy.FloatingBody.from_meshio(mesh, name=\"WaveBot\")\n",
    "fb.add_translation_dof(name=\"HEAVE\")\n",
    "\n",
    "# hydrostatics\n",
    "hs_data = wot.hydrostatics.hydrostatics(fb)\n",
    "mass_33 = wot.hydrostatics.mass_matrix_constant_density(hs_data)[2, 2]\n",
    "mass = np.atleast_2d(mass_33)\n",
    "stiffness_33 = wot.hydrostatics.stiffness_matrix(hs_data)[2, 2]\n",
    "stiffness = np.atleast_2d(stiffness_33)\n",
    "\n",
    "# WEC object\n",
    "wec = wot.WEC(fb, mass, stiffness, f0, nfreq)\n",
    "\n",
    "# BEM\n",
    "fname = os.path.join(results_dir, 'bem.nc')\n",
    "run_bem = True\n",
    "if os.path.exists(fname):\n",
    "    try:\n",
    "        wec.read_bem(fname)\n",
    "        run_bem = False\n",
    "    except:\n",
    "        run_bem = True\n",
    "if run_bem:\n",
    "    wec.run_bem()\n",
    "    wec.write_bem(fname)"
   ]
  },
  {
   "cell_type": "markdown",
   "metadata": {},
   "source": [
    "## PTO (setup)"
   ]
  },
  {
   "cell_type": "code",
   "execution_count": 3,
   "metadata": {},
   "outputs": [],
   "source": [
    "# PTO kinematics\n",
    "kinematics = np.eye(fb.nb_dofs)\n",
    "\n",
    "# PTO impedance - frequency dependent\n",
    "gear_ratio = 12.0\n",
    "torque_constant = 6.7\n",
    "winding_resistance = 0.5\n",
    "winding_inductance = 0.0\n",
    "drivetrain_inertia = 2.0\n",
    "drivetrain_friction = 1.0\n",
    "drivetrain_stiffness = 0.0\n",
    "\n",
    "drivetrain_impedance = (1j*wec.omega*drivetrain_inertia +\n",
    "                        drivetrain_friction +\n",
    "                        -1/(1j*wec.omega)*drivetrain_stiffness)\n",
    "\n",
    "winding_impedance = winding_resistance + 1j*wec.omega*winding_inductance\n",
    "\n",
    "pto_impedance_11 = gear_ratio**2 * drivetrain_impedance\n",
    "off_diag = np.sqrt(3.0/2.0) * torque_constant * gear_ratio\n",
    "pto_impedance_12 = (off_diag+0j) * np.ones(wec.omega.shape)\n",
    "pto_impedance_21 = pto_impedance_12\n",
    "pto_impedance_22 = winding_impedance\n",
    "pto_impedance = np.array([[pto_impedance_11, pto_impedance_12],\n",
    "                          [pto_impedance_21, pto_impedance_22]])\n",
    "\n",
    "# create PTO\n",
    "pto = wot.pto.PseudoSpectralLinearPTO(nfreq, kinematics, pto_impedance)\n"
   ]
  },
  {
   "cell_type": "markdown",
   "metadata": {},
   "source": [
    "## Waves"
   ]
  },
  {
   "cell_type": "code",
   "execution_count": 4,
   "metadata": {},
   "outputs": [],
   "source": [
    "# waves\n",
    "fp = 1.0/2.0  # Hz\n",
    "hs = 0.2  # m\n",
    "gamma = 3.3\n",
    "spectrum_func = lambda freq: wot.waves.jonswap_spectrum(freq, fp, hs, gamma)\n",
    "spectrum_name = \"JONSWAP\"\n",
    "direction = 0.0\n",
    "waves = wot.waves.long_crested_wave(\n",
    "    f0, nfreq, spectrum_func, direction, spectrum_name)"
   ]
  },
  {
   "cell_type": "markdown",
   "metadata": {},
   "source": [
    "## Optimization Run"
   ]
  },
  {
   "cell_type": "code",
   "execution_count": 5,
   "metadata": {},
   "outputs": [],
   "source": [
    "# brute force optimization states\n",
    "drivetrain_inertia_list = np.linspace(1.0, 5.0, 21)  # default: 2.0 \n",
    "drivetrain_friction = np.array([1.0])  # default: 1.0\n",
    "drivetrain_stiffness_list = np.linspace(0.0, 5.0, 11)  # default: 0.0\n",
    "\n",
    "# solver options\n",
    "scale_x_wec = 1.0\n",
    "scale_x_opt = 0.01\n",
    "scale_obj = 1.0\n",
    "\n",
    "options = {'maxiter': 100, 'ftol': 1e-8, 'disp': False}"
   ]
  },
  {
   "cell_type": "code",
   "execution_count": 6,
   "metadata": {},
   "outputs": [],
   "source": [
    "n = 0\n",
    "N = len(drivetrain_inertia_list) * len(drivetrain_stiffness_list)\n",
    "\n",
    "def outer_opt(x):\n",
    "    global n\n",
    "    n += 1\n",
    "    drivetrain_stiffness = x[0]\n",
    "    drivetrain_inertia = x[1]\n",
    "\n",
    "    # update PTO impedance\n",
    "    drivetrain_impedance = (1j*wec.omega*drivetrain_inertia +\n",
    "                            drivetrain_friction +\n",
    "                            -1/(1j*wec.omega)*drivetrain_stiffness)\n",
    "    pto_impedance_11 = gear_ratio**2 * drivetrain_impedance\n",
    "    pto_impedance = np.array([[pto_impedance_11, pto_impedance_12],\n",
    "                                [pto_impedance_21, pto_impedance_22]])\n",
    "    # update PTO \n",
    "    pto.impedance = pto_impedance\n",
    "    pto._make_abc()\n",
    "    pto._make_mimo_transfer_mat()\n",
    "    \n",
    "    # update WEC forces\n",
    "    wec.f_add = pto.force_on_wec\n",
    "\n",
    "    # update objective function\n",
    "    obj_fun = pto.electric_average_power\n",
    "    nstate_opt = pto.nstate\n",
    "\n",
    "    # solve\n",
    "    _, _, _, _, avg_power, res = wec.solve(\n",
    "        waves, obj_fun, nstate_opt, optim_options=options,\n",
    "        scale_x_wec=scale_x_wec, scale_x_opt=scale_x_opt, scale_obj=scale_obj)\n",
    "\n",
    "    print(f\"{n}/{N}. m: {drivetrain_inertia}, k:{drivetrain_stiffness}, \" + \n",
    "          f\"exit mode: {res.status}, avg. power: {avg_power}W\")\n",
    "\n",
    "    return avg_power"
   ]
  },
  {
   "cell_type": "code",
   "execution_count": 7,
   "metadata": {},
   "outputs": [
    {
     "name": "stdout",
     "output_type": "stream",
     "text": [
      "1/231. m: 1.0, k:0.0, exit mode: 0, avg. power: -24.52821598002381W\n",
      "2/231. m: 1.2, k:0.0, exit mode: 0, avg. power: -24.151584922812862W\n",
      "3/231. m: 1.4, k:0.0, exit mode: 0, avg. power: -23.77240154017711W\n",
      "4/231. m: 1.5999999999999999, k:0.0, exit mode: 0, avg. power: -23.3917411220384W\n",
      "5/231. m: 1.7999999999999998, k:0.0, exit mode: 0, avg. power: -23.01070821957222W\n",
      "6/231. m: 1.9999999999999998, k:0.0, exit mode: 0, avg. power: -22.63041326519908W\n",
      "7/231. m: 2.1999999999999997, k:0.0, exit mode: 0, avg. power: -22.251912784248976W\n",
      "8/231. m: 2.3999999999999995, k:0.0, exit mode: 0, avg. power: -21.87608712088123W\n",
      "9/231. m: 2.5999999999999996, k:0.0, exit mode: 0, avg. power: -21.503428325487562W\n",
      "10/231. m: 2.8, k:0.0, exit mode: 0, avg. power: -21.133736799665588W\n",
      "11/231. m: 2.9999999999999996, k:0.0, exit mode: 0, avg. power: -20.765815231868856W\n",
      "12/231. m: 3.1999999999999993, k:0.0, exit mode: 0, avg. power: -20.397423671614245W\n",
      "13/231. m: 3.3999999999999995, k:0.0, exit mode: 0, avg. power: -20.025932934773284W\n",
      "14/231. m: 3.5999999999999996, k:0.0, exit mode: 0, avg. power: -19.65004667593104W\n",
      "15/231. m: 3.7999999999999994, k:0.0, exit mode: 0, avg. power: -19.272720676326234W\n",
      "16/231. m: 3.999999999999999, k:0.0, exit mode: 0, avg. power: -18.90756361944049W\n",
      "17/231. m: 4.199999999999999, k:0.0, exit mode: 9, avg. power: -18.855587141954036W\n"
     ]
    },
    {
     "name": "stderr",
     "output_type": "stream",
     "text": [
      "ERROR:wecopttool.core:Rank-deficient equality constraint subproblem HFTI    (Exit mode 7)\n"
     ]
    },
    {
     "name": "stdout",
     "output_type": "stream",
     "text": [
      "18/231. m: 4.3999999999999995, k:0.0, exit mode: 7, avg. power: -4.1358114470157335e+207W\n",
      "19/231. m: 4.6, k:0.0, exit mode: 9, avg. power: nanW\n"
     ]
    },
    {
     "name": "stderr",
     "output_type": "stream",
     "text": [
      "ERROR:wecopttool.core:Rank-deficient equality constraint subproblem HFTI    (Exit mode 7)\n"
     ]
    },
    {
     "name": "stdout",
     "output_type": "stream",
     "text": [
      "20/231. m: 4.799999999999999, k:0.0, exit mode: 7, avg. power: -1.288100583488491e+271W\n"
     ]
    },
    {
     "name": "stderr",
     "output_type": "stream",
     "text": [
      "ERROR:wecopttool.core:Rank-deficient equality constraint subproblem HFTI    (Exit mode 7)\n"
     ]
    },
    {
     "name": "stdout",
     "output_type": "stream",
     "text": [
      "21/231. m: 4.999999999999999, k:0.0, exit mode: 7, avg. power: -8.744227939534629e+266W\n"
     ]
    },
    {
     "name": "stderr",
     "output_type": "stream",
     "text": [
      "ERROR:wecopttool.core:Rank-deficient equality constraint subproblem HFTI    (Exit mode 7)\n"
     ]
    },
    {
     "name": "stdout",
     "output_type": "stream",
     "text": [
      "22/231. m: 5.199999999999999, k:0.0, exit mode: 7, avg. power: -1.2785215347962424e+281W\n",
      "23/231. m: 1.0, k:0.5, exit mode: 0, avg. power: -24.41867584497507W\n",
      "24/231. m: 1.2, k:0.5, exit mode: 0, avg. power: -24.041932147785854W\n",
      "25/231. m: 1.4, k:0.5, exit mode: 0, avg. power: -23.662848559117695W\n",
      "26/231. m: 1.5999999999999999, k:0.5, exit mode: 0, avg. power: -23.282495517452265W\n",
      "27/231. m: 1.7999999999999998, k:0.5, exit mode: 0, avg. power: -22.901971497689452W\n",
      "28/231. m: 1.9999999999999998, k:0.5, exit mode: 0, avg. power: -22.52237757059429W\n",
      "29/231. m: 2.1999999999999997, k:0.5, exit mode: 0, avg. power: -22.144753749904385W\n",
      "30/231. m: 2.3999999999999995, k:0.5, exit mode: 0, avg. power: -21.769950502743054W\n",
      "31/231. m: 2.5999999999999996, k:0.5, exit mode: 0, avg. power: -21.398408705964435W\n",
      "32/231. m: 2.8, k:0.5, exit mode: 0, avg. power: -21.029850688235218W\n",
      "33/231. m: 2.9999999999999996, k:0.5, exit mode: 0, avg. power: -20.66298151003149W\n",
      "34/231. m: 3.1999999999999993, k:0.5, exit mode: 0, avg. power: -20.295479505364305W\n",
      "35/231. m: 3.3999999999999995, k:0.5, exit mode: 0, avg. power: -19.924718420137857W\n",
      "36/231. m: 3.5999999999999996, k:0.5, exit mode: 0, avg. power: -19.549564452685672W\n",
      "37/231. m: 3.7999999999999994, k:0.5, exit mode: 0, avg. power: -19.173353532118877W\n",
      "38/231. m: 3.999999999999999, k:0.5, exit mode: 0, avg. power: -18.81064816834665W\n"
     ]
    },
    {
     "name": "stderr",
     "output_type": "stream",
     "text": [
      "ERROR:wecopttool.core:Rank-deficient equality constraint subproblem HFTI    (Exit mode 7)\n"
     ]
    },
    {
     "name": "stdout",
     "output_type": "stream",
     "text": [
      "39/231. m: 4.199999999999999, k:0.5, exit mode: 7, avg. power: -2.832912631958552e+155W\n"
     ]
    },
    {
     "name": "stderr",
     "output_type": "stream",
     "text": [
      "ERROR:wecopttool.core:Rank-deficient equality constraint subproblem HFTI    (Exit mode 7)\n"
     ]
    },
    {
     "name": "stdout",
     "output_type": "stream",
     "text": [
      "40/231. m: 4.3999999999999995, k:0.5, exit mode: 7, avg. power: -1.6201897698588374e+255W\n"
     ]
    },
    {
     "name": "stderr",
     "output_type": "stream",
     "text": [
      "ERROR:wecopttool.core:Rank-deficient equality constraint subproblem HFTI    (Exit mode 7)\n"
     ]
    },
    {
     "name": "stdout",
     "output_type": "stream",
     "text": [
      "41/231. m: 4.6, k:0.5, exit mode: 7, avg. power: -1.1684854051387523e+249W\n"
     ]
    },
    {
     "name": "stderr",
     "output_type": "stream",
     "text": [
      "ERROR:wecopttool.core:Rank-deficient equality constraint subproblem HFTI    (Exit mode 7)\n"
     ]
    },
    {
     "name": "stdout",
     "output_type": "stream",
     "text": [
      "42/231. m: 4.799999999999999, k:0.5, exit mode: 7, avg. power: -9.394989378156519e+271W\n",
      "43/231. m: 4.999999999999999, k:0.5, exit mode: 9, avg. power: nanW\n",
      "44/231. m: 5.199999999999999, k:0.5, exit mode: 9, avg. power: nanW\n",
      "45/231. m: 1.0, k:1.0, exit mode: 0, avg. power: -24.309282186517848W\n",
      "46/231. m: 1.2, k:1.0, exit mode: 0, avg. power: -23.93247337183086W\n",
      "47/231. m: 1.4, k:1.0, exit mode: 0, avg. power: -23.553534538320683W\n",
      "48/231. m: 1.5999999999999999, k:1.0, exit mode: 0, avg. power: -23.17353119909557W\n",
      "49/231. m: 1.7999999999999998, k:1.0, exit mode: 0, avg. power: -22.793555599251235W\n",
      "50/231. m: 1.9999999999999998, k:1.0, exit mode: 0, avg. power: -22.41469907067904W\n",
      "51/231. m: 2.1999999999999997, k:1.0, exit mode: 0, avg. power: -22.037984338177193W\n",
      "52/231. m: 2.3999999999999995, k:1.0, exit mode: 0, avg. power: -21.664230661719678W\n",
      "53/231. m: 2.5999999999999996, k:1.0, exit mode: 0, avg. power: -21.29382577855833W\n",
      "54/231. m: 2.8, k:1.0, exit mode: 0, avg. power: -20.92641189767833W\n",
      "55/231. m: 2.9999999999999996, k:1.0, exit mode: 0, avg. power: -20.560595891634282W\n",
      "56/231. m: 3.1999999999999993, k:1.0, exit mode: 0, avg. power: -20.193977990520263W\n",
      "57/231. m: 3.3999999999999995, k:1.0, exit mode: 0, avg. power: -19.823944322537624W\n",
      "58/231. m: 3.5999999999999996, k:1.0, exit mode: 0, avg. power: -19.449536760315098W\n",
      "59/231. m: 3.7999999999999994, k:1.0, exit mode: 0, avg. power: -19.074485862209162W\n",
      "60/231. m: 3.999999999999999, k:1.0, exit mode: 0, avg. power: -18.71436900849114W\n"
     ]
    },
    {
     "name": "stderr",
     "output_type": "stream",
     "text": [
      "ERROR:wecopttool.core:Rank-deficient equality constraint subproblem HFTI    (Exit mode 7)\n"
     ]
    },
    {
     "name": "stdout",
     "output_type": "stream",
     "text": [
      "61/231. m: 4.199999999999999, k:1.0, exit mode: 7, avg. power: -2.6615270997494117e+161W\n"
     ]
    },
    {
     "name": "stderr",
     "output_type": "stream",
     "text": [
      "ERROR:wecopttool.core:Rank-deficient equality constraint subproblem HFTI    (Exit mode 7)\n"
     ]
    },
    {
     "name": "stdout",
     "output_type": "stream",
     "text": [
      "62/231. m: 4.3999999999999995, k:1.0, exit mode: 7, avg. power: -6.063310686270513e+255W\n"
     ]
    },
    {
     "name": "stderr",
     "output_type": "stream",
     "text": [
      "ERROR:wecopttool.core:Rank-deficient equality constraint subproblem HFTI    (Exit mode 7)\n"
     ]
    },
    {
     "name": "stdout",
     "output_type": "stream",
     "text": [
      "63/231. m: 4.6, k:1.0, exit mode: 7, avg. power: -3.1566317765113834e+251W\n"
     ]
    },
    {
     "name": "stderr",
     "output_type": "stream",
     "text": [
      "ERROR:wecopttool.core:Rank-deficient equality constraint subproblem HFTI    (Exit mode 7)\n"
     ]
    },
    {
     "name": "stdout",
     "output_type": "stream",
     "text": [
      "64/231. m: 4.799999999999999, k:1.0, exit mode: 7, avg. power: -3.1311923620425458e+264W\n"
     ]
    },
    {
     "name": "stderr",
     "output_type": "stream",
     "text": [
      "ERROR:wecopttool.core:Rank-deficient equality constraint subproblem HFTI    (Exit mode 7)\n"
     ]
    },
    {
     "name": "stdout",
     "output_type": "stream",
     "text": [
      "65/231. m: 4.999999999999999, k:1.0, exit mode: 7, avg. power: -1.2424277564703426e+255W\n",
      "66/231. m: 5.199999999999999, k:1.0, exit mode: 9, avg. power: nanW\n",
      "67/231. m: 1.0, k:1.5, exit mode: 0, avg. power: -24.20004585828695W\n",
      "68/231. m: 1.2, k:1.5, exit mode: 0, avg. power: -23.823218625634407W\n",
      "69/231. m: 1.4, k:1.5, exit mode: 0, avg. power: -23.444468684364594W\n",
      "70/231. m: 1.5999999999999999, k:1.5, exit mode: 0, avg. power: -23.064856546754463W\n",
      "71/231. m: 1.7999999999999998, k:1.5, exit mode: 0, avg. power: -22.685468061620384W\n",
      "72/231. m: 1.9999999999999998, k:1.5, exit mode: 0, avg. power: -22.307384431089798W\n",
      "73/231. m: 2.1999999999999997, k:1.5, exit mode: 0, avg. power: -21.931610303006952W\n",
      "74/231. m: 2.3999999999999995, k:1.5, exit mode: 0, avg. power: -21.558932324775835W\n",
      "75/231. m: 2.5999999999999996, k:1.5, exit mode: 0, avg. power: -21.189683091551277W\n",
      "76/231. m: 2.8, k:1.5, exit mode: 0, avg. power: -20.8234226916152W\n",
      "77/231. m: 2.9999999999999996, k:1.5, exit mode: 0, avg. power: -20.458659473771874W\n",
      "78/231. m: 3.1999999999999993, k:1.5, exit mode: 0, avg. power: -20.092919579610776W\n",
      "79/231. m: 3.3999999999999995, k:1.5, exit mode: 0, avg. power: -19.72361139996437W\n",
      "80/231. m: 3.5999999999999996, k:1.5, exit mode: 0, avg. power: -19.349965512603035W\n",
      "81/231. m: 3.7999999999999994, k:1.5, exit mode: 0, avg. power: -18.976121779926913W\n",
      "82/231. m: 3.999999999999999, k:1.5, exit mode: 0, avg. power: -18.618740515253926W\n"
     ]
    },
    {
     "name": "stderr",
     "output_type": "stream",
     "text": [
      "ERROR:wecopttool.core:Rank-deficient equality constraint subproblem HFTI    (Exit mode 7)\n"
     ]
    },
    {
     "name": "stdout",
     "output_type": "stream",
     "text": [
      "83/231. m: 4.199999999999999, k:1.5, exit mode: 7, avg. power: -1.6450160904023098e+185W\n"
     ]
    },
    {
     "name": "stderr",
     "output_type": "stream",
     "text": [
      "ERROR:wecopttool.core:Rank-deficient equality constraint subproblem HFTI    (Exit mode 7)\n"
     ]
    },
    {
     "name": "stdout",
     "output_type": "stream",
     "text": [
      "84/231. m: 4.3999999999999995, k:1.5, exit mode: 7, avg. power: -4.1978592410936456e+212W\n"
     ]
    },
    {
     "name": "stderr",
     "output_type": "stream",
     "text": [
      "ERROR:wecopttool.core:Rank-deficient equality constraint subproblem HFTI    (Exit mode 7)\n"
     ]
    },
    {
     "name": "stdout",
     "output_type": "stream",
     "text": [
      "85/231. m: 4.6, k:1.5, exit mode: 7, avg. power: -1.7674991523565738e+258W\n"
     ]
    },
    {
     "name": "stderr",
     "output_type": "stream",
     "text": [
      "ERROR:wecopttool.core:Rank-deficient equality constraint subproblem HFTI    (Exit mode 7)\n"
     ]
    },
    {
     "name": "stdout",
     "output_type": "stream",
     "text": [
      "86/231. m: 4.799999999999999, k:1.5, exit mode: 7, avg. power: -2.7893264464391557e+275W\n"
     ]
    },
    {
     "name": "stderr",
     "output_type": "stream",
     "text": [
      "ERROR:wecopttool.core:Rank-deficient equality constraint subproblem HFTI    (Exit mode 7)\n"
     ]
    },
    {
     "name": "stdout",
     "output_type": "stream",
     "text": [
      "87/231. m: 4.999999999999999, k:1.5, exit mode: 7, avg. power: -4.413073231454683e+298W\n"
     ]
    },
    {
     "name": "stderr",
     "output_type": "stream",
     "text": [
      "ERROR:wecopttool.core:Rank-deficient equality constraint subproblem HFTI    (Exit mode 7)\n"
     ]
    },
    {
     "name": "stdout",
     "output_type": "stream",
     "text": [
      "88/231. m: 5.199999999999999, k:1.5, exit mode: 7, avg. power: -4.8304584777793436e+287W\n",
      "89/231. m: 1.0, k:2.0, exit mode: 0, avg. power: -24.09097748067473W\n",
      "90/231. m: 1.2, k:2.0, exit mode: 0, avg. power: -23.714177702718466W\n",
      "91/231. m: 1.4, k:2.0, exit mode: 0, avg. power: -23.335659949367745W\n",
      "92/231. m: 1.5999999999999999, k:2.0, exit mode: 0, avg. power: -22.956479699527634W\n",
      "93/231. m: 1.7999999999999998, k:2.0, exit mode: 0, avg. power: -22.577716203991177W\n",
      "94/231. m: 1.9999999999999998, k:2.0, exit mode: 0, avg. power: -22.20044013102177W\n",
      "95/231. m: 2.1999999999999997, k:2.0, exit mode: 0, avg. power: -21.825637190390278W\n",
      "96/231. m: 2.3999999999999995, k:2.0, exit mode: 0, avg. power: -21.454059992930095W\n",
      "97/231. m: 2.5999999999999996, k:2.0, exit mode: 0, avg. power: -21.0859839770538W\n",
      "98/231. m: 2.8, k:2.0, exit mode: 0, avg. power: -20.720885114327118W\n",
      "99/231. m: 2.9999999999999996, k:2.0, exit mode: 0, avg. power: -20.35717315883914W\n",
      "100/231. m: 3.1999999999999993, k:2.0, exit mode: 0, avg. power: -19.992304613443117W\n",
      "101/231. m: 3.3999999999999995, k:2.0, exit mode: 0, avg. power: -19.62372034617303W\n",
      "102/231. m: 3.5999999999999996, k:2.0, exit mode: 0, avg. power: -19.25085276089653W\n",
      "103/231. m: 3.7999999999999994, k:2.0, exit mode: 0, avg. power: -18.878265592133193W\n",
      "104/231. m: 3.999999999999999, k:2.0, exit mode: 0, avg. power: -18.523778574287444W\n"
     ]
    },
    {
     "name": "stderr",
     "output_type": "stream",
     "text": [
      "ERROR:wecopttool.core:Rank-deficient equality constraint subproblem HFTI    (Exit mode 7)\n"
     ]
    },
    {
     "name": "stdout",
     "output_type": "stream",
     "text": [
      "105/231. m: 4.199999999999999, k:2.0, exit mode: 7, avg. power: -4.344844781117231e+190W\n"
     ]
    },
    {
     "name": "stderr",
     "output_type": "stream",
     "text": [
      "ERROR:wecopttool.core:Rank-deficient equality constraint subproblem HFTI    (Exit mode 7)\n"
     ]
    },
    {
     "name": "stdout",
     "output_type": "stream",
     "text": [
      "106/231. m: 4.3999999999999995, k:2.0, exit mode: 7, avg. power: -2.1131518887232992e+217W\n"
     ]
    },
    {
     "name": "stderr",
     "output_type": "stream",
     "text": [
      "ERROR:wecopttool.core:Rank-deficient equality constraint subproblem HFTI    (Exit mode 7)\n"
     ]
    },
    {
     "name": "stdout",
     "output_type": "stream",
     "text": [
      "107/231. m: 4.6, k:2.0, exit mode: 7, avg. power: -1.2896390158985415e+278W\n",
      "108/231. m: 4.799999999999999, k:2.0, exit mode: 9, avg. power: nanW\n"
     ]
    },
    {
     "name": "stderr",
     "output_type": "stream",
     "text": [
      "ERROR:wecopttool.core:Rank-deficient equality constraint subproblem HFTI    (Exit mode 7)\n"
     ]
    },
    {
     "name": "stdout",
     "output_type": "stream",
     "text": [
      "109/231. m: 4.999999999999999, k:2.0, exit mode: 7, avg. power: -1.5045977562998752e+275W\n",
      "110/231. m: 5.199999999999999, k:2.0, exit mode: 9, avg. power: nanW\n",
      "111/231. m: 1.0, k:2.5, exit mode: 0, avg. power: -23.982087423709565W\n",
      "112/231. m: 1.2, k:2.5, exit mode: 0, avg. power: -23.605360143403217W\n",
      "113/231. m: 1.4, k:2.5, exit mode: 0, avg. power: -23.22711707043144W\n",
      "114/231. m: 1.5999999999999999, k:2.5, exit mode: 0, avg. power: -22.848408574346514W\n",
      "115/231. m: 1.7999999999999998, k:2.5, exit mode: 0, avg. power: -22.470307127840613W\n",
      "116/231. m: 1.9999999999999998, k:2.5, exit mode: 0, avg. power: -22.09387239541473W\n",
      "117/231. m: 2.1999999999999997, k:2.5, exit mode: 0, avg. power: -21.72007032145017W\n",
      "118/231. m: 2.3999999999999995, k:2.5, exit mode: 0, avg. power: -21.349617957937486W\n",
      "119/231. m: 2.5999999999999996, k:2.5, exit mode: 0, avg. power: -20.98273153366428W\n",
      "120/231. m: 2.8, k:2.5, exit mode: 0, avg. power: -20.6188010004602W\n",
      "121/231. m: 2.9999999999999996, k:2.5, exit mode: 0, avg. power: -20.256137677903318W\n",
      "122/231. m: 3.1999999999999993, k:2.5, exit mode: 0, avg. power: -19.892133344308125W\n",
      "123/231. m: 3.3999999999999995, k:2.5, exit mode: 0, avg. power: -19.524271888697804W\n",
      "124/231. m: 3.5999999999999996, k:2.5, exit mode: 0, avg. power: -19.15220052444144W\n",
      "125/231. m: 3.7999999999999994, k:2.5, exit mode: 0, avg. power: -18.78092152960586W\n",
      "126/231. m: 3.999999999999999, k:2.5, exit mode: 0, avg. power: -18.42950081682239W\n"
     ]
    },
    {
     "name": "stderr",
     "output_type": "stream",
     "text": [
      "ERROR:wecopttool.core:Rank-deficient equality constraint subproblem HFTI    (Exit mode 7)\n"
     ]
    },
    {
     "name": "stdout",
     "output_type": "stream",
     "text": [
      "127/231. m: 4.199999999999999, k:2.5, exit mode: 7, avg. power: -4.836658505600215e+191W\n"
     ]
    },
    {
     "name": "stderr",
     "output_type": "stream",
     "text": [
      "ERROR:wecopttool.core:Rank-deficient equality constraint subproblem HFTI    (Exit mode 7)\n"
     ]
    },
    {
     "name": "stdout",
     "output_type": "stream",
     "text": [
      "128/231. m: 4.3999999999999995, k:2.5, exit mode: 7, avg. power: -1.5027648895456543e+232W\n"
     ]
    },
    {
     "name": "stderr",
     "output_type": "stream",
     "text": [
      "ERROR:wecopttool.core:Rank-deficient equality constraint subproblem HFTI    (Exit mode 7)\n"
     ]
    },
    {
     "name": "stdout",
     "output_type": "stream",
     "text": [
      "129/231. m: 4.6, k:2.5, exit mode: 7, avg. power: -1.9298081767163812e+257W\n"
     ]
    },
    {
     "name": "stderr",
     "output_type": "stream",
     "text": [
      "ERROR:wecopttool.core:Rank-deficient equality constraint subproblem HFTI    (Exit mode 7)\n"
     ]
    },
    {
     "name": "stdout",
     "output_type": "stream",
     "text": [
      "130/231. m: 4.799999999999999, k:2.5, exit mode: 7, avg. power: -2.122994832134523e+248W\n",
      "131/231. m: 4.999999999999999, k:2.5, exit mode: 9, avg. power: nanW\n"
     ]
    },
    {
     "name": "stderr",
     "output_type": "stream",
     "text": [
      "/Users/cmichel/WecOptTool/wecopttool/pto.py:534: RuntimeWarning: overflow encountered in double_scalars\n",
      "  energy_produced = 1/(2*wec.f0) * np.dot(current_vec, volt_vec)\n",
      "/Users/cmichel/opt/anaconda3/envs/wecopttool/lib/python3.9/site-packages/autograd/tracer.py:48: RuntimeWarning: overflow encountered in multiply\n",
      "  return f_raw(*args, **kwargs)\n"
     ]
    },
    {
     "name": "stdout",
     "output_type": "stream",
     "text": [
      "132/231. m: 5.199999999999999, k:2.5, exit mode: 9, avg. power: nanW\n",
      "133/231. m: 1.0, k:3.0, exit mode: 0, avg. power: -23.873385828692765W\n",
      "134/231. m: 1.2, k:3.0, exit mode: 0, avg. power: -23.496775267455412W\n",
      "135/231. m: 1.4, k:3.0, exit mode: 0, avg. power: -23.118848556547565W\n",
      "136/231. m: 1.5999999999999999, k:3.0, exit mode: 0, avg. power: -22.74065085886498W\n",
      "137/231. m: 1.7999999999999998, k:3.0, exit mode: 0, avg. power: -22.36324769217479W\n",
      "138/231. m: 1.9999999999999998, k:3.0, exit mode: 0, avg. power: -21.98768726567842W\n",
      "139/231. m: 2.1999999999999997, k:3.0, exit mode: 0, avg. power: -21.614914806459858W\n",
      "140/231. m: 2.3999999999999995, k:3.0, exit mode: 0, avg. power: -21.245610300902676W\n",
      "141/231. m: 2.5999999999999996, k:3.0, exit mode: 0, avg. power: -20.8799286360152W\n",
      "142/231. m: 2.8, k:3.0, exit mode: 0, avg. power: -20.517171975823214W\n",
      "143/231. m: 2.9999999999999996, k:3.0, exit mode: 0, avg. power: -20.15555358437777W\n",
      "144/231. m: 3.1999999999999993, k:3.0, exit mode: 0, avg. power: -19.792405893087867W\n",
      "145/231. m: 3.3999999999999995, k:3.0, exit mode: 0, avg. power: -19.425266695371352W\n",
      "146/231. m: 3.5999999999999996, k:3.0, exit mode: 0, avg. power: -19.05401090640131W\n",
      "147/231. m: 3.7999999999999994, k:3.0, exit mode: 0, avg. power: -18.68409403397273W\n",
      "148/231. m: 3.999999999999999, k:3.0, exit mode: 0, avg. power: -18.335926867812685W\n"
     ]
    },
    {
     "name": "stderr",
     "output_type": "stream",
     "text": [
      "ERROR:wecopttool.core:Rank-deficient equality constraint subproblem HFTI    (Exit mode 7)\n"
     ]
    },
    {
     "name": "stdout",
     "output_type": "stream",
     "text": [
      "149/231. m: 4.199999999999999, k:3.0, exit mode: 7, avg. power: -6.263821703455703e+189W\n"
     ]
    },
    {
     "name": "stderr",
     "output_type": "stream",
     "text": [
      "ERROR:wecopttool.core:Rank-deficient equality constraint subproblem HFTI    (Exit mode 7)\n"
     ]
    },
    {
     "name": "stdout",
     "output_type": "stream",
     "text": [
      "150/231. m: 4.3999999999999995, k:3.0, exit mode: 7, avg. power: -2.4810271141211053e+237W\n"
     ]
    },
    {
     "name": "stderr",
     "output_type": "stream",
     "text": [
      "ERROR:wecopttool.core:Rank-deficient equality constraint subproblem HFTI    (Exit mode 7)\n"
     ]
    },
    {
     "name": "stdout",
     "output_type": "stream",
     "text": [
      "151/231. m: 4.6, k:3.0, exit mode: 7, avg. power: -2.2804259839599174e+291W\n"
     ]
    },
    {
     "name": "stderr",
     "output_type": "stream",
     "text": [
      "ERROR:wecopttool.core:Rank-deficient equality constraint subproblem HFTI    (Exit mode 7)\n"
     ]
    },
    {
     "name": "stdout",
     "output_type": "stream",
     "text": [
      "152/231. m: 4.799999999999999, k:3.0, exit mode: 7, avg. power: -4.0486274341954865e+278W\n"
     ]
    },
    {
     "name": "stderr",
     "output_type": "stream",
     "text": [
      "ERROR:wecopttool.core:Rank-deficient equality constraint subproblem HFTI    (Exit mode 7)\n"
     ]
    },
    {
     "name": "stdout",
     "output_type": "stream",
     "text": [
      "153/231. m: 4.999999999999999, k:3.0, exit mode: 7, avg. power: -4.0007221880886426e+290W\n"
     ]
    },
    {
     "name": "stderr",
     "output_type": "stream",
     "text": [
      "ERROR:wecopttool.core:Rank-deficient equality constraint subproblem HFTI    (Exit mode 7)\n"
     ]
    },
    {
     "name": "stdout",
     "output_type": "stream",
     "text": [
      "154/231. m: 5.199999999999999, k:3.0, exit mode: 7, avg. power: -2.7895874360779197e+284W\n",
      "155/231. m: 1.0, k:3.5, exit mode: 0, avg. power: -23.764882581905262W\n",
      "156/231. m: 1.2, k:3.5, exit mode: 0, avg. power: -23.38843216307033W\n",
      "157/231. m: 1.4, k:3.5, exit mode: 0, avg. power: -23.010862677336235W\n",
      "158/231. m: 1.5999999999999999, k:3.5, exit mode: 0, avg. power: -22.633214040732646W\n",
      "159/231. m: 1.7999999999999998, k:3.5, exit mode: 0, avg. power: -22.256544584472064W\n",
      "160/231. m: 1.9999999999999998, k:3.5, exit mode: 0, avg. power: -21.88189056936235W\n",
      "161/231. m: 2.1999999999999997, k:3.5, exit mode: 0, avg. power: -21.51017555999443W\n",
      "162/231. m: 2.3999999999999995, k:3.5, exit mode: 0, avg. power: -21.14204086608203W\n",
      "163/231. m: 2.5999999999999996, k:3.5, exit mode: 0, avg. power: -20.777577974501117W\n",
      "164/231. m: 2.8, k:3.5, exit mode: 0, avg. power: -20.41599945150742W\n",
      "165/231. m: 2.9999999999999996, k:3.5, exit mode: 0, avg. power: -20.05542129926274W\n",
      "166/231. m: 3.1999999999999993, k:3.5, exit mode: 0, avg. power: -19.69312232122279W\n",
      "167/231. m: 3.3999999999999995, k:3.5, exit mode: 0, avg. power: -19.326705430793062W\n",
      "168/231. m: 3.5999999999999996, k:3.5, exit mode: 0, avg. power: -18.956285976484327W\n",
      "169/231. m: 3.7999999999999994, k:3.5, exit mode: 0, avg. power: -18.58778763263729W\n",
      "170/231. m: 3.999999999999999, k:3.5, exit mode: 0, avg. power: -18.243079038408865W\n"
     ]
    },
    {
     "name": "stderr",
     "output_type": "stream",
     "text": [
      "ERROR:wecopttool.core:Rank-deficient equality constraint subproblem HFTI    (Exit mode 7)\n"
     ]
    },
    {
     "name": "stdout",
     "output_type": "stream",
     "text": [
      "171/231. m: 4.199999999999999, k:3.5, exit mode: 7, avg. power: -6.33633643492184e+189W\n"
     ]
    },
    {
     "name": "stderr",
     "output_type": "stream",
     "text": [
      "ERROR:wecopttool.core:Rank-deficient equality constraint subproblem HFTI    (Exit mode 7)\n"
     ]
    },
    {
     "name": "stdout",
     "output_type": "stream",
     "text": [
      "172/231. m: 4.3999999999999995, k:3.5, exit mode: 7, avg. power: -2.5857967172352774e+257W\n"
     ]
    },
    {
     "name": "stderr",
     "output_type": "stream",
     "text": [
      "ERROR:wecopttool.core:Rank-deficient equality constraint subproblem HFTI    (Exit mode 7)\n"
     ]
    },
    {
     "name": "stdout",
     "output_type": "stream",
     "text": [
      "173/231. m: 4.6, k:3.5, exit mode: 7, avg. power: -2.057224579807316e+243W\n"
     ]
    },
    {
     "name": "stderr",
     "output_type": "stream",
     "text": [
      "ERROR:wecopttool.core:Rank-deficient equality constraint subproblem HFTI    (Exit mode 7)\n"
     ]
    },
    {
     "name": "stdout",
     "output_type": "stream",
     "text": [
      "174/231. m: 4.799999999999999, k:3.5, exit mode: 7, avg. power: -1.462068186927067e+264W\n",
      "175/231. m: 4.999999999999999, k:3.5, exit mode: 9, avg. power: nanW\n"
     ]
    },
    {
     "name": "stderr",
     "output_type": "stream",
     "text": [
      "ERROR:wecopttool.core:Rank-deficient equality constraint subproblem HFTI    (Exit mode 7)\n"
     ]
    },
    {
     "name": "stdout",
     "output_type": "stream",
     "text": [
      "176/231. m: 5.199999999999999, k:3.5, exit mode: 7, avg. power: -1.8365863039034127e+293W\n",
      "177/231. m: 1.0, k:4.0, exit mode: 0, avg. power: -23.65658736900617W\n",
      "178/231. m: 1.2, k:4.0, exit mode: 0, avg. power: -23.280339688244908W\n",
      "179/231. m: 1.4, k:4.0, exit mode: 0, avg. power: -22.903167495781602W\n",
      "180/231. m: 1.5999999999999999, k:4.0, exit mode: 0, avg. power: -22.526105372930658W\n",
      "181/231. m: 1.7999999999999998, k:4.0, exit mode: 0, avg. power: -22.15020424363666W\n",
      "182/231. m: 1.9999999999999998, k:4.0, exit mode: 0, avg. power: -21.77648791271175W\n",
      "183/231. m: 2.1999999999999997, k:4.0, exit mode: 0, avg. power: -21.405857266438833W\n",
      "184/231. m: 2.3999999999999995, k:4.0, exit mode: 0, avg. power: -21.038913305568524W\n",
      "185/231. m: 2.5999999999999996, k:4.0, exit mode: 0, avg. power: -20.675681984807344W\n",
      "186/231. m: 2.8, k:4.0, exit mode: 0, avg. power: -20.315284655098786W\n",
      "187/231. m: 2.9999999999999996, k:4.0, exit mode: 0, avg. power: -19.95574103997334W\n",
      "188/231. m: 3.1999999999999993, k:4.0, exit mode: 0, avg. power: -19.59428260073411W\n",
      "189/231. m: 3.3999999999999995, k:4.0, exit mode: 0, avg. power: -19.228588825031014W\n",
      "190/231. m: 3.5999999999999996, k:4.0, exit mode: 0, avg. power: -18.859027905032864W\n",
      "191/231. m: 3.7999999999999994, k:4.0, exit mode: 0, avg. power: -18.49200706806164W\n",
      "192/231. m: 3.999999999999999, k:4.0, exit mode: 0, avg. power: -18.150982782393214W\n",
      "193/231. m: 4.199999999999999, k:4.0, exit mode: 9, avg. power: nanW\n"
     ]
    },
    {
     "name": "stderr",
     "output_type": "stream",
     "text": [
      "ERROR:wecopttool.core:Rank-deficient equality constraint subproblem HFTI    (Exit mode 7)\n"
     ]
    },
    {
     "name": "stdout",
     "output_type": "stream",
     "text": [
      "194/231. m: 4.3999999999999995, k:4.0, exit mode: 7, avg. power: -1.2950763084833466e+241W\n"
     ]
    },
    {
     "name": "stderr",
     "output_type": "stream",
     "text": [
      "ERROR:wecopttool.core:Rank-deficient equality constraint subproblem HFTI    (Exit mode 7)\n"
     ]
    },
    {
     "name": "stdout",
     "output_type": "stream",
     "text": [
      "195/231. m: 4.6, k:4.0, exit mode: 7, avg. power: -2.1809140478813176e+267W\n"
     ]
    },
    {
     "name": "stderr",
     "output_type": "stream",
     "text": [
      "ERROR:wecopttool.core:Rank-deficient equality constraint subproblem HFTI    (Exit mode 7)\n"
     ]
    },
    {
     "name": "stdout",
     "output_type": "stream",
     "text": [
      "196/231. m: 4.799999999999999, k:4.0, exit mode: 7, avg. power: -4.211260582509419e+266W\n"
     ]
    },
    {
     "name": "stderr",
     "output_type": "stream",
     "text": [
      "ERROR:wecopttool.core:Rank-deficient equality constraint subproblem HFTI    (Exit mode 7)\n"
     ]
    },
    {
     "name": "stdout",
     "output_type": "stream",
     "text": [
      "197/231. m: 4.999999999999999, k:4.0, exit mode: 7, avg. power: -4.450203140347921e+257W\n"
     ]
    },
    {
     "name": "stderr",
     "output_type": "stream",
     "text": [
      "ERROR:wecopttool.core:Rank-deficient equality constraint subproblem HFTI    (Exit mode 7)\n"
     ]
    },
    {
     "name": "stdout",
     "output_type": "stream",
     "text": [
      "198/231. m: 5.199999999999999, k:4.0, exit mode: 7, avg. power: -2.2753529794218115e+291W\n",
      "199/231. m: 1.0, k:4.5, exit mode: 0, avg. power: -23.548509606003478W\n",
      "200/231. m: 1.2, k:4.5, exit mode: 0, avg. power: -23.172506469737904W\n",
      "201/231. m: 1.4, k:4.5, exit mode: 0, avg. power: -22.795770849263995W\n",
      "202/231. m: 1.5999999999999999, k:4.5, exit mode: 0, avg. power: -22.419331902510415W\n",
      "203/231. m: 1.7999999999999998, k:4.5, exit mode: 0, avg. power: -22.044232922246973W\n",
      "204/231. m: 1.9999999999999998, k:4.5, exit mode: 0, avg. power: -21.6714847096468W\n",
      "205/231. m: 2.1999999999999997, k:4.5, exit mode: 0, avg. power: -21.301964427416376W\n",
      "206/231. m: 2.3999999999999995, k:4.5, exit mode: 0, avg. power: -20.936231075827326W\n",
      "207/231. m: 2.5999999999999996, k:4.5, exit mode: 0, avg. power: -20.574242920309093W\n",
      "208/231. m: 2.8, k:4.5, exit mode: 0, avg. power: -20.21502860601508W\n",
      "209/231. m: 2.9999999999999996, k:4.5, exit mode: 0, avg. power: -19.85651290865931W\n",
      "210/231. m: 3.1999999999999993, k:4.5, exit mode: 0, avg. power: -19.495886629974084W\n",
      "211/231. m: 3.3999999999999995, k:4.5, exit mode: 0, avg. power: -19.13091751228374W\n",
      "212/231. m: 3.5999999999999996, k:4.5, exit mode: 0, avg. power: -18.762238877846638W\n",
      "213/231. m: 3.7999999999999994, k:4.5, exit mode: 0, avg. power: -18.396757110163346W\n",
      "214/231. m: 3.999999999999999, k:4.5, exit mode: 0, avg. power: -18.059667418208683W\n"
     ]
    },
    {
     "name": "stderr",
     "output_type": "stream",
     "text": [
      "ERROR:wecopttool.core:Rank-deficient equality constraint subproblem HFTI    (Exit mode 7)\n"
     ]
    },
    {
     "name": "stdout",
     "output_type": "stream",
     "text": [
      "215/231. m: 4.199999999999999, k:4.5, exit mode: 7, avg. power: -6.241121101454782e+199W\n"
     ]
    },
    {
     "name": "stderr",
     "output_type": "stream",
     "text": [
      "ERROR:wecopttool.core:Rank-deficient equality constraint subproblem HFTI    (Exit mode 7)\n"
     ]
    },
    {
     "name": "stdout",
     "output_type": "stream",
     "text": [
      "216/231. m: 4.3999999999999995, k:4.5, exit mode: 7, avg. power: -2.983690562560801e+238W\n"
     ]
    },
    {
     "name": "stderr",
     "output_type": "stream",
     "text": [
      "ERROR:wecopttool.core:Rank-deficient equality constraint subproblem HFTI    (Exit mode 7)\n"
     ]
    },
    {
     "name": "stdout",
     "output_type": "stream",
     "text": [
      "217/231. m: 4.6, k:4.5, exit mode: 7, avg. power: -9.095108574104086e+266W\n"
     ]
    },
    {
     "name": "stderr",
     "output_type": "stream",
     "text": [
      "ERROR:wecopttool.core:Rank-deficient equality constraint subproblem HFTI    (Exit mode 7)\n"
     ]
    },
    {
     "name": "stdout",
     "output_type": "stream",
     "text": [
      "218/231. m: 4.799999999999999, k:4.5, exit mode: 7, avg. power: -1.9824180286931755e+281W\n"
     ]
    },
    {
     "name": "stderr",
     "output_type": "stream",
     "text": [
      "ERROR:wecopttool.core:Rank-deficient equality constraint subproblem HFTI    (Exit mode 7)\n"
     ]
    },
    {
     "name": "stdout",
     "output_type": "stream",
     "text": [
      "219/231. m: 4.999999999999999, k:4.5, exit mode: 7, avg. power: -6.755081700772003e+279W\n"
     ]
    },
    {
     "name": "stderr",
     "output_type": "stream",
     "text": [
      "ERROR:wecopttool.core:Rank-deficient equality constraint subproblem HFTI    (Exit mode 7)\n"
     ]
    },
    {
     "name": "stdout",
     "output_type": "stream",
     "text": [
      "220/231. m: 5.199999999999999, k:4.5, exit mode: 7, avg. power: -2.5716004437306762e+283W\n",
      "221/231. m: 1.0, k:5.0, exit mode: 0, avg. power: -23.440658495027545W\n",
      "222/231. m: 1.2, k:5.0, exit mode: 0, avg. power: -23.06494091538813W\n",
      "223/231. m: 1.4, k:5.0, exit mode: 0, avg. power: -22.68868034591421W\n",
      "224/231. m: 1.5999999999999999, k:5.0, exit mode: 0, avg. power: -22.312900466809825W\n",
      "225/231. m: 1.7999999999999998, k:5.0, exit mode: 0, avg. power: -21.938636670083508W\n",
      "226/231. m: 1.9999999999999998, k:5.0, exit mode: 0, avg. power: -21.56688616556395W\n",
      "227/231. m: 2.1999999999999997, k:5.0, exit mode: 0, avg. power: -21.198501326025053W\n",
      "228/231. m: 2.3999999999999995, k:5.0, exit mode: 0, avg. power: -20.833997394925028W\n",
      "229/231. m: 2.5999999999999996, k:5.0, exit mode: 0, avg. power: -20.47326283803923W\n",
      "230/231. m: 2.8, k:5.0, exit mode: 0, avg. power: -20.115232147780524W\n",
      "231/231. m: 2.9999999999999996, k:5.0, exit mode: 0, avg. power: -19.75773684904101W\n",
      "232/231. m: 3.1999999999999993, k:5.0, exit mode: 0, avg. power: -19.39793425499159W\n",
      "233/231. m: 3.3999999999999995, k:5.0, exit mode: 0, avg. power: -19.033692201882815W\n",
      "234/231. m: 3.5999999999999996, k:5.0, exit mode: 0, avg. power: -18.66592114942786W\n",
      "235/231. m: 3.7999999999999994, k:5.0, exit mode: 0, avg. power: -18.302042747113177W\n",
      "236/231. m: 3.999999999999999, k:5.0, exit mode: 0, avg. power: -17.969167388225806W\n"
     ]
    },
    {
     "name": "stderr",
     "output_type": "stream",
     "text": [
      "ERROR:wecopttool.core:Rank-deficient equality constraint subproblem HFTI    (Exit mode 7)\n"
     ]
    },
    {
     "name": "stdout",
     "output_type": "stream",
     "text": [
      "237/231. m: 4.199999999999999, k:5.0, exit mode: 7, avg. power: -5.702642477353965e+202W\n"
     ]
    },
    {
     "name": "stderr",
     "output_type": "stream",
     "text": [
      "ERROR:wecopttool.core:Rank-deficient equality constraint subproblem HFTI    (Exit mode 7)\n"
     ]
    },
    {
     "name": "stdout",
     "output_type": "stream",
     "text": [
      "238/231. m: 4.3999999999999995, k:5.0, exit mode: 7, avg. power: -2.2069574169572865e+227W\n"
     ]
    },
    {
     "name": "stderr",
     "output_type": "stream",
     "text": [
      "ERROR:wecopttool.core:Rank-deficient equality constraint subproblem HFTI    (Exit mode 7)\n"
     ]
    },
    {
     "name": "stdout",
     "output_type": "stream",
     "text": [
      "239/231. m: 4.6, k:5.0, exit mode: 7, avg. power: -4.819440801498869e+258W\n",
      "240/231. m: 4.799999999999999, k:5.0, exit mode: 9, avg. power: nanW\n"
     ]
    },
    {
     "name": "stderr",
     "output_type": "stream",
     "text": [
      "ERROR:wecopttool.core:Rank-deficient equality constraint subproblem HFTI    (Exit mode 7)\n"
     ]
    },
    {
     "name": "stdout",
     "output_type": "stream",
     "text": [
      "241/231. m: 4.999999999999999, k:5.0, exit mode: 7, avg. power: -2.146098562732078e+263W\n"
     ]
    },
    {
     "name": "stderr",
     "output_type": "stream",
     "text": [
      "ERROR:wecopttool.core:Rank-deficient equality constraint subproblem HFTI    (Exit mode 7)\n"
     ]
    },
    {
     "name": "stdout",
     "output_type": "stream",
     "text": [
      "242/231. m: 5.199999999999999, k:5.0, exit mode: 7, avg. power: -2.4233999647384268e+290W\n"
     ]
    }
   ],
   "source": [
    "# range over which to search\n",
    "r1 = drivetrain_stiffness_list\n",
    "r2 = drivetrain_inertia_list\n",
    "range_1 = slice(r1[0], r1[-1]+np.diff(r1)[0], np.diff(r1)[0])\n",
    "range_2 = slice(r2[0], r2[-1]+np.diff(r2)[0], np.diff(r2)[0])\n",
    "ranges = (range_1, range_2,)\n",
    "\n",
    "# solve\n",
    "res = brute(func=outer_opt, ranges=ranges, full_output=True,  finish=None)\n",
    "\n",
    "# TODO: Theoretical limit on inertia? Exit mode 7 when inertia=4.5, 5.0. Or select better scaling?\n"
   ]
  },
  {
   "cell_type": "markdown",
   "metadata": {},
   "source": [
    "### Plot"
   ]
  },
  {
   "cell_type": "code",
   "execution_count": 8,
   "metadata": {},
   "outputs": [],
   "source": [
    "# Plot optimization results (2D input...) \n",
    "\n",
    "\n",
    "# 3D surface\n",
    "\n",
    "\n",
    "# 2D colormap\n",
    "\n",
    "\n",
    "# 1D multiple lines (e.g. one for each inertia, line includes all stiffness, or vice-versa )\n"
   ]
  },
  {
   "cell_type": "markdown",
   "metadata": {},
   "source": [
    "## Run Optimal Case"
   ]
  },
  {
   "cell_type": "code",
   "execution_count": 9,
   "metadata": {},
   "outputs": [],
   "source": [
    "# Re-run the optimal case to get all the outputs. \n",
    "# Will compare to optimal result with PI controller."
   ]
  },
  {
   "cell_type": "code",
   "execution_count": 10,
   "metadata": {},
   "outputs": [],
   "source": [
    "# Plot results (wave elevation, PTO force/velocity/mech. power, PTO current/voltage/electric power)"
   ]
  }
 ],
 "metadata": {
  "interpreter": {
   "hash": "aee8b7b246df8f9039afb4144a1f6fd8d2ca17a180786b69acc140d282b71a49"
  },
  "kernelspec": {
   "display_name": "Python 3.9.10 64-bit",
   "language": "python",
   "name": "python3"
  },
  "language_info": {
   "codemirror_mode": {
    "name": "ipython",
    "version": 3
   },
   "file_extension": ".py",
   "mimetype": "text/x-python",
   "name": "python",
   "nbconvert_exporter": "python",
   "pygments_lexer": "ipython3",
   "version": "3.9.7"
  },
  "orig_nbformat": 4
 },
 "nbformat": 4,
 "nbformat_minor": 2
}
