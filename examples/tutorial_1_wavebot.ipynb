{
 "cells": [
  {
   "cell_type": "markdown",
   "metadata": {},
   "source": [
    "# Tutorial 1 - WaveBot\n",
    "The goal of this tutorial is to familiarize new users with how to set up and run optimization problems using WecOptTool. \n",
    "It uses a one-body WEC, the WaveBot, in one degree of freedom in regular waves. \n",
    "\n",
    "![WaveBot Photo](https://live.staticflickr.com/65535/51855905347_de87ccaaba_z.jpg)\n",
    "\n",
    "This tutorial covers three examples of increasing complexity:\n",
    "* [Example 1: Single-loop optimization for mechanical power](#Example-1:-Single-loop-optimization-for-mechanical-power)\n",
    "* [Example 2: Single-loop optimization for electrical power](#Example-2:-Single-loop-optimization-for-electrical-power)\n",
    "* [Example 3: Multi-loop optimization for electrical power](#Example-3:-Multi-loop-optimization-for-electrical-power)\n",
    "\n",
    "We will start by loading the necessary modules:\n",
    "\n",
    "* Import Autograd (wrapper on NumPy, required) for automatic differentiation\n",
    "* Import other packages we will use in this tutorial \n",
    "* Import WecOptTool "
   ]
  },
  {
   "cell_type": "code",
   "execution_count": null,
   "metadata": {},
   "outputs": [],
   "source": [
    "import autograd.numpy as np\n",
    "import capytaine as cpy\n",
    "import matplotlib.pyplot as plt\n",
    "import datetime\n",
    "\n",
    "# wecopttool\n",
    "import wecopttool as wot"
   ]
  },
  {
   "cell_type": "markdown",
   "metadata": {},
   "source": [
    "## Example 1: Single-loop optimization for mechanical power\n",
    "This example illustrates how to set up, run, and analyze a basic optimization problem within WecOptTool.\n",
    "\n",
    "The goal of this example is to **find the optimal PTO force time-series** that produce the most mechanical power subject to a maximum force the PTO can exert.\n",
    "\n",
    "WecOptTool requires the following to be defined to successfully run its optimization routines:\n",
    "- The WEC object, including all of its properties and constraints\n",
    "- The wave spectrum\n",
    "- The objective function\n",
    "\n",
    "### WEC object\n",
    "In this section we will create the `WEC` object, which contains all the information about the WEC and its dynamics. This constitutes the vast majority of the setup required to run WecOptTool.\n",
    "\n",
    "Our `WEC` object requires information about the mesh, degrees of freedom, mass and hydrostatic properties, linear hydrodynamic coefficients (from a BEM solution), any additional dynamic forces (e.g. PTO force, mooring, non-linear hydrodynamics), and constraints (e.g. maximum PTO extension). \n",
    "In this case, the only additional force will be the PTO force and the only constraint will be a maximum PTO force of $2000 N$.\n",
    "\n",
    "##### Mesh\n",
    "First, we will create a surface mesh for the hull and store it using the `FloatingBody` object from Capytaine. The WaveBot mesh is pre-defined in the `wecopttool.geom` module, so we will call it directly from there. We will only model the heave degree of freedom in this case. Note that the Capytaine `from_meshio` method can also import from other file types (STL, VTK, MSH, etc.)"
   ]
  },
  {
   "cell_type": "code",
   "execution_count": null,
   "metadata": {},
   "outputs": [],
   "source": [
    "wb = wot.geom.WaveBot()  # use standard dimensions\n",
    "mesh_size_factor = 0.5 # 1.0 for default, smaller to refine mesh\n",
    "mesh = wb.mesh(mesh_size_factor)\n",
    "fb = cpy.FloatingBody.from_meshio(mesh, name=\"WaveBot\")\n",
    "fb.add_translation_dof(name=\"Heave\")\n",
    "ndof = fb.nb_dofs"
   ]
  },
  {
   "cell_type": "markdown",
   "metadata": {},
   "source": [
    "Next we will add the mass and hydrostatic stiffness properties. \n",
    "If these values are known they can be added directly.\n",
    "Here we will use the fact that the WaveBot is free floating and assume constant density to calculate these properties, which Capytaine can natively perform with the `FloatingBody` created above. For convenience, this functionality has been wrapped in `wecopttool.hydrostatics`."
   ]
  },
  {
   "cell_type": "code",
   "execution_count": null,
   "metadata": {},
   "outputs": [],
   "source": [
    "stiffness = wot.hydrostatics.stiffness_matrix(fb).values\n",
    "mass = wot.hydrostatics.inertia_matrix(fb).values"
   ]
  },
  {
   "cell_type": "markdown",
   "metadata": {},
   "source": [
    "At this point we can visualize the mesh for inspection.\n",
    "Capytaine has built-in methods for visualizing meshes (`fb.show`, and `fb.show_matplotlib`). \n",
    "When running outside a Notebook, these are interactive.  \n",
    "The included WaveBot example also has a method for plotting the cross-section of the device. "
   ]
  },
  {
   "cell_type": "code",
   "execution_count": null,
   "metadata": {},
   "outputs": [],
   "source": [
    "fb.show_matplotlib()\n",
    "_ = wb.plot_cross_section(show=True)  # specific to WaveBot"
   ]
  },
  {
   "cell_type": "markdown",
   "metadata": {},
   "source": [
    "##### BEM\n",
    "With our Capytaine floating body created, we can now run the Boundary Element Method solver in Capytaine to get the hydrostatic and hydrodynamic coefficients of our WEC object.This is wrapped into the `wecopttool.run_bem` function.\n",
    "\n",
    "We will analyze 50 frequencies with a spacing of 0.05 Hz. These frequencies will be used for the Fourier representation of both the wave and the desired PTO force in the pseudo-spectral problem. See the Theory section of the Documentation for more details on the pseudo-spectral problem formulation.\n",
    "\n",
    "If you would like to save our BEM data to a NetCDF file for future use, see the `wecopttool.write_netcdf` function."
   ]
  },
  {
   "cell_type": "code",
   "execution_count": null,
   "metadata": {},
   "outputs": [],
   "source": [
    "f1 = 0.05\n",
    "nfreq = 50\n",
    "freq = wot.frequency(f1, nfreq, False) # False -> no zero frequency\n",
    "\n",
    "bem_data = wot.run_bem(fb, freq)"
   ]
  },
  {
   "cell_type": "markdown",
   "metadata": {},
   "source": [
    "##### PTO\n",
    "WecOptTool includes the `PTO` class to encompass all properties of the power take-off system of the WEC. Data wrapped into our `PTO` class will be used to help define our `WEC` object and optimization problem later.\n",
    "\n",
    "To create an instance of the `PTO` class, we need:\n",
    "- The kinematics matrix, which converts from the WEC degrees of freedom to the PTO degrees of freedom. The PTO extracts power directly from the WEC's heave in this case, so the kinematics matrix is simply the $1 \\times 1$ identity matrix.\n",
    "- The definition of the PTO controller. The `wecopttool.pto` submodule includes P, PI, and PID controller functions that can be provided to the `PTO` class and return the PTO force. However, we will be using an unstructured controller in this case, so we will set `None` for the controller.\n",
    "- Any PTO impedance. We're only interested in mechanical power for this first problem, so we will leave this empty for now\n",
    "- The power conversion efficiency (assumed 100% if `None`)\n",
    "- The PTO system name, if desired"
   ]
  },
  {
   "cell_type": "code",
   "execution_count": null,
   "metadata": {},
   "outputs": [],
   "source": [
    "name = [\"PTO_Heave\",]\n",
    "kinematics = np.eye(ndof)\n",
    "controller = None\n",
    "efficiency = None\n",
    "pto_impedance = None\n",
    "pto = wot.pto.PTO(ndof, kinematics, controller, pto_impedance, efficiency, name)"
   ]
  },
  {
   "cell_type": "markdown",
   "metadata": {},
   "source": [
    "Now let's define the PTO forcing on the WEC and the PTO constraints. For our optimization problem, the constraints must be in the correct format for `scipy.optimize.minimize()`. We will enforce the constraint at 4 times more points than the dynamics (see Theory for why this is helpful for the pseudo-spectral problem)."
   ]
  },
  {
   "cell_type": "code",
   "execution_count": null,
   "metadata": {},
   "outputs": [],
   "source": [
    "# PTO dynamics forcing function\n",
    "f_add = {'PTO': pto.force_on_wec}\n",
    "\n",
    "# Constraint\n",
    "f_max = 2000.0\n",
    "nsubsteps = 4\n",
    "\n",
    "def const_f_pto(wec, x_wec, x_opt, waves): # Format for scipy.optimize.minimize\n",
    "    f = pto.force_on_wec(wec, x_wec, x_opt, nsubsteps)\n",
    "    return f_max - np.abs(f.flatten())\n",
    "\n",
    "ineq_cons = {'type': 'ineq',\n",
    "             'fun': const_f_pto,\n",
    "             }\n",
    "constraints = [ineq_cons]"
   ]
  },
  {
   "cell_type": "markdown",
   "metadata": {},
   "source": [
    "##### `WEC` creation\n",
    "We are now ready to create the `WEC` object itself! Since we ran our BEM already, we can define the object using the `wecopttool.WEC.from_bem` function. If we saved our BEM data to a NetCDF file, we can also provide the path to that file instead of specifying the BEM `Dataset` directly."
   ]
  },
  {
   "cell_type": "code",
   "execution_count": null,
   "metadata": {},
   "outputs": [],
   "source": [
    "wec = wot.WEC.from_bem(bem_data,\n",
    "                    inertia_matrix=mass,\n",
    "                    hydrostatic_stiffness=stiffness,\n",
    "                    constraints=constraints,\n",
    "                    friction=None,\n",
    "                    f_add=f_add,\n",
    "                    )"
   ]
  },
  {
   "cell_type": "markdown",
   "metadata": {},
   "source": [
    "### Waves\n",
    "The wave environment must be specified as an `xarray.Dataset` containing two 2-dimensional `xarray.DataArray`: (1) the amplitude spectrum  magnitude ``S``\n",
    "(m^2*s) and (2) the phase ``phase`` (rad). \n",
    "The two coordinates are the wave frequency ``omega`` (rad/s)  and the direction ``wave_direction`` (rad). \n",
    "The `wecopttool.waves` submodule contains functions for creating this `xarray.Dataset` for different types of wave environments. \n",
    "\n",
    "In this case we will use a regular wave with a frequency of 0.3 Hz and an amplitude of 0.0625 m. \n",
    "We will use the `wecopttool.waves.regular_wave` function. \n",
    "\n",
    "Now we may create a regular wave using the `wecopttool.waves` submodule. In this case, we will use a wave with a frequency of 0.3 Hz and an amplitude of 0.0625 m."
   ]
  },
  {
   "cell_type": "code",
   "execution_count": null,
   "metadata": {},
   "outputs": [],
   "source": [
    "amplitude = 0.0625  \n",
    "wavefreq = 0.3\n",
    "phase = 30\n",
    "wavedir = 0\n",
    "waves = wot.waves.regular_wave(f1, nfreq, wavefreq, amplitude, phase, wavedir)"
   ]
  },
  {
   "cell_type": "markdown",
   "metadata": {},
   "source": [
    "### Objective function\n",
    "The objective function is the quantity (scalar) we want to optimize -- in this case, the average mechanical power. The objective function is itself a function of the optimization state, the size of which we need to properly bound our call to `scipy.optimize.minimize()`. The average mechanical power can be taken directly from the `PTO` object we created:"
   ]
  },
  {
   "cell_type": "code",
   "execution_count": null,
   "metadata": {},
   "outputs": [],
   "source": [
    "obj_fun = pto.mechanical_average_power\n",
    "nstate_opt = 2*nfreq+1"
   ]
  },
  {
   "cell_type": "markdown",
   "metadata": {},
   "source": [
    "### Solve\n",
    "We are now ready to solve the problem. WecOptTool uses `scipy.optimize.minimize` as its optimization driver, which is wrapped into `wecopttool.WEC.solve` for ease of use.\n",
    "\n",
    "Note that the only required inputs for defining and solving the problem are: (1) the waves, (2) the objective function, and (3) the size of the optimization state. Optional inputs can be provided to control the optimization execution if desired, which we do here to change the default iteration maximum and tolerance. See `scipy.optimize.minimize` docs for more details.\n",
    "\n",
    " `solve` returns the frequency and time domain response of the WEC, with the optimal value of our objective function returned in the third output, `results`.\n",
    "\n",
    "Pay attention to the `Exit mode`: an exit mode of $0$ indicates a successful solution.\n",
    "\n",
    "`results` also contains the raw optimized state (i.e. the optimal PTO force Fourier coefficients), which we can postprocess into quantities of interest using the `wecopttool.pto.post_process` function."
   ]
  },
  {
   "cell_type": "code",
   "execution_count": null,
   "metadata": {},
   "outputs": [],
   "source": [
    "options = {'maxiter': 1000}\n",
    "wec_fdom, wec_tdom, results = wec.solve(\n",
    "    waves, \n",
    "    obj_fun, \n",
    "    nstate_opt,\n",
    "    optim_options=options,\n",
    "    )\n",
    "opt_mechanical_average_power = results.fun\n",
    "print(f'Optimal average mechanical power: {opt_mechanical_average_power} W')\n",
    "\n",
    "pto_fdom, pto_tdom = pto.post_process(wec, results, waves)"
   ]
  },
  {
   "cell_type": "markdown",
   "metadata": {},
   "source": [
    "### Analyzing results\n",
    "The `pto.post_process` function returns `xarray.Dataset`s, which have built-in integration with PyPlot for smart plotting that automagically sets titles and formatting. We will query the `mech_power` variable here since it is our variable of interest, but `pos`, `vel`, `acc`, `force`, and (electrical) `power` are also available."
   ]
  },
  {
   "cell_type": "code",
   "execution_count": null,
   "metadata": {},
   "outputs": [],
   "source": [
    "plt.figure()\n",
    "pto_tdom['mech_power'].plot()"
   ]
  },
  {
   "cell_type": "markdown",
   "metadata": {},
   "source": [
    "This plot is a bit coarse -- let's rerun `pto.post_process` with finer substeps to get a smoother plot. We should make sure our substeps match that of our PTO constraint."
   ]
  },
  {
   "cell_type": "code",
   "execution_count": null,
   "metadata": {},
   "outputs": [],
   "source": [
    "pto_fdom_fine, pto_tdom_fine = pto.post_process(wec, results, waves, nsubsteps=nsubsteps)\n",
    "plt.figure()\n",
    "pto_tdom_fine['mech_power'].plot()"
   ]
  },
  {
   "cell_type": "markdown",
   "metadata": {},
   "source": [
    "Finally, let's look at the velocity of the WEC with the optimal PTO mechanical power. The `wec_fdom` and `wec_tdom` results can access the same variables as `pto_fdom` and `pto_tdom` except for `power` and `mech_power`. We can also create the same finer plot by calling `wec.post_process` (note that this `post_process` is a class function of `WEC` this time, _not_ from the `pto` module!)"
   ]
  },
  {
   "cell_type": "code",
   "execution_count": null,
   "metadata": {},
   "outputs": [],
   "source": [
    "wec_fdom_fine, wec_tdom_fine = wec.post_process(waves, results, nsubsteps=nsubsteps)\n",
    "plt.figure()\n",
    "wec_tdom_fine['vel'].plot()"
   ]
  },
  {
   "cell_type": "markdown",
   "metadata": {},
   "source": [
    "## Example 2: Single-loop optimization for electrical power"
   ]
  },
  {
   "cell_type": "markdown",
   "metadata": {},
   "source": [
    "Example 2 (as well as all following examples and tutorials) will focus on optimizing for electrical power rather than mechanical, as this is how WecOptTool is best used.\n",
    "\n",
    "Since we're still dealing with the same WaveBot as Example 1, we can reuse the BEM and wave data from before. Look back at Example 1 if you need a refresher on how to create these data.\n",
    "\n",
    "First, let's add a definition of the PTO impedance."
   ]
  },
  {
   "cell_type": "code",
   "execution_count": null,
   "metadata": {},
   "outputs": [],
   "source": [
    "## PTO impedance definition\n",
    "omega = bem_data.omega.values\n",
    "gear_ratio = 12.0\n",
    "torque_constant = 6.7\n",
    "winding_resistance = 0.5\n",
    "winding_inductance = 0.0\n",
    "drivetrain_inertia = 2.0\n",
    "drivetrain_friction = 1.0\n",
    "drivetrain_stiffness = 0.0\n",
    "\n",
    "drivetrain_impedance = (1j*omega*drivetrain_inertia + \n",
    "                        drivetrain_friction + \n",
    "                        1/(1j*omega)*drivetrain_stiffness) \n",
    "\n",
    "winding_impedance = winding_resistance + 1j*omega*winding_inductance\n",
    "\n",
    "\n",
    "pto_impedance_11 = -1* gear_ratio**2 * drivetrain_impedance\n",
    "off_diag = np.sqrt(3.0/2.0) * torque_constant * gear_ratio\n",
    "pto_impedance_12 = -1*(off_diag+0j) * np.ones(omega.shape) \n",
    "pto_impedance_21 = -1*(off_diag+0j) * np.ones(omega.shape)\n",
    "pto_impedance_22 = winding_impedance\n",
    "pto_impedance_ex2 = np.array([[pto_impedance_11, pto_impedance_12],\n",
    "                        [pto_impedance_21, pto_impedance_22]])"
   ]
  },
  {
   "cell_type": "markdown",
   "metadata": {},
   "source": [
    "Next, we will create a new `PTO` object with this impedance matrix. We will also need to update the definitions of our PTO constraint and additional dynamic forcing function to use the new object. We will set our PTO constraint to $800 N$ for this example."
   ]
  },
  {
   "cell_type": "code",
   "execution_count": null,
   "metadata": {},
   "outputs": [],
   "source": [
    "## Update PTO\n",
    "name_ex2 = ['PTO_Heave_Ex2']\n",
    "pto_ex2 = wot.pto.PTO(ndof, kinematics, controller, pto_impedance_ex2, efficiency, name_ex2)\n",
    "\n",
    "## Update PTO constraints and forcing\n",
    "f_max_ex2 = 800.0\n",
    "def const_f_pto_ex2(wec, x_wec, x_opt, waves):\n",
    "    f = pto_ex2.force_on_wec(wec, x_wec, x_opt, nsubsteps)\n",
    "    return f_max_ex2 - np.abs(f.flatten())\n",
    "ineq_cons_ex2 = {'type': 'ineq', 'fun': const_f_pto_ex2}\n",
    "constraints_ex2 = [ineq_cons_ex2]\n",
    "f_add_ex2 = {'PTO': pto_ex2.force_on_wec}"
   ]
  },
  {
   "cell_type": "markdown",
   "metadata": {},
   "source": [
    "Finally, let's update our `WEC` object with a constant dissipation value and the new PTO constraint, then run our optimization problem. Note we're now using `average_power` instead of `mechanical_average_power` as our objective function."
   ]
  },
  {
   "cell_type": "code",
   "execution_count": null,
   "metadata": {},
   "outputs": [],
   "source": [
    "# Update WEC\n",
    "dissipation = np.array([[160.3]])\n",
    "wec_ex2 = wot.WEC.from_bem(bem_data,\n",
    "                           inertia_matrix=mass,\n",
    "                           hydrostatic_stiffness=stiffness,\n",
    "                           constraints=constraints_ex2,\n",
    "                           friction=dissipation,\n",
    "                           f_add=f_add_ex2)\n",
    "\n",
    "# Update objective function\n",
    "obj_fun_ex2 = pto_ex2.average_power\n",
    "\n",
    "# Solve\n",
    "wec_fdom_ex2, wec_tdom_ex2, results_ex2 = wec_ex2.solve(\n",
    "    waves, \n",
    "    obj_fun_ex2, \n",
    "    nstate_opt, \n",
    "    )\n",
    "opt_average_power = results_ex2.fun\n",
    "print(f'Optimal average electrical power: {opt_average_power} W')\n",
    "pto_fdom_ex2, pto_tdom_ex2 = pto_ex2.post_process(wec_ex2, results_ex2, waves)"
   ]
  },
  {
   "cell_type": "markdown",
   "metadata": {},
   "source": [
    "We will compare our optimal results to the unconstrained case to gain some insight into the effect of the constraint on the optimal PTO force. Let's do the same process as before, but unset the `constraints` parameter in a new `WEC` object."
   ]
  },
  {
   "cell_type": "code",
   "execution_count": null,
   "metadata": {},
   "outputs": [],
   "source": [
    "wec_ex2_nocon = wot.WEC.from_bem(bem_data,\n",
    "                           inertia_matrix=mass,\n",
    "                           hydrostatic_stiffness=stiffness,\n",
    "                           constraints=None,\n",
    "                           friction=dissipation,\n",
    "                           f_add=f_add_ex2)\n",
    "\n",
    "wec_fdom_ex2_nocon, wec_tdom_ex2_nocon, results_ex2_nocon = wec_ex2_nocon.solve(\n",
    "    waves, \n",
    "    obj_fun_ex2, \n",
    "    nstate_opt, \n",
    "    )\n",
    "opt_average_power = results_ex2_nocon.fun\n",
    "print(f'Optimal average electrical power: {opt_average_power} W')\n",
    "pto_fdom_ex2_nocon, pto_tdom_ex2_nocon = pto_ex2.post_process(wec_ex2_nocon,\n",
    "                                                              results_ex2_nocon,\n",
    "                                                              waves)"
   ]
  },
  {
   "cell_type": "markdown",
   "metadata": {},
   "source": [
    "Note that the optimal constrained PTO force follows the optimal unconstrained solution (sinusoidal) whenever the unconstrained solution is within the constraint. \n",
    "When the constraint is active the optimal PTO force is the maximum PTO force of $800 N$."
   ]
  },
  {
   "cell_type": "code",
   "execution_count": null,
   "metadata": {},
   "outputs": [],
   "source": [
    "plt.figure()\n",
    "wec_tdom_ex2['pos'].plot(label='constrained')\n",
    "wec_tdom_ex2_nocon['pos'].plot(label='unconstrained')\n",
    "plt.legend(loc='lower right')\n",
    "\n",
    "plt.figure()\n",
    "pto_tdom_ex2['force'].plot(label='constrained')\n",
    "pto_tdom_ex2_nocon['force'].plot(label='unconstrained')\n",
    "plt.legend(loc='lower right')\n",
    "\n",
    "plt.figure()\n",
    "pto_tdom_ex2['power'].plot(label='constrained')\n",
    "pto_tdom_ex2_nocon['power'].plot(label='unconstrained')\n",
    "plt.legend(loc='lower right')"
   ]
  },
  {
   "cell_type": "markdown",
   "metadata": {},
   "source": [
    "## Example 3: Multi-loop optimization for electrical power\n",
    "The first two examples only used the inner optimization loop in WecOptTool to optimize PTO power. The goal of Example 3 is to show how to use both the inner and outer optimization loops in WecOptTool to do a hull design optimization.\n",
    "Like the first tutorial, it uses the WaveBot WEC in one degree of freedom in regular waves. \n",
    "The goal is to **find the optimal keel radius** (`r2`) that maximizes the average absorbed power, while maintaining a constant volume. \n",
    "A constant volume is achieved by setting the height of the conical section (`h2`) in conjunction with the keel radius (`r2`).\n",
    "\n",
    "This example demonstrates a complete case of the types of optimization studies WecOptTool is meant for. \n",
    "The main optimization (outer optimization loop) is to find the optimal geometry (radius `r2`), and for each geometry considered the optimal PTO force (inner optimization loop) will be found.\n",
    "The inner loop was showcased in Example 2 and uses a gradient-based optimization method, with the gradients obtained with automatic differentiation. \n",
    "The outer loop optimization is for the user to setup. \n",
    "Note however that automatic differentiation is not an option due to the presence of the inner optimization loop. \n",
    "In this example, we will do a simple *brute force* optimization using `scipy.optimize.brute`.  \n",
    "\n",
    "![Device Diagram](https://live.staticflickr.com/65535/51751577441_515afec334_z.jpg)"
   ]
  },
  {
   "cell_type": "markdown",
   "metadata": {},
   "source": [
    "## Problem setup\n",
    "First, we define a function for `h2` based on `r1` that maintains a constant volume. \n",
    "We see that, as expected, smaller values of `r2` require larger values of `h2` in order to maintain a constant hull volume."
   ]
  },
  {
   "cell_type": "code",
   "execution_count": null,
   "metadata": {},
   "outputs": [],
   "source": [
    "from datetime import datetime\n",
    "from scipy.optimize import brute\n",
    "\n",
    "r1 = 0.88\n",
    "r2_0 = 0.35\n",
    "h2_0 = 0.37\n",
    "V0 = 1/3*np.pi*h2_0*(r1**2+r2_0**2+(r1*r2_0))\n",
    "\n",
    "r2_vals = np.linspace(0.05, 0.88*0.999, 8, endpoint=True)\n",
    "\n",
    "\n",
    "def h2_from_r2(r2, V=V0, r1=r1):\n",
    "    h2 = V/(1/3*np.pi*(r1**2+r2**2+(r1*r2)))\n",
    "    return h2\n",
    "\n",
    "\n",
    "# plot\n",
    "mapres = map(h2_from_r2, r2_vals)\n",
    "h2_vals = list(mapres)\n",
    "\n",
    "fig1, ax1 = plt.subplots(figsize=(8,5))\n",
    "for r2, h2 in zip(r2_vals.tolist(), h2_vals):\n",
    "    _ = wot.geom.WaveBot(r2=r2, h2=h2, freeboard=0.2).plot_cross_section(\n",
    "        ax=ax1, label=f\"r2={r2:.2f}, h2={h2:.2f}\")\n",
    "ax1.legend(loc='best', fontsize='small',ncol=2)\n",
    "_ = ax1.set_title('WaveBot hull cross-sections')\n"
   ]
  },
  {
   "cell_type": "markdown",
   "metadata": {},
   "source": [
    "Next we will define an objective function for our design optimization problem. We use the same workflow illustrated in Examples 1 and 2 to set up a WaveBot device and solve for the optimal solution, but wrap this in a function definition which can set `r2` and (indirectly) `h2`."
   ]
  },
  {
   "cell_type": "code",
   "execution_count": null,
   "metadata": {},
   "outputs": [],
   "source": [
    "def design_obj_fun(x):\n",
    "\n",
    "    # Unpack geometry variables\n",
    "    r2 = x[0]\n",
    "    h2 = h2_from_r2(r2)\n",
    "    print(f\"\\nr2 = {r2:.2f}:\")\n",
    "\n",
    "    # Set up Capytaine floating body\n",
    "    wb = wot.geom.WaveBot(r2=r2, h2=h2)\n",
    "    mesh = wb.mesh(mesh_size_factor=0.5)\n",
    "    fb = cpy.FloatingBody.from_meshio(mesh, name=\"WaveBot\")\n",
    "    fb.add_translation_dof(name=\"Heave\")\n",
    "    ndof = fb.nb_dofs\n",
    "\n",
    "    # Run BEM\n",
    "    f1 = 0.05\n",
    "    nfreq = 50\n",
    "    bem_data = wot.run_bem(fb, freq)\n",
    "\n",
    "    # Mass & hydrostatic stiffness\n",
    "    stiffness = wot.hydrostatics.stiffness_matrix(fb).values\n",
    "    mass = wot.hydrostatics.inertia_matrix(fb).values\n",
    "\n",
    "    # Impedance definition\n",
    "    omega = bem_data.omega.values\n",
    "    gear_ratio = 12.0\n",
    "    torque_constant = 6.7\n",
    "    winding_resistance = 0.5\n",
    "    winding_inductance = 0.0\n",
    "    drivetrain_inertia = 2.0\n",
    "    drivetrain_friction = 1.0\n",
    "    drivetrain_stiffness = 0.0\n",
    "\n",
    "    drivetrain_impedance = (1j*omega*drivetrain_inertia + \n",
    "                            drivetrain_friction + \n",
    "                            1/(1j*omega)*drivetrain_stiffness) \n",
    "\n",
    "    winding_impedance = winding_resistance + 1j*omega*winding_inductance\n",
    "\n",
    "\n",
    "    pto_impedance_11 = -1* gear_ratio**2 * drivetrain_impedance\n",
    "    off_diag = np.sqrt(3.0/2.0) * torque_constant * gear_ratio\n",
    "    pto_impedance_12 = -1*(off_diag+0j) * np.ones(omega.shape) \n",
    "    pto_impedance_21 = -1*(off_diag+0j) * np.ones(omega.shape)\n",
    "    pto_impedance_22 = winding_impedance\n",
    "    pto_impedance = np.array([[pto_impedance_11, pto_impedance_12],\n",
    "                            [pto_impedance_21, pto_impedance_22]])\n",
    "\n",
    "    # Set PTO object\n",
    "    name = [\"PTO_Heave\",]\n",
    "    kinematics = np.eye(ndof)\n",
    "    efficiency = None\n",
    "    controller = None\n",
    "    pto = wot.pto.PTO(ndof, kinematics, controller, None, efficiency, name)\n",
    "\n",
    "    # Set PTO constraint and additional dynamic force\n",
    "    nsubsteps = 4\n",
    "    f_max = 2000.0\n",
    "\n",
    "    def const_f_pto(wec, x_wec, x_opt, waves):\n",
    "        f = pto.force_on_wec(wec, x_wec, x_opt, nsubsteps)\n",
    "        return f_max - np.abs(f.flatten())\n",
    "\n",
    "    ineq_cons = {'type': 'ineq', 'fun': const_f_pto}\n",
    "    constraints = [ineq_cons]\n",
    "\n",
    "    f_add = {'PTO': pto.force_on_wec}\n",
    "\n",
    "    # Create WEC\n",
    "    wec = wot.WEC.from_bem(bem_data,\n",
    "            inertia_matrix=mass,\n",
    "            hydrostatic_stiffness=stiffness,\n",
    "            constraints=constraints,\n",
    "            friction=None, #160.3\n",
    "            f_add=f_add,\n",
    "            )\n",
    "\n",
    "    # Waves\n",
    "    wfreq = 0.6\n",
    "    amplitude = 0.0625\n",
    "    phase = -40\n",
    "    waves = wot.waves.regular_wave(f1, nfreq, wfreq, amplitude, phase)\n",
    "\n",
    "    # Objective function\n",
    "    obj_fun = pto.average_power\n",
    "    ncomponents_pto = 2*nfreq+1\n",
    "\n",
    "    # Solve\n",
    "    scale_x_opt = 1\n",
    "    res_fd, res_td, res = wec.solve(\n",
    "        waves, obj_fun, ncomponents_pto, scale_x_opt=scale_x_opt)\n",
    "\n",
    "    return res.fun\n"
   ]
  },
  {
   "cell_type": "markdown",
   "metadata": {},
   "source": [
    "## Solve\n",
    "Finally, we may call this objective function with an optimization algorithm. \n",
    "Here, a simple *brute force* optimization approach is used for illustrative purposes, but any variety of options could be applied. \n",
    "The optimization algorithm will call our objective function, which in turn will create a new WaveBot hull, run the necessary BEM calculations for the hull, and find the PTO force that provides the most absorbed power for that hull. \n",
    "This process will be conducted for the range of `r2` values that we specify.\n",
    "\n",
    "_(note: the cell below will likely take 5+ minutes to run on a standard personal computer)_"
   ]
  },
  {
   "cell_type": "code",
   "execution_count": null,
   "metadata": {},
   "outputs": [],
   "source": [
    "# range over which to search\n",
    "ranges = (slice(r2_vals[0], r2_vals[-1]+np.diff(r2_vals)[0], np.diff(r2_vals)[0]),)\n",
    "\n",
    "# solve\n",
    "opt_x0, opt_fval, x0s, fvals = brute(func=design_obj_fun, ranges=ranges, full_output=True,  finish=None)"
   ]
  },
  {
   "cell_type": "markdown",
   "metadata": {},
   "source": [
    "## Results\n",
    "From a quick plot of the results, we see that the power absorption (where negative power is power absorbed by the device) generally improves for smaller values of `r2`.\n",
    "It is also clear that when the WEC is cylindrical (where `r2=0.88`), power absorption is reduced."
   ]
  },
  {
   "cell_type": "code",
   "execution_count": null,
   "metadata": {},
   "outputs": [],
   "source": [
    "fig, ax = plt.subplots()\n",
    "colors = plt.rcParams['axes.prop_cycle'].by_key()['color'][:len(x0s)]\n",
    "ax.plot(x0s, fvals, 'k', zorder=0)\n",
    "ax.scatter(x0s, fvals, c=colors, zorder=1)\n",
    "\n",
    "ax.set_xlabel('Keel radius, $r_2$ [m]')\n",
    "ax.set_ylabel('Average Power [W]')\n",
    "ax.set_title('Design optimization results')\n",
    "fig.tight_layout()"
   ]
  }
 ],
 "metadata": {
  "kernelspec": {
   "display_name": "Python 3.9.13 ('wecopttool')",
   "language": "python",
   "name": "python3"
  },
  "language_info": {
   "codemirror_mode": {
    "name": "ipython",
    "version": 3
   },
   "file_extension": ".py",
   "mimetype": "text/x-python",
   "name": "python",
   "nbconvert_exporter": "python",
   "pygments_lexer": "ipython3",
   "version": "3.9.13"
  },
  "orig_nbformat": 4,
  "vscode": {
   "interpreter": {
    "hash": "e1061e7e7d947ef5fe5cd8ec1b5b8139db00305378c032d9cd9a04181a3d6b1b"
   }
  }
 },
 "nbformat": 4,
 "nbformat_minor": 2
}
