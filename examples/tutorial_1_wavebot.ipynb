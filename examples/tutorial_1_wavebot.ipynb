{
 "cells": [
  {
   "cell_type": "markdown",
   "metadata": {},
   "source": [
    "# Tutorial 1\n",
    "This tutorial uses the WaveBot geometry in degree of freedom in regular waves. \n",
    "The goal is to find the optimal PTO force time-series to produce the most energy subject to a maximum force the PTO can excert.\n",
    "\n",
    "First we will start by loading the neccessary modules and creating a save directory.\n",
    "\n",
    "* Set the logging level (optional) to control the ammount of information printed to the screen\n",
    "* Import Autograd (wrapper on NumPy, required) for automatic differentiation\n",
    "* Import other packages we will use in this tutorial \n",
    "* Import WecOptTool \n",
    "* Create the Save directory if it doesn't exist\n"
   ]
  },
  {
   "cell_type": "code",
   "execution_count": 1,
   "metadata": {},
   "outputs": [],
   "source": [
    "# logging\n",
    "import logging\n",
    "logging.basicConfig(level=logging.INFO)\n",
    "\n",
    "# autograd (derivatives)\n",
    "import autograd.numpy as np\n",
    "from autograd.builtins import isinstance, tuple, list, dict\n",
    "\n",
    "# other packages\n",
    "import os\n",
    "\n",
    "import capytaine as cpy\n",
    "import matplotlib.pyplot as plt\n",
    "\n",
    "\n",
    "# wecopttool\n",
    "import wecopttool as wot\n",
    "\n",
    "# create save directory\n",
    "results_dir = 'results_tutorial_1'\n",
    "if not os.path.exists(results_dir):\n",
    "  os.makedirs(results_dir)"
   ]
  },
  {
   "cell_type": "markdown",
   "metadata": {},
   "source": [
    "* Create the WaveBot mesh:"
   ]
  },
  {
   "cell_type": "code",
   "execution_count": 2,
   "metadata": {},
   "outputs": [],
   "source": [
    "wb = wot.geom.WaveBot()  # use standard dimensions\n",
    "mesh_size_factor = 0.5\n",
    "mesh = wb.mesh(mesh_size_factor) "
   ]
  },
  {
   "cell_type": "markdown",
   "metadata": {},
   "source": [
    "* Create a Capytaine floating body (mesh + DOFs). We will only model the HEAVE DOF."
   ]
  },
  {
   "cell_type": "code",
   "execution_count": 3,
   "metadata": {},
   "outputs": [
    {
     "name": "stderr",
     "output_type": "stream",
     "text": [
      "INFO:capytaine.bodies.bodies:Stored 1054 triangle faces as quadrilaterals\n",
      "INFO:capytaine.bodies.bodies:New floating body: WaveBot.\n"
     ]
    }
   ],
   "source": [
    "fb = cpy.FloatingBody.from_meshio(mesh, name=\"WaveBot\")\n",
    "fb.add_translation_dof(name=\"HEAVE\")"
   ]
  },
  {
   "cell_type": "markdown",
   "metadata": {},
   "source": [
    "* Change the density from default sea water to fresh water\n",
    "* Create the mass and hydrostatic stiffness matrices. Since this is a 1 DOF problem these matrices are 1x1. We will use helper fnuctions in the `wecopttool.hydrostatics` submodule to do this."
   ]
  },
  {
   "cell_type": "code",
   "execution_count": 4,
   "metadata": {},
   "outputs": [],
   "source": [
    "rho = 1000.0\n",
    "\n",
    "hs_data = wot.hydrostatics.hydrostatics(fb, rho=rho)\n",
    "mass_33 = wot.hydrostatics.mass_matrix_constant_density(hs_data)[2, 2]\n",
    "mass = np.atleast_2d(mass_33)\n",
    "stiffness_33 = wot.hydrostatics.stiffness_matrix(hs_data)[2, 2]\n",
    "stiffness = np.atleast_2d(stiffness_33)\n"
   ]
  },
  {
   "cell_type": "markdown",
   "metadata": {},
   "source": [
    "* Define the pseudo-spectral problem frequencies. We will use 50 frequencies with a spacing of 0.05 Hz"
   ]
  },
  {
   "cell_type": "code",
   "execution_count": 5,
   "metadata": {},
   "outputs": [],
   "source": [
    "f0 = 0.05\n",
    "nfreq = 50"
   ]
  },
  {
   "cell_type": "markdown",
   "metadata": {},
   "source": [
    "* We will define a PTO from the `wecopttool.pto` submodule. This will supply our objective function (energy produced), and an external force for the WEC dynamics (which we will also constrain)."
   ]
  },
  {
   "cell_type": "code",
   "execution_count": 6,
   "metadata": {},
   "outputs": [],
   "source": [
    "kinematics = np.eye(fb.nb_dofs)\n",
    "pto = wot.pto.PseudoSpectralPTO(nfreq, kinematics)"
   ]
  },
  {
   "cell_type": "markdown",
   "metadata": {},
   "source": [
    "* Add constraints: we will constraint the PTO force to 2000 N. We will enforce the constraint at 4 times more points than the dynamics. This is the only constraint."
   ]
  },
  {
   "cell_type": "code",
   "execution_count": 7,
   "metadata": {},
   "outputs": [],
   "source": [
    "nsubsteps = 4\n",
    "f_max = 2000.0\n",
    "\n",
    "\n",
    "def const_f_pto(wec, x_wec, x_opt):\n",
    "    f = pto.force_on_wec(wec, x_wec, x_opt, nsubsteps)\n",
    "    return f_max - np.abs(f.flatten())\n",
    "\n",
    "\n",
    "ineq_cons = {'type': 'ineq',\n",
    "             'fun': const_f_pto,\n",
    "             }\n",
    "constraints = [ineq_cons]"
   ]
  },
  {
   "cell_type": "markdown",
   "metadata": {},
   "source": [
    "* Create the WEC"
   ]
  },
  {
   "cell_type": "code",
   "execution_count": 8,
   "metadata": {},
   "outputs": [
    {
     "name": "stderr",
     "output_type": "stream",
     "text": [
      "INFO:wecopttool.core:New WEC: WaveBot with 1 DOF.\n"
     ]
    }
   ],
   "source": [
    "f_add = pto.force_on_wec  # PTO force\n",
    "\n",
    "wec = wot.WEC(fb, mass, stiffness, f0, nfreq, f_add=f_add, rho=rho,\n",
    "              constraints=constraints)\n"
   ]
  },
  {
   "cell_type": "markdown",
   "metadata": {},
   "source": [
    "* Calculate (or read) the BEM data"
   ]
  },
  {
   "cell_type": "code",
   "execution_count": 9,
   "metadata": {},
   "outputs": [
    {
     "name": "stderr",
     "output_type": "stream",
     "text": [
      "INFO:wecopttool.core:Running Capytaine (BEM): 50 frequencies x 1 wave directions.\n",
      "INFO:capytaine.bodies.bodies:Clipping WaveBot_immersed with respect to Plane(normal=[0. 0. 1.], point=[0. 0. 0.])\n",
      "INFO:capytaine.bem.solver:Solve DiffractionProblem(body=WaveBot_immersed, omega=0.314, depth=inf, wave_direction=0.000).\n",
      "INFO:capytaine.bem.solver:Solve RadiationProblem(body=WaveBot_immersed, omega=0.314, depth=inf, radiating_dof=HEAVE).\n",
      "INFO:capytaine.bem.solver:Solve DiffractionProblem(body=WaveBot_immersed, omega=0.628, depth=inf, wave_direction=0.000).\n",
      "INFO:capytaine.bem.solver:Solve RadiationProblem(body=WaveBot_immersed, omega=0.628, depth=inf, radiating_dof=HEAVE).\n",
      "INFO:capytaine.bem.solver:Solve DiffractionProblem(body=WaveBot_immersed, omega=0.942, depth=inf, wave_direction=0.000).\n",
      "INFO:capytaine.bem.solver:Solve RadiationProblem(body=WaveBot_immersed, omega=0.942, depth=inf, radiating_dof=HEAVE).\n",
      "INFO:capytaine.bem.solver:Solve DiffractionProblem(body=WaveBot_immersed, omega=1.257, depth=inf, wave_direction=0.000).\n",
      "INFO:capytaine.bem.solver:Solve RadiationProblem(body=WaveBot_immersed, omega=1.257, depth=inf, radiating_dof=HEAVE).\n",
      "INFO:capytaine.bem.solver:Solve DiffractionProblem(body=WaveBot_immersed, omega=1.571, depth=inf, wave_direction=0.000).\n",
      "INFO:capytaine.bem.solver:Solve RadiationProblem(body=WaveBot_immersed, omega=1.571, depth=inf, radiating_dof=HEAVE).\n",
      "INFO:capytaine.bem.solver:Solve DiffractionProblem(body=WaveBot_immersed, omega=1.885, depth=inf, wave_direction=0.000).\n",
      "INFO:capytaine.bem.solver:Solve RadiationProblem(body=WaveBot_immersed, omega=1.885, depth=inf, radiating_dof=HEAVE).\n",
      "INFO:capytaine.bem.solver:Solve DiffractionProblem(body=WaveBot_immersed, omega=2.199, depth=inf, wave_direction=0.000).\n",
      "INFO:capytaine.bem.solver:Solve RadiationProblem(body=WaveBot_immersed, omega=2.199, depth=inf, radiating_dof=HEAVE).\n",
      "INFO:capytaine.bem.solver:Solve DiffractionProblem(body=WaveBot_immersed, omega=2.513, depth=inf, wave_direction=0.000).\n",
      "INFO:capytaine.bem.solver:Solve RadiationProblem(body=WaveBot_immersed, omega=2.513, depth=inf, radiating_dof=HEAVE).\n",
      "INFO:capytaine.bem.solver:Solve DiffractionProblem(body=WaveBot_immersed, omega=2.827, depth=inf, wave_direction=0.000).\n",
      "INFO:capytaine.bem.solver:Solve RadiationProblem(body=WaveBot_immersed, omega=2.827, depth=inf, radiating_dof=HEAVE).\n",
      "INFO:capytaine.bem.solver:Solve DiffractionProblem(body=WaveBot_immersed, omega=3.142, depth=inf, wave_direction=0.000).\n",
      "INFO:capytaine.bem.solver:Solve RadiationProblem(body=WaveBot_immersed, omega=3.142, depth=inf, radiating_dof=HEAVE).\n",
      "INFO:capytaine.bem.solver:Solve DiffractionProblem(body=WaveBot_immersed, omega=3.456, depth=inf, wave_direction=0.000).\n",
      "INFO:capytaine.bem.solver:Solve RadiationProblem(body=WaveBot_immersed, omega=3.456, depth=inf, radiating_dof=HEAVE).\n",
      "INFO:capytaine.bem.solver:Solve DiffractionProblem(body=WaveBot_immersed, omega=3.770, depth=inf, wave_direction=0.000).\n",
      "INFO:capytaine.bem.solver:Solve RadiationProblem(body=WaveBot_immersed, omega=3.770, depth=inf, radiating_dof=HEAVE).\n",
      "INFO:capytaine.bem.solver:Solve DiffractionProblem(body=WaveBot_immersed, omega=4.084, depth=inf, wave_direction=0.000).\n",
      "INFO:capytaine.bem.solver:Solve RadiationProblem(body=WaveBot_immersed, omega=4.084, depth=inf, radiating_dof=HEAVE).\n",
      "INFO:capytaine.bem.solver:Solve DiffractionProblem(body=WaveBot_immersed, omega=4.398, depth=inf, wave_direction=0.000).\n",
      "INFO:capytaine.bem.solver:Solve RadiationProblem(body=WaveBot_immersed, omega=4.398, depth=inf, radiating_dof=HEAVE).\n",
      "INFO:capytaine.bem.solver:Solve DiffractionProblem(body=WaveBot_immersed, omega=4.712, depth=inf, wave_direction=0.000).\n",
      "INFO:capytaine.bem.solver:Solve RadiationProblem(body=WaveBot_immersed, omega=4.712, depth=inf, radiating_dof=HEAVE).\n",
      "INFO:capytaine.bem.solver:Solve DiffractionProblem(body=WaveBot_immersed, omega=5.027, depth=inf, wave_direction=0.000).\n",
      "INFO:capytaine.bem.solver:Solve RadiationProblem(body=WaveBot_immersed, omega=5.027, depth=inf, radiating_dof=HEAVE).\n",
      "INFO:capytaine.bem.solver:Solve DiffractionProblem(body=WaveBot_immersed, omega=5.341, depth=inf, wave_direction=0.000).\n",
      "INFO:capytaine.bem.solver:Solve RadiationProblem(body=WaveBot_immersed, omega=5.341, depth=inf, radiating_dof=HEAVE).\n",
      "INFO:capytaine.bem.solver:Solve DiffractionProblem(body=WaveBot_immersed, omega=5.655, depth=inf, wave_direction=0.000).\n",
      "INFO:capytaine.bem.solver:Solve RadiationProblem(body=WaveBot_immersed, omega=5.655, depth=inf, radiating_dof=HEAVE).\n",
      "INFO:capytaine.bem.solver:Solve DiffractionProblem(body=WaveBot_immersed, omega=5.969, depth=inf, wave_direction=0.000).\n",
      "INFO:capytaine.bem.solver:Solve RadiationProblem(body=WaveBot_immersed, omega=5.969, depth=inf, radiating_dof=HEAVE).\n",
      "INFO:capytaine.bem.solver:Solve DiffractionProblem(body=WaveBot_immersed, omega=6.283, depth=inf, wave_direction=0.000).\n",
      "INFO:capytaine.bem.solver:Solve RadiationProblem(body=WaveBot_immersed, omega=6.283, depth=inf, radiating_dof=HEAVE).\n",
      "INFO:capytaine.bem.solver:Solve DiffractionProblem(body=WaveBot_immersed, omega=6.597, depth=inf, wave_direction=0.000).\n",
      "INFO:capytaine.bem.solver:Solve RadiationProblem(body=WaveBot_immersed, omega=6.597, depth=inf, radiating_dof=HEAVE).\n",
      "INFO:capytaine.bem.solver:Solve DiffractionProblem(body=WaveBot_immersed, omega=6.912, depth=inf, wave_direction=0.000).\n",
      "INFO:capytaine.bem.solver:Solve RadiationProblem(body=WaveBot_immersed, omega=6.912, depth=inf, radiating_dof=HEAVE).\n",
      "INFO:capytaine.bem.solver:Solve DiffractionProblem(body=WaveBot_immersed, omega=7.226, depth=inf, wave_direction=0.000).\n",
      "INFO:capytaine.bem.solver:Solve RadiationProblem(body=WaveBot_immersed, omega=7.226, depth=inf, radiating_dof=HEAVE).\n",
      "INFO:capytaine.bem.solver:Solve DiffractionProblem(body=WaveBot_immersed, omega=7.540, depth=inf, wave_direction=0.000).\n",
      "INFO:capytaine.bem.solver:Solve RadiationProblem(body=WaveBot_immersed, omega=7.540, depth=inf, radiating_dof=HEAVE).\n",
      "INFO:capytaine.bem.solver:Solve DiffractionProblem(body=WaveBot_immersed, omega=7.854, depth=inf, wave_direction=0.000).\n",
      "INFO:capytaine.bem.solver:Solve RadiationProblem(body=WaveBot_immersed, omega=7.854, depth=inf, radiating_dof=HEAVE).\n",
      "INFO:capytaine.bem.solver:Solve DiffractionProblem(body=WaveBot_immersed, omega=8.168, depth=inf, wave_direction=0.000).\n",
      "INFO:capytaine.bem.solver:Solve RadiationProblem(body=WaveBot_immersed, omega=8.168, depth=inf, radiating_dof=HEAVE).\n",
      "INFO:capytaine.bem.solver:Solve DiffractionProblem(body=WaveBot_immersed, omega=8.482, depth=inf, wave_direction=0.000).\n",
      "INFO:capytaine.bem.solver:Solve RadiationProblem(body=WaveBot_immersed, omega=8.482, depth=inf, radiating_dof=HEAVE).\n",
      "INFO:capytaine.bem.solver:Solve DiffractionProblem(body=WaveBot_immersed, omega=8.796, depth=inf, wave_direction=0.000).\n",
      "WARNING:capytaine.bem.solver:Resolution of the mesh (8×max_radius=8.06e-01) might be insufficient for this wavelength (wavelength=7.97e-01)!\n",
      "INFO:capytaine.bem.solver:Solve RadiationProblem(body=WaveBot_immersed, omega=8.796, depth=inf, radiating_dof=HEAVE).\n",
      "WARNING:capytaine.bem.solver:Resolution of the mesh (8×max_radius=8.06e-01) might be insufficient for this wavelength (wavelength=7.97e-01)!\n",
      "INFO:capytaine.bem.solver:Solve DiffractionProblem(body=WaveBot_immersed, omega=9.111, depth=inf, wave_direction=0.000).\n",
      "WARNING:capytaine.bem.solver:Resolution of the mesh (8×max_radius=8.06e-01) might be insufficient for this wavelength (wavelength=7.43e-01)!\n",
      "INFO:capytaine.bem.solver:Solve RadiationProblem(body=WaveBot_immersed, omega=9.111, depth=inf, radiating_dof=HEAVE).\n",
      "WARNING:capytaine.bem.solver:Resolution of the mesh (8×max_radius=8.06e-01) might be insufficient for this wavelength (wavelength=7.43e-01)!\n",
      "INFO:capytaine.bem.solver:Solve DiffractionProblem(body=WaveBot_immersed, omega=9.425, depth=inf, wave_direction=0.000).\n",
      "WARNING:capytaine.bem.solver:Resolution of the mesh (8×max_radius=8.06e-01) might be insufficient for this wavelength (wavelength=6.94e-01)!\n",
      "INFO:capytaine.bem.solver:Solve RadiationProblem(body=WaveBot_immersed, omega=9.425, depth=inf, radiating_dof=HEAVE).\n",
      "WARNING:capytaine.bem.solver:Resolution of the mesh (8×max_radius=8.06e-01) might be insufficient for this wavelength (wavelength=6.94e-01)!\n",
      "INFO:capytaine.bem.solver:Solve DiffractionProblem(body=WaveBot_immersed, omega=9.739, depth=inf, wave_direction=0.000).\n",
      "WARNING:capytaine.bem.solver:Resolution of the mesh (8×max_radius=8.06e-01) might be insufficient for this wavelength (wavelength=6.50e-01)!\n",
      "INFO:capytaine.bem.solver:Solve RadiationProblem(body=WaveBot_immersed, omega=9.739, depth=inf, radiating_dof=HEAVE).\n",
      "WARNING:capytaine.bem.solver:Resolution of the mesh (8×max_radius=8.06e-01) might be insufficient for this wavelength (wavelength=6.50e-01)!\n",
      "INFO:capytaine.bem.solver:Solve DiffractionProblem(body=WaveBot_immersed, omega=10.053, depth=inf, wave_direction=0.000).\n",
      "WARNING:capytaine.bem.solver:Resolution of the mesh (8×max_radius=8.06e-01) might be insufficient for this wavelength (wavelength=6.10e-01)!\n",
      "INFO:capytaine.bem.solver:Solve RadiationProblem(body=WaveBot_immersed, omega=10.053, depth=inf, radiating_dof=HEAVE).\n",
      "WARNING:capytaine.bem.solver:Resolution of the mesh (8×max_radius=8.06e-01) might be insufficient for this wavelength (wavelength=6.10e-01)!\n",
      "INFO:capytaine.bem.solver:Solve DiffractionProblem(body=WaveBot_immersed, omega=10.367, depth=inf, wave_direction=0.000).\n",
      "WARNING:capytaine.bem.solver:Resolution of the mesh (8×max_radius=8.06e-01) might be insufficient for this wavelength (wavelength=5.73e-01)!\n",
      "INFO:capytaine.bem.solver:Solve RadiationProblem(body=WaveBot_immersed, omega=10.367, depth=inf, radiating_dof=HEAVE).\n",
      "WARNING:capytaine.bem.solver:Resolution of the mesh (8×max_radius=8.06e-01) might be insufficient for this wavelength (wavelength=5.73e-01)!\n",
      "INFO:capytaine.bem.solver:Solve DiffractionProblem(body=WaveBot_immersed, omega=10.681, depth=inf, wave_direction=0.000).\n",
      "WARNING:capytaine.bem.solver:Resolution of the mesh (8×max_radius=8.06e-01) might be insufficient for this wavelength (wavelength=5.40e-01)!\n",
      "INFO:capytaine.bem.solver:Solve RadiationProblem(body=WaveBot_immersed, omega=10.681, depth=inf, radiating_dof=HEAVE).\n",
      "WARNING:capytaine.bem.solver:Resolution of the mesh (8×max_radius=8.06e-01) might be insufficient for this wavelength (wavelength=5.40e-01)!\n",
      "INFO:capytaine.bem.solver:Solve DiffractionProblem(body=WaveBot_immersed, omega=10.996, depth=inf, wave_direction=0.000).\n",
      "WARNING:capytaine.bem.solver:Resolution of the mesh (8×max_radius=8.06e-01) might be insufficient for this wavelength (wavelength=5.10e-01)!\n",
      "INFO:capytaine.bem.solver:Solve RadiationProblem(body=WaveBot_immersed, omega=10.996, depth=inf, radiating_dof=HEAVE).\n",
      "WARNING:capytaine.bem.solver:Resolution of the mesh (8×max_radius=8.06e-01) might be insufficient for this wavelength (wavelength=5.10e-01)!\n",
      "INFO:capytaine.bem.solver:Solve DiffractionProblem(body=WaveBot_immersed, omega=11.310, depth=inf, wave_direction=0.000).\n",
      "WARNING:capytaine.bem.solver:Resolution of the mesh (8×max_radius=8.06e-01) might be insufficient for this wavelength (wavelength=4.82e-01)!\n",
      "INFO:capytaine.bem.solver:Solve RadiationProblem(body=WaveBot_immersed, omega=11.310, depth=inf, radiating_dof=HEAVE).\n",
      "WARNING:capytaine.bem.solver:Resolution of the mesh (8×max_radius=8.06e-01) might be insufficient for this wavelength (wavelength=4.82e-01)!\n",
      "INFO:capytaine.bem.solver:Solve DiffractionProblem(body=WaveBot_immersed, omega=11.624, depth=inf, wave_direction=0.000).\n",
      "WARNING:capytaine.bem.solver:Resolution of the mesh (8×max_radius=8.06e-01) might be insufficient for this wavelength (wavelength=4.56e-01)!\n",
      "INFO:capytaine.bem.solver:Solve RadiationProblem(body=WaveBot_immersed, omega=11.624, depth=inf, radiating_dof=HEAVE).\n",
      "WARNING:capytaine.bem.solver:Resolution of the mesh (8×max_radius=8.06e-01) might be insufficient for this wavelength (wavelength=4.56e-01)!\n",
      "INFO:capytaine.bem.solver:Solve DiffractionProblem(body=WaveBot_immersed, omega=11.938, depth=inf, wave_direction=0.000).\n",
      "WARNING:capytaine.bem.solver:Resolution of the mesh (8×max_radius=8.06e-01) might be insufficient for this wavelength (wavelength=4.32e-01)!\n",
      "INFO:capytaine.bem.solver:Solve RadiationProblem(body=WaveBot_immersed, omega=11.938, depth=inf, radiating_dof=HEAVE).\n",
      "WARNING:capytaine.bem.solver:Resolution of the mesh (8×max_radius=8.06e-01) might be insufficient for this wavelength (wavelength=4.32e-01)!\n",
      "INFO:capytaine.bem.solver:Solve DiffractionProblem(body=WaveBot_immersed, omega=12.252, depth=inf, wave_direction=0.000).\n",
      "WARNING:capytaine.bem.solver:Resolution of the mesh (8×max_radius=8.06e-01) might be insufficient for this wavelength (wavelength=4.11e-01)!\n",
      "INFO:capytaine.bem.solver:Solve RadiationProblem(body=WaveBot_immersed, omega=12.252, depth=inf, radiating_dof=HEAVE).\n",
      "WARNING:capytaine.bem.solver:Resolution of the mesh (8×max_radius=8.06e-01) might be insufficient for this wavelength (wavelength=4.11e-01)!\n",
      "INFO:capytaine.bem.solver:Solve DiffractionProblem(body=WaveBot_immersed, omega=12.566, depth=inf, wave_direction=0.000).\n",
      "WARNING:capytaine.bem.solver:Resolution of the mesh (8×max_radius=8.06e-01) might be insufficient for this wavelength (wavelength=3.90e-01)!\n",
      "INFO:capytaine.bem.solver:Solve RadiationProblem(body=WaveBot_immersed, omega=12.566, depth=inf, radiating_dof=HEAVE).\n",
      "WARNING:capytaine.bem.solver:Resolution of the mesh (8×max_radius=8.06e-01) might be insufficient for this wavelength (wavelength=3.90e-01)!\n",
      "INFO:capytaine.bem.solver:Solve DiffractionProblem(body=WaveBot_immersed, omega=12.881, depth=inf, wave_direction=0.000).\n",
      "WARNING:capytaine.bem.solver:Resolution of the mesh (8×max_radius=8.06e-01) might be insufficient for this wavelength (wavelength=3.72e-01)!\n",
      "INFO:capytaine.bem.solver:Solve RadiationProblem(body=WaveBot_immersed, omega=12.881, depth=inf, radiating_dof=HEAVE).\n",
      "WARNING:capytaine.bem.solver:Resolution of the mesh (8×max_radius=8.06e-01) might be insufficient for this wavelength (wavelength=3.72e-01)!\n",
      "INFO:capytaine.bem.solver:Solve DiffractionProblem(body=WaveBot_immersed, omega=13.195, depth=inf, wave_direction=0.000).\n",
      "WARNING:capytaine.bem.solver:Resolution of the mesh (8×max_radius=8.06e-01) might be insufficient for this wavelength (wavelength=3.54e-01)!\n",
      "INFO:capytaine.bem.solver:Solve RadiationProblem(body=WaveBot_immersed, omega=13.195, depth=inf, radiating_dof=HEAVE).\n",
      "WARNING:capytaine.bem.solver:Resolution of the mesh (8×max_radius=8.06e-01) might be insufficient for this wavelength (wavelength=3.54e-01)!\n",
      "INFO:capytaine.bem.solver:Solve DiffractionProblem(body=WaveBot_immersed, omega=13.509, depth=inf, wave_direction=0.000).\n",
      "WARNING:capytaine.bem.solver:Resolution of the mesh (8×max_radius=8.06e-01) might be insufficient for this wavelength (wavelength=3.38e-01)!\n",
      "INFO:capytaine.bem.solver:Solve RadiationProblem(body=WaveBot_immersed, omega=13.509, depth=inf, radiating_dof=HEAVE).\n",
      "WARNING:capytaine.bem.solver:Resolution of the mesh (8×max_radius=8.06e-01) might be insufficient for this wavelength (wavelength=3.38e-01)!\n",
      "INFO:capytaine.bem.solver:Solve DiffractionProblem(body=WaveBot_immersed, omega=13.823, depth=inf, wave_direction=0.000).\n",
      "WARNING:capytaine.bem.solver:Resolution of the mesh (8×max_radius=8.06e-01) might be insufficient for this wavelength (wavelength=3.23e-01)!\n",
      "INFO:capytaine.bem.solver:Solve RadiationProblem(body=WaveBot_immersed, omega=13.823, depth=inf, radiating_dof=HEAVE).\n",
      "WARNING:capytaine.bem.solver:Resolution of the mesh (8×max_radius=8.06e-01) might be insufficient for this wavelength (wavelength=3.23e-01)!\n",
      "INFO:capytaine.bem.solver:Solve DiffractionProblem(body=WaveBot_immersed, omega=14.137, depth=inf, wave_direction=0.000).\n",
      "WARNING:capytaine.bem.solver:Resolution of the mesh (8×max_radius=8.06e-01) might be insufficient for this wavelength (wavelength=3.08e-01)!\n",
      "INFO:capytaine.bem.solver:Solve RadiationProblem(body=WaveBot_immersed, omega=14.137, depth=inf, radiating_dof=HEAVE).\n",
      "WARNING:capytaine.bem.solver:Resolution of the mesh (8×max_radius=8.06e-01) might be insufficient for this wavelength (wavelength=3.08e-01)!\n",
      "INFO:capytaine.bem.solver:Solve DiffractionProblem(body=WaveBot_immersed, omega=14.451, depth=inf, wave_direction=0.000).\n",
      "WARNING:capytaine.bem.solver:Resolution of the mesh (8×max_radius=8.06e-01) might be insufficient for this wavelength (wavelength=2.95e-01)!\n",
      "INFO:capytaine.bem.solver:Solve RadiationProblem(body=WaveBot_immersed, omega=14.451, depth=inf, radiating_dof=HEAVE).\n",
      "WARNING:capytaine.bem.solver:Resolution of the mesh (8×max_radius=8.06e-01) might be insufficient for this wavelength (wavelength=2.95e-01)!\n",
      "INFO:capytaine.bem.solver:Solve DiffractionProblem(body=WaveBot_immersed, omega=14.765, depth=inf, wave_direction=0.000).\n",
      "WARNING:capytaine.bem.solver:Resolution of the mesh (8×max_radius=8.06e-01) might be insufficient for this wavelength (wavelength=2.83e-01)!\n",
      "INFO:capytaine.bem.solver:Solve RadiationProblem(body=WaveBot_immersed, omega=14.765, depth=inf, radiating_dof=HEAVE).\n",
      "WARNING:capytaine.bem.solver:Resolution of the mesh (8×max_radius=8.06e-01) might be insufficient for this wavelength (wavelength=2.83e-01)!\n",
      "INFO:capytaine.bem.solver:Solve DiffractionProblem(body=WaveBot_immersed, omega=15.080, depth=inf, wave_direction=0.000).\n",
      "WARNING:capytaine.bem.solver:Resolution of the mesh (8×max_radius=8.06e-01) might be insufficient for this wavelength (wavelength=2.71e-01)!\n",
      "INFO:capytaine.bem.solver:Solve RadiationProblem(body=WaveBot_immersed, omega=15.080, depth=inf, radiating_dof=HEAVE).\n",
      "WARNING:capytaine.bem.solver:Resolution of the mesh (8×max_radius=8.06e-01) might be insufficient for this wavelength (wavelength=2.71e-01)!\n",
      "INFO:capytaine.bem.solver:Solve DiffractionProblem(body=WaveBot_immersed, omega=15.394, depth=inf, wave_direction=0.000).\n",
      "WARNING:capytaine.bem.solver:Resolution of the mesh (8×max_radius=8.06e-01) might be insufficient for this wavelength (wavelength=2.60e-01)!\n",
      "INFO:capytaine.bem.solver:Solve RadiationProblem(body=WaveBot_immersed, omega=15.394, depth=inf, radiating_dof=HEAVE).\n",
      "WARNING:capytaine.bem.solver:Resolution of the mesh (8×max_radius=8.06e-01) might be insufficient for this wavelength (wavelength=2.60e-01)!\n",
      "INFO:capytaine.bem.solver:Solve DiffractionProblem(body=WaveBot_immersed, omega=15.708, depth=inf, wave_direction=0.000).\n",
      "WARNING:capytaine.bem.solver:Resolution of the mesh (8×max_radius=8.06e-01) might be insufficient for this wavelength (wavelength=2.50e-01)!\n",
      "INFO:capytaine.bem.solver:Solve RadiationProblem(body=WaveBot_immersed, omega=15.708, depth=inf, radiating_dof=HEAVE).\n",
      "WARNING:capytaine.bem.solver:Resolution of the mesh (8×max_radius=8.06e-01) might be insufficient for this wavelength (wavelength=2.50e-01)!\n",
      "INFO:wecopttool.core:Impedance matrix deleted. To calculate impedance call 'self.bem_calc_impedance()'\n",
      "INFO:wecopttool.core:Impedance matrix deleted. To calculate impedance call 'self.bem_calc_impedance()'\n",
      "INFO:wecopttool.core:Calculating impedance matrix.\n",
      "INFO:capytaine.post_pro.impedance:Compute impedance.\n",
      "WARNING:wecopttool.core:Linear damping for DOF \"HEAVE\" has negative or close to zero terms. Shifting up.\n",
      "INFO:wecopttool.core:Writting BEM data to results_tutorial_1/bem.nc.\n"
     ]
    }
   ],
   "source": [
    "fname = os.path.join(results_dir, 'bem.nc')\n",
    "if os.path.exists(fname):\n",
    "    wec.read_bem(fname)\n",
    "else:\n",
    "    wec.run_bem()\n",
    "    wec.write_bem(fname)"
   ]
  },
  {
   "cell_type": "markdown",
   "metadata": {},
   "source": [
    "* Create a regular wave using the `wecopttool.waves` submodule."
   ]
  },
  {
   "cell_type": "code",
   "execution_count": 10,
   "metadata": {},
   "outputs": [],
   "source": [
    "wfreq = 0.3\n",
    "amplitude = 0.0625\n",
    "phase = -40\n",
    "waves = wot.waves.regular_wave(f0, nfreq, wfreq, amplitude, phase)"
   ]
  },
  {
   "cell_type": "markdown",
   "metadata": {},
   "source": [
    "* Solve the problem"
   ]
  },
  {
   "cell_type": "code",
   "execution_count": 11,
   "metadata": {},
   "outputs": [
    {
     "name": "stderr",
     "output_type": "stream",
     "text": [
      "INFO:wecopttool.core:Solving pseudo-spectral control problem.\n",
      "INFO:wecopttool.core:Optimization terminated successfully    (Exit mode 0)\n"
     ]
    },
    {
     "name": "stdout",
     "output_type": "stream",
     "text": [
      "Optimization terminated successfully    (Exit mode 0)\n",
      "            Current function value: -102.17273068246352\n",
      "            Iterations: 472\n",
      "            Function evaluations: 472\n",
      "            Gradient evaluations: 472\n"
     ]
    }
   ],
   "source": [
    "options = {'maxiter': 1000, 'ftol': 1e-8}\n",
    "obj_fun = pto.average_power\n",
    "nstate_opt = pto.nstate\n",
    "wec_tdom, wec_fdom, x_wec, x_opt, obj, res = wec.solve(\n",
    "    waves, obj_fun, nstate_opt, optim_options=options)"
   ]
  },
  {
   "cell_type": "markdown",
   "metadata": {},
   "source": [
    "* Post-process the optimized PTO results"
   ]
  },
  {
   "cell_type": "code",
   "execution_count": 12,
   "metadata": {},
   "outputs": [],
   "source": [
    "pto_tdom, pto_fdom = pto.post_process(wec, x_wec, x_opt)"
   ]
  },
  {
   "cell_type": "markdown",
   "metadata": {},
   "source": [
    "## Results\n",
    "In this section we will save, view, and plot the results.\n",
    "* Print results\n",
    "* Save results"
   ]
  },
  {
   "cell_type": "code",
   "execution_count": 14,
   "metadata": {},
   "outputs": [
    {
     "name": "stdout",
     "output_type": "stream",
     "text": [
      "Average power: -5.1086365341231765 W\n",
      "\n"
     ]
    }
   ],
   "source": [
    "# print\n",
    "print(f\"Average power: {obj/wec.tf} W\\n\")\n",
    "\n",
    "# save\n",
    "fname = os.path.join(results_dir, 'wec_tdom.nc')\n",
    "wec_tdom.to_netcdf(fname)\n",
    "\n",
    "fname = os.path.join(results_dir, 'wec_fdom.nc')\n",
    "wot.complex_xarray_to_netcdf(fname, wec_fdom)\n",
    "\n",
    "fname = os.path.join(results_dir, 'pto_tdom.nc')\n",
    "pto_tdom.to_netcdf(fname)\n",
    "\n",
    "fname = os.path.join(results_dir, 'pto_fdom.nc')\n",
    "wot.complex_xarray_to_netcdf(fname, pto_fdom)"
   ]
  },
  {
   "cell_type": "markdown",
   "metadata": {},
   "source": [
    "* View the mesh (opens a new window that needs to be closed before continuing)."
   ]
  },
  {
   "cell_type": "code",
   "execution_count": 16,
   "metadata": {},
   "outputs": [
    {
     "data": {
      "image/png": "[encoded data removed]",
      "text/plain": [
       "<Figure size 432x288 with 1 Axes>"
      ]
     },
     "metadata": {
      "needs_background": "light"
     },
     "output_type": "display_data"
    },
    {
     "data": {
      "image/png": "[encoded data removed]",
      "text/plain": [
       "<Figure size 432x288 with 1 Axes>"
      ]
     },
     "metadata": {
      "needs_background": "light"
     },
     "output_type": "display_data"
    }
   ],
   "source": [
    "wec.fb.show() # will need to close window before continuing in notebook\n",
    "wec.fb.show_matplotlib() # interactive outside Jupyter notebook.\n",
    "_ = wb.plot_cross_section(show=True) # specific to WaveBot"
   ]
  },
  {
   "cell_type": "markdown",
   "metadata": {},
   "source": [
    "* Plot impedance"
   ]
  },
  {
   "cell_type": "code",
   "execution_count": null,
   "metadata": {},
   "outputs": [],
   "source": [
    "wec.plot_impedance()  # see function doc for options."
   ]
  },
  {
   "cell_type": "markdown",
   "metadata": {},
   "source": [
    "* Example time-domain plots"
   ]
  },
  {
   "cell_type": "code",
   "execution_count": null,
   "metadata": {},
   "outputs": [],
   "source": [
    "plt.figure()\n",
    "wec_tdom['wave_elevation'].plot()\n",
    "\n",
    "plt.figure()\n",
    "wec_tdom['pos'].plot()\n",
    "\n",
    "plt.figure()\n",
    "pto_tdom['force'].plot()\n",
    "\n",
    "plt.figure()\n",
    "pto_tdom['power'].plot()"
   ]
  },
  {
   "cell_type": "markdown",
   "metadata": {},
   "source": [
    "* Example frequency-domain plots"
   ]
  },
  {
   "cell_type": "code",
   "execution_count": null,
   "metadata": {},
   "outputs": [],
   "source": [
    "fd_lines = {'marker': 'o', 'linestyle': '', 'fillstyle': 'none'}\n",
    "\n",
    "plt.figure()\n",
    "np.abs(wec_fdom['excitation_force']).plot(**fd_lines)\n",
    "\n",
    "plt.figure()\n",
    "np.abs(pto_fdom['force']).plot(**fd_lines)\n",
    "\n",
    "plt.show()"
   ]
  },
  {
   "cell_type": "markdown",
   "metadata": {},
   "source": [
    "## Comparison to Conjugate Gradient Control\n",
    "The unconstrained (no maximum PTO force) optimal control can be calculated analytically. We will compare the two results."
   ]
  },
  {
   "cell_type": "code",
   "execution_count": null,
   "metadata": {},
   "outputs": [],
   "source": [
    "idof = 0\n",
    "Fe = wec_fdom['excitation_force'][1:, idof]\n",
    "Zi = wec.hydro.Zi[:, idof, idof]\n",
    "\n",
    "cc_vel_fd = Fe / (2*Zi.real)\n",
    "cc_pos_fd = cc_vel_fd / (1j*cc_vel_fd.omega)\n",
    "cc_force_fd = -1.0 * Zi.conj() * cc_vel_fd\n",
    "\n",
    "cc_pos_fd = np.concatenate([[0.0], cc_pos_fd])\n",
    "cc_vel_fd = np.concatenate([[0.0], cc_vel_fd])\n",
    "cc_force_fd = np.concatenate([[0.0], cc_force_fd])\n",
    "\n",
    "cc_pos_td = wec.fd_to_td(cc_pos_fd)\n",
    "cc_vel_td = wec.fd_to_td(cc_vel_fd)\n",
    "cc_force_td = wec.fd_to_td(cc_force_fd)\n",
    "\n",
    "cc_power_td = cc_vel_td * cc_force_td\n",
    "cc_power_fd = wec.td_to_fd(cc_power_td)\n",
    "\n",
    "Fe = wec_fdom['excitation_force'][:, idof]\n",
    "\n",
    "# plot\n",
    "ncases = 2\n",
    "\n",
    "label_cc = 'CC'\n",
    "label_ps = 'PS'\n",
    "color_cc = 'tab:blue'\n",
    "color_ps = 'tab:orange'\n",
    "color_w = '0.0'\n",
    "color_s = '0.25'\n",
    "lw = 2\n",
    "\n",
    "## Plot time domain\n",
    "fig, axs = plt.subplots(nrows=6, sharex=True)\n",
    "\n",
    "# plot PS force limits\n",
    "xlim = 10.0\n",
    "axs[4].plot([0.0, xlim], [f_max, f_max], '--', c=color_s, lw=0.5)\n",
    "axs[4].plot([0.0, xlim], [-f_max, -f_max], '--', c=color_s, lw=0.5)\n",
    "\n",
    "wec_tdom['wave_elevation'].plot(ax=axs[0], color=color_w, lw=lw)\n",
    "wec_tdom['excitation_force'].sel(influenced_dof='HEAVE').plot(\n",
    "    ax=axs[1], color=color_w, lw=lw)\n",
    "axs[2].plot(wec.time, cc_pos_td, color=color_cc, label=label_cc, lw=lw)\n",
    "wec_tdom['pos'].sel(influenced_dof='HEAVE').plot(\n",
    "    ax=axs[2], color=color_ps, label=label_ps, lw=lw)\n",
    "axs[3].plot(wec.time, cc_vel_td, color=color_cc, label=label_cc, lw=lw)\n",
    "wec_tdom['vel'].sel(influenced_dof='HEAVE').plot(\n",
    "    ax=axs[3], color=color_ps, label=label_ps, lw=lw)\n",
    "axs[4].plot(wec.time, cc_force_td, color=color_cc, label=label_cc, lw=lw)\n",
    "pto_tdom['force'].sel(dof_pto='pto_1').plot(\n",
    "    ax=axs[4], color=color_ps, label=label_ps, lw=lw)  # marker='.'\n",
    "axs[5].plot(wec.time, cc_power_td, color=color_cc, label=label_cc, lw=lw)\n",
    "pto_tdom['power'].sel(dof_pto='pto_1').plot(\n",
    "    ax=axs[5], color=color_ps, label=label_ps, lw=lw)\n",
    "\n",
    "# format subplots\n",
    "ylims = [0.05, 1000.0, 0.2, 0.5, 5000.0, 500.0]\n",
    "names = ['η [m]', 'Fₑ [N]', 'z [m]', 'u [m/s]',\n",
    "         'Fᵤ [N]', 'P [W]']\n",
    "for ax, ylim, name in zip(axs, ylims, names):\n",
    "    ax.set_title('')\n",
    "    if ax is not axs[-1]:\n",
    "        ax.set_xlabel('')\n",
    "    ax.set_ylabel(name)\n",
    "    ax.label_outer()\n",
    "    ax.set_xticks([i for i in range(int(xlim)+1)], minor=False)\n",
    "    ax.grid(color='0.75', linestyle='-', linewidth=0.5, which='major')\n",
    "    ax.tick_params(direction='in')\n",
    "    ax.spines['right'].set_visible(False)\n",
    "    ax.spines['top'].set_visible(False)\n",
    "    ax.set_xlim([0.0, xlim])\n",
    "    ax.set_yticks([-2*ylim, -ylim, 0, ylim], minor=False)\n",
    "axs[2].legend(ncol=ncases, loc='upper right')\n",
    "\n",
    "fig.align_ylabels(axs)\n",
    "fig.tight_layout()\n",
    "\n",
    "\n",
    "## Plot frequency domain\n",
    "omega = np.concatenate([[0.0], wec.omega])\n",
    "cases = [label_cc, label_ps]\n",
    "\n",
    "fig, axs = plt.subplots(2, ncases, sharex='col', sharey='row')\n",
    "\n",
    "\n",
    "def plot_fd(axs, omega, fdom, marker, label, rmface=False):\n",
    "\n",
    "    def _plot_fd(ax, omega, fdom, marker, label, rmface=False):\n",
    "        markers, stems, base = ax.stem(\n",
    "            omega,\n",
    "            fdom,\n",
    "            basefmt='k-',\n",
    "            linefmt='b-',\n",
    "            markerfmt='b'+marker,\n",
    "            label=label)\n",
    "        width = 1.0\n",
    "        stems.set_linewidth(width)\n",
    "        base.set_linewidth(width)\n",
    "        markers.set_markeredgewidth(width)\n",
    "        markers.set_markersize(10)\n",
    "        if rmface:\n",
    "            markers.set_markerfacecolor('none')\n",
    "\n",
    "    omega = omega / (wfreq*2*np.pi)\n",
    "    mag = np.squeeze(20*np.log10(np.abs(fdom),\n",
    "                     out=np.ones(fdom.shape)*np.nan, where=fdom != 0))\n",
    "    ang = np.squeeze(np.angle(fdom))\n",
    "\n",
    "    _plot_fd(axs[0], omega, mag, marker, label, rmface)\n",
    "    _plot_fd(axs[1], omega, ang, marker, label, rmface)\n",
    "\n",
    "\n",
    "iaxs = axs[:, 0]\n",
    "plot_fd(iaxs, omega, Fe, 'o', 'Fₑ', True)\n",
    "plot_fd(iaxs, omega, cc_vel_fd, '.', 'u')\n",
    "plot_fd(iaxs, omega, cc_force_fd, '_', 'Fᵤ')\n",
    "\n",
    "iaxs = axs[:, 1]\n",
    "plot_fd(iaxs, omega, Fe, 'o', 'Fₑ', True)\n",
    "plot_fd(iaxs, omega, wec_fdom['vel'], '.', 'u')\n",
    "plot_fd(iaxs, omega, pto_fdom['force'], '_', 'Fᵤ')\n",
    "\n",
    "# format subplots\n",
    "locs = [1, 3, 5, 7]\n",
    "ylims = [100.0, np.pi]\n",
    "xlims = [0, omega[-1]/(wfreq*2*np.pi)]\n",
    "for i in range(ncases):\n",
    "    iaxs = axs if ncases == 1 else axs[:, i]\n",
    "    for j in range(2):\n",
    "        iaxs[j].set_xticks([0]+locs, minor=False)\n",
    "        iaxs[j].set_yticks([-ylims[j], 0, ylims[j]], minor=False)\n",
    "        iaxs[j].label_outer()\n",
    "        iaxs[j].grid(color='0.75', linestyle='-',\n",
    "                     linewidth=0.5, which='major')\n",
    "        iaxs[j].tick_params(direction='in')\n",
    "        iaxs[j].spines['right'].set_visible(False)\n",
    "        iaxs[j].spines['top'].set_visible(False)\n",
    "        iaxs[j].set_xlim(xlims)\n",
    "        iaxs[j].set_xticklabels(['0']+[f'{k} ω₀' for k in locs])\n",
    "    iaxs[1].set_yticklabels([\"-π\", 0, \"π\"], minor=False)\n",
    "    iaxs[0].set_title(cases[i])\n",
    "    iaxs[1].set_xlabel('Frequency [rad/s]')\n",
    "    iaxs[1].set_ylim([-np.pi, np.pi])\n",
    "    if i == 0:\n",
    "        iaxs[0].legend(ncol=1, loc='upper right')\n",
    "        iaxs[0].set_ylabel('Magnitude [dB]')\n",
    "        iaxs[1].set_ylabel('Angle [rad]')\n",
    "        fig.align_ylabels(iaxs)\n",
    "\n",
    "fig.tight_layout()\n"
   ]
  },
  {
   "cell_type": "code",
   "execution_count": null,
   "metadata": {},
   "outputs": [],
   "source": []
  }
 ],
 "metadata": {
  "interpreter": {
   "hash": "93ececab4e8fce1aad02ee527b9252ca79380e2943bb966fa47bc5b02c217fde"
  },
  "kernelspec": {
   "display_name": "Python 3 (ipykernel)",
   "language": "python",
   "name": "python3"
  },
  "language_info": {
   "codemirror_mode": {
    "name": "ipython",
    "version": 3
   },
   "file_extension": ".py",
   "mimetype": "text/x-python",
   "name": "python",
   "nbconvert_exporter": "python",
   "pygments_lexer": "ipython3",
   "version": "3.9.7"
  }
 },
 "nbformat": 4,
 "nbformat_minor": 2
}
