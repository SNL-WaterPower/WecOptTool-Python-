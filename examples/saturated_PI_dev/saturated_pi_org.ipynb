{
 "cells": [
  {
   "cell_type": "markdown",
   "metadata": {},
   "source": [
    "# WaveBot MASK Workshop"
   ]
  },
  {
   "cell_type": "code",
   "execution_count": 1,
   "metadata": {},
   "outputs": [],
   "source": [
    "import autograd.numpy as np\n",
    "import capytaine as cpy\n",
    "import matplotlib.pyplot as plt\n",
    "from matplotlib.ticker import MaxNLocator\n",
    "\n",
    "import wecopttool as wot\n"
   ]
  },
  {
   "cell_type": "markdown",
   "metadata": {},
   "source": [
    "## 1. WEC object\n",
    "### Mesh\n",
    "\n",
    "We already include the mesh for the WaveBot in WecOptTool. For other devices you would have to create the geometry and mesh. See the WaveBot mesh as an example."
   ]
  },
  {
   "cell_type": "code",
   "execution_count": 2,
   "metadata": {},
   "outputs": [],
   "source": [
    "wb = wot.geom.WaveBot()\n",
    "mesh_size_factor = 0.5 # 1.0 for default, smaller to refine mesh\n",
    "mesh = wb.mesh(mesh_size_factor)\n"
   ]
  },
  {
   "cell_type": "markdown",
   "metadata": {},
   "source": [
    "### DOFs\n",
    "We will model a 1 DOF (heave) case."
   ]
  },
  {
   "cell_type": "code",
   "execution_count": 3,
   "metadata": {},
   "outputs": [],
   "source": [
    "fb = cpy.FloatingBody.from_meshio(mesh, name=\"WaveBot\")\n",
    "fb.add_translation_dof(name=\"Heave\")\n",
    "ndof = fb.nb_dofs\n"
   ]
  },
  {
   "cell_type": "markdown",
   "metadata": {},
   "source": [
    "### Hydrostatics\n",
    "We will use WecOptTool's `hydrostatics` module to get the mass and hydrostatic stiffness. "
   ]
  },
  {
   "cell_type": "code",
   "execution_count": 4,
   "metadata": {},
   "outputs": [],
   "source": [
    "hydro_stiffness = wot.hydrostatics.stiffness_matrix(fb).values  # N/m\n",
    "mass = wot.hydrostatics.inertia_matrix(fb).values  # kg\n"
   ]
  },
  {
   "cell_type": "markdown",
   "metadata": {},
   "source": [
    "### Frequencies\n",
    "Choose frequencies based on your waves & whether you include non-linearities. (Discussion) "
   ]
  },
  {
   "cell_type": "code",
   "execution_count": 5,
   "metadata": {},
   "outputs": [],
   "source": [
    "f1 = 0.05  # Hz\n",
    "nfreq = 50\n",
    "freq = wot.frequency(f1, nfreq, False)  # Hz, # False -> no zero frequency\n"
   ]
  },
  {
   "cell_type": "markdown",
   "metadata": {},
   "source": [
    "### BEM\n",
    "We provide a function that runs Capytaine. (Take a look)"
   ]
  },
  {
   "cell_type": "code",
   "execution_count": 6,
   "metadata": {},
   "outputs": [
    {
     "name": "stderr",
     "output_type": "stream",
     "text": [
      "WARNING:capytaine.bem.problems_and_results:Mesh resolution for DiffractionProblem(body=WaveBot_immersed, omega=8.796, depth=inf, wave_direction=0.000, rho=1025.0):\n",
      "The resolution of the mesh 'WaveBot' of the body 'WaveBot_immersed' might be insufficient for the wavelength λ=7.97e-01.\n",
      "This warning appears because the largest panel of this mesh has radius 1.01e-01 > λ/8.\n",
      "WARNING:capytaine.bem.problems_and_results:Mesh resolution for DiffractionProblem(body=WaveBot_immersed, omega=9.111, depth=inf, wave_direction=0.000, rho=1025.0):\n",
      "The resolution of the mesh 'WaveBot' of the body 'WaveBot_immersed' might be insufficient for the wavelength λ=7.43e-01.\n",
      "This warning appears because the largest panel of this mesh has radius 1.01e-01 > λ/8.\n",
      "WARNING:capytaine.bem.problems_and_results:Mesh resolution for DiffractionProblem(body=WaveBot_immersed, omega=9.425, depth=inf, wave_direction=0.000, rho=1025.0):\n",
      "The resolution of the mesh 'WaveBot' of the body 'WaveBot_immersed' might be insufficient for the wavelength λ=6.94e-01.\n",
      "This warning appears because the largest panel of this mesh has radius 1.01e-01 > λ/8.\n",
      "WARNING:capytaine.bem.problems_and_results:Mesh resolution for DiffractionProblem(body=WaveBot_immersed, omega=9.739, depth=inf, wave_direction=0.000, rho=1025.0):\n",
      "The resolution of the mesh 'WaveBot' of the body 'WaveBot_immersed' might be insufficient for the wavelength λ=6.50e-01.\n",
      "This warning appears because the largest panel of this mesh has radius 1.01e-01 > λ/8.\n",
      "WARNING:capytaine.bem.problems_and_results:Mesh resolution for DiffractionProblem(body=WaveBot_immersed, omega=10.053, depth=inf, wave_direction=0.000, rho=1025.0):\n",
      "The resolution of the mesh 'WaveBot' of the body 'WaveBot_immersed' might be insufficient for the wavelength λ=6.10e-01.\n",
      "This warning appears because the largest panel of this mesh has radius 1.01e-01 > λ/8.\n",
      "WARNING:capytaine.bem.problems_and_results:Mesh resolution for DiffractionProblem(body=WaveBot_immersed, omega=10.367, depth=inf, wave_direction=0.000, rho=1025.0):\n",
      "The resolution of the mesh 'WaveBot' of the body 'WaveBot_immersed' might be insufficient for the wavelength λ=5.73e-01.\n",
      "This warning appears because the largest panel of this mesh has radius 1.01e-01 > λ/8.\n",
      "WARNING:capytaine.bem.problems_and_results:Mesh resolution for DiffractionProblem(body=WaveBot_immersed, omega=10.681, depth=inf, wave_direction=0.000, rho=1025.0):\n",
      "The resolution of the mesh 'WaveBot' of the body 'WaveBot_immersed' might be insufficient for the wavelength λ=5.40e-01.\n",
      "This warning appears because the largest panel of this mesh has radius 1.01e-01 > λ/8.\n",
      "WARNING:capytaine.bem.problems_and_results:Mesh resolution for DiffractionProblem(body=WaveBot_immersed, omega=10.996, depth=inf, wave_direction=0.000, rho=1025.0):\n",
      "The resolution of the mesh 'WaveBot' of the body 'WaveBot_immersed' might be insufficient for the wavelength λ=5.10e-01.\n",
      "This warning appears because the largest panel of this mesh has radius 1.01e-01 > λ/8.\n",
      "WARNING:capytaine.bem.problems_and_results:Mesh resolution for DiffractionProblem(body=WaveBot_immersed, omega=11.310, depth=inf, wave_direction=0.000, rho=1025.0):\n",
      "The resolution of the mesh 'WaveBot' of the body 'WaveBot_immersed' might be insufficient for the wavelength λ=4.82e-01.\n",
      "This warning appears because the largest panel of this mesh has radius 1.01e-01 > λ/8.\n",
      "WARNING:capytaine.bem.problems_and_results:Mesh resolution for DiffractionProblem(body=WaveBot_immersed, omega=11.624, depth=inf, wave_direction=0.000, rho=1025.0):\n",
      "The resolution of the mesh 'WaveBot' of the body 'WaveBot_immersed' might be insufficient for the wavelength λ=4.56e-01.\n",
      "This warning appears because the largest panel of this mesh has radius 1.01e-01 > λ/8.\n",
      "WARNING:capytaine.bem.problems_and_results:Mesh resolution for DiffractionProblem(body=WaveBot_immersed, omega=11.938, depth=inf, wave_direction=0.000, rho=1025.0):\n",
      "The resolution of the mesh 'WaveBot' of the body 'WaveBot_immersed' might be insufficient for the wavelength λ=4.32e-01.\n",
      "This warning appears because the largest panel of this mesh has radius 1.01e-01 > λ/8.\n",
      "WARNING:capytaine.bem.problems_and_results:Mesh resolution for DiffractionProblem(body=WaveBot_immersed, omega=12.252, depth=inf, wave_direction=0.000, rho=1025.0):\n",
      "The resolution of the mesh 'WaveBot' of the body 'WaveBot_immersed' might be insufficient for the wavelength λ=4.11e-01.\n",
      "This warning appears because the largest panel of this mesh has radius 1.01e-01 > λ/8.\n",
      "WARNING:capytaine.bem.problems_and_results:Mesh resolution for DiffractionProblem(body=WaveBot_immersed, omega=12.566, depth=inf, wave_direction=0.000, rho=1025.0):\n",
      "The resolution of the mesh 'WaveBot' of the body 'WaveBot_immersed' might be insufficient for the wavelength λ=3.90e-01.\n",
      "This warning appears because the largest panel of this mesh has radius 1.01e-01 > λ/8.\n",
      "WARNING:capytaine.bem.problems_and_results:Mesh resolution for DiffractionProblem(body=WaveBot_immersed, omega=12.881, depth=inf, wave_direction=0.000, rho=1025.0):\n",
      "The resolution of the mesh 'WaveBot' of the body 'WaveBot_immersed' might be insufficient for the wavelength λ=3.72e-01.\n",
      "This warning appears because the largest panel of this mesh has radius 1.01e-01 > λ/8.\n",
      "WARNING:capytaine.bem.problems_and_results:Mesh resolution for DiffractionProblem(body=WaveBot_immersed, omega=13.195, depth=inf, wave_direction=0.000, rho=1025.0):\n",
      "The resolution of the mesh 'WaveBot' of the body 'WaveBot_immersed' might be insufficient for the wavelength λ=3.54e-01.\n",
      "This warning appears because the largest panel of this mesh has radius 1.01e-01 > λ/8.\n",
      "WARNING:capytaine.bem.problems_and_results:Mesh resolution for DiffractionProblem(body=WaveBot_immersed, omega=13.509, depth=inf, wave_direction=0.000, rho=1025.0):\n",
      "The resolution of the mesh 'WaveBot' of the body 'WaveBot_immersed' might be insufficient for the wavelength λ=3.38e-01.\n",
      "This warning appears because the largest panel of this mesh has radius 1.01e-01 > λ/8.\n",
      "WARNING:capytaine.bem.problems_and_results:Mesh resolution for DiffractionProblem(body=WaveBot_immersed, omega=13.823, depth=inf, wave_direction=0.000, rho=1025.0):\n",
      "The resolution of the mesh 'WaveBot' of the body 'WaveBot_immersed' might be insufficient for the wavelength λ=3.23e-01.\n",
      "This warning appears because the largest panel of this mesh has radius 1.01e-01 > λ/8.\n",
      "WARNING:capytaine.bem.problems_and_results:Mesh resolution for DiffractionProblem(body=WaveBot_immersed, omega=14.137, depth=inf, wave_direction=0.000, rho=1025.0):\n",
      "The resolution of the mesh 'WaveBot' of the body 'WaveBot_immersed' might be insufficient for the wavelength λ=3.08e-01.\n",
      "This warning appears because the largest panel of this mesh has radius 1.01e-01 > λ/8.\n",
      "WARNING:capytaine.bem.problems_and_results:Mesh resolution for DiffractionProblem(body=WaveBot_immersed, omega=14.451, depth=inf, wave_direction=0.000, rho=1025.0):\n",
      "The resolution of the mesh 'WaveBot' of the body 'WaveBot_immersed' might be insufficient for the wavelength λ=2.95e-01.\n",
      "This warning appears because the largest panel of this mesh has radius 1.01e-01 > λ/8.\n",
      "WARNING:capytaine.bem.problems_and_results:Mesh resolution for DiffractionProblem(body=WaveBot_immersed, omega=14.765, depth=inf, wave_direction=0.000, rho=1025.0):\n",
      "The resolution of the mesh 'WaveBot' of the body 'WaveBot_immersed' might be insufficient for the wavelength λ=2.83e-01.\n",
      "This warning appears because the largest panel of this mesh has radius 1.01e-01 > λ/8.\n",
      "WARNING:capytaine.bem.problems_and_results:Mesh resolution for DiffractionProblem(body=WaveBot_immersed, omega=15.080, depth=inf, wave_direction=0.000, rho=1025.0):\n",
      "The resolution of the mesh 'WaveBot' of the body 'WaveBot_immersed' might be insufficient for the wavelength λ=2.71e-01.\n",
      "This warning appears because the largest panel of this mesh has radius 1.01e-01 > λ/8.\n",
      "WARNING:capytaine.bem.problems_and_results:Mesh resolution for DiffractionProblem(body=WaveBot_immersed, omega=15.394, depth=inf, wave_direction=0.000, rho=1025.0):\n",
      "The resolution of the mesh 'WaveBot' of the body 'WaveBot_immersed' might be insufficient for the wavelength λ=2.60e-01.\n",
      "This warning appears because the largest panel of this mesh has radius 1.01e-01 > λ/8.\n",
      "WARNING:capytaine.bem.problems_and_results:Mesh resolution for DiffractionProblem(body=WaveBot_immersed, omega=15.708, depth=inf, wave_direction=0.000, rho=1025.0):\n",
      "The resolution of the mesh 'WaveBot' of the body 'WaveBot_immersed' might be insufficient for the wavelength λ=2.50e-01.\n",
      "This warning appears because the largest panel of this mesh has radius 1.01e-01 > λ/8.\n",
      "WARNING:capytaine.bem.problems_and_results:Mesh resolution for RadiationProblem(body=WaveBot_immersed, omega=8.796, depth=inf, radiating_dof=Heave, rho=1025.0):\n",
      "The resolution of the mesh 'WaveBot' of the body 'WaveBot_immersed' might be insufficient for the wavelength λ=7.97e-01.\n",
      "This warning appears because the largest panel of this mesh has radius 1.01e-01 > λ/8.\n",
      "WARNING:capytaine.bem.problems_and_results:Mesh resolution for RadiationProblem(body=WaveBot_immersed, omega=9.111, depth=inf, radiating_dof=Heave, rho=1025.0):\n",
      "The resolution of the mesh 'WaveBot' of the body 'WaveBot_immersed' might be insufficient for the wavelength λ=7.43e-01.\n",
      "This warning appears because the largest panel of this mesh has radius 1.01e-01 > λ/8.\n",
      "WARNING:capytaine.bem.problems_and_results:Mesh resolution for RadiationProblem(body=WaveBot_immersed, omega=9.425, depth=inf, radiating_dof=Heave, rho=1025.0):\n",
      "The resolution of the mesh 'WaveBot' of the body 'WaveBot_immersed' might be insufficient for the wavelength λ=6.94e-01.\n",
      "This warning appears because the largest panel of this mesh has radius 1.01e-01 > λ/8.\n",
      "WARNING:capytaine.bem.problems_and_results:Mesh resolution for RadiationProblem(body=WaveBot_immersed, omega=9.739, depth=inf, radiating_dof=Heave, rho=1025.0):\n",
      "The resolution of the mesh 'WaveBot' of the body 'WaveBot_immersed' might be insufficient for the wavelength λ=6.50e-01.\n",
      "This warning appears because the largest panel of this mesh has radius 1.01e-01 > λ/8.\n",
      "WARNING:capytaine.bem.problems_and_results:Mesh resolution for RadiationProblem(body=WaveBot_immersed, omega=10.053, depth=inf, radiating_dof=Heave, rho=1025.0):\n",
      "The resolution of the mesh 'WaveBot' of the body 'WaveBot_immersed' might be insufficient for the wavelength λ=6.10e-01.\n",
      "This warning appears because the largest panel of this mesh has radius 1.01e-01 > λ/8.\n",
      "WARNING:capytaine.bem.problems_and_results:Mesh resolution for RadiationProblem(body=WaveBot_immersed, omega=10.367, depth=inf, radiating_dof=Heave, rho=1025.0):\n",
      "The resolution of the mesh 'WaveBot' of the body 'WaveBot_immersed' might be insufficient for the wavelength λ=5.73e-01.\n",
      "This warning appears because the largest panel of this mesh has radius 1.01e-01 > λ/8.\n",
      "WARNING:capytaine.bem.problems_and_results:Mesh resolution for RadiationProblem(body=WaveBot_immersed, omega=10.681, depth=inf, radiating_dof=Heave, rho=1025.0):\n",
      "The resolution of the mesh 'WaveBot' of the body 'WaveBot_immersed' might be insufficient for the wavelength λ=5.40e-01.\n",
      "This warning appears because the largest panel of this mesh has radius 1.01e-01 > λ/8.\n",
      "WARNING:capytaine.bem.problems_and_results:Mesh resolution for RadiationProblem(body=WaveBot_immersed, omega=10.996, depth=inf, radiating_dof=Heave, rho=1025.0):\n",
      "The resolution of the mesh 'WaveBot' of the body 'WaveBot_immersed' might be insufficient for the wavelength λ=5.10e-01.\n",
      "This warning appears because the largest panel of this mesh has radius 1.01e-01 > λ/8.\n",
      "WARNING:capytaine.bem.problems_and_results:Mesh resolution for RadiationProblem(body=WaveBot_immersed, omega=11.310, depth=inf, radiating_dof=Heave, rho=1025.0):\n",
      "The resolution of the mesh 'WaveBot' of the body 'WaveBot_immersed' might be insufficient for the wavelength λ=4.82e-01.\n",
      "This warning appears because the largest panel of this mesh has radius 1.01e-01 > λ/8.\n",
      "WARNING:capytaine.bem.problems_and_results:Mesh resolution for RadiationProblem(body=WaveBot_immersed, omega=11.624, depth=inf, radiating_dof=Heave, rho=1025.0):\n",
      "The resolution of the mesh 'WaveBot' of the body 'WaveBot_immersed' might be insufficient for the wavelength λ=4.56e-01.\n",
      "This warning appears because the largest panel of this mesh has radius 1.01e-01 > λ/8.\n",
      "WARNING:capytaine.bem.problems_and_results:Mesh resolution for RadiationProblem(body=WaveBot_immersed, omega=11.938, depth=inf, radiating_dof=Heave, rho=1025.0):\n",
      "The resolution of the mesh 'WaveBot' of the body 'WaveBot_immersed' might be insufficient for the wavelength λ=4.32e-01.\n",
      "This warning appears because the largest panel of this mesh has radius 1.01e-01 > λ/8.\n",
      "WARNING:capytaine.bem.problems_and_results:Mesh resolution for RadiationProblem(body=WaveBot_immersed, omega=12.252, depth=inf, radiating_dof=Heave, rho=1025.0):\n",
      "The resolution of the mesh 'WaveBot' of the body 'WaveBot_immersed' might be insufficient for the wavelength λ=4.11e-01.\n",
      "This warning appears because the largest panel of this mesh has radius 1.01e-01 > λ/8.\n",
      "WARNING:capytaine.bem.problems_and_results:Mesh resolution for RadiationProblem(body=WaveBot_immersed, omega=12.566, depth=inf, radiating_dof=Heave, rho=1025.0):\n",
      "The resolution of the mesh 'WaveBot' of the body 'WaveBot_immersed' might be insufficient for the wavelength λ=3.90e-01.\n",
      "This warning appears because the largest panel of this mesh has radius 1.01e-01 > λ/8.\n",
      "WARNING:capytaine.bem.problems_and_results:Mesh resolution for RadiationProblem(body=WaveBot_immersed, omega=12.881, depth=inf, radiating_dof=Heave, rho=1025.0):\n",
      "The resolution of the mesh 'WaveBot' of the body 'WaveBot_immersed' might be insufficient for the wavelength λ=3.72e-01.\n",
      "This warning appears because the largest panel of this mesh has radius 1.01e-01 > λ/8.\n",
      "WARNING:capytaine.bem.problems_and_results:Mesh resolution for RadiationProblem(body=WaveBot_immersed, omega=13.195, depth=inf, radiating_dof=Heave, rho=1025.0):\n",
      "The resolution of the mesh 'WaveBot' of the body 'WaveBot_immersed' might be insufficient for the wavelength λ=3.54e-01.\n",
      "This warning appears because the largest panel of this mesh has radius 1.01e-01 > λ/8.\n",
      "WARNING:capytaine.bem.problems_and_results:Mesh resolution for RadiationProblem(body=WaveBot_immersed, omega=13.509, depth=inf, radiating_dof=Heave, rho=1025.0):\n",
      "The resolution of the mesh 'WaveBot' of the body 'WaveBot_immersed' might be insufficient for the wavelength λ=3.38e-01.\n",
      "This warning appears because the largest panel of this mesh has radius 1.01e-01 > λ/8.\n",
      "WARNING:capytaine.bem.problems_and_results:Mesh resolution for RadiationProblem(body=WaveBot_immersed, omega=13.823, depth=inf, radiating_dof=Heave, rho=1025.0):\n",
      "The resolution of the mesh 'WaveBot' of the body 'WaveBot_immersed' might be insufficient for the wavelength λ=3.23e-01.\n",
      "This warning appears because the largest panel of this mesh has radius 1.01e-01 > λ/8.\n",
      "WARNING:capytaine.bem.problems_and_results:Mesh resolution for RadiationProblem(body=WaveBot_immersed, omega=14.137, depth=inf, radiating_dof=Heave, rho=1025.0):\n",
      "The resolution of the mesh 'WaveBot' of the body 'WaveBot_immersed' might be insufficient for the wavelength λ=3.08e-01.\n",
      "This warning appears because the largest panel of this mesh has radius 1.01e-01 > λ/8.\n",
      "WARNING:capytaine.bem.problems_and_results:Mesh resolution for RadiationProblem(body=WaveBot_immersed, omega=14.451, depth=inf, radiating_dof=Heave, rho=1025.0):\n",
      "The resolution of the mesh 'WaveBot' of the body 'WaveBot_immersed' might be insufficient for the wavelength λ=2.95e-01.\n",
      "This warning appears because the largest panel of this mesh has radius 1.01e-01 > λ/8.\n",
      "WARNING:capytaine.bem.problems_and_results:Mesh resolution for RadiationProblem(body=WaveBot_immersed, omega=14.765, depth=inf, radiating_dof=Heave, rho=1025.0):\n",
      "The resolution of the mesh 'WaveBot' of the body 'WaveBot_immersed' might be insufficient for the wavelength λ=2.83e-01.\n",
      "This warning appears because the largest panel of this mesh has radius 1.01e-01 > λ/8.\n",
      "WARNING:capytaine.bem.problems_and_results:Mesh resolution for RadiationProblem(body=WaveBot_immersed, omega=15.080, depth=inf, radiating_dof=Heave, rho=1025.0):\n",
      "The resolution of the mesh 'WaveBot' of the body 'WaveBot_immersed' might be insufficient for the wavelength λ=2.71e-01.\n",
      "This warning appears because the largest panel of this mesh has radius 1.01e-01 > λ/8.\n",
      "WARNING:capytaine.bem.problems_and_results:Mesh resolution for RadiationProblem(body=WaveBot_immersed, omega=15.394, depth=inf, radiating_dof=Heave, rho=1025.0):\n",
      "The resolution of the mesh 'WaveBot' of the body 'WaveBot_immersed' might be insufficient for the wavelength λ=2.60e-01.\n",
      "This warning appears because the largest panel of this mesh has radius 1.01e-01 > λ/8.\n",
      "WARNING:capytaine.bem.problems_and_results:Mesh resolution for RadiationProblem(body=WaveBot_immersed, omega=15.708, depth=inf, radiating_dof=Heave, rho=1025.0):\n",
      "The resolution of the mesh 'WaveBot' of the body 'WaveBot_immersed' might be insufficient for the wavelength λ=2.50e-01.\n",
      "This warning appears because the largest panel of this mesh has radius 1.01e-01 > λ/8.\n"
     ]
    }
   ],
   "source": [
    "bem_data = wot.run_bem(fb, freq)\n"
   ]
  },
  {
   "cell_type": "markdown",
   "metadata": {},
   "source": [
    "### PTO\n",
    "\n",
    "We will define our PTO based on a PTO impedance (refer to slides and papers). The PTO will be used to \n",
    "1. add an additional force to our dynamic equations\n",
    "1. the objective function: average electrical power"
   ]
  },
  {
   "cell_type": "code",
   "execution_count": 7,
   "metadata": {},
   "outputs": [],
   "source": [
    "## PTO impedance definition\n",
    "omega = bem_data.omega.values  # rad/s\n",
    "gear_ratio = 12.0  # rad/m\n",
    "torque_constant = 6.7  # N*m/A\n",
    "winding_resistance = 0.5  # Ω\n",
    "winding_inductance = 0.0  # H\n",
    "drivetrain_inertia = 2.0  # kg*m^2\n",
    "drivetrain_friction = 1.0  # N*m*s/rad\n",
    "drivetrain_stiffness = 0.0  # N*m/rad\n",
    "\n",
    "drivetrain_impedance = (1j*omega*drivetrain_inertia +\n",
    "                        drivetrain_friction +\n",
    "                        1/(1j*omega)*drivetrain_stiffness)\n",
    "\n",
    "winding_impedance = winding_resistance + 1j*omega*winding_inductance\n",
    "\n",
    "\n",
    "pto_impedance_11 = -1* gear_ratio**2 * drivetrain_impedance\n",
    "off_diag = np.sqrt(3.0/2.0) * torque_constant * gear_ratio\n",
    "pto_impedance_12 = -1*(off_diag+0j) * np.ones(omega.shape)\n",
    "pto_impedance_21 = -1*(off_diag+0j) * np.ones(omega.shape)\n",
    "pto_impedance_22 = winding_impedance\n",
    "pto_impedance = np.array([[pto_impedance_11, pto_impedance_12],\n",
    "                          [pto_impedance_21, pto_impedance_22]])\n"
   ]
  },
  {
   "cell_type": "code",
   "execution_count": 8,
   "metadata": {},
   "outputs": [],
   "source": [
    "f_max = 1000\n",
    "\n",
    "def saturated_pi(pto, wec, x_wec, x_opt, waves=None, nsubsteps=1):\n",
    "    force_td_tmp = wot.pto.controller_pi(pto, wec, x_wec, x_opt, waves, nsubsteps)\n",
    "    force_td = np.clip(force_td_tmp, -1*f_max, f_max)\n",
    "    return force_td\n"
   ]
  },
  {
   "cell_type": "code",
   "execution_count": 9,
   "metadata": {},
   "outputs": [],
   "source": [
    "## Create PTO object\n",
    "pto_name = ['PTO_Heave',]\n",
    "kinematics = np.eye(ndof)\n",
    "controller = saturated_pi\n",
    "loss = None\n",
    "pto = wot.pto.PTO(ndof, kinematics, controller, pto_impedance, loss, pto_name)\n"
   ]
  },
  {
   "cell_type": "markdown",
   "metadata": {},
   "source": [
    "### Constraints"
   ]
  },
  {
   "cell_type": "code",
   "execution_count": 10,
   "metadata": {},
   "outputs": [],
   "source": [
    "constraints = [\n",
    "    ]\n"
   ]
  },
  {
   "cell_type": "markdown",
   "metadata": {},
   "source": [
    "### Additional forces"
   ]
  },
  {
   "cell_type": "code",
   "execution_count": 11,
   "metadata": {},
   "outputs": [],
   "source": [
    "f_add = {\n",
    "    'PTO': pto.force_on_wec,\n",
    "}\n"
   ]
  },
  {
   "cell_type": "markdown",
   "metadata": {},
   "source": [
    "### WEC Object"
   ]
  },
  {
   "cell_type": "code",
   "execution_count": 12,
   "metadata": {},
   "outputs": [
    {
     "name": "stderr",
     "output_type": "stream",
     "text": [
      "WARNING:wecopttool.core:Linear damping for DOF \"Heave\" has negative or close to zero terms. Shifting up via linear friction of 43.98106150041016 N/(m/s).\n"
     ]
    }
   ],
   "source": [
    "wec = wot.WEC.from_bem(bem_data,\n",
    "                       inertia_matrix=mass,\n",
    "                       hydrostatic_stiffness=hydro_stiffness,\n",
    "                       constraints=constraints,\n",
    "                       friction=None,\n",
    "                       f_add=f_add,\n",
    ")\n"
   ]
  },
  {
   "cell_type": "markdown",
   "metadata": {},
   "source": [
    "## 2. Waves"
   ]
  },
  {
   "cell_type": "code",
   "execution_count": 13,
   "metadata": {},
   "outputs": [],
   "source": [
    "regular = True\n",
    "\n",
    "if regular:\n",
    "    amplitude = 0.2\n",
    "    wavefreq = 0.3\n",
    "    waves = wot.waves.regular_wave(f1, nfreq, wavefreq, amplitude)\n",
    "else:\n",
    "    fp = 0.3\n",
    "    Hm0 = 0.2\n",
    "    omnidirectional_spectrum = wot.waves.omnidirectional_spectrum(\n",
    "        f1=f1,\n",
    "        nfreq=nfreq,\n",
    "        spectrum_func=lambda f: wot.waves.jonswap_spectrum(freq=f, fp=fp, hs=Hm0, gamma=3.3),\n",
    "        spectrum_name=\"JONSWAP\",\n",
    "    )\n",
    "    waves = wot.waves.long_crested_wave(omnidirectional_spectrum, 0, seed=13)\n"
   ]
  },
  {
   "cell_type": "markdown",
   "metadata": {},
   "source": [
    "## 3. Objective Function"
   ]
  },
  {
   "cell_type": "code",
   "execution_count": 14,
   "metadata": {},
   "outputs": [],
   "source": [
    "obj_fun = pto.average_power\n"
   ]
  },
  {
   "cell_type": "markdown",
   "metadata": {},
   "source": [
    "## 4. Solve"
   ]
  },
  {
   "cell_type": "code",
   "execution_count": 15,
   "metadata": {},
   "outputs": [],
   "source": [
    "nstate_opt = 2\n"
   ]
  },
  {
   "cell_type": "code",
   "execution_count": 17,
   "metadata": {},
   "outputs": [
    {
     "name": "stdout",
     "output_type": "stream",
     "text": [
      "Optimization terminated successfully    (Exit mode 0)\n",
      "            Current function value: -172.7631699907384\n",
      "            Iterations: 76\n",
      "            Function evaluations: 113\n",
      "            Gradient evaluations: 76\n",
      "Optimal average electrical power: -172.7631699907384 W\n"
     ]
    }
   ],
   "source": [
    "# Solve\n",
    "scale_x_wec = 1e3 # 1e1\n",
    "scale_x_opt = 1 # 1e-3\n",
    "scale_obj = 1 # 1e-2\n",
    "\n",
    "results = wec.solve(\n",
    "    waves,\n",
    "    obj_fun,\n",
    "    nstate_opt,\n",
    "    scale_x_wec=scale_x_wec,\n",
    "    scale_x_opt=scale_x_opt,\n",
    "    scale_obj=scale_obj,\n",
    ")\n",
    "\n",
    "print(f'Optimal average electrical power: {results.fun} W')\n",
    "\n",
    "# Post-process\n",
    "nsubstep_postprocess = 4\n",
    "wec_fdom, wec_tdom = wec.post_process(results, waves, nsubstep_postprocess)\n",
    "pto_fdom, pto_tdom = pto.post_process(wec, results, waves, nsubstep_postprocess)\n"
   ]
  },
  {
   "cell_type": "markdown",
   "metadata": {},
   "source": [
    "## 5. Solve PI"
   ]
  },
  {
   "cell_type": "code",
   "execution_count": 18,
   "metadata": {},
   "outputs": [
    {
     "name": "stderr",
     "output_type": "stream",
     "text": [
      "WARNING:wecopttool.core:Linear damping for DOF \"Heave\" has negative or close to zero terms. Shifting up via linear friction of 43.98106150041016 N/(m/s).\n"
     ]
    },
    {
     "name": "stdout",
     "output_type": "stream",
     "text": [
      "Optimization terminated successfully    (Exit mode 0)\n",
      "            Current function value: -2.958934829970642\n",
      "            Iterations: 35\n",
      "            Function evaluations: 40\n",
      "            Gradient evaluations: 35\n",
      "Optimal average electrical power: -295.8934829970642 W\n"
     ]
    }
   ],
   "source": [
    "controller_pi = wot.pto.controller_pi\n",
    "pto_pi = wot.pto.PTO(ndof, kinematics, controller_pi, pto_impedance, loss, pto_name)\n",
    "f_add_pi = {'PTO': pto_pi.force_on_wec,}\n",
    "wec_pi = wot.WEC.from_bem(bem_data,\n",
    "                       inertia_matrix=mass,\n",
    "                       hydrostatic_stiffness=hydro_stiffness,\n",
    "                       constraints=constraints,\n",
    "                       friction=None,\n",
    "                       f_add=f_add_pi,\n",
    ")\n",
    "obj_fun_pi = pto_pi.average_power\n",
    "\n",
    "scale_x_wec_pi = 1e1\n",
    "scale_x_opt_pi = 1e-3\n",
    "scale_obj_pi = 1e-2\n",
    "\n",
    "results_pi = wec_pi.solve(\n",
    "    waves,\n",
    "    obj_fun_pi,\n",
    "    nstate_opt,\n",
    "    scale_x_wec=scale_x_wec_pi,\n",
    "    scale_x_opt=scale_x_opt_pi,\n",
    "    scale_obj=scale_obj_pi,\n",
    ")\n",
    "\n",
    "print(f'Optimal average electrical power: {results_pi.fun} W')\n",
    "\n",
    "# Post-process\n",
    "# nsubstep_postprocess = 4\n",
    "wec_fdom_pi, wec_tdom_pi = wec_pi.post_process(results_pi, waves, nsubstep_postprocess)\n",
    "pto_fdom_pi, pto_tdom_pi = pto_pi.post_process(wec_pi, results_pi, waves, nsubstep_postprocess)\n"
   ]
  },
  {
   "cell_type": "markdown",
   "metadata": {},
   "source": [
    "## 6. Unstructured, constrained"
   ]
  },
  {
   "cell_type": "code",
   "execution_count": null,
   "metadata": {},
   "outputs": [],
   "source": [
    "nstate_opt_uc = 2*nfreq\n",
    "\n",
    "controller_uc = None\n",
    "pto_uc = wot.pto.PTO(ndof, kinematics, controller_uc, pto_impedance, loss, pto_name)\n",
    "f_add_uc = {'PTO': pto_uc.force_on_wec,}\n",
    "\n",
    "\n",
    "def const_f_pto(wec, x_wec, x_opt, waves):\n",
    "    f = pto.force_on_wec(wec, x_wec, x_opt, waves, nsubsteps)\n",
    "    return f_max - np.abs(f.flatten())\n",
    "\n",
    "constraints_uc = [\n",
    "    {'type': 'ineq', 'fun': const_f_pto,},\n",
    "]\n",
    "\n",
    "wec_uc = wot.WEC.from_bem(bem_data,\n",
    "                       inertia_matrix=mass,\n",
    "                       hydrostatic_stiffness=hydro_stiffness,\n",
    "                       constraints=constraints_uc,\n",
    "                       friction=None,\n",
    "                       f_add=f_add_uc,\n",
    ")\n",
    "obj_fun_uc = pto_uc.average_power\n",
    "\n",
    "scale_x_wec_uc = 1e1\n",
    "scale_x_opt_uc = 1e-3\n",
    "scale_obj_uc = 1e-2\n",
    "\n",
    "results_uc = wec_uc.solve(\n",
    "    waves,\n",
    "    obj_fun_uc,\n",
    "    nstate_opt_uc,\n",
    "    scale_x_wec=scale_x_wec_uc,\n",
    "    scale_x_opt=scale_x_opt_uc,\n",
    "    scale_obj=scale_obj_uc,\n",
    ")\n",
    "\n",
    "print(f'Optimal average electrical power: {results_uc.fun} W')\n",
    "\n",
    "# Post-process\n",
    "# nsubstep_postprocess = 4\n",
    "wec_fdom_uc, wec_tdom_uc = wec_uc.post_process(results_uc, waves, nsubstep_postprocess)\n",
    "pto_fdom_uc, pto_tdom_uc = pto_uc.post_process(wec_uc, results_uc, waves, nsubstep_postprocess)\n"
   ]
  },
  {
   "cell_type": "markdown",
   "metadata": {},
   "source": [
    "## 7.Plots"
   ]
  },
  {
   "cell_type": "code",
   "execution_count": null,
   "metadata": {},
   "outputs": [],
   "source": [
    "n = 4\n",
    "fig, ax = plt.subplots(n,1, sharex=True, figsize=(10,10))\n",
    "plt.xlim([0, wec.tf])\n",
    "cmap = plt.get_cmap(\"tab10\")\n",
    "\n",
    "# excitation force\n",
    "i = 0\n",
    "y = np.squeeze(wec_tdom['force'].sel(type='Froude_Krylov') +\n",
    "               wec_tdom['force'].sel(type='diffraction'))\n",
    "y_pi = np.squeeze(wec_tdom_pi['force'].sel(type='Froude_Krylov') +\n",
    "                  wec_tdom_pi['force'].sel(type='diffraction'))\n",
    "\n",
    "ax[i].plot(0, y_pi[0], 'o', color=cmap(1), label='_nolegend_')\n",
    "ax[i].plot(wec_pi.tf, y_pi[0], 'o', color=cmap(1), markerfacecolor='none', label='_nolegend_')\n",
    "ax[i].plot([wec_pi.time_nsubsteps(nsubstep_postprocess)[-1], wec_pi.tf], [y_pi[-1], y_pi[0]], '-', color=cmap(1), label='_nolegend_')\n",
    "y_pi.plot(color=cmap(1), ax=ax[i], label='PI'); ax[i].set_xlabel(\"\"); ax[i].set_title(\"\")\n",
    "# ax[i].plot(wec_pi.)\n",
    "\n",
    "ax[i].plot(0, y[0], 'o', color=cmap(0), label='_nolegend_')\n",
    "ax[i].plot(wec.tf, y[0], 'o', color=cmap(0), markerfacecolor='none', label='_nolegend_')\n",
    "ax[i].plot([wec.time_nsubsteps(nsubstep_postprocess)[-1], wec.tf], [y[-1], y[0]], '--', color=cmap(0), label='_nolegend_')\n",
    "\n",
    "y.plot(color=cmap(0), linestyle='--', ax=ax[i], label='Sat. PI'); ax[i].set_xlabel(\"\"); ax[i].set_title(\"\")\n",
    "\n",
    "ax[i].set_ylabel('excitation force [N]')\n",
    "\n",
    "# PTO force\n",
    "i = 1\n",
    "y = np.squeeze(pto_tdom['force'])\n",
    "y_pi = np.squeeze(pto_tdom_pi['force'])\n",
    "\n",
    "ax[i].plot([0, wec.tf], [f_max, f_max], 'k--', linewidth=0.5, label='_nolegend_')\n",
    "ax[i].plot([0, wec.tf], [-f_max, -f_max], 'k--', linewidth=0.5, label='_nolegend_')\n",
    "ax[i].plot([0, wec.tf], [0, 0], 'k-', linewidth=0.5, label='_nolegend_')\n",
    "\n",
    "ax[i].plot(0, y_pi[0], 'o', color=cmap(1), label='_nolegend_')\n",
    "ax[i].plot(wec_pi.tf, y_pi[0], 'o', color=cmap(1), markerfacecolor='none', label='_nolegend_')\n",
    "ax[i].plot([wec_pi.time_nsubsteps(nsubstep_postprocess)[-1], wec_pi.tf], [y_pi[-1], y_pi[0]], '-', color=cmap(1), label='_nolegend_')\n",
    "y_pi.plot(color=cmap(1), ax=ax[i], label='PI'); ax[i].set_xlabel(\"\"); ax[i].set_title(\"\")\n",
    "\n",
    "ax[i].plot(0, y[0], 'o', color=cmap(0), label='_nolegend_')\n",
    "ax[i].plot(wec.tf, y[0], 'o', color=cmap(0), markerfacecolor='none', label='_nolegend_')\n",
    "ax[i].plot([wec.time_nsubsteps(nsubstep_postprocess)[-1], wec.tf], [y[-1], y[0]], '--', color=cmap(0), label='_nolegend_')\n",
    "\n",
    "y.plot(color=cmap(0), linestyle='--', ax=ax[i], label='Sat. PI') ; ax[i].set_xlabel(\"\"); ax[i].set_title(\"\")\n",
    "\n",
    "ax[i].set_ylabel('PTO force [N]')\n",
    "\n",
    "# position\n",
    "i = 2\n",
    "y = np.squeeze(wec_tdom['pos'])\n",
    "\n",
    "y_pi = np.squeeze(wec_tdom_pi['pos'])\n",
    "ax[i].plot(0, y_pi[0], 'o', color=cmap(1), label='_nolegend_')\n",
    "ax[i].plot(wec_pi.tf, y_pi[0], 'o', color=cmap(1), markerfacecolor='none', label='_nolegend_')\n",
    "ax[i].plot([wec_pi.time_nsubsteps(nsubstep_postprocess)[-1], wec_pi.tf], [y_pi[-1], y_pi[0]], '-', color=cmap(1), label='_nolegend_')\n",
    "y_pi.plot(color=cmap(1), ax=ax[i], label='PI'); ax[i].set_xlabel(\"\"); ax[i].set_title(\"\")\n",
    "\n",
    "ax[i].plot(0, y[0], 'o', color=cmap(0), label='_nolegend_')\n",
    "ax[i].plot(wec.tf, y[0], 'o', color=cmap(0), markerfacecolor='none', label='_nolegend_')\n",
    "ax[i].plot([wec.time_nsubsteps(nsubstep_postprocess)[-1], wec.tf], [y[-1], y[0]], '--', color=cmap(0), label='_nolegend_')\n",
    "\n",
    "y.plot(color=cmap(0), linestyle='--', ax=ax[i], label='Sat. PI'); ax[i].set_xlabel(\"\"); ax[i].set_title(\"\")\n",
    "\n",
    "ax[i].set_ylabel('position [m]')\n",
    "\n",
    "# velocity\n",
    "i = 3\n",
    "y = np.squeeze(wec_tdom['vel'])\n",
    "\n",
    "y_pi = np.squeeze(wec_tdom_pi['vel'])\n",
    "ax[i].plot(0, y_pi[0], 'o', color=cmap(1), label='_nolegend_')\n",
    "ax[i].plot(wec_pi.tf, y_pi[0], 'o', color=cmap(1), markerfacecolor='none', label='_nolegend_')\n",
    "ax[i].plot([wec_pi.time_nsubsteps(nsubstep_postprocess)[-1], wec_pi.tf], [y_pi[-1], y_pi[0]], '-', color=cmap(1), label='_nolegend_')\n",
    "y_pi.plot(color=cmap(1), ax=ax[i], label='PI'); ax[i].set_xlabel(\"\"); ax[i].set_title(\"\")\n",
    "\n",
    "ax[i].plot(0, y[0], 'o', color=cmap(0), label='_nolegend_')\n",
    "ax[i].plot(wec.tf, y[0], 'o', color=cmap(0), markerfacecolor='none', label='_nolegend_')\n",
    "ax[i].plot([wec.time_nsubsteps(nsubstep_postprocess)[-1], wec.tf], [y[-1], y[0]], '--', color=cmap(0), label='_nolegend_')\n",
    "\n",
    "y.plot(color=cmap(0), linestyle='--', ax=ax[i], label='Sat. PI'); ax[i].set_xlabel(\"\"); ax[i].set_title(\"\")\n",
    "\n",
    "ax[i].set_ylabel('velocity [m/s]')\n",
    "\n",
    "#\n",
    "plt.xlabel(\"time [s]\")\n",
    "ax[0].legend()\n"
   ]
  },
  {
   "cell_type": "code",
   "execution_count": null,
   "metadata": {},
   "outputs": [],
   "source": [
    "print(f\"PI gains: {results_pi.x[-2:]}\")\n",
    "print(f\"Saturated PI gains: {results.x[-2:]}\")\n"
   ]
  },
  {
   "cell_type": "code",
   "execution_count": null,
   "metadata": {},
   "outputs": [],
   "source": [
    "if not regular:\n",
    "    wavefreq = fp\n",
    "\n",
    "plt.figure()\n",
    "maxfreq = pto_fdom[\"freq\"][-1]/wavefreq\n",
    "plt.plot([0, maxfreq], [0, 0], 'k-', linewidth=0.5)\n",
    "plt.plot(pto_fdom_pi[\"freq\"]/wavefreq, np.abs(pto_fdom_pi.force), marker=\"o\", linestyle=\"None\", color=cmap(1))\n",
    "plt.plot(pto_fdom[\"freq\"]/wavefreq, np.abs(pto_fdom.force), marker=\"o\", linestyle=\"None\", color=cmap(0), alpha=0.5)\n",
    "plt.title(\"\")\n",
    "plt.xlabel(\"frequency ω/ω₀\")\n",
    "plt.ylabel(\"PTO force [N]\")\n",
    "plt.gca().xaxis.set_major_locator(MaxNLocator(integer=True))\n",
    "\n",
    "plt.xlim([0, maxfreq])\n"
   ]
  },
  {
   "cell_type": "code",
   "execution_count": null,
   "metadata": {},
   "outputs": [],
   "source": []
  }
 ],
 "metadata": {
  "kernelspec": {
   "display_name": "conda-wot",
   "language": "python",
   "name": "python3"
  },
  "language_info": {
   "codemirror_mode": {
    "name": "ipython",
    "version": 3
   },
   "file_extension": ".py",
   "mimetype": "text/x-python",
   "name": "python",
   "nbconvert_exporter": "python",
   "pygments_lexer": "ipython3",
   "version": "3.10.0"
  },
  "orig_nbformat": 4
 },
 "nbformat": 4,
 "nbformat_minor": 2
}
