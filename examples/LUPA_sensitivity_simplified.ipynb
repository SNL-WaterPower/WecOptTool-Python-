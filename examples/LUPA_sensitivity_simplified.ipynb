{
 "cells": [
  {
   "cell_type": "code",
   "execution_count": 1,
   "metadata": {},
   "outputs": [],
   "source": [
    "import gmsh, pygmsh\n",
    "import capytaine as cpy\n",
    "import autograd.numpy as np\n",
    "from autograd import grad, jacobian\n",
    "import matplotlib.pyplot as plt\n",
    "import xarray as xr\n",
    "from scipy.optimize import brute\n",
    "\n",
    "import wecopttool as wot\n",
    "\n",
    "## set colorblind-friendly colormap for plots\n",
    "plt.style.use('tableau-colorblind10')"
   ]
  },
  {
   "cell_type": "code",
   "execution_count": 2,
   "metadata": {},
   "outputs": [],
   "source": [
    "f1 = 0.02\n",
    "nfreq = 50\n",
    "\n",
    "filename = './data/bem.nc'\n",
    "bem_data = wot.read_netcdf(filename)"
   ]
  },
  {
   "cell_type": "code",
   "execution_count": 3,
   "metadata": {},
   "outputs": [
    {
     "name": "stderr",
     "output_type": "stream",
     "text": [
      "WARNING:wecopttool.core:Linear damping for DOF \"spar__Heave\" has negative or close to zero terms. Shifting up via linear friction of 0.04522885276232412 N/(m/s).\n",
      "WARNING:wecopttool.core:Linear damping for DOF \"Surge\" has negative or close to zero terms. Shifting up via linear friction of 9.24976381826743e-07 N/(m/s).\n"
     ]
    }
   ],
   "source": [
    "waves = None \n",
    "ndof = 4\n",
    "wec = wot.WEC.from_bem(bem_data,\n",
    "                       inertia_matrix=np.eye(ndof),\n",
    "                       hydrostatic_stiffness=np.eye(ndof),\n",
    "                       constraints=None,\n",
    "                       friction=None,\n",
    "                       f_add=None,\n",
    "                       dof_names=bem_data.influenced_dof.values,\n",
    ")"
   ]
  },
  {
   "cell_type": "code",
   "execution_count": 4,
   "metadata": {},
   "outputs": [],
   "source": [
    "x_wec = np.ones(400)\n",
    "x_opt = np.ones(100)"
   ]
  },
  {
   "cell_type": "code",
   "execution_count": null,
   "metadata": {},
   "outputs": [],
   "source": []
  },
  {
   "cell_type": "code",
   "execution_count": 5,
   "metadata": {},
   "outputs": [],
   "source": [
    "nsubsteps = 1\n",
    "\n",
    "sprocket_diameter = 0.13\n",
    "sprocket_MOI = 0.0060\n",
    "\n",
    "idler_pulley_diameter = 4.25\n",
    "idler_pulley_MOI = 0.0050\n",
    "\n",
    "generator_MOI = 1.786e-2\n",
    "generator_winding_resistance = 5.87\n",
    "generator_winding_inductance = 0.0536\n",
    "generator_torque_constant = 8.51\n",
    "\n",
    "drivetrain_friction = 0.5\n",
    "drivetrain_stiffness = 0.0\n",
    "\n",
    "pto_ndof = 1\n",
    "kinematics = np.array([[1, -1, 0, 0],])\n",
    "controller = None\n",
    "loss = None\n",
    "name = ['PTO_Heave',]\n",
    "\n",
    "def gear_ratio(pulley_radius):\n",
    "    return 1/pulley_radius  # rad/m \n",
    "\n",
    "def fun1(sprocket_diameter):\n",
    "    # omega=bem_data.omega.values\n",
    "    # pulley_ratio = sprocket_diameter / idler_pulley_diameter\n",
    "    # drivetrain_inertia = (\n",
    "    #     generator_MOI + \n",
    "    #     sprocket_MOI + \n",
    "    #     2 * idler_pulley_MOI*pulley_ratio**2\n",
    "    # )  # N*m^2\n",
    "    # drivetrain_impedance = (\n",
    "    #     1j*omega*drivetrain_inertia + \n",
    "    #     drivetrain_friction + \n",
    "    #     1/(1j*omega)*drivetrain_stiffness\n",
    "    # ) \n",
    "    # winding_impedance = (generator_winding_resistance\n",
    "    #                    + 1j*omega*generator_winding_inductance\n",
    "    # )\n",
    "    # pulley_radius = sprocket_diameter / 2\n",
    "    # pto_impedance_11 = -1* gear_ratio(pulley_radius)**2 * drivetrain_impedance\n",
    "    # off_diag = -1*np.ones(omega.shape) * (\n",
    "    #     np.sqrt(3.0/2.0) * generator_torque_constant * gear_ratio(pulley_radius) + 0j)\n",
    "    # pto_impedance_12 = off_diag \n",
    "    # pto_impedance_21 = off_diag\n",
    "    # pto_impedance_22 = winding_impedance\n",
    "    # pto_impedance = np.array([[pto_impedance_11, pto_impedance_12],\n",
    "    #                       [pto_impedance_21, pto_impedance_22]])\n",
    "    \n",
    "    pto_impedance = np.ones([2, 2, nfreq])*sprocket_diameter + 0j\n",
    "\n",
    "    pto = wot.pto.PTO(pto_ndof, kinematics, controller, pto_impedance, loss, name)\n",
    "    return np.sum(pto.transfer_mat)\n",
    "    # return pto.average_power(wec, x_wec, x_opt, waves, nsubsteps)\n",
    "\n",
    "grad1 = grad(fun1, 0)\n",
    "jac1 = jacobian(fun1, 0)"
   ]
  },
  {
   "cell_type": "code",
   "execution_count": 6,
   "metadata": {},
   "outputs": [
    {
     "data": {
      "text/plain": [
       "769.230769230769"
      ]
     },
     "execution_count": 6,
     "metadata": {},
     "output_type": "execute_result"
    }
   ],
   "source": [
    "fun1(0.13)"
   ]
  },
  {
   "cell_type": "code",
   "execution_count": 7,
   "metadata": {},
   "outputs": [
    {
     "data": {
      "text/plain": [
       "-5917.15976331361"
      ]
     },
     "execution_count": 7,
     "metadata": {},
     "output_type": "execute_result"
    }
   ],
   "source": [
    "grad1(0.13)"
   ]
  },
  {
   "cell_type": "code",
   "execution_count": null,
   "metadata": {},
   "outputs": [],
   "source": []
  }
 ],
 "metadata": {
  "kernelspec": {
   "display_name": "conda-wot",
   "language": "python",
   "name": "python3"
  },
  "language_info": {
   "codemirror_mode": {
    "name": "ipython",
    "version": 3
   },
   "file_extension": ".py",
   "mimetype": "text/x-python",
   "name": "python",
   "nbconvert_exporter": "python",
   "pygments_lexer": "ipython3",
   "version": "3.10.0"
  },
  "orig_nbformat": 4
 },
 "nbformat": 4,
 "nbformat_minor": 2
}
