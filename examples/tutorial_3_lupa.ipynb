{
 "cells": [
  {
   "cell_type": "markdown",
   "metadata": {},
   "source": [
    "# LUPA"
   ]
  },
  {
   "cell_type": "code",
   "execution_count": null,
   "metadata": {},
   "outputs": [],
   "source": [
    "import gmsh, pygmsh\n",
    "import capytaine as cpy\n",
    "import numpy as np\n",
    "import matplotlib.pyplot as plt\n",
    "import xarray as xr\n",
    "\n",
    "import wecopttool as wot"
   ]
  },
  {
   "cell_type": "code",
   "execution_count": null,
   "metadata": {},
   "outputs": [],
   "source": [
    "rho = 1000"
   ]
  },
  {
   "attachments": {},
   "cell_type": "markdown",
   "metadata": {},
   "source": [
    "## BEM Coefficients"
   ]
  },
  {
   "attachments": {},
   "cell_type": "markdown",
   "metadata": {},
   "source": [
    "### Buoy"
   ]
  },
  {
   "cell_type": "code",
   "execution_count": null,
   "metadata": {},
   "outputs": [],
   "source": [
    "# mesh\n",
    "mesh_size_factor = 0.3\n",
    "r1 = 1.0/2\n",
    "r2 = 0.4/2\n",
    "h1 = 0.5\n",
    "h2 = 0.21\n",
    "freeboard = 0.3\n",
    "r3 = 0.102/2 + 0.05  # TODO: geometry\n",
    "\n",
    "with pygmsh.occ.Geometry() as geom:\n",
    "    gmsh.option.setNumber('Mesh.MeshSizeFactor', mesh_size_factor)\n",
    "    cyl = geom.add_cylinder([0, 0, 0], [0, 0, -h1], r1)\n",
    "    cone = geom.add_cone([0, 0, -h1], [0, 0, -h2], r1, r2)\n",
    "    geom.translate(cyl, [0, 0, freeboard])\n",
    "    geom.translate(cone, [0, 0, freeboard])\n",
    "    tmp = geom.boolean_union([cyl, cone])\n",
    "    bar = geom.add_cylinder([0, 0, 10], [0,0,-20], r3)\n",
    "    geom.boolean_difference(tmp, bar)\n",
    "    mesh_buoy = geom.generate_mesh()"
   ]
  },
  {
   "cell_type": "code",
   "execution_count": null,
   "metadata": {},
   "outputs": [],
   "source": [
    "# floating body\n",
    "buoy_fb = cpy.FloatingBody.from_meshio(mesh_buoy, name='buoy')\n",
    "buoy_fb.add_translation_dof(name='Heave')"
   ]
  },
  {
   "cell_type": "code",
   "execution_count": null,
   "metadata": {},
   "outputs": [],
   "source": [
    "# mass properties\n",
    "mass_buoy = buoy_fb.disp_mass(rho=rho)\n",
    "cm_buoy = buoy_fb.center_of_buoyancy  # TODO: mass properties\n",
    "\n",
    "buoy_fb_copy = buoy_fb.copy()\n",
    "buoy_fb_copy.keep_only_dofs([])\n",
    "buoy_fb_copy.center_of_mass = cm_buoy\n",
    "buoy_fb_copy.rotation_center = buoy_fb_copy.center_of_mass\n",
    "buoy_fb_copy.add_rotation_dof(name=\"Pitch\")\n",
    "pitch_inertia_buoy = buoy_fb_copy.compute_rigid_body_inertia(rho=rho).values[0, 0]  # TODO: mass properties"
   ]
  },
  {
   "cell_type": "code",
   "execution_count": null,
   "metadata": {},
   "outputs": [],
   "source": [
    "# show\n",
    "buoy_fb.show_matplotlib()\n",
    "# buoy_fb.show()"
   ]
  },
  {
   "attachments": {},
   "cell_type": "markdown",
   "metadata": {},
   "source": [
    "### Spar"
   ]
  },
  {
   "cell_type": "code",
   "execution_count": null,
   "metadata": {},
   "outputs": [],
   "source": [
    "# mesh\n",
    "mesh_size_factor = 0.3\n",
    "r1 = 0.445/2  # body\n",
    "r2 = 0.914/2  # plate\n",
    "h1 = 1.016 \n",
    "h2 = 0.05  # TODO: geometry\n",
    "h3a = 1.651\n",
    "submergence = 3.658 - h3a - h1 - h2\n",
    "r3 = 0.102/2  # bar\n",
    "\n",
    "with pygmsh.occ.Geometry() as geom:\n",
    "    gmsh.option.setNumber('Mesh.MeshSizeFactor', mesh_size_factor)\n",
    "    body = geom.add_cylinder([0, 0, 0], [0, 0, -h1], r1)\n",
    "    geom.translate(body, [0, 0, -submergence])\n",
    "    plate = geom.add_cylinder([0, 0, 0], [0, 0, -h2], r2)\n",
    "    geom.translate(plate, [0, 0, -(submergence+h1)])\n",
    "    bar = geom.add_cylinder([0, 0, h3a], [0, 0, -(h3a+submergence)], r3)\n",
    "    geom.boolean_union([bar, body, plate])\n",
    "    mesh_spar = geom.generate_mesh()"
   ]
  },
  {
   "cell_type": "code",
   "execution_count": null,
   "metadata": {},
   "outputs": [],
   "source": [
    "# floating body\n",
    "spar_fb = cpy.FloatingBody.from_meshio(mesh_spar, name='spar')\n",
    "spar_fb.add_translation_dof(name='Heave')"
   ]
  },
  {
   "cell_type": "code",
   "execution_count": null,
   "metadata": {},
   "outputs": [],
   "source": [
    "# mass properties\n",
    "mass_spar = spar_fb.disp_mass(rho=rho)\n",
    "cm_spar = spar_fb.center_of_buoyancy  # TODO: mass properties\n",
    "\n",
    "spar_fb_copy = spar_fb.copy()\n",
    "spar_fb_copy.keep_only_dofs([])\n",
    "spar_fb_copy.center_of_mass = cm_spar\n",
    "spar_fb_copy.rotation_center = spar_fb_copy.center_of_mass\n",
    "spar_fb_copy.add_rotation_dof(name=\"Pitch\")\n",
    "pitch_inertia_spar = spar_fb_copy.compute_rigid_body_inertia(rho=rho).values[0, 0]  # TODO: mass properties"
   ]
  },
  {
   "cell_type": "code",
   "execution_count": null,
   "metadata": {},
   "outputs": [],
   "source": [
    "# show\n",
    "spar_fb.show_matplotlib()\n",
    "# spar_fb.show()"
   ]
  },
  {
   "attachments": {},
   "cell_type": "markdown",
   "metadata": {},
   "source": [
    "### LUPA"
   ]
  },
  {
   "cell_type": "code",
   "execution_count": null,
   "metadata": {},
   "outputs": [],
   "source": [
    "# floating body # mass properties\n",
    "lupa_fb = buoy_fb + spar_fb\n",
    "lupa_fb.name = 'LUPA'\n",
    "lupa_fb.add_translation_dof(name='Surge')\n",
    "lupa_fb.add_rotation_dof(name='Pitch')\n",
    "lupa_fb.center_of_mass = (mass_buoy*cm_buoy + mass_spar*cm_spar) / (mass_buoy + mass_spar)\n",
    "lupa_fb.rotation_center = lupa_fb.center_of_mass\n",
    "_ = lupa_fb.compute_hydrostatics(rho=rho)"
   ]
  },
  {
   "cell_type": "code",
   "execution_count": null,
   "metadata": {},
   "outputs": [],
   "source": [
    "# show\n",
    "lupa_fb.show_matplotlib()\n",
    "# lupa_fb.show()"
   ]
  },
  {
   "attachments": {},
   "cell_type": "markdown",
   "metadata": {},
   "source": [
    "### BEM"
   ]
  },
  {
   "cell_type": "code",
   "execution_count": null,
   "metadata": {},
   "outputs": [],
   "source": [
    "# compute coefficients\n",
    "f1 = 0.01\n",
    "nfreq = 50\n",
    "freq = wot.frequency(f1, nfreq, False)\n",
    "bem_data = wot.run_bem(lupa_fb, freq)"
   ]
  },
  {
   "cell_type": "code",
   "execution_count": null,
   "metadata": {},
   "outputs": [],
   "source": [
    "# plot coefficients\n",
    "radiating_dof = \"buoy__Heave\"\n",
    "# radiating_dof = \"spar__Heave\"\n",
    "# radiating_dof = \"Surge\"\n",
    "# radiating_dof = \"Pitch\"\n",
    "\n",
    "influenced_dof = \"buoy__Heave\"\n",
    "# influenced_dof = \"spar__Heave\"\n",
    "# influenced_dof = \"Surge\"\n",
    "# influenced_dof = \"Pitch\"\n",
    "\n",
    "# added mass\n",
    "plt.figure()\n",
    "bem_data.added_mass.sel(radiating_dof=radiating_dof, influenced_dof=influenced_dof).plot()\n",
    "\n",
    "# radiation damping\n",
    "plt.figure()\n",
    "bem_data.radiation_damping.sel(radiating_dof=radiating_dof, influenced_dof=influenced_dof).plot()\n",
    "\n",
    "# diffraction\n",
    "plt.figure()\n",
    "np.abs(bem_data.diffraction_force.sel(influenced_dof=influenced_dof)).plot()\n",
    "\n",
    "# FK\n",
    "plt.figure()\n",
    "np.abs(bem_data.Froude_Krylov_force.sel(influenced_dof=influenced_dof)).plot()"
   ]
  },
  {
   "attachments": {},
   "cell_type": "markdown",
   "metadata": {},
   "source": [
    "## WEC Object"
   ]
  },
  {
   "cell_type": "code",
   "execution_count": null,
   "metadata": {},
   "outputs": [],
   "source": [
    "# inertia & hydrostatics\n",
    "hydrostatic_stiffness = lupa_fb.hydrostatic_stiffness\n",
    "\n",
    "d_buoy = cm_buoy[2] - lupa_fb.center_of_mass[2]\n",
    "d_spar = cm_spar[2] - lupa_fb.center_of_mass[2]\n",
    "pitch_inertia = (\n",
    "    pitch_inertia_buoy + mass_buoy*d_buoy**2 + \n",
    "    pitch_inertia_spar + mass_spar*d_spar**2\n",
    ")\n",
    "inertia = np.diag([mass_buoy, mass_spar, lupa_fb.disp_mass(), pitch_inertia])"
   ]
  },
  {
   "cell_type": "code",
   "execution_count": null,
   "metadata": {},
   "outputs": [],
   "source": [
    "# PTO\n",
    "def gear_ratio(pulley_radius):\n",
    "    return 1/pulley_radius  # rad/m \n",
    "\n",
    "def pto_impedance(pulley_radius, omega=bem_data.omega.values):\n",
    "    torque_constant = 8.51  # N*m/A\n",
    "    winding_resistance = 5.87  # Ω \n",
    "    winding_inductance = 0.0536  # H \n",
    "    drivetrain_inertia = 2.0 / 2  # Kg*m^2 # TODO: rotor inertia 1.8e-2 + inertia of other 3 pulleys \n",
    "    drivetrain_friction = 1.0 / 2  # N*m*s/rad # TODO\n",
    "    drivetrain_stiffness = 0.0  # N*m/rad \n",
    "    drivetrain_impedance = (1j*omega*drivetrain_inertia + \n",
    "                            drivetrain_friction + \n",
    "                            1/(1j*omega)*drivetrain_stiffness) \n",
    "    winding_impedance = winding_resistance + 1j*omega*winding_inductance\n",
    "    pto_impedance_11 = -1* gear_ratio(pulley_radius)**2 * drivetrain_impedance\n",
    "    off_diag = -1*np.ones(omega.shape) * (\n",
    "        np.sqrt(3.0/2.0) * torque_constant * gear_ratio(pulley_radius) + 0j)\n",
    "    pto_impedance_12 = off_diag \n",
    "    pto_impedance_21 = off_diag\n",
    "    pto_impedance_22 = winding_impedance\n",
    "    impedance = np.array([[pto_impedance_11, pto_impedance_12],\n",
    "                          [pto_impedance_21, pto_impedance_22]])\n",
    "    return impedance\n",
    "\n",
    "name = [\"PTO_Heave\",]\n",
    "kinematics = np.array([[1, -1, 0, 0],])\n",
    "pto_ndof = 1\n",
    "controller = None\n",
    "loss = None\n",
    "min_radius = 0.0815\n",
    "max_radius = 0.2037\n",
    "mid_radius = 0.1273\n",
    "default_radii = [min_radius, mid_radius, max_radius] \n",
    "pto = wot.pto.PTO(pto_ndof, kinematics, controller, pto_impedance(mid_radius), loss, name)"
   ]
  },
  {
   "cell_type": "code",
   "execution_count": null,
   "metadata": {},
   "outputs": [],
   "source": [
    "# Constraints\n",
    "constraints = None  # TODO\n",
    "nsubsteps = 5\n",
    "\n",
    "## Geometry/displacements\n",
    "# minimum relative position between buoy and spar (soft end stop)\n",
    "stroke_max = 0.5  # m\n",
    "def const_stroke_pto(wec, x_wec, x_opt, waves): \n",
    "    pos = pto.position(wec, x_wec, x_opt, waves, nsubsteps)\n",
    "    return pos - np.abs(stroke_max.flatten())\n",
    "\n",
    "# maximum position of spar: (hit top beam?)\n",
    "# minimum position of spar: (hit bottom?)\n",
    "\n",
    "## GENERATOR\n",
    "# peak torque (generator) \n",
    "torque_peak = 137.9  # N*m\n",
    "def const_peak_torque_pto(wec, x_wec, x_opt, waves): \n",
    "    \"\"\"Instantaneous torque must not exceed max torque Tmax - |T| >=0 \n",
    "    \"\"\"\n",
    "    torque = pto.force(wec, x_wec, x_opt, waves, nsubsteps) / gear_ratio(mid_radius)\n",
    "    return torque_peak - np.abs(torque.flatten())\n",
    "\n",
    "# continuous torque (generator)\n",
    "torque_continuous = 46  # N*M\n",
    "def const_torque_pto(wec, x_wec, x_opt, waves): \n",
    "    \"\"\"RMS torque must not exceed max continous torque \n",
    "        Tmax_conti - Trms >=0 \"\"\"\n",
    "    torque = pto.force(wec, x_wec, x_opt, waves, nsubsteps) / gear_ratio(mid_radius)\n",
    "    torque_rms = np.sqrt(np.mean(torque**2))\n",
    "    return torque_continuous - np.abs(torque_rms.flatten())\n",
    "\n",
    "# max speed (generator)\n",
    "rot_speed = 150  #rpm\n",
    "rot_speed *= 2*np.pi  # rad/s\n",
    "def const_speed_pto(wec, x_wec, x_opt, waves): \n",
    "    rot_vel = pto.velocity(wec, x_wec, x_opt, waves, nsubsteps) * gear_ratio(mid_radius)\n",
    "    return rot_speed - np.abs(rot_vel.flatten())"
   ]
  },
  {
   "cell_type": "code",
   "execution_count": null,
   "metadata": {},
   "outputs": [],
   "source": [
    "# Additional Forces\n",
    "\n",
    "# mooring\n",
    "M = np.zeros([4,4])  # TODO\n",
    "moor = ((M + 0j).expand_dims({\"omega\": bem_data.omega}))\n",
    "tmp = moor.isel(omega=0).copy(deep=True)\n",
    "tmp['omega'] = tmp['omega'] * 0\n",
    "moor = xr.concat([tmp, moor], dim='omega') \n",
    "moor = moor.transpose(\"radiating_dof\", \"influenced_dof\", \"omega\")\n",
    "moor = -1*moor  # RHS of equation: ma = Σf \n",
    "mooring_force = wot.force_from_rao_transfer_function(moor, True)\n",
    "\n",
    "f_add = {\n",
    "    'PTO': pto.force_on_wec,\n",
    "    'Mooring': mooring_force\n",
    "}\n",
    "\n",
    "friction = np.diag([0, 0, 0, 0])"
   ]
  },
  {
   "cell_type": "code",
   "execution_count": null,
   "metadata": {},
   "outputs": [],
   "source": [
    "# WEC\n",
    "wec = wot.WEC.from_bem(bem_data,\n",
    "                       inertia_matrix=inertia,\n",
    "                       hydrostatic_stiffness=hydrostatic_stiffness,\n",
    "                       constraints=constraints,\n",
    "                       friction=friction,\n",
    "                       f_add=f_add\n",
    ")"
   ]
  },
  {
   "attachments": {},
   "cell_type": "markdown",
   "metadata": {},
   "source": [
    "## Waves"
   ]
  },
  {
   "cell_type": "code",
   "execution_count": null,
   "metadata": {},
   "outputs": [],
   "source": [
    "# regular (test/setup)\n",
    "amplitude = 0.1  \n",
    "wavefreq = 0.5\n",
    "phase = 0\n",
    "wavedir = 0\n",
    "waves_reg = wot.waves.regular_wave(f1, nfreq, wavefreq, amplitude, phase, wavedir)\n",
    "\n",
    "# LWF (South)\n",
    "cases = {\n",
    "    'max_90': {'Hs': 0.21, 'Tp': 3.09}, \n",
    "    'max_annual': {'Hs': 0.13, 'Tp': 2.35},\n",
    "    'max_occurrence': {'Hs': 0.07, 'Tp': 1.90},\n",
    "    'min_10': {'Hs': 0.04, 'Tp': 1.48},  \n",
    "}\n",
    "\n",
    "case = cases['max_occurence']  # CHANGE HERE! \n",
    "hs = cases['Hs']\n",
    "fp = 1/cases['Tp']\n",
    "spectrum = lambda f: wot.waves.jonswap_spectrum(f, fp, hs, gamma=3.3)\n",
    "efth = wot.waves.omnidirectional_spectrum(f1, nfreq, spectrum, \"JONSWAP\")\n",
    "waves = wot.waves.long_crested_wave(efth)"
   ]
  },
  {
   "attachments": {},
   "cell_type": "markdown",
   "metadata": {},
   "source": [
    "## Solve"
   ]
  },
  {
   "cell_type": "code",
   "execution_count": null,
   "metadata": {},
   "outputs": [],
   "source": [
    "# Objective function\n",
    "obj_fun = pto.average_power\n",
    "nstate_opt = wec.ncomponents\n",
    "\n",
    "# Solve\n",
    "scale_x_wec = 1e1  \n",
    "scale_x_opt = 1e-3  \n",
    "scale_obj = 1e-2  \n",
    "\n",
    "results = wec.solve(\n",
    "    waves_reg,  # CHANGE HERE \n",
    "    obj_fun, \n",
    "    nstate_opt, \n",
    "    scale_x_wec=scale_x_wec,\n",
    "    scale_x_opt=scale_x_opt,\n",
    "    scale_obj=scale_obj,\n",
    ")\n",
    "\n",
    "print(f'Optimal average electrical power: {-results.fun} W')\n",
    "\n",
    "# Post-process\n",
    "nsubsteps = 5\n",
    "wec_fdom, wec_tdom = wec.post_process(results, waves, nsubsteps)\n",
    "pto_fdom, pto_tdom = pto.post_process(wec, results, waves, nsubsteps)"
   ]
  },
  {
   "attachments": {},
   "cell_type": "markdown",
   "metadata": {},
   "source": [
    "## Results"
   ]
  },
  {
   "cell_type": "markdown",
   "metadata": {},
   "source": []
  }
 ],
 "metadata": {
  "kernelspec": {
   "display_name": ".venv",
   "language": "python",
   "name": "python3"
  },
  "language_info": {
   "codemirror_mode": {
    "name": "ipython",
    "version": 3
   },
   "file_extension": ".py",
   "mimetype": "text/x-python",
   "name": "python",
   "nbconvert_exporter": "python",
   "pygments_lexer": "ipython3",
   "version": "3.10.9"
  }
 },
 "nbformat": 4,
 "nbformat_minor": 2
}
