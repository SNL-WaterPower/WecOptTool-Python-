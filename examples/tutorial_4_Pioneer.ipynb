{
 "cells": [
  {
   "cell_type": "code",
   "execution_count": null,
   "metadata": {},
   "outputs": [],
   "source": [
    "import os\n",
    "\n",
    "import capytaine as cpy\n",
    "import autograd.numpy as np\n",
    "import matplotlib.pyplot as plt\n",
    "from scipy.optimize import brute\n",
    "from scipy.linalg import block_diag\n",
    "import mhkit.wave.resource as mhkit\n",
    "\n",
    "import wecopttool as wot\n",
    "wot.set_loglevel('INFO')"
   ]
  },
  {
   "attachments": {},
   "cell_type": "markdown",
   "metadata": {},
   "source": [
    "## Given properties"
   ]
  },
  {
   "cell_type": "code",
   "execution_count": null,
   "metadata": {},
   "outputs": [],
   "source": [
    "buoy_props = {\n",
    "    'CG': 0.242, # m\n",
    "    'MOI': 7484., # kg-m^2\n",
    "    'f0': 2 * np.pi /3.0842, # rad/s\n",
    "}\n",
    "\n",
    "flywheel_props = {\n",
    "    'MOI': 25,  # kg-m^2\n",
    "    'Coulomb friction': 2.0,  # N-m\n",
    "    'Viscous friction': 0.02,  # N-m/rad\n",
    "    'Motor damping': 4.0, # N-m-s/rad\n",
    "}\n",
    "\n",
    "spring_props = {\n",
    "    'Max torque': 750, # N-m\n",
    "    'Max displacement': np.deg2rad(45.0), # rad\n",
    "}"
   ]
  },
  {
   "attachments": {},
   "cell_type": "markdown",
   "metadata": {},
   "source": [
    "## Geometry\n",
    "Same general shape as WaveBot"
   ]
  },
  {
   "cell_type": "code",
   "execution_count": null,
   "metadata": {},
   "outputs": [],
   "source": [
    "in2m = 0.0254 # inch -> meter conversion factor\n",
    "draft = 0.5 # meters\n",
    "freeboard = 40. * in2m - draft\n",
    "hull_geom = wot.geom.WaveBot(r1=130./2 * in2m,\n",
    "                             r2=110./2 * in2m, \n",
    "                             h1=22.679 * in2m,\n",
    "                             h2=17.321 * in2m,\n",
    "                             scale_factor=1,\n",
    "                             freeboard=freeboard)\n",
    "mesh = hull_geom.mesh(mesh_size_factor=0.5)\n",
    "_ = hull_geom.plot_cross_section()"
   ]
  },
  {
   "attachments": {},
   "cell_type": "markdown",
   "metadata": {},
   "source": [
    "### Floating body\n",
    "1DOF in pitch. The `FloatingBody` object in Capytaine only models the buoy since it is the only body being excited by the waves; the flywheel dynamics will be captured later on."
   ]
  },
  {
   "cell_type": "code",
   "execution_count": null,
   "metadata": {},
   "outputs": [],
   "source": [
    "pnr_fb = cpy.FloatingBody.from_meshio(mesh, name=\"Pioneer\")\n",
    "pnr_fb.add_rotation_dof(name='Pitch')\n",
    "pnr_fb.center_of_mass = np.array([0., 0., buoy_props['CG']])\n",
    "pnr_fb.rotation_center = pnr_fb.center_of_mass\n",
    "ndof = pnr_fb.nb_dofs\n",
    "pnr_fb.show_matplotlib()"
   ]
  },
  {
   "attachments": {},
   "cell_type": "markdown",
   "metadata": {},
   "source": [
    "## Hydrodynamics and hydrostatics\n",
    "Hydrostatic stiffness values match closely to experimental values"
   ]
  },
  {
   "cell_type": "code",
   "execution_count": null,
   "metadata": {},
   "outputs": [],
   "source": [
    "rho = 1025. # kg/m^3\n",
    "f1 = 0.025 # Hz\n",
    "nfreq = 25\n",
    "freq = wot.frequency(f1, nfreq, False) # False -> no zero frequency\n",
    "\n",
    "\n",
    "file_name = \"data/pioneer_bem_25freq.nc\"\n",
    "if os.path.exists(file_name):\n",
    "    bem_data = wot.read_netcdf(file_name)\n",
    "else:    \n",
    "    bem_data = wot.run_bem(pnr_fb, freq)\n",
    "    wot.write_netcdf(file_name, bem_data)\n",
    "omega = bem_data.omega.values\n",
    "\n",
    "pnr_fb.keep_immersed_part()\n",
    "k_buoy = pnr_fb.compute_hydrostatic_stiffness(rho=rho).values.squeeze()\n",
    "k_spring = spring_props['Max torque'] / spring_props['Max displacement']\n",
    "print(f'Hydrostatic stiffness from Capytaine: {k_buoy} N-m/rad')\n",
    "print('Hydrostatic stiffness from experiment: 37204 N-m/rad')"
   ]
  },
  {
   "cell_type": "code",
   "execution_count": null,
   "metadata": {},
   "outputs": [],
   "source": [
    "# plots\n",
    "fig_am, ax_am = plt.subplots(tight_layout=True, sharex=True)\n",
    "fig_rd, ax_rd = plt.subplots(tight_layout=True, sharex=True)\n",
    "fig_ex, ax_ex = plt.subplots(tight_layout=True, sharex=True)\n",
    "\n",
    "# Excitation\n",
    "np.abs(bem_data.diffraction_force.sel(influenced_dof='Pitch')).plot(\n",
    "    ax=ax_ex, linestyle='dashed', label='Diffraction force')\n",
    "np.abs(bem_data.Froude_Krylov_force.sel(influenced_dof='Pitch')).plot(\n",
    "    ax=ax_ex, linestyle='dashdot', label='Froude-Krylov force')\n",
    "ex_handles, ex_labels = ax_ex.get_legend_handles_labels()\n",
    "ax_ex.set_xlabel(f'$\\omega$', fontsize=10)\n",
    "ax_ex.set_title('Wave Excitation Coefficients', fontweight='bold')\n",
    "fig_ex.legend(ex_handles, ex_labels, loc='center right', frameon=False)\n",
    "\n",
    "# Added mass\n",
    "bem_data.added_mass.sel(\n",
    "    radiating_dof='Pitch', influenced_dof='Pitch').plot(ax=ax_am)\n",
    "ax_am.set_xlabel(f'$\\omega$', fontsize=10)\n",
    "ax_am.set_title('Added Mass Coefficients', fontweight='bold')\n",
    "\n",
    "# Radiation damping\n",
    "bem_data.radiation_damping.sel(\n",
    "    radiating_dof='Pitch', influenced_dof='Pitch').plot(ax=ax_rd)\n",
    "ax_rd.set_xlabel(f'$\\omega$', fontsize=10)\n",
    "ax_rd.set_title('Radiation Damping Coefficients', fontweight='bold')"
   ]
  },
  {
   "attachments": {},
   "cell_type": "markdown",
   "metadata": {},
   "source": [
    "## PTO\n",
    "Using same impedance matrix as WaveBot, except replace gear ratio with the one determined from the spring stiffness and buoy moment of inertia + natural frequency."
   ]
  },
  {
   "cell_type": "code",
   "execution_count": null,
   "metadata": {},
   "outputs": [],
   "source": [
    "nstate_pto = 2 * nfreq\n",
    "\n",
    "def gear_ratio(k_spring, moi, nat_freq):\n",
    "    return np.sqrt(k_spring / (moi * nat_freq**2))\n",
    "n_default = gear_ratio(k_spring, flywheel_props['MOI'], buoy_props['f0'])"
   ]
  },
  {
   "cell_type": "code",
   "execution_count": null,
   "metadata": {},
   "outputs": [],
   "source": [
    "torque_constant = 3.512\n",
    "winding_resistance = 0.304\n",
    "winding_inductance = 0.0\n",
    "drivetrain_inertia = 2.0 #flywheel_props['MOI']\n",
    "drivetrain_friction = 1.0\n",
    "drivetrain_stiffness = 0.0\n",
    "\n",
    "drivetrain_impedance = (1j*omega*drivetrain_inertia + \n",
    "                        drivetrain_friction + \n",
    "                        1/(1j*omega)*drivetrain_stiffness) \n",
    "\n",
    "winding_impedance = winding_resistance + 1j*omega*winding_inductance\n",
    "\n",
    "\n",
    "z_11 = np.array([[-1* n_default**2 * drivetrain_impedance]])\n",
    "off_diag = np.sqrt(3.0/2.0) * torque_constant * n_default\n",
    "z_12 = np.array([[-1*(off_diag+0j) * np.ones(omega.shape)]])\n",
    "z_21 = np.array([[-1*(off_diag+0j) * np.ones(omega.shape)]])\n",
    "z_22 = np.array([[winding_impedance]])\n",
    "z_12_inv = np.linalg.inv(z_12.T).T\n",
    "\n",
    "mmult = lambda a,b: np.einsum('mnr,mnr->mnr', a, b)\n",
    "abcd_11 = -1 * mmult(z_12_inv, z_11)\n",
    "abcd_12 = z_12_inv\n",
    "abcd_21 = z_21 - mmult(z_22, mmult(z_12_inv, z_11))\n",
    "abcd_22 = mmult(z_22, z_12_inv)\n",
    "\n",
    "row_1 = np.hstack([abcd_11, abcd_12])\n",
    "row_2 = np.hstack([abcd_21, abcd_22])\n",
    "abcd = np.vstack([row_1, row_2])"
   ]
  },
  {
   "cell_type": "code",
   "execution_count": null,
   "metadata": {},
   "outputs": [],
   "source": [
    "def block(re, im): return np.array([[re, -im], [im, re]])\n",
    "for idof in range(2):\n",
    "    for jdof in range(2):\n",
    "        Zp = abcd[idof, jdof, :]\n",
    "        re = np.real(Zp)\n",
    "        im = np.imag(Zp)\n",
    "        # Exclude the sine component of the 2-point wave\n",
    "        blocks = [block(ire, iim) for (ire, iim) in zip(re[:-1], im[:-1])]\n",
    "        # re[0] added for the zero frequency power loss (DC), could be re[n]\n",
    "        blocks = [re[0]] + blocks + [re[-1]]\n",
    "        if jdof==0:\n",
    "            row = block_diag(*blocks)\n",
    "        else:\n",
    "            row = np.hstack([row, block_diag(*blocks)])\n",
    "    if idof==0:\n",
    "        transfer_mat = row\n",
    "    else:\n",
    "        transfer_mat = np.vstack([transfer_mat, row])\n",
    "transfer_mat = None"
   ]
  },
  {
   "cell_type": "code",
   "execution_count": null,
   "metadata": {},
   "outputs": [],
   "source": [
    "def x_rel(wec, x_wec, x_opt):\n",
    "    pos_wec = wec.vec_to_dofmat(x_wec)\n",
    "    pos_fw = wec.vec_to_dofmat(x_opt[nstate_pto:])\n",
    "    return pos_wec - pos_fw\n",
    "\n",
    "def rel_position(wec, x_wec, x_opt, waves, nsubsteps=1):\n",
    "    pos_rel = x_rel(wec, x_wec, x_opt)\n",
    "    time_matrix = wec.time_mat_nsubsteps(nsubsteps)\n",
    "    return np.dot(time_matrix, pos_rel)\n",
    "\n",
    "def rel_velocity(wec, x_wec, x_opt, waves, nsubsteps=1):\n",
    "    pos_rel = x_rel(wec, x_wec, x_opt)\n",
    "    vel_rel = np.dot(wec.derivative_mat, pos_rel)\n",
    "    time_matrix = wec.time_mat_nsubsteps(nsubsteps)\n",
    "    return np.dot(time_matrix, vel_rel)\n",
    "\n",
    "def f_motor(wec, x_wec, x_opt, waves, nsubsteps=1):\n",
    "    motor = x_opt[:nstate_pto]\n",
    "    time_matrix = wec.time_mat_nsubsteps(nsubsteps)\n",
    "    return np.dot(time_matrix, motor)\n",
    "\n",
    "def mechanical_power(wec, x_wec, x_opt, waves, nsubsteps=1):\n",
    "    force_td = f_motor(wec, x_wec, x_opt, waves, nsubsteps)\n",
    "    vel_td = rel_velocity(wec, x_wec, x_opt, waves, nsubsteps)\n",
    "    return vel_td * force_td\n",
    "\n",
    "def mechanical_energy(wec, x_wec, x_opt, waves, nsubsteps=1):\n",
    "    power_td = mechanical_power(wec, x_wec, x_opt, waves, nsubsteps)\n",
    "\n",
    "def mechanical_average_power(wec, x_wec, x_opt, waves, nsubsteps=1):\n",
    "    energy = mechanical_energy(wec, x_wec, x_opt, waves, nsubsteps)\n",
    "    return energy / wec.tf\n",
    "\n",
    "def power(wec, x_wec, x_opt, waves, nsubsteps=1):\n",
    "    if transfer_mat is not None:\n",
    "        q1_td = rel_velocity(wec, x_wec, x_opt, waves)\n",
    "        e1_td = f_motor(wec, x_wec, x_opt, waves)\n",
    "        q1 = wec.complex_to_real(wec.td_to_fd(q1_td, False))\n",
    "        e1 = wec.complex_to_real(wec.td_to_fd(e1_td, False))\n",
    "        vars_1 = np.hstack([q1, e1])\n",
    "        vars_1_flat = wec.dofmat_to_vec(vars_1)\n",
    "        vars_2_flat = np.dot(transfer_mat, vars_1_flat)\n",
    "        vars_2 = wec.vec_to_dofmat(vars_2_flat, 2)\n",
    "        q2 = vars_2[:, 0]\n",
    "        e2 = vars_2[:, 1]\n",
    "        time_mat = wec.time_mat_substeps(nsubsteps)\n",
    "        q2_td = np.dot(time_mat, q2)\n",
    "        e2_td = np.dot(time_mat, e2)\n",
    "    else:\n",
    "        q2_td = rel_velocity(wec, x_wec, x_opt, waves, nsubsteps)\n",
    "        e2_td = f_motor(wec, x_wec, x_opt, waves, nsubsteps)\n",
    "    return q2_td * e2_td\n",
    "\n",
    "def energy(wec, x_wec, x_opt, waves, nsubsteps=1):\n",
    "    power_td = power(wec, x_wec, x_opt, waves, nsubsteps)\n",
    "    return np.sum(power_td) * wec.dt/nsubsteps\n",
    "\n",
    "def average_power(wec, x_wec, x_opt, waves, nsubsteps=1):\n",
    "    energy = energy(wec, x_wec, x_opt, waves, nsubsteps)\n",
    "    return energy / wec.tf"
   ]
  },
  {
   "attachments": {},
   "cell_type": "markdown",
   "metadata": {},
   "source": [
    "In previous tutorials, all the relevant WEC dynamics have been captured in the `x_wec` vector. However, `x_wec` assumes all the degrees of freedom are excited by waves, which is not the case with the flywheel in the Pioneer model. Since we need to capture the flywheel dynamics to properly model the PTO, we work around this by including the position states of the flywheel as appended entries in `x_opt`, and overwrite the motion functions within the `PTO` module to capture the relative motion of the flywheel so the power calculations within that module are correct. This is a dirty hack for now -- this will be more cleanly implemented in an upcoming release, and this tutorial will be updated accordingly."
   ]
  },
  {
   "attachments": {},
   "cell_type": "markdown",
   "metadata": {},
   "source": [
    "### Constraints\n",
    " * **Peak torque** - Peak torque\n",
    " * **Peak RMS speed** - Peak RMS speed"
   ]
  },
  {
   "cell_type": "code",
   "execution_count": null,
   "metadata": {},
   "outputs": [],
   "source": [
    "torque_peak_max = 50.\n",
    "permitted_rms_speed = 3300 * 2*np.pi / 60 # rad/s\n",
    "def const_peak_torque_pto(wec, x_wec, x_opt, waves, nsubsteps=2):\n",
    "    torque = f_motor(wec, x_wec, x_opt, waves, nsubsteps)\n",
    "    return torque_peak_max - np.abs(torque.flatten())\n",
    "\n",
    "def const_rms_velocity_pto(wec, x_wec, x_opt, waves, nsubsteps=2):\n",
    "    pos = wec.vec_to_dofmat(x_opt[nstate_pto:])\n",
    "    pto_vel = np.dot(wec.derivative_mat, pos)\n",
    "    rms_vel = np.sqrt(np.mean(pto_vel**2))\n",
    "    return permitted_rms_speed - rms_vel\n",
    "\n",
    "def const_peak_spring_angle(wec, x_wec, x_opt, waves, nsubsteps): # temporary, for validation\n",
    "    rel_pos = rel_position(wec, x_wec, x_opt, waves, nsubsteps)\n",
    "    return spring_props['Max displacement'] - np.abs(rel_pos)\n",
    "\n",
    "# min_line_tension = 100\n",
    "# def const_min_tension(wec, x_wec, x_opt, waves, nsubsteps=2):\n",
    "#     total_tension = -1*f_pto_line(wec, x_wec, x_opt, waves, nsubsteps)\n",
    "#     return total_tension.flatten() - min_line_tension #TODO"
   ]
  },
  {
   "attachments": {},
   "cell_type": "markdown",
   "metadata": {},
   "source": [
    "### Additional forces\n",
    " * **Flywheel friction** - Flywheel friction\n",
    " * **Magnetic spring** - Magnetic spring\n",
    " * **Flywheel inertia** - Not really a force, but captured here for the flywheel residual function below"
   ]
  },
  {
   "cell_type": "code",
   "execution_count": null,
   "metadata": {},
   "outputs": [],
   "source": [
    "def f_friction(wec, x_wec, x_opt, waves, nsubsteps=1):\n",
    "    rel_vel = rel_velocity(wec, x_wec, x_opt, waves, nsubsteps)\n",
    "    fric = 1 * (\n",
    "        np.tanh(rel_vel) * flywheel_props['Coulomb friction']\n",
    "      + flywheel_props['Viscous friction'] * rel_vel)\n",
    "    return fric\n",
    "\n",
    "def f_spring(wec, x_wec, x_opt, waves, nsubsteps=1):\n",
    "    rel_pos = rel_position(wec, x_wec, x_opt, waves, nsubsteps)\n",
    "    return -k_spring * (1/n_default)**2 * rel_pos\n",
    "\n",
    "def fw_inertia(wec, x_wec, x_opt, waves, nsubsteps=1):\n",
    "    pos_fw = wec.vec_to_dofmat(x_opt[nstate_pto:])\n",
    "    acc_fw = np.dot(wec.derivative2_mat, pos_fw)\n",
    "    time_matrix = wec.time_mat_nsubsteps(nsubsteps)\n",
    "    acc_fw = np.dot(time_matrix, acc_fw)\n",
    "    return flywheel_props['MOI'] * acc_fw"
   ]
  },
  {
   "attachments": {},
   "cell_type": "markdown",
   "metadata": {},
   "source": [
    "#### Residual\n",
    "Equality constraint of Newton's 2nd law on the flywheel (i.e. $r(x) = I \\alpha - \\tau = 0 $). Same basic structure as residual for the WEC dynamics as described in the [WecOptTool theory documentation](https://sandialabs.github.io/WecOptTool/theory.html)."
   ]
  },
  {
   "cell_type": "code",
   "execution_count": null,
   "metadata": {},
   "outputs": [],
   "source": [
    "def const_flywheel_resid(wec, x_wec, x_opt, waves):\n",
    "    inertia = fw_inertia(wec, x_wec, x_opt, waves)\n",
    "    fs = f_spring(wec, x_wec, x_opt, waves)\n",
    "    ff = f_friction(wec, x_wec, x_opt, waves)\n",
    "    fp = f_motor(wec, x_wec, x_opt, waves)\n",
    "    return (inertia +fs -ff +fp).flatten()"
   ]
  },
  {
   "attachments": {},
   "cell_type": "markdown",
   "metadata": {},
   "source": [
    "### WEC object\n",
    "Finally, we can use all the different components we've developed thus far to construct a `WEC` object:"
   ]
  },
  {
   "cell_type": "code",
   "execution_count": null,
   "metadata": {},
   "outputs": [],
   "source": [
    "f_add = {\n",
    "    'Spring': f_spring,\n",
    "    'PTO': f_motor,\n",
    "}\n",
    "\n",
    "constraints = [\n",
    "    # {'type': 'ineq', 'fun': const_peak_torque_pto},\n",
    "    # {'type': 'ineq', 'fun': const_rms_velocity_pto},\n",
    "    {'type': 'eq', 'fun': const_flywheel_resid},\n",
    "    # {'type': 'ineq', 'fun': const_min_tension},\n",
    "]"
   ]
  },
  {
   "cell_type": "code",
   "execution_count": null,
   "metadata": {},
   "outputs": [],
   "source": [
    "wec = wot.WEC.from_bem(\n",
    "    bem_data,\n",
    "    inertia_matrix=np.array([[buoy_props['MOI']]]),\n",
    "    hydrostatic_stiffness=k_buoy,\n",
    "    f_add=f_add,\n",
    "    constraints=constraints,\n",
    "    dof_names=bem_data.influenced_dof.values,\n",
    ")"
   ]
  },
  {
   "attachments": {},
   "cell_type": "markdown",
   "metadata": {},
   "source": [
    "## Waves\n",
    "A regular wave will allow us to get a good initial understanding of the optimal control trajectory.\n",
    "Note that we'll want to choose a wave frequency that is within the frequency array we used to calculate the hydrodynamic data."
   ]
  },
  {
   "cell_type": "code",
   "execution_count": null,
   "metadata": {},
   "outputs": [],
   "source": [
    "amplitude = 0.15\n",
    "wavefreq =  0.3\n",
    "waves = wot.waves.regular_wave(f1, nfreq, wavefreq, amplitude)\n",
    "\n",
    "gamma = 1.25\n",
    "te = 5.6\n",
    "fp = 1 / mhkit.energy_period_to_peak_period(te, gamma)\n",
    "hs = 1.25\n",
    "spectrum = lambda f: wot.waves.jonswap_spectrum(freq=f, fp=fp, hs=hs, gamma=gamma)\n",
    "efth = wot.waves.omnidirectional_spectrum(f1, nfreq, spectrum, \"JONSWAP\")\n",
    "# waves = wot.waves.long_crested_wave(efth)\n",
    "efth.plot(marker='.')"
   ]
  },
  {
   "attachments": {},
   "cell_type": "markdown",
   "metadata": {},
   "source": [
    "## Solve\n",
    "Note the size of the `nstate_opt` variable compared to previous tutorials. The first half of the variable includes the PTO force states at each Fourier component, as in previous tutorials (the `nstate_pto` component). The second half is the flywheel positions at each Fourier component, which is basically an analog to `wec.nstate_wec`."
   ]
  },
  {
   "cell_type": "code",
   "execution_count": null,
   "metadata": {},
   "outputs": [],
   "source": [
    "obj_fun = average_power\n",
    "nstate_opt = nstate_pto + wec.nstate_wec\n",
    "results = wec.solve(\n",
    "    waves,\n",
    "    obj_fun,\n",
    "    nstate_opt,\n",
    "    scale_x_wec=1,\n",
    "    scale_x_opt=1e-3,\n",
    "    scale_obj=1e-1,\n",
    ")"
   ]
  },
  {
   "attachments": {},
   "cell_type": "markdown",
   "metadata": {},
   "source": [
    "## Post-process and plotting"
   ]
  },
  {
   "cell_type": "code",
   "execution_count": null,
   "metadata": {},
   "outputs": [],
   "source": [
    "wec_fdom, wec_tdom = wec.post_process(results, waves, nsubsteps=5)\n",
    "print(f'Optimal average power: {results.fun:.2f} W')"
   ]
  },
  {
   "cell_type": "code",
   "execution_count": null,
   "metadata": {},
   "outputs": [],
   "source": [
    "x_wec, x_opt = wot.decompose_state(results.x, 1, nfreq)\n",
    "pto_pos = rel_position(wec, x_wec, x_opt, waves, nsubsteps=5)\n",
    "pto_vel = rel_velocity(wec, x_wec, x_opt, waves, nsubsteps=5)\n",
    "pto_force = f_motor(wec, x_wec, x_opt, waves, nsubsteps=5)\n",
    "pto_mech_power = mechanical_power(wec, x_wec, x_opt, waves, nsubsteps=5)\n",
    "fw_pos = np.dot(wec.time_mat_nsubsteps(5), x_opt[nstate_pto:])"
   ]
  },
  {
   "cell_type": "code",
   "execution_count": null,
   "metadata": {},
   "outputs": [],
   "source": [
    "Fex = np.abs((wec_fdom.force.sel(type='Froude_Krylov') + wec_fdom.force.sel(type='diffraction')).squeeze())\n",
    "plt.plot(wec_fdom.omega, Fex)"
   ]
  },
  {
   "cell_type": "code",
   "execution_count": null,
   "metadata": {},
   "outputs": [],
   "source": [
    "wec_tdom.force.sel(influenced_dof='Pitch').plot(hue='type')"
   ]
  },
  {
   "cell_type": "code",
   "execution_count": null,
   "metadata": {},
   "outputs": [],
   "source": [
    "pto_tdom.force.plot()"
   ]
  },
  {
   "cell_type": "code",
   "execution_count": null,
   "metadata": {},
   "outputs": [],
   "source": [
    "fig, ax = plt.subplots(nrows=4, sharex=True, figsize=(12, 12))\n",
    "\n",
    "ax[0].set_ylabel('Exc. torque [Nm]')\n",
    "pto_tdom.force.plot(ax=ax[0], label='PTO', color='r')\n",
    "wec_tdom.force.sel(influenced_dof='Pitch').sum(dim='type').plot(ax=ax[0], label='Buoy', color='c')\n",
    "ax[0].set_ylabel('Torque [Nm]', color='red')\n",
    "ax[0].tick_params(axis='y', labelcolor='red')\n",
    "ax[0].set_title('')\n",
    "ax[0].autoscale(enable=True, axis='x', tight=False)\n",
    "ax[0].legend()\n",
    "\n",
    "wec_pos = np.rad2deg(wec_tdom.pos)\n",
    "spring_pos = np.rad2deg(pto_tdom.pos)\n",
    "fw_pos = spring_pos + wec_pos\n",
    "wec_pos.plot(ax=ax[1], hue='influenced_dof', label='Buoy')\n",
    "fw_pos.plot(ax=ax[1], hue='influenced_dof', label='Flywheel')\n",
    "spring_pos.plot(ax=ax[1], linestyle='dashed', label='Spring angle')\n",
    "ax[1].set_ylabel('Position [deg]')\n",
    "ax[1].legend()\n",
    "\n",
    "wec_tdom.vel.plot(ax=ax[2], hue='influenced_dof', label='Buoy')\n",
    "pto_tdom.vel.plot(ax=ax[2], hue='influenced_dof', label='PTO')\n",
    "(pto_tdom.vel + wec_tdom.vel).plot(ax=ax[2], hue='influenced_dof', label='Flywheel')\n",
    "ax[2].legend()\n",
    "\n",
    "(pto_tdom['mech_power']).plot(ax=ax[3], \n",
    "                                  label='Mech. power ($\\\\bar{P}_{mech}$: ' + f'{pto_tdom.mech_power.mean().item():.0f} W)')\n",
    "(pto_tdom['power']).plot(ax=ax[3], linestyle='dashed', \n",
    "                         label='Elec. power ($\\\\bar{P}_{elec}$: ' + f'{pto_tdom.power.mean().item():.0f} W)')\n",
    "\n",
    "ax[3].legend(loc='upper right')\n",
    "ax[3].set_ylabel('Power [W]')\n",
    "\n",
    "for axi in ax:\n",
    "    axi.set_title('')\n",
    "    axi.grid()\n",
    "    axi.label_outer()\n",
    "    axi.autoscale(axis='x', tight=True)\n",
    "\n",
    "# fig.savefig('../gfx/PioneerWec_wecopttool_time_histories.pdf')"
   ]
  },
  {
   "cell_type": "code",
   "execution_count": null,
   "metadata": {},
   "outputs": [],
   "source": [
    "np.abs(pto_fdom.force).plot()"
   ]
  }
 ],
 "metadata": {
  "kernelspec": {
   "display_name": "Python 3.10.11 ('wot_dev')",
   "language": "python",
   "name": "python3"
  },
  "language_info": {
   "codemirror_mode": {
    "name": "ipython",
    "version": 3
   },
   "file_extension": ".py",
   "mimetype": "text/x-python",
   "name": "python",
   "nbconvert_exporter": "python",
   "pygments_lexer": "ipython3",
   "version": "3.10.10"
  },
  "vscode": {
   "interpreter": {
    "hash": "3dc3732faf76d567ec6ea86bf61a0204cff5170138bd12cd8b60ad3b24421584"
   }
  }
 },
 "nbformat": 4,
 "nbformat_minor": 2
}
