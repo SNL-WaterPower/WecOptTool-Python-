{
 "cells": [
  {
   "attachments": {},
   "cell_type": "markdown",
   "metadata": {},
   "source": [
    "# Tutorial 4 - Pioneer\n",
    "This tutorial models a potential design for a WEC used to provide power to instruments in the [Pioneer Central Surface Mooring System](https://oceanobservatories.org/site/cp01cnsm/) within the [Coastal Pioneer Array](https://oceanobservatories.org/array/coastal-pioneer-array/) off the coast of New England. This system has instrumentation to measure various meteorological, surface, near-surface, and seabed phenomena on the Continental Shelf-Slope and transmit back to shore.\n",
    "\n",
    "Unlike previous tutorials, this tutorial does not include an outer optimization loop. Instead, the focus here is on effectively modeling an optimization problem for the control states of a unique WEC archetype with an pitch resonator PTO with several co-dependent components. Topics include:\n",
    "\n",
    "* Expanding the control state vector\n",
    "* Custom PTO physics\n",
    "* Modeling non-hydrodynamic degrees of freedom\n",
    "<p><img src=https://oceanobservatories.org/wp-content/uploads/2015/09/Central-Surface-Mooring-Array-01-1.png alt=\"Diagram of the Pioneer device\" width=\"307\">"
   ]
  },
  {
   "cell_type": "code",
   "execution_count": null,
   "metadata": {},
   "outputs": [],
   "source": [
    "import os\n",
    "import capytaine as cpy\n",
    "import autograd.numpy as np\n",
    "import matplotlib.pyplot as plt\n",
    "from scipy.linalg import block_diag\n",
    "\n",
    "import wecopttool as wot\n",
    "\n",
    "## set colorblind-friendly colormap for plots\n",
    "plt.style.use('tableau-colorblind10')"
   ]
  },
  {
   "attachments": {},
   "cell_type": "markdown",
   "metadata": {},
   "source": [
    "## Model definition"
   ]
  },
  {
   "attachments": {},
   "cell_type": "markdown",
   "metadata": {},
   "source": [
    "### Geometry\n",
    "For purposes of getting the required hydrodynamic coefficients to model the Pioneer design, we only need to be concerned with creating a mesh of the buoy geometry. The buoy has the same general shape as the WaveBot used in Tutorial 1, so we will use the build-in `geom.WaveBot` object and change the dimensions to simplify the mesh creation process.\n",
    "\n",
    "*~add two engineering drawings*"
   ]
  },
  {
   "cell_type": "code",
   "execution_count": null,
   "metadata": {},
   "outputs": [],
   "source": [
    "in2m = 0.0254 # inch -> meter conversion factor\n",
    "draft = 0.5 # meters\n",
    "freeboard = 40. * in2m - draft\n",
    "hull_geom = wot.geom.WaveBot(r1=130./2 * in2m,\n",
    "                             r2=110./2 * in2m, \n",
    "                             h1=22.679 * in2m,\n",
    "                             h2=17.321 * in2m,\n",
    "                             scale_factor=1,\n",
    "                             freeboard=freeboard)\n",
    "mesh = hull_geom.mesh(mesh_size_factor=0.5)\n",
    "_ = hull_geom.plot_cross_section()"
   ]
  },
  {
   "attachments": {},
   "cell_type": "markdown",
   "metadata": {},
   "source": [
    "### Given properties\n",
    "The Pioneer team has provided specifications for a full-sized WEC design that fits within the buoy dimensions and operating at resonance. There are three components at account for with the Pioneer model that we need to model the PTO properly:\n",
    "\n",
    "* **Buoy**: This has the same parameters as the WaveBot used in Tutorial 1.\n",
    "* **Flywheel**: The flywheel is contained within the buoy. It will rotate as the buoy rotates, though this rotation will be amplified due to the gearing connected ot the spring. Since the flywheel is contained within the buoy, it is **not** directly subject to wave forcing.\n",
    "* **Spring**: The magnetic torsional spring provides positive stiffness to the flywheel. It has a linear displacement up to 45 degrees, at which point it \"wraps around\" and the stiffness begins decreasing. We will model the spring as linear for the time being."
   ]
  },
  {
   "cell_type": "code",
   "execution_count": null,
   "metadata": {},
   "outputs": [],
   "source": [
    "buoy_props = {\n",
    "    'CG': 0.242, # m\n",
    "    'MOI': 7484., # kg-m^2\n",
    "}\n",
    "\n",
    "flywheel_props = {\n",
    "    'MOI': 25,  # kg-m^2\n",
    "    'Coulomb friction': 2.0,  # N-m\n",
    "    'Viscous friction': 0.02,  # N-m/rad\n",
    "    'Gear ratio': 3, # -\n",
    "}\n",
    "\n",
    "spring_props = {\n",
    "    'Max torque': 750, # N-m\n",
    "    'Max displacement': np.deg2rad(45.0), # rad\n",
    "}"
   ]
  },
  {
   "attachments": {},
   "cell_type": "markdown",
   "metadata": {},
   "source": [
    "### Pitch resonator"
   ]
  },
  {
   "attachments": {},
   "cell_type": "markdown",
   "metadata": {},
   "source": [
    "This system uses a unique PTO system dependent on the relative pitching rotation of the buoy and the flywheel (subject to the connected spring and gearing). The system can be modeled as a coupled spring-mass-damper system, as shown below (note that all of these values are rotational and are modeled here linearly for simplicity): \n",
    "\n",
    "*~add dynamic diagram*\n",
    "\n",
    "This corresponds to the following dynamics equations:\n",
    "\n",
    "(1) $$ [J_{buoy} + J(\\omega))] \\ddot{\\theta}_{buoy} = T_{hydro} - K_{hydro}\\theta_{buoy} - B(\\omega)\\dot{\\theta}_{buoy} - K_{spring}N^2(\\theta_{buoy} - \\theta_{flywheel}) - (B_{PTO} + B_{fric})(\\dot{\\theta}_{buoy} - \\dot{\\theta}_{flywheel}) $$\n",
    "\n",
    "(2) $$ J_{flywheel} \\ddot{\\theta}_{flywheel} = K_{spring}N^2(\\theta_{buoy} - \\theta_{flywheel}) + (B_{PTO} + B_{fric})(\\dot{\\theta}_{buoy} - \\dot{\\theta}_{flywheel}) $$\n",
    "\n",
    "We will explore how to capture these dynamics in WecOptTool in the PTO section below."
   ]
  },
  {
   "attachments": {},
   "cell_type": "markdown",
   "metadata": {},
   "source": [
    "## Hydrodynamics and hydrostatics\n",
    "### Floating body\n",
    "As mentioned above, the `FloatingBody` object in Capytaine only needs to model the buoy, since no other components are being excited by the waves.\n",
    "\n",
    "As a quick check, the hydrostatic stiffness of the device was experimentally determined by the Pioneer team by ~~~. The hydrostatic stiffness calculated by Capytaine is reasonably close to this value."
   ]
  },
  {
   "cell_type": "code",
   "execution_count": null,
   "metadata": {},
   "outputs": [],
   "source": [
    "pnr_fb = cpy.FloatingBody.from_meshio(mesh, name=\"Pioneer\")\n",
    "pnr_fb.add_rotation_dof(name='Pitch')\n",
    "pnr_fb.center_of_mass = np.array([0., 0., buoy_props['CG']])\n",
    "pnr_fb.rotation_center = pnr_fb.center_of_mass\n",
    "ndof = pnr_fb.nb_dofs\n",
    "pnr_fb.show_matplotlib()"
   ]
  },
  {
   "cell_type": "code",
   "execution_count": null,
   "metadata": {},
   "outputs": [],
   "source": [
    "rho = 1025. # kg/m^3\n",
    "f1 = 0.025 # Hz\n",
    "nfreq = 25\n",
    "freq = wot.frequency(f1, nfreq, False) # False -> no zero frequency\n",
    "\n",
    "\n",
    "file_name = \"data/pioneer_bem_25freq.nc\"\n",
    "if os.path.exists(file_name):\n",
    "    bem_data = wot.read_netcdf(file_name)\n",
    "else:    \n",
    "    bem_data = wot.run_bem(pnr_fb, freq)\n",
    "    wot.write_netcdf(file_name, bem_data)\n",
    "\n",
    "pnr_fb.keep_immersed_part()\n",
    "k_buoy = pnr_fb.compute_hydrostatic_stiffness(rho=rho).values.squeeze()\n",
    "k_spring = spring_props['Max torque'] / spring_props['Max displacement']\n",
    "print(f'Hydrostatic stiffness from Capytaine: {k_buoy} N-m/rad')\n",
    "print('Hydrostatic stiffness from experiment: 37204 N-m/rad')\n",
    "\n",
    "omega = bem_data.omega.values\n",
    "omega_r = np.sqrt(k_buoy / buoy_props['MOI']) # resonance frequency"
   ]
  },
  {
   "attachments": {},
   "cell_type": "markdown",
   "metadata": {},
   "source": [
    "As with previous tutorials, we will plot the hydrodynamic coefficients to confirm that we are properly capturing the full excitation range of the buoy."
   ]
  },
  {
   "cell_type": "code",
   "execution_count": null,
   "metadata": {},
   "outputs": [],
   "source": [
    "# plots\n",
    "fig_am, ax_am = plt.subplots(tight_layout=True, sharex=True)\n",
    "fig_rd, ax_rd = plt.subplots(tight_layout=True, sharex=True)\n",
    "fig_ex, ax_ex = plt.subplots(tight_layout=True, sharex=True)\n",
    "\n",
    "# Excitation\n",
    "np.abs(bem_data.diffraction_force.sel(influenced_dof='Pitch')).plot(\n",
    "    ax=ax_ex, linestyle='dashed', label='Diffraction force')\n",
    "np.abs(bem_data.Froude_Krylov_force.sel(influenced_dof='Pitch')).plot(\n",
    "    ax=ax_ex, linestyle='dashdot', label='Froude-Krylov force')\n",
    "ex_handles, ex_labels = ax_ex.get_legend_handles_labels()\n",
    "ax_ex.set_xlabel(f'$\\omega$', fontsize=10)\n",
    "ax_ex.set_title('Wave Excitation Coefficients', fontweight='bold')\n",
    "fig_ex.legend(ex_handles, ex_labels, loc='center right', frameon=False)\n",
    "\n",
    "# Added mass\n",
    "bem_data.added_mass.sel(\n",
    "    radiating_dof='Pitch', influenced_dof='Pitch').plot(ax=ax_am)\n",
    "ax_am.set_xlabel(f'$\\omega$', fontsize=10)\n",
    "ax_am.set_title('Added Mass Coefficients', fontweight='bold')\n",
    "\n",
    "# Radiation damping\n",
    "bem_data.radiation_damping.sel(\n",
    "    radiating_dof='Pitch', influenced_dof='Pitch').plot(ax=ax_rd)\n",
    "ax_rd.set_xlabel(f'$\\omega$', fontsize=10)\n",
    "ax_rd.set_title('Radiation Damping Coefficients', fontweight='bold')"
   ]
  },
  {
   "attachments": {},
   "cell_type": "markdown",
   "metadata": {},
   "source": [
    "## PTO\n",
    "Analyzing the system as a coupled mass-spring-damper as above, we can calculate the generator velocity to be the difference between the buoy velocity and the geared flywheel velocity. Because the velocity needed for the power equations are dependent on two nonlinearly coupled components (one of which is not directly affected by hydrodynamics) we cannot use the `PTO` module we have used in previous tutorials. Instead, we will make two adjustments to our model compared to previous tutorials:\n",
    "\n",
    "1. We will define the flywheel motions as extra variables in the `x_opt` vector\n",
    "2. We will manually define the PTO equations."
   ]
  },
  {
   "cell_type": "code",
   "execution_count": null,
   "metadata": {},
   "outputs": [],
   "source": []
  },
  {
   "attachments": {},
   "cell_type": "markdown",
   "metadata": {},
   "source": [
    "### Capturing flywheel motions\n",
    "In previous tutorials, all the relevant WEC dynamics have been captured in the `x_wec` vector. However, `x_wec` assumes all the degrees of freedom are excited by waves, which is not the case for the flywheel in the Pioneer model.\n",
    "\n",
    "The `x_opt` vector has previously only been used to model the PTO force from an unstructured controller at each Fourier coefficient. However, there is no limit to what `x_opt` can include; it can really include anything that is needed to model the PTO control. Since we need to capture the flywheel dynamics to properly model the PTO, we will define `x_opt` to be twice as long as previous tutorials. The first half will continue to be used for the PTO force from the unstructured controller, of length `2 * nfreq`. The second half will the position states of the flywheel at each Fourier coefficient, also of length `2 * nfreq`.\n",
    "\n",
    "Note in the code further down that `x_opt` will be spliced as either `x_opt[:nstate_pto]` to exclude the flywheel position states, or `x_opt[nstate_pto:]` to exclude the PTO force states. Remember, `x_opt` can be defined arbitrarily, and specific meanings to the states are given elsewhere in the model."
   ]
  },
  {
   "cell_type": "code",
   "execution_count": null,
   "metadata": {},
   "outputs": [],
   "source": [
    "nstate_pto = 2 * nfreq # PTO forces\n",
    "nstate_fw = 2 * nfreq  # Flywheel positions\n",
    "nstate_opt = nstate_pto + nstate_fw"
   ]
  },
  {
   "attachments": {},
   "cell_type": "markdown",
   "metadata": {},
   "source": [
    "### Manually defining PTO equations"
   ]
  },
  {
   "cell_type": "code",
   "execution_count": null,
   "metadata": {},
   "outputs": [],
   "source": [
    "def block(re, im): return np.array([[re, -im], [im, re]])\n",
    "for idof in range(2):\n",
    "    for jdof in range(2):\n",
    "        Zp = abcd[idof, jdof, :]\n",
    "        re = np.real(Zp)\n",
    "        im = np.imag(Zp)\n",
    "        # Exclude the sine component of the 2-point wave\n",
    "        blocks = [block(ire, iim) for (ire, iim) in zip(re[:-1], im[:-1])]\n",
    "        # re[0] added for the zero frequency power loss (DC), could be re[n]\n",
    "        blocks = [re[0]] + blocks + [re[-1]]\n",
    "        if jdof==0:\n",
    "            row = block_diag(*blocks)\n",
    "        else:\n",
    "            row = np.hstack([row, block_diag(*blocks)])\n",
    "    if idof==0:\n",
    "        transfer_mat = row\n",
    "    else:\n",
    "        transfer_mat = np.vstack([transfer_mat, row])"
   ]
  },
  {
   "cell_type": "code",
   "execution_count": null,
   "metadata": {},
   "outputs": [],
   "source": [
    "def x_rel(wec, x_wec, x_opt):\n",
    "    pos_wec = wec.vec_to_dofmat(x_wec)\n",
    "    pos_fw = wec.vec_to_dofmat(x_opt[nstate_pto:])\n",
    "    return pos_wec - pos_fw\n",
    "\n",
    "def rel_position(wec, x_wec, x_opt, waves, nsubsteps=1):\n",
    "    pos_rel = x_rel(wec, x_wec, x_opt)\n",
    "    time_matrix = wec.time_mat_nsubsteps(nsubsteps)\n",
    "    return np.dot(time_matrix, pos_rel)\n",
    "\n",
    "def rel_velocity(wec, x_wec, x_opt, waves, nsubsteps=1):\n",
    "    pos_rel = x_rel(wec, x_wec, x_opt)\n",
    "    vel_rel = np.dot(wec.derivative_mat, pos_rel)\n",
    "    time_matrix = wec.time_mat_nsubsteps(nsubsteps)\n",
    "    return np.dot(time_matrix, vel_rel)\n",
    "\n",
    "def f_motor(wec, x_wec, x_opt, waves, nsubsteps=1):\n",
    "    motor = np.reshape(x_opt[:nstate_pto], (-1, ndof), order='F')\n",
    "    time_matrix = wec.time_mat_nsubsteps(nsubsteps)\n",
    "    return np.dot(time_matrix, motor)\n",
    "\n",
    "def mechanical_power(wec, x_wec, x_opt, waves, nsubsteps=1):\n",
    "    force_td = f_motor(wec, x_wec, x_opt, waves, nsubsteps)\n",
    "    vel_td = rel_velocity(wec, x_wec, x_opt, waves, nsubsteps)\n",
    "    return vel_td * force_td\n",
    "\n",
    "def power(wec, x_wec, x_opt, waves, nsubsteps=1):\n",
    "    if transfer_mat is not None:\n",
    "        q1_td = rel_velocity(wec, x_wec, x_opt, waves)\n",
    "        e1_td = f_motor(wec, x_wec, x_opt, waves)\n",
    "        q1 = wot.complex_to_real(wec.td_to_fd(q1_td, False))\n",
    "        e1 = wot.complex_to_real(wec.td_to_fd(e1_td, False))\n",
    "        vars_1 = np.hstack([q1, e1])\n",
    "        vars_1_flat = wec.dofmat_to_vec(vars_1)\n",
    "        vars_2_flat = np.dot(transfer_mat, vars_1_flat)\n",
    "        vars_2 = wot.vec_to_dofmat(vars_2_flat, 2)\n",
    "        q2 = vars_2[:, 0]\n",
    "        e2 = vars_2[:, 1]\n",
    "        time_mat = wec.time_mat_nsubsteps(nsubsteps)\n",
    "        q2_td = np.dot(time_mat, q2)\n",
    "        e2_td = np.dot(time_mat, e2)\n",
    "    else:\n",
    "        q2_td = rel_velocity(wec, x_wec, x_opt, waves, nsubsteps)\n",
    "        e2_td = f_motor(wec, x_wec, x_opt, waves, nsubsteps)\n",
    "    return q2_td * e2_td\n",
    "\n",
    "def energy(wec, x_wec, x_opt, waves, nsubsteps=1):\n",
    "    power_td = power(wec, x_wec, x_opt, waves, nsubsteps)\n",
    "    return np.sum(power_td) * wec.dt/nsubsteps\n",
    "\n",
    "def average_power(wec, x_wec, x_opt, waves, nsubsteps=1):\n",
    "    e = energy(wec, x_wec, x_opt, waves, nsubsteps)\n",
    "    return e / wec.tf"
   ]
  },
  {
   "attachments": {},
   "cell_type": "markdown",
   "metadata": {},
   "source": [
    "### PTO Impedance\n",
    "\n",
    "Using same impedance matrix as WaveBot, except replace gear ratio with the one determined from the spring stiffness and buoy moment of inertia + natural frequency."
   ]
  },
  {
   "cell_type": "code",
   "execution_count": null,
   "metadata": {},
   "outputs": [],
   "source": [
    "n = flywheel_props['Gear ratio']\n",
    "torque_constant = 3.512\n",
    "winding_resistance = 0.304\n",
    "winding_inductance = 0.0\n",
    "drivetrain_inertia = 0.0\n",
    "drivetrain_friction = 0.0\n",
    "drivetrain_stiffness = 0.0\n",
    "\n",
    "drivetrain_impedance = (1j*omega*drivetrain_inertia + \n",
    "                        drivetrain_friction + \n",
    "                        1/(1j*omega)*drivetrain_stiffness) \n",
    "\n",
    "winding_impedance = winding_resistance + 1j*omega*winding_inductance\n",
    "\n",
    "\n",
    "z_11 = np.array([[-1* n**2 * drivetrain_impedance]])\n",
    "off_diag = np.sqrt(3.0/2.0) * torque_constant * n\n",
    "z_12 = np.array([[-1*(off_diag+0j) * np.ones(omega.shape)]])\n",
    "z_21 = np.array([[-1*(off_diag+0j) * np.ones(omega.shape)]])\n",
    "z_22 = np.array([[winding_impedance]])\n",
    "z_12_inv = np.linalg.inv(z_12.T).T\n",
    "\n",
    "mmult = lambda a,b: np.einsum('mnr,mnr->mnr', a, b)\n",
    "abcd_11 = -1 * mmult(z_12_inv, z_11)\n",
    "abcd_12 = z_12_inv\n",
    "abcd_21 = z_21 - mmult(z_22, mmult(z_12_inv, z_11))\n",
    "abcd_22 = mmult(z_22, z_12_inv)\n",
    "\n",
    "row_1 = np.hstack([abcd_11, abcd_12])\n",
    "row_2 = np.hstack([abcd_21, abcd_22])\n",
    "abcd = np.vstack([row_1, row_2])"
   ]
  },
  {
   "attachments": {},
   "cell_type": "markdown",
   "metadata": {},
   "source": [
    "### Constraints\n",
    " * **Peak torque** - Peak torque\n",
    " * **Peak RMS speed** - Peak RMS speed"
   ]
  },
  {
   "cell_type": "code",
   "execution_count": null,
   "metadata": {},
   "outputs": [],
   "source": [
    "torque_peak_max = 50.\n",
    "permitted_rms_speed = 3300 * 2*np.pi / 60 # rad/s\n",
    "def const_peak_torque_pto(wec, x_wec, x_opt, waves, nsubsteps=2):\n",
    "    torque = f_motor(wec, x_wec, x_opt, waves, nsubsteps)\n",
    "    return torque_peak_max - np.abs(torque.flatten())\n",
    "\n",
    "def const_rms_velocity_pto(wec, x_wec, x_opt, waves, nsubsteps=2):\n",
    "    pos = wec.vec_to_dofmat(x_opt[nstate_pto:])\n",
    "    pto_vel = np.dot(wec.derivative_mat, pos)\n",
    "    rms_vel = np.sqrt(np.mean(pto_vel**2))\n",
    "    return permitted_rms_speed - rms_vel"
   ]
  },
  {
   "attachments": {},
   "cell_type": "markdown",
   "metadata": {},
   "source": [
    "### Additional forces\n",
    " * **Flywheel friction** - Flywheel friction\n",
    " * **Magnetic spring** - Magnetic spring\n",
    " * **Flywheel inertia** - Not really a force, but captured here for the flywheel residual function below"
   ]
  },
  {
   "cell_type": "code",
   "execution_count": null,
   "metadata": {},
   "outputs": [],
   "source": [
    "def f_spring(wec, x_wec, x_opt, waves, nsubsteps=1):\n",
    "    rel_pos = rel_position(wec, x_wec, x_opt, waves, nsubsteps)\n",
    "    return -k_spring * (1/n)**2 * rel_pos\n",
    "\n",
    "def f_friction(wec, x_wec, x_opt, waves, nsubsteps=1):\n",
    "    rel_vel = rel_velocity(wec, x_wec, x_opt, waves, nsubsteps)\n",
    "    return (\n",
    "        np.tanh(rel_vel) * flywheel_props['Coulomb friction']\n",
    "      + rel_vel * flywheel_props['Viscous friction']\n",
    "    )\n",
    "\n",
    "def fw_inertia(wec, x_wec, x_opt, waves, nsubsteps=1):\n",
    "    pos_fw = wec.vec_to_dofmat(x_opt[nstate_pto:])\n",
    "    acc_fw = np.dot(wec.derivative2_mat, pos_fw)\n",
    "    time_matrix = wec.time_mat_nsubsteps(nsubsteps)\n",
    "    acc_fw = np.dot(time_matrix, acc_fw)\n",
    "    return flywheel_props['MOI'] * acc_fw"
   ]
  },
  {
   "attachments": {},
   "cell_type": "markdown",
   "metadata": {},
   "source": [
    "#### Residual\n",
    "Equality constraint of Newton's 2nd law on the flywheel (i.e. $r(x) = I \\alpha - \\tau = 0 $). Same basic structure as residual for the WEC dynamics as described in the [WecOptTool theory documentation](https://sandialabs.github.io/WecOptTool/theory.html)."
   ]
  },
  {
   "cell_type": "code",
   "execution_count": null,
   "metadata": {},
   "outputs": [],
   "source": [
    "def const_flywheel_resid(wec, x_wec, x_opt, waves):\n",
    "    return (fw_inertia(wec, x_wec, x_opt, waves)\n",
    "          + f_spring(wec, x_wec, x_opt, waves)\n",
    "          - f_friction(wec, x_wec, x_opt, waves)\n",
    "          + f_motor(wec, x_wec, x_opt, waves)\n",
    "          ).flatten()\n",
    "    "
   ]
  },
  {
   "attachments": {},
   "cell_type": "markdown",
   "metadata": {},
   "source": [
    "### WEC object\n",
    "Finally, we can use all the different components we've developed thus far to construct a `WEC` object:"
   ]
  },
  {
   "cell_type": "code",
   "execution_count": null,
   "metadata": {},
   "outputs": [],
   "source": [
    "f_add = {\n",
    "    'Spring': f_spring,\n",
    "    'Motor': f_motor,\n",
    "}\n",
    "\n",
    "constraints = [\n",
    "    {'type': 'ineq', 'fun': const_peak_torque_pto},\n",
    "    {'type': 'ineq', 'fun': const_rms_velocity_pto},\n",
    "    {'type': 'eq', 'fun': const_flywheel_resid},\n",
    "]"
   ]
  },
  {
   "cell_type": "code",
   "execution_count": null,
   "metadata": {},
   "outputs": [],
   "source": [
    "wec = wot.WEC.from_bem(bem_data,\n",
    "                       inertia_matrix=np.array([[buoy_props['MOI']]]),\n",
    "                       hydrostatic_stiffness=k_buoy,\n",
    "                       f_add=f_add,\n",
    "                       constraints=constraints,\n",
    "                       dof_names=bem_data.influenced_dof.values,\n",
    "                        )"
   ]
  },
  {
   "attachments": {},
   "cell_type": "markdown",
   "metadata": {},
   "source": [
    "## Waves\n",
    "A regular wave will allow us to get a good initial understanding of the optimal control trajectory.\n",
    "Note that we'll want to choose a wave frequency that is within the frequency array we used to calculate the hydrodynamic data."
   ]
  },
  {
   "cell_type": "code",
   "execution_count": null,
   "metadata": {},
   "outputs": [],
   "source": [
    "amplitude = 0.15\n",
    "# wavefreq =  1/5.3\n",
    "wavefreq =  omega_r / (2*np.pi)\n",
    "phase = 0\n",
    "wavedir = 0\n",
    "waves = wot.waves.regular_wave(f1, nfreq, wavefreq, amplitude, phase, wavedir)\n",
    "# spectrum = lambda f: wot.waves.jonswap_spectrum(freq=f, fp=wavefreq, hs=2*amplitude)\n",
    "# efth = wot.waves.omnidirectional_spectrum(f1, nfreq, spectrum, \"JONSWAP\")\n",
    "# waves = wot.waves.long_crested_wave(efth)\n",
    "# efth.plot(marker='.')"
   ]
  },
  {
   "attachments": {},
   "cell_type": "markdown",
   "metadata": {},
   "source": [
    "## Solve\n",
    "Note the size of the `nstate_opt` variable compared to previous tutorials. The first half of the variable includes the PTO force states at each Fourier component, as in previous tutorials (the `nstate_pto` component). The second half is the flywheel positions at each Fourier component, which is basically an analog to `wec.nstate_wec`."
   ]
  },
  {
   "cell_type": "code",
   "execution_count": null,
   "metadata": {},
   "outputs": [],
   "source": [
    "obj_fun = average_power\n",
    "nstate_opt = nstate_pto + wec.nstate_wec\n",
    "options = {'maxiter': 500}\n",
    "results = wec.solve(\n",
    "    waves,\n",
    "    obj_fun,\n",
    "    nstate_opt,\n",
    "    x_wec_0=np.ones(wec.nstate_wec)*0.8,\n",
    "    x_opt_0=np.ones(nstate_opt),\n",
    "    scale_x_wec=1e1,\n",
    "    scale_x_opt=1e-2,\n",
    "    scale_obj=1e-2,\n",
    "    optim_options=options\n",
    ")"
   ]
  },
  {
   "attachments": {},
   "cell_type": "markdown",
   "metadata": {},
   "source": [
    "## Post-process and plotting"
   ]
  },
  {
   "cell_type": "code",
   "execution_count": null,
   "metadata": {},
   "outputs": [],
   "source": [
    "results.fun"
   ]
  },
  {
   "cell_type": "code",
   "execution_count": null,
   "metadata": {},
   "outputs": [],
   "source": [
    "nsubsteps = 5\n",
    "wec_fdom, wec_tdom = wec.post_process(results, waves, nsubsteps=nsubsteps)\n",
    "force_excitation = (wec_tdom.force.sel(type='Froude_Krylov') + \n",
    "                    wec_tdom.force.sel(type='diffraction'))\n",
    "exc_torque = force_excitation.squeeze().values"
   ]
  },
  {
   "cell_type": "code",
   "execution_count": null,
   "metadata": {},
   "outputs": [],
   "source": [
    "x_wec, x_opt = wot.decompose_state(results.x, 1, nfreq)\n",
    "pto_pos = rel_position(wec, x_wec, x_opt, waves, nsubsteps) / n**2\n",
    "pto_vel = rel_velocity(wec, x_wec, x_opt, waves, nsubsteps)\n",
    "pto_force = f_motor(wec, x_wec, x_opt, waves, nsubsteps)\n",
    "pto_force_fd = wec.td_to_fd(pto_force[::nsubsteps])\n",
    "pto_mech_power = mechanical_power(wec, x_wec, x_opt, waves, nsubsteps)\n",
    "fw_pos = np.dot(wec.time_mat_nsubsteps(nsubsteps), x_opt[nstate_pto:])"
   ]
  },
  {
   "cell_type": "code",
   "execution_count": null,
   "metadata": {},
   "outputs": [],
   "source": [
    "fig, ax = plt.subplots(nrows=6, sharex=True, figsize=(12, 12))\n",
    "t = wec_tdom.time.values\n",
    "\n",
    "# Excitation\n",
    "ax[0].plot(t, comp_pto_trq, label='Reference')\n",
    "ax[0].plot(t, pto_force, linestyle='dashed', label='WecOptTool')\n",
    "ax[0].set_ylabel('Torque [N-rad]')\n",
    "ax[0].set_title('PTO Torque')\n",
    "ax[0].legend()\n",
    "\n",
    "# Buoy Position\n",
    "ax[1].plot(t, comp_buoy_pos, label='Reference')\n",
    "(wec_tdom.pos*180/np.pi).plot(ax=ax[1], hue='influenced_dof', linestyle='dashed', label='WecOptTool')\n",
    "ax[1].set_title('Buoy Position')\n",
    "ax[1].set_ylabel('Position [deg]')\n",
    "ax[1].legend()\n",
    "\n",
    "# Flywheel Position\n",
    "ax[2].plot(t, comp_fw_pos, label='Reference')\n",
    "ax[2].plot(t, fw_pos*180/np.pi, linestyle='dashed', label='WecOptTool')\n",
    "ax[2].set_title('Flywheel Position')\n",
    "ax[2].set_ylabel('Position [deg]')\n",
    "ax[2].legend()\n",
    "\n",
    "# PTO Position\n",
    "ax[3].plot(t, comp_pto_pos, label='Reference')\n",
    "ax[3].plot(t, pto_pos*180/np.pi, linestyle='dashed', label='WecOptTool')\n",
    "# ax[3].plot(t, np.ones(len(t))*45)\n",
    "ax[3].set_title('PTO Position')\n",
    "ax[3].set_ylabel('Position [deg]')\n",
    "ax[3].legend()\n",
    "\n",
    "# PTO Velocity\n",
    "ax[4].plot(t, comp_gen_vel, label='Reference')\n",
    "ax[4].plot(t, pto_vel, linestyle='dashed', label='WecOptTool')\n",
    "ax[4].set_title('PTO Velocity')\n",
    "ax[4].set_ylabel('Velocity [rad/s]')\n",
    "ax[4].legend()\n",
    "\n",
    "# Mechanical Power\n",
    "ax[5].plot(t, comp_mech_power, label='Reference')\n",
    "ax[5].plot(t, pto_mech_power, linestyle='dashed', label='WecOptTool')\n",
    "ax[5].set_title('Power Output')\n",
    "ax[5].set_ylabel('Power [W]')\n",
    "ax[5].legend()\n",
    "\n",
    "for axi in ax:\n",
    "    axi.grid()\n",
    "    axi.label_outer()\n",
    "    axi.autoscale(axis='x', tight=True)"
   ]
  },
  {
   "cell_type": "code",
   "execution_count": null,
   "metadata": {},
   "outputs": [],
   "source": [
    "plt.plot(wec.omega, pto_force_fd)"
   ]
  }
 ],
 "metadata": {
  "kernelspec": {
   "display_name": "Python 3.10.11 ('wot_dev')",
   "language": "python",
   "name": "python3"
  },
  "language_info": {
   "codemirror_mode": {
    "name": "ipython",
    "version": 3
   },
   "file_extension": ".py",
   "mimetype": "text/x-python",
   "name": "python",
   "nbconvert_exporter": "python",
   "pygments_lexer": "ipython3",
   "version": "3.10.10"
  },
  "vscode": {
   "interpreter": {
    "hash": "3dc3732faf76d567ec6ea86bf61a0204cff5170138bd12cd8b60ad3b24421584"
   }
  }
 },
 "nbformat": 4,
 "nbformat_minor": 2
}
