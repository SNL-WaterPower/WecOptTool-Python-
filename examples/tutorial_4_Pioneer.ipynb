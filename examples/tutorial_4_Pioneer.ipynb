{
 "cells": [
  {
   "cell_type": "code",
   "execution_count": null,
   "metadata": {},
   "outputs": [],
   "source": [
    "import os\n",
    "import capytaine as cpy\n",
    "import autograd.numpy as np\n",
    "import matplotlib.pyplot as plt\n",
    "from scipy.optimize import brute\n",
    "\n",
    "import wecopttool as wot\n",
    "wot.set_loglevel('INFO')"
   ]
  },
  {
   "attachments": {},
   "cell_type": "markdown",
   "metadata": {},
   "source": [
    "## WEC object\n",
    "We will go through a number of steps to create a `WEC` object, with which we can solve for the optimal control trajectory.\n",
    "To compose the `WEC` object, we will need to define the mesh, degrees of freedom, mass and hydrostatic properties, linear hydrodynamic coefficients (from a BEM solution), any additional dynamic forces (e.g. PTO force), and constraints (e.g. minimum line tension).  \n",
    "\n",
    "### Geometry\n",
    "First we create a surface mesh for the WEC hull, and quickly visualize the cross-sectional shape of the hull.\n",
    "The AquaHarmonics hull mesh is already included with WecOptTool—take a look at the `geometry.py` module if you're interested in seeing how it was created.\n",
    "Note that the lower cylindrical section of the hull is open to the sea."
   ]
  },
  {
   "cell_type": "code",
   "execution_count": null,
   "metadata": {},
   "outputs": [],
   "source": [
    "buoy_props = {\n",
    "    'Mass': 3747., # kg\n",
    "    'CG': 0.242, # m\n",
    "    'MOI': 7484., # kg-m^2\n",
    "    'f0': 2 * np.pi /3.0842, # rad/s\n",
    "}\n",
    "\n",
    "flywheel_props = {\n",
    "    'MOI': 4.5,  # kg-m^2\n",
    "    'Max spring torque': 600,  # N-m\n",
    "    'Coulomb friction': 2.0,  # N-m\n",
    "    'Viscous friction': 0.02,  # N-m/rad\n",
    "    'Damping constant': 10.,   # N-m/rad \n",
    "}\n",
    "\n",
    "spring_props = {\n",
    "    'Max torque': 40, # N-m\n",
    "    'Max displacement': np.deg2rad(45.0), # rad\n",
    "}"
   ]
  },
  {
   "cell_type": "code",
   "execution_count": null,
   "metadata": {},
   "outputs": [],
   "source": [
    "hull_geom = wot.geom.WaveBot(r1=3.302/2,\n",
    "                             r2=2.76/2, \n",
    "                             h1=0.578,\n",
    "                             h2=0.439,\n",
    "                             scale_factor=1,\n",
    "                             freeboard=0.5016)  # use standard dimensions\n",
    "mesh = hull_geom.mesh(mesh_size_factor=0.5)\n",
    "_ = hull_geom.plot_cross_section()"
   ]
  },
  {
   "attachments": {},
   "cell_type": "markdown",
   "metadata": {},
   "source": [
    "Next we create a `FloatingBody` object from the mesh in Capytaine, which we will use to calculate the hydrodynamics.\n",
    "We can visualize a 3D rendering of the mesh now as well."
   ]
  },
  {
   "cell_type": "code",
   "execution_count": null,
   "metadata": {},
   "outputs": [],
   "source": [
    "pnr_fb = cpy.FloatingBody.from_meshio(mesh, name=\"Pioneer\")\n",
    "pnr_fb.add_rotation_dof(name='Pitch')\n",
    "pnr_fb.center_of_mass = np.array([0., 0., buoy_props['CG']])\n",
    "pnr_fb.rotation_center = np.zeros(3)\n",
    "ndof = pnr_fb.nb_dofs\n",
    "pnr_fb.show_matplotlib()"
   ]
  },
  {
   "attachments": {},
   "cell_type": "markdown",
   "metadata": {},
   "source": [
    "### Hydrodynamics and hydrostatics\n",
    "\n",
    "Next we will run the boundary element model (BEM) [Capytaine](https://github.com/capytaine/capytaine) to obtain the hydrodynamic coefficients for the hull.\n",
    "Before running the BEM solver, we must specify a set of frequencies at which to perform the calculations.\n",
    "For `WecOptTool`, these must be a regularly spaced frequency array. \n",
    "We will also save the results to a file so that they can be used later, in Part 2, without re-running the BEM solver."
   ]
  },
  {
   "cell_type": "code",
   "execution_count": null,
   "metadata": {},
   "outputs": [],
   "source": [
    "rho = 1025. # kg/m^3\n",
    "f1 = 0.025 # Hz\n",
    "nfreq = 25\n",
    "freq = wot.frequency(f1, nfreq, False) # False -> no zero frequency\n",
    "\n",
    "\n",
    "file_name = \"data/pioneer_bem.nc\"\n",
    "if os.path.exists(file_name):\n",
    "    bem_data = wot.read_netcdf(file_name)\n",
    "else:    \n",
    "    bem_data = wot.run_bem(pnr_fb, freq)\n",
    "    wot.write_netcdf(file_name, bem_data)\n",
    "omega = bem_data.omega.values\n",
    "\n",
    "pnr_fb.keep_immersed_part()\n",
    "k_buoy = pnr_fb.compute_hydrostatic_stiffness(rho=rho).values.squeeze()\n",
    "k_spring = spring_props['Max torque'] / spring_props['Max displacement']"
   ]
  },
  {
   "cell_type": "code",
   "execution_count": null,
   "metadata": {},
   "outputs": [],
   "source": [
    "# plots\n",
    "fig_am, ax_am = plt.subplots(tight_layout=True, sharex=True)\n",
    "fig_rd, ax_rd = plt.subplots(tight_layout=True, sharex=True)\n",
    "fig_ex, ax_ex = plt.subplots(tight_layout=True, sharex=True)\n",
    "\n",
    "# Excitation\n",
    "np.abs(bem_data.diffraction_force.sel(influenced_dof='Pitch')).plot(\n",
    "    ax=ax_ex, linestyle='dashed', label='Diffraction force')\n",
    "np.abs(bem_data.Froude_Krylov_force.sel(influenced_dof='Pitch')).plot(\n",
    "    ax=ax_ex, linestyle='dashdot', label='Froude-Krylov force')\n",
    "ex_handles, ex_labels = ax_ex.get_legend_handles_labels()\n",
    "ax_ex.set_xlabel(f'$\\omega$', fontsize=10)\n",
    "ax_ex.set_title('Wave Excitation Coefficients', fontweight='bold')\n",
    "fig_ex.legend(ex_handles, ex_labels, loc='center right', frameon=False)\n",
    "\n",
    "# Added mass\n",
    "bem_data.added_mass.sel(\n",
    "    radiating_dof='Pitch', influenced_dof='Pitch').plot(ax=ax_am)\n",
    "ax_am.set_xlabel(f'$\\omega$', fontsize=10)\n",
    "ax_am.set_title('Added Mass Coefficients', fontweight='bold')\n",
    "\n",
    "# Radiation damping\n",
    "bem_data.radiation_damping.sel(\n",
    "    radiating_dof='Pitch', influenced_dof='Pitch').plot(ax=ax_rd)\n",
    "ax_rd.set_xlabel(f'$\\omega$', fontsize=10)\n",
    "ax_rd.set_title('Radiation Damping Coefficients', fontweight='bold')"
   ]
  },
  {
   "attachments": {},
   "cell_type": "markdown",
   "metadata": {},
   "source": [
    "### PTO system\n",
    "Using both the parametric kinematics (gear ratios) and the motor power loss map, we can now create a PTO object that will be inserted in our WEC object.\n",
    "Note that the friction and inertia effects will be included as additional forces.\n",
    "By defining the PTO object in this way, we will be able to more clearly distinguish the power generating forces from other effects (e.g., friction)."
   ]
  },
  {
   "cell_type": "code",
   "execution_count": null,
   "metadata": {},
   "outputs": [],
   "source": [
    "def gear_ratio(k_spring, moi, nat_freq):\n",
    "    return np.sqrt(k_spring / (moi * nat_freq**2))\n",
    "\n",
    "# impedance model\n",
    "n_default = gear_ratio(k_spring, flywheel_props['MOI'], buoy_props['f0'])\n",
    "torque_constant = 6.7\n",
    "winding_resistance = 0.5\n",
    "winding_inductance = 0.0\n",
    "drivetrain_inertia = 2.0\n",
    "drivetrain_friction = 1.0\n",
    "drivetrain_stiffness = 0.0\n",
    "\n",
    "drivetrain_impedance = (1j*omega*drivetrain_inertia + \n",
    "                        drivetrain_friction + \n",
    "                        1/(1j*omega)*drivetrain_stiffness) \n",
    "\n",
    "winding_impedance = winding_resistance + 1j*omega*winding_inductance\n",
    "\n",
    "\n",
    "pto_impedance_11 = -1* n_default**2 * drivetrain_impedance\n",
    "off_diag = np.sqrt(3.0/2.0) * torque_constant * n_default\n",
    "pto_impedance_12 = -1*(off_diag+0j) * np.ones(omega.shape) \n",
    "pto_impedance_21 = -1*(off_diag+0j) * np.ones(omega.shape)\n",
    "pto_impedance_22 = winding_impedance\n",
    "pto_impedance = np.array([[pto_impedance_11, pto_impedance_12],\n",
    "                            [pto_impedance_21, pto_impedance_22]])\n",
    "\n",
    "# PTO object\n",
    "name = [\"PTO_Pitch\",]\n",
    "kinematics = np.array([[-1]])\n",
    "nstate_pto = 2 * nfreq\n",
    "pto_ndof = 1\n",
    "controller = None\n",
    "impedance = pto_impedance\n",
    "pto_obj = wot.pto.PTO(\n",
    "                  pto_ndof,\n",
    "                  kinematics=kinematics,\n",
    "                  impedance=impedance,\n",
    "                  )"
   ]
  },
  {
   "cell_type": "code",
   "execution_count": null,
   "metadata": {},
   "outputs": [],
   "source": [
    "import types\n",
    "\n",
    "def position_fw(wec, x_opt):\n",
    "    return np.dot(wec.time_mat, x_opt[nstate_pto:])\n",
    "\n",
    "def velocity_fw(wec, x_opt):\n",
    "    return np.dot(wec.derivative_mat, position_fw(wec, x_opt))\n",
    "     \n",
    "def acceleration_fw(wec, x_opt):\n",
    "    return np.dot(wec.derivative2_mat, position_fw(wec, x_opt))\n",
    "\n",
    "def rel_position(self, wec, x_wec, x_opt, waves=None, nsubsteps=1):\n",
    "    pos_wec = wec.vec_to_dofmat(x_wec)\n",
    "    return (self._fkinematics(pos_wec, wec, x_wec, x_opt, waves, nsubsteps)\n",
    "          - position_fw(wec, x_opt))\n",
    "\n",
    "def rel_velocity(self, wec, x_wec, x_opt, waves=None, nsubsteps=1):\n",
    "    pos_wec = wec.vec_to_dofmat(x_wec)\n",
    "    vel_wec = np.dot(wec.derivative_mat, pos_wec)\n",
    "    return (self._fkinematics(vel_wec, wec, x_wec, x_opt, waves, nsubsteps)\n",
    "          - velocity_fw(wec, x_opt))\n",
    "\n",
    "def rel_acceleration(self, wec, x_wec, x_opt, waves=None, nsubsteps=1):\n",
    "    pos_wec = wec.vec_to_dofmat(x_wec)\n",
    "    acc_wec = np.dot(wec.derivative2_mat, pos_wec)\n",
    "    return (self._fkinematics(acc_wec, wec, x_wec, x_opt, waves, nsubsteps)\n",
    "          - acceleration_fw(wec, x_opt))\n",
    "\n",
    "\n",
    "pto_obj.position = types.MethodType(rel_position, pto_obj)\n",
    "pto_obj.velocity = types.MethodType(rel_velocity, pto_obj)\n",
    "pto_obj.acceleration = types.MethodType(rel_acceleration, pto_obj)"
   ]
  },
  {
   "attachments": {},
   "cell_type": "markdown",
   "metadata": {},
   "source": [
    "### Constraints"
   ]
  },
  {
   "cell_type": "code",
   "execution_count": null,
   "metadata": {},
   "outputs": [],
   "source": [
    "torque_peak_max = 50.\n",
    "permitted_rms_speed = 3300 * 2*np.pi / 60 # rad/s\n",
    "def const_peak_torque_pto(wec, x_wec, x_opt, waves, nsubsteps=2):\n",
    "    torque = pto_obj.force(wec, x_wec, x_opt, waves, nsubsteps) / n_default\n",
    "    return torque_peak_max - np.abs(torque.flatten())\n",
    "\n",
    "def const_rms_velocity_pto(wec, x_wec, x_opt, waves, nsubsteps=2):\n",
    "    pos = x_opt[nstate_pto:]\n",
    "    pto_vel = np.dot(wec.derivative_mat, pos)\n",
    "    rms_vel = np.sqrt(np.mean(pto_vel**2))\n",
    "    return permitted_rms_speed - rms_vel\n",
    "\n",
    "# min_line_tension = 100\n",
    "# def const_min_tension(wec, x_wec, x_opt, waves, nsubsteps=2):\n",
    "#     total_tension = -1*f_pto_line(wec, x_wec, x_opt, waves, nsubsteps)\n",
    "#     return total_tension.flatten() - min_line_tension #TODO"
   ]
  },
  {
   "attachments": {},
   "cell_type": "markdown",
   "metadata": {},
   "source": [
    "### Additional forces"
   ]
  },
  {
   "cell_type": "code",
   "execution_count": null,
   "metadata": {},
   "outputs": [],
   "source": [
    "def f_friction(wec, x_wec, x_opt, waves, nsubsteps=1):\n",
    "    pos_b = wec.vec_to_dofmat(x_wec)\n",
    "    vel_b = np.dot(wec.derivative_mat, pos_b)\n",
    "    pos_fw = x_opt[nstate_pto:]\n",
    "    vel_fw = np.dot(wec.derivative_mat, pos_fw)\n",
    "    rel_vel = vel_b - vel_fw\n",
    "    time_matrix = wec.time_mat_nsubsteps(nsubsteps)\n",
    "    fric = -1 * (\n",
    "        np.tanh(rel_vel) * flywheel_props['Coulomb friction']\n",
    "      + flywheel_props['Viscous friction'] * rel_vel)\n",
    "    return np.dot(time_matrix, fric)\n",
    "\n",
    "# def f_motor(wec, x_wec, x_opt, waves, nsubsteps=1):\n",
    "#     pos = wec.vec_to_dofmat(x_wec)\n",
    "#     vel = np.dot(wec.derivative_mat, pos)\n",
    "#     rel_vel = vel[:, 1] - vel[:, 0]\n",
    "#     time_matrix = wec.time_mat_nsubsteps(nsubsteps)\n",
    "#     motor_damping = flywheel_props['Damping constant'] * rel_vel\n",
    "#     motor_damping_td = np.dot(time_matrix, motor_damping)\n",
    "#     return np.column_stack([motor_damping_td, -motor_damping_td])\n",
    "\n",
    "def f_spring(wec, x_wec, x_opt, waves, nsubsteps=1):\n",
    "    pos_b = wec.vec_to_dofmat(x_wec)\n",
    "    pos_fw = x_opt[nstate_pto:]\n",
    "    rel_pos = pos_b - pos_fw\n",
    "    time_matrix = wec.time_mat_nsubsteps(nsubsteps)\n",
    "    spring = k_spring * rel_pos * n_default**2\n",
    "    return np.dot(time_matrix, spring)\n",
    "\n",
    "def fw_inertia(wec, x_wec, x_opt, waves, nsubsteps=1):\n",
    "    pos_fw = x_opt[nstate_pto:]\n",
    "    acc_fw = np.dot(wec.derivative2_mat, pos_fw)\n",
    "    acc_fw = np.dot(wec.time_mat, acc_fw)\n",
    "    return flywheel_props['MOI'] * acc_fw"
   ]
  },
  {
   "cell_type": "code",
   "execution_count": null,
   "metadata": {},
   "outputs": [],
   "source": [
    "def const_flywheel_resid(wec, x_wec, x_opt, waves):\n",
    "    # I*w_pto^2 - f_spring - f_motor - f_friction - f_pto(?) = 0\n",
    "    return (fw_inertia(wec, x_wec, x_opt, waves)\n",
    "          - f_spring(wec, x_wec, x_opt, waves)\n",
    "          - f_friction(wec, x_wec, x_opt, waves)\n",
    "          - pto_obj.force(wec, x_wec, x_opt, waves))\n",
    "    "
   ]
  },
  {
   "attachments": {},
   "cell_type": "markdown",
   "metadata": {},
   "source": [
    "### Create object\n",
    "Finally, we can use all the different components we've developed thus far to construct a `WEC` object:\n",
    "\n",
    " * **BEM data** - defines the hydrodynamics of the hull\n",
    " * **Inertia and hydrostatics** - rigid-body inertia and hydrostatic stiffness\n",
    " * **Constraints** - limitations on the hardware (max power, max torque, etc.) and the constraint to prevent the tether from going slack\n",
    " * **Additional forces** - this captures all of the forces on the WEC that are not due to the interaction between the hull and water (PTO, etc.)"
   ]
  },
  {
   "cell_type": "code",
   "execution_count": null,
   "metadata": {},
   "outputs": [],
   "source": [
    "f_add = {\n",
    "    'Spring': lambda w, xw, xo, wa: -1* f_spring(w, xw, xo, wa),\n",
    "    'PTO': pto_obj.force_on_wec,\n",
    "}\n",
    "\n",
    "constraints = [\n",
    "    {'type': 'ineq', 'fun': const_peak_torque_pto},\n",
    "    {'type': 'ineq', 'fun': const_rms_velocity_pto},\n",
    "    {'type': 'eq', 'fun': const_flywheel_resid},\n",
    "    # {'type': 'ineq', 'fun': const_min_tension},\n",
    "]"
   ]
  },
  {
   "cell_type": "code",
   "execution_count": null,
   "metadata": {},
   "outputs": [],
   "source": [
    "wec = wot.WEC.from_bem(bem_data,\n",
    "                       inertia_matrix=np.array(buoy_props['MOI']),\n",
    "                       hydrostatic_stiffness=k_buoy,\n",
    "                     #   friction=friction,\n",
    "                       f_add=f_add,\n",
    "                       constraints=constraints,\n",
    "                       dof_names=bem_data.influenced_dof.values,\n",
    "                        )"
   ]
  },
  {
   "attachments": {},
   "cell_type": "markdown",
   "metadata": {},
   "source": [
    "## Waves\n",
    "A regular wave will allow us to get a good initial understanding of the optimal control trajectory.\n",
    "Note that we'll want to choose a wave frequency that is within the frequency array we used to calculate the hydrodynamic data."
   ]
  },
  {
   "cell_type": "code",
   "execution_count": null,
   "metadata": {},
   "outputs": [],
   "source": [
    "amplitude = .5/2\n",
    "# wavefreq =  1/5.3\n",
    "wavefreq =  0.4 # TODO\n",
    "phase = 0\n",
    "wavedir = 0\n",
    "waves = wot.waves.regular_wave(f1, nfreq, wavefreq, amplitude, phase, wavedir)\n",
    "# spectrum = lambda f: wot.waves.jonswap_spectrum(freq=f, fp=wavefreq, hs=2*amplitude)\n",
    "# efth = wot.waves.omnidirectional_spectrum(f1, nfreq, spectrum, \"JONSWAP\")\n",
    "# waves = wot.waves.long_crested_wave(efth)\n",
    "# efth.plot(marker='.')"
   ]
  },
  {
   "cell_type": "code",
   "execution_count": null,
   "metadata": {},
   "outputs": [],
   "source": [
    "# fig, ax = plt.subplots()\n",
    "# (np.abs(waves)/np.max(np.abs(waves))).plot(marker='.', label='Waves')\n",
    "# Zi_mag = np.abs(Zi.sel(radiating_dof='Pitch', influenced_dof='Pitch').squeeze())\n",
    "# (Zi_mag/np.max(Zi_mag)).plot(label='Impedance')\n",
    "\n",
    "# ax.autoscale(axis='x', tight=True)\n",
    "# ax.set_ylim((0,1))\n",
    "# ax.set_title('')\n",
    "# ax.legend()"
   ]
  },
  {
   "attachments": {},
   "cell_type": "markdown",
   "metadata": {},
   "source": [
    "## Solve\n",
    "Finally, we solve for the optimal control trajectory.\n",
    "To ensure the numerical optimization problem is well-scaled, we set [specific scaling factors](https://snl-waterpower.github.io/WecOptTool/theory.html#scaling) for the WEC position (`scale_x_wec`), the PTO force (`scale_x_opt`), and objective function (`scale_obj`).\n",
    "We will also set the [maximum iteration and objective function tolerance for the optimization solver](https://docs.scipy.org/doc/scipy/reference/optimize.minimize-lbfgsb.html).\n",
    "This step typically takes about 30s."
   ]
  },
  {
   "cell_type": "code",
   "execution_count": null,
   "metadata": {},
   "outputs": [],
   "source": [
    "obj_fun = pto_obj.average_power\n",
    "nstate_opt = nstate_pto + wec.nstate_wec\n",
    "results = wec.solve(\n",
    "    waves,\n",
    "    obj_fun,\n",
    "    nstate_opt,\n",
    "    x_wec_0=np.ones(wec.nstate_wec)*0.8,\n",
    "    x_opt_0=np.ones(nstate_opt),\n",
    "    scale_x_wec=1,\n",
    "    scale_x_opt=1e-3,\n",
    "    scale_obj=1e-2,\n",
    ")"
   ]
  },
  {
   "attachments": {},
   "cell_type": "markdown",
   "metadata": {},
   "source": [
    "## Post-process and plotting\n",
    "Next, we post-process the results to allow us to more easily visualize them in a series of plots.\n",
    "Note that because the `WEC` and `PTO` objects are distinct (the WEC object really only knows what the force from the PTO is, not how how that force is obtained), we create two separate results objects (in each case, we get results in the frequency domain and time domain)."
   ]
  },
  {
   "cell_type": "code",
   "execution_count": null,
   "metadata": {},
   "outputs": [],
   "source": [
    "wec_fdom, wec_tdom = wec.post_process(results, waves, nsubsteps=5)\n",
    "pto_fdom, pto_tdom = pto_obj.post_process(wec, results, waves, nsubsteps=5)\n",
    "force_excitation = (wec_tdom.force.sel(type='Froude_Krylov') + \n",
    "                    wec_tdom.force.sel(type='diffraction'))\n",
    "pto_tdom.power.mean()\n",
    "print(f'Optimal average power: {results.fun:.2f} W')"
   ]
  },
  {
   "cell_type": "code",
   "execution_count": null,
   "metadata": {},
   "outputs": [],
   "source": [
    "# Fex = wec_fdom.force.sel(type='Froude_Krylov') + wec_fdom.force.sel(type='diffraction').squeeze().sel(influenced_dof='Pitch')\n",
    "# P_max = np.abs(Fex)**2 / (8*np.real(Zi.squeeze().sel(influenced_dof='Pitch', radiating_dof='Pitch')))\n",
    "# fig, ax = plt.subplots()\n",
    "# P_max.plot()\n",
    "# ax.set_title('$P_{max}=$' + f'{P_max.sum().item()/1e3:.1f} kW')"
   ]
  },
  {
   "cell_type": "code",
   "execution_count": null,
   "metadata": {},
   "outputs": [],
   "source": [
    "wec_tdom.force.sel(influenced_dof='Pitch').plot(hue='type')"
   ]
  },
  {
   "cell_type": "code",
   "execution_count": null,
   "metadata": {},
   "outputs": [],
   "source": [
    "wec_tdom.force.sel(influenced_dof='Flywheel').plot(hue='type')"
   ]
  },
  {
   "cell_type": "code",
   "execution_count": null,
   "metadata": {},
   "outputs": [],
   "source": [
    "fig, ax = plt.subplots(nrows=4, sharex=True, figsize=(12, 12))\n",
    "\n",
    "# Excitation\n",
    "\n",
    "# force_excitation.sel(influenced_dof='Pitch').plot(ax=ax[0], color='k', label='Excitation')\n",
    "ax[0].set_ylabel('Exc. torque [Nm]')\n",
    "pto_tdom.force.plot(ax=ax[0], label='PTO', color='r')\n",
    "# wec_tdom.force.sel(influenced_dof='Pitch').sum(dim='type').plot(ax=ax[0], label='Pitch', color='b')\n",
    "wec_tdom.force.sel(influenced_dof='Flywheel').sum(dim='type').plot(ax=ax[0], label='Flywheel', color='c')\n",
    "ax[0].set_ylabel('Torque [Nm]', color='red')\n",
    "ax[0].tick_params(axis='y', labelcolor='red')\n",
    "ax[0].set_title('')\n",
    "ax[0].autoscale(enable=True, axis='x', tight=False)\n",
    "ax[0].legend()\n",
    "\n",
    "(wec_tdom.pos*180/np.pi).plot(ax=ax[1], hue='influenced_dof')\n",
    "ax[1].set_ylabel('Position [deg]')\n",
    "\n",
    "wec_tdom.vel.plot(ax=ax[2], hue='influenced_dof', add_legend=False)\n",
    "\n",
    "(pto_tdom['mech_power']).plot(ax=ax[3], \n",
    "                                  label='Mech. power ($\\\\bar{P}_{mech}$: ' + f'{pto_tdom.mech_power.mean().item():.0f} W)')\n",
    "(pto_tdom['power']).plot(ax=ax[3], linestyle='dashed', \n",
    "                         label='Elec. power ($\\\\bar{P}_{elec}$: ' + f'{pto_tdom.power.mean().item():.0f} W)')\n",
    "\n",
    "ax[3].legend(loc='upper right')\n",
    "ax[3].set_ylabel('Power [W]')\n",
    "\n",
    "for axi in ax:\n",
    "    axi.set_title('')\n",
    "    axi.grid()\n",
    "    axi.label_outer()\n",
    "    axi.autoscale(axis='x', tight=True)\n",
    "\n",
    "# # fig.savefig('../gfx/PioneerWec_wecopttool_time_histories.pdf')"
   ]
  },
  {
   "cell_type": "code",
   "execution_count": null,
   "metadata": {},
   "outputs": [],
   "source": [
    "wec_tdom.pos[:, 0]"
   ]
  }
 ],
 "metadata": {
  "kernelspec": {
   "display_name": "wot_dev",
   "language": "python",
   "name": "python3"
  },
  "language_info": {
   "codemirror_mode": {
    "name": "ipython",
    "version": 3
   },
   "file_extension": ".py",
   "mimetype": "text/x-python",
   "name": "python",
   "nbconvert_exporter": "python",
   "pygments_lexer": "ipython3",
   "version": "3.10.10"
  },
  "vscode": {
   "interpreter": {
    "hash": "f252d953481fe26d9f579bea52c95d8e24023e3812e044e269e3d960b43c3feb"
   }
  }
 },
 "nbformat": 4,
 "nbformat_minor": 2
}
