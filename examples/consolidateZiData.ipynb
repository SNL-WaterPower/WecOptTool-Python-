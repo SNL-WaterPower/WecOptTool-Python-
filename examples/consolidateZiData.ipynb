{
 "cells": [
  {
   "cell_type": "code",
   "execution_count": 2,
   "metadata": {},
   "outputs": [],
   "source": [
    "import capytaine as cpy\n",
    "import autograd.numpy as np\n",
    "import matplotlib.pyplot as plt\n",
    "from scipy.linalg import block_diag\n",
    "import xarray as xr\n",
    "from math import comb\n",
    "\n",
    "import wecopttool as wot"
   ]
  },
  {
   "cell_type": "code",
   "execution_count": 28,
   "metadata": {},
   "outputs": [
    {
     "name": "stdout",
     "output_type": "stream",
     "text": [
      "<xarray.Dataset>\n",
      "Dimensions:              (omega: 128, wave_direction: 1, influenced_dof: 1,\n",
      "                          radiating_dof: 1)\n",
      "Coordinates:\n",
      "  * omega                (omega) float64 0.03142 0.06283 0.09425 ... 3.99 4.021\n",
      "  * wave_direction       (wave_direction) float64 0.0\n",
      "  * influenced_dof       (influenced_dof) <U5 'Pitch'\n",
      "  * radiating_dof        (radiating_dof) <U5 'Pitch'\n",
      "Data variables:\n",
      "    exc_coeff_data_real  (omega, wave_direction, influenced_dof) float64 -1.5...\n",
      "    exc_coeff_data_imag  (omega, wave_direction, influenced_dof) float64 3.51...\n",
      "    Zi_data_real         (omega, radiating_dof, influenced_dof) float64 5.421...\n",
      "    Zi_data_imag         (omega, radiating_dof, influenced_dof) float64 -2.09...\n",
      "    Zi_stiffness         (influenced_dof, radiating_dof) float64 6.582e+04\n",
      "Attributes:\n",
      "    long_name:  Excitation and Impedance Data\n"
     ]
    }
   ],
   "source": [
    "# load in the empirical data\n",
    "datadir = 'data/pioneer_empirical_data/'\n",
    "\n",
    "def _create_DataArrays(impedance, exc_coeff, omega):\n",
    "    freq_attr = {'long_name': 'Wave frequency', 'units': 'rad/s'}\n",
    "    dir_attr = {'long_name': 'Wave direction', 'units': 'rad'}\n",
    "    dof_attr = {'long_name': 'Degree of freedom'}\n",
    "    dof_names = [\"Pitch\",]\n",
    "    directions = np.atleast_1d(0.0)\n",
    "\n",
    "    dims_exc = ('omega', 'wave_direction', 'influenced_dof')\n",
    "    coords_exc = [\n",
    "        (dims_exc[0], np.squeeze(omega), freq_attr),\n",
    "        (dims_exc[1], directions, dir_attr),\n",
    "        (dims_exc[2], dof_names, dof_attr),\n",
    "    ]\n",
    "    attrs_exc = {'units': 'N/m', 'long_name': 'Excitation Coefficient'}\n",
    "    exc_coeff = np.expand_dims(np.squeeze(exc_coeff), axis = [1,2])\n",
    "    exc_coeff = xr.DataArray(exc_coeff, dims=dims_exc, coords=coords_exc,\n",
    "                            attrs=attrs_exc, name='excitation coefficient')\n",
    "\n",
    "    dims_imp = ('omega', 'radiating_dof', 'influenced_dof')\n",
    "    coords_imp = [\n",
    "        (dims_imp[0], np.squeeze(omega), freq_attr),\n",
    "        (dims_imp[1], dof_names, dof_attr),\n",
    "        (dims_imp[2], dof_names, dof_attr),\n",
    "    ]\n",
    "    attrs_imp = {'units': 'Ns/m', 'long_name': 'Intrinsic Impedance'}\n",
    "\n",
    "    Zi = xr.DataArray(\n",
    "        np.expand_dims(np.squeeze(impedance), axis=[1,2]),\n",
    "        dims=dims_imp, coords=coords_imp, attrs=attrs_imp,\n",
    "        name='Intrinsic impedance'\n",
    "    )\n",
    "    return exc_coeff, Zi\n",
    "\n",
    "omega_data = np.loadtxt(datadir + \"omega\")\n",
    "\n",
    "exc_coeff_data = (np.loadtxt(datadir + \"exc_real\") + 1j*np.loadtxt(datadir + \"exc_imag\")).reshape([-1, 1])\n",
    "Zi_data = (np.loadtxt(datadir + \"Zemp_real\") + 1j*np.loadtxt(datadir + \"Zemp_imag\")).reshape([-1, 1, 1])\n",
    "Zi_stiffness = np.loadtxt(datadir + \"Zemp_stiffness\").reshape([1, 1])\n",
    "\n",
    "exc_coeff_data, Zi_data = _create_DataArrays(Zi_data, exc_coeff_data, omega_data)\n",
    "\n",
    "empirical_data = xr.Dataset(data_vars=dict(\n",
    "            exc_coeff_data_real=([\"omega\", \"wave_direction\", \"influenced_dof\"], np.real(exc_coeff_data.data)),\n",
    "            exc_coeff_data_imag=([\"omega\", \"wave_direction\", \"influenced_dof\"], np.imag(exc_coeff_data.data)),\n",
    "            Zi_data_real=([\"omega\", \"radiating_dof\", \"influenced_dof\"], np.real(Zi_data.data)),\n",
    "            Zi_data_imag=([\"omega\", \"radiating_dof\", \"influenced_dof\"], np.imag(Zi_data.data)),\n",
    "            Zi_stiffness=([\"influenced_dof\",\"radiating_dof\"],Zi_stiffness)\n",
    "        ),\n",
    "        coords=dict(\n",
    "            omega=omega_data,\n",
    "            wave_direction=np.atleast_1d(0.0),\n",
    "            influenced_dof=[\"Pitch\",],\n",
    "            radiating_dof=[\"Pitch\",],\n",
    "        ),\n",
    "        attrs={'long_name': 'Excitation and Impedance Data'}\n",
    "    )\n",
    "\n",
    "print(empirical_data)\n",
    "empirical_data.to_netcdf(\"pioneer_empirical_data.nc\")"
   ]
  }
 ],
 "metadata": {
  "kernelspec": {
   "display_name": "wot_dev",
   "language": "python",
   "name": "wecopttool2_0_0"
  },
  "language_info": {
   "codemirror_mode": {
    "name": "ipython",
    "version": 3
   },
   "file_extension": ".py",
   "mimetype": "text/x-python",
   "name": "python",
   "nbconvert_exporter": "python",
   "pygments_lexer": "ipython3",
   "version": "3.10.9"
  }
 },
 "nbformat": 4,
 "nbformat_minor": 2
}
