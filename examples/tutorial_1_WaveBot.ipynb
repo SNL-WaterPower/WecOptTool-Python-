{
 "cells": [
  {
   "cell_type": "markdown",
   "metadata": {},
   "source": [
    "# Tutorial 1 - WaveBot\n",
    "The goal of this tutorial is to familiarize new users with how to set up and run optimization problems using WecOptTool. \n",
    "It uses a one-body WEC, the WaveBot, in one degree of freedom in regular waves. \n",
    "\n",
    "![WaveBot Photo](https://live.staticflickr.com/65535/51855905347_de87ccaaba_z.jpg)\n",
    "\n",
    "At the end of this tutorial the user will perform control co-design of the WEC's geometry and a corresponding optimal controller to maximize electrical power. \n",
    "We build up to this problem in three parts of successive complexity:\n",
    "\n",
    "1. [Optimal control for maximum mechanical power](#1.-Optimal-control-for-maximum-mechanical-power)\n",
    "2. [Optimal control for maximum electrical power](#2.-Optimal-control-for-maximum-electrical-power)\n",
    "3. [Control co-design of the WEC's geometry for maximum electrical power](#3.-Control-co-design-of-the-WEC-geometry-for-maximum-electrical-power)\n",
    "\n",
    "We will start by loading the necessary modules: \n",
    "\n",
    "* Import Autograd (wrapper on NumPy, required) for automatic differentiation\n",
    "* Import other packages we will use in this tutorial \n",
    "* Import WecOptTool "
   ]
  },
  {
   "cell_type": "code",
   "execution_count": 1,
   "metadata": {},
   "outputs": [],
   "source": [
    "import autograd.numpy as np\n",
    "import capytaine as cpy\n",
    "import matplotlib.pyplot as plt\n",
    "from scipy.optimize import brute\n",
    "\n",
    "import wecopttool as wot\n"
   ]
  },
  {
   "cell_type": "markdown",
   "metadata": {},
   "source": [
    "## 1. Optimal control for maximum mechanical power\n",
    "This example illustrates how to set up, run, and analyze a basic optimization problem within WecOptTool.\n",
    "\n",
    "The objective of this example is to **find the optimal PTO force time-series** that produces the most mechanical power subject to the WEC dynamics and a maximum force the PTO can exert.\n",
    "\n",
    "WecOptTool requires the following to be defined to successfully run its optimization routines:\n",
    "- The WEC object, including all of its properties and constraints\n",
    "- The wave condition\n",
    "- The objective function\n",
    "\n",
    "<div>\n",
    "<img src=\"https://live.staticflickr.com/65535/52435098523_37d6a2ca94_k.jpg\" width=\"1000\">\n",
    "</div>\n",
    "\n",
    "The graphic shows all the requirements for this first part of the tutorial: from the wave on the left, to the objective (mechanical power) on the right.\n",
    "The WEC object, with all it's components, is illustrated in the middle. The components inside the blue box are the WEC properties that are actually passed on to the optimizer.\n",
    "In short, the WEC's hydrodynamic properties are modelled by\n",
    "1. Defining the WEC's geometry\n",
    "2. Meshing the geometry\n",
    "3. Obtaining the WEC's BEM cofficients based on the mesh\n",
    "4. Determening the WEC's intrinsic impedance model based on the BEM coefficients\n",
    "\n",
    "For this first part of the tutorial, the heave-only, WEC-PTO kinematics are trivial (Unity) and the PTO is assumed to be lossless."
   ]
  },
  {
   "cell_type": "markdown",
   "metadata": {},
   "source": [
    "### WEC object\n",
    "In this section we will create the `WEC` object, which contains all the information about the WEC and its dynamics. This constitutes the vast majority of the setup required to run WecOptTool.\n",
    "\n",
    "Our `WEC` object requires information about the mesh, degrees of freedom, mass and hydrostatic properties, linear hydrodynamic coefficients (from a BEM solution), any additional dynamic forces (e.g. PTO force, mooring, non-linear hydrodynamics), and constraints (e.g. maximum PTO extension). \n",
    "In this case, the only additional force will be the PTO force and the only constraint will be a maximum PTO force of $2,000 N$.\n",
    "\n",
    "#### Mesh\n",
    "First, we will create a surface mesh for the hull and store it using the `FloatingBody` object from Capytaine. The WaveBot mesh is pre-defined in the `wecopttool.geom` module, so we will call it directly from there. We will only model the heave degree of freedom in this case. Note that the Capytaine `from_meshio` method can also import from other file types (STL, VTK, MSH, etc.)"
   ]
  },
  {
   "cell_type": "code",
   "execution_count": 2,
   "metadata": {},
   "outputs": [],
   "source": [
    "wb = wot.geom.WaveBot()  # use standard dimensions\n",
    "mesh_size_factor = 0.5 # 1.0 for default, smaller to refine mesh\n",
    "mesh = wb.mesh(mesh_size_factor)\n",
    "fb = cpy.FloatingBody.from_meshio(mesh, name=\"WaveBot\")\n",
    "fb.add_translation_dof(name=\"Heave\")\n",
    "ndof = fb.nb_dofs\n"
   ]
  },
  {
   "cell_type": "markdown",
   "metadata": {},
   "source": [
    "At this point we can visualize the mesh for inspection.\n",
    "Capytaine has built-in methods for visualizing meshes (`fb.show`, and `fb.show_matplotlib`). \n",
    "When running outside a Notebook, these are interactive.  \n",
    "The included WaveBot example also has a method for plotting the cross-section of the device. "
   ]
  },
  {
   "cell_type": "code",
   "execution_count": 3,
   "metadata": {},
   "outputs": [],
   "source": [
    "# fb.show_matplotlib()\n",
    "# _ = wb.plot_cross_section(show=True)  # specific to WaveBot\n"
   ]
  },
  {
   "cell_type": "markdown",
   "metadata": {},
   "source": [
    "#### Frequency and mesh check\n",
    "We will analyze 50 frequencies with a spacing of 0.05 Hz. These frequencies will be used for the Fourier representation of both the wave and the desired PTO force in the pseudo-spectral problem. See the Theory section of the Documentation for more details on the pseudo-spectral problem formulation.\n",
    "\n",
    "The `fb.minimal_computable_wavelength` parameter checks the mesh to determine the minimum wavelength that can be reliably computed using Capytaine. This warning is ignored here because the BEM results have been validated, but can be used as a guide for mesh refinement to ensure accurate BEM results."
   ]
  },
  {
   "cell_type": "code",
   "execution_count": 4,
   "metadata": {},
   "outputs": [
    {
     "name": "stdout",
     "output_type": "stream",
     "text": [
      "Warning: Minimum wavelength in frequency spectrum (0.6939155518806638) is smaller than the minimum computable wavelength (0.8056649972775113).\n"
     ]
    }
   ],
   "source": [
    "df = 0.15\n",
    "f1 = df\n",
    "ifreq_start = 2\n",
    "ifreq_end = 10 # 50\n",
    "\n",
    "freq = wot.frequency(df, ifreq_end)[ifreq_start:]\n",
    "\n",
    "min_computable_wavelength = fb.minimal_computable_wavelength\n",
    "g = 9.81\n",
    "min_period = 1/(df*ifreq_end)\n",
    "min_wavelength = (g*(min_period)**2)/(2*np.pi)\n",
    "\n",
    "if min_wavelength < min_computable_wavelength:\n",
    "    print(f'Warning: Minimum wavelength in frequency spectrum ({min_wavelength}) is smaller'\n",
    "         f' than the minimum computable wavelength ({min_computable_wavelength}).')\n"
   ]
  },
  {
   "cell_type": "markdown",
   "metadata": {},
   "source": [
    "#### BEM\n",
    "With our Capytaine floating body created, we can now run the Boundary Element Method solver in Capytaine to get the hydrostatic and hydrodynamic coefficients of our WEC object. This is wrapped into the `wecopttool.run_bem` function.\n",
    "\n",
    "If you would like to save our BEM data to a NetCDF file for future use, see the `wecopttool.write_netcdf` function."
   ]
  },
  {
   "cell_type": "code",
   "execution_count": 5,
   "metadata": {},
   "outputs": [
    {
     "name": "stderr",
     "output_type": "stream",
     "text": [
      "WARNING:wecopttool.core:Using the geometric centroid as the center of gravity (COG).\n",
      "WARNING:wecopttool.core:Using the center of gravity (COG) as the rotation center for hydrostatics.\n",
      "WARNING:capytaine.bem.problems_and_results:Mesh resolution for DiffractionProblem(body=WaveBot_immersed, omega=9.425, water_depth=inf, wave_direction=0.000, rho=1025.0):\n",
      "The resolution of the mesh 'WaveBot' of the body 'WaveBot_immersed' might be insufficient for the wavelength λ=6.94e-01.\n",
      "This warning appears because the largest panel of this mesh has radius 1.01e-01 > λ/8.\n",
      "WARNING:capytaine.bem.problems_and_results:Mesh resolution for RadiationProblem(body=WaveBot_immersed, omega=9.425, water_depth=inf, radiating_dof='Heave', rho=1025.0):\n",
      "The resolution of the mesh 'WaveBot' of the body 'WaveBot_immersed' might be insufficient for the wavelength λ=6.94e-01.\n",
      "This warning appears because the largest panel of this mesh has radius 1.01e-01 > λ/8.\n"
     ]
    }
   ],
   "source": [
    "bem_data = wot.run_bem(fb, freq)\n"
   ]
  },
  {
   "cell_type": "markdown",
   "metadata": {},
   "source": [
    "#### PTO\n",
    "WecOptTool includes the `PTO` class to encompass all properties of the power take-off system of the WEC. Data wrapped into our `PTO` class will be used to help define our `WEC` object and optimization problem later.\n",
    "\n",
    "To create an instance of the `PTO` class, we need:\n",
    "- The kinematics matrix, which converts from the WEC degrees of freedom to the PTO degrees of freedom. The PTO extracts power directly from the WEC's heave in this case, so the kinematics matrix is simply the $1 \\times 1$ identity matrix.\n",
    "- The definition of the PTO controller. The `wecopttool.pto` submodule includes P, PI, and PID controller functions that can be provided to the `PTO` class and return the PTO force. However, we will be using an unstructured controller in this case, so we will set `None` for the controller.\n",
    "- Any PTO impedance. We're only interested in mechanical power for this first problem, so we will leave this empty for now\n",
    "- The non-linear power conversion loss (assumed 0% if `None`)\n",
    "- The PTO system name, if desired"
   ]
  },
  {
   "cell_type": "code",
   "execution_count": 6,
   "metadata": {},
   "outputs": [],
   "source": [
    "name = [\"PTO_Heave\",]\n",
    "kinematics = np.eye(ndof)\n",
    "controller = None\n",
    "loss = None\n",
    "pto_impedance = None\n",
    "pto = wot.pto.PTO(ndof, kinematics, controller, pto_impedance, loss, name)\n"
   ]
  },
  {
   "cell_type": "markdown",
   "metadata": {},
   "source": [
    "Now let's define the PTO forcing on the WEC and the PTO constraints. For our optimization problem, the constraints must be in the correct format for `scipy.optimize.minimize()`. We will enforce the constraint at 4 times more points than the dynamics (see Theory for why this is helpful for the pseudo-spectral problem)."
   ]
  },
  {
   "cell_type": "code",
   "execution_count": 8,
   "metadata": {},
   "outputs": [],
   "source": [
    "# DEBUG\n",
    "constraints = []\n"
   ]
  },
  {
   "cell_type": "markdown",
   "metadata": {},
   "source": [
    "#### `WEC` creation\n",
    "We are now ready to create the `WEC` object itself! Since we ran our BEM already, we can define the object using the `wecopttool.WEC.from_bem` function. If we saved our BEM data to a NetCDF file, we can also provide the path to that file instead of specifying the BEM `Dataset` directly."
   ]
  },
  {
   "cell_type": "code",
   "execution_count": 9,
   "metadata": {},
   "outputs": [],
   "source": [
    "wec = wot.WEC.from_bem(\n",
    "    bem_data,\n",
    "    constraints=constraints,\n",
    "    friction=None,\n",
    "    f_add=f_add,\n",
    ")\n"
   ]
  },
  {
   "cell_type": "markdown",
   "metadata": {},
   "source": [
    "Note: We might receive a warning regarding negative linear damping values. Per default, WecOptTool ensures that the BEM data does not contain non-negative damping values. If you would like to correct the BEM solution manually to a minimum damping value you can specify `min_damping`. "
   ]
  },
  {
   "cell_type": "markdown",
   "metadata": {},
   "source": [
    "### Waves\n",
    "The wave environment must be specified as a 2-dimensional `xarray.DataArray` containing the complex amplitude (m). \n",
    "The two coordinates are the radial frequency ``omega`` (rad/s)  and the direction ``wave_direction`` (rad). \n",
    "The `wecopttool.waves` submodule contains functions for creating this `xarray.DataArray` for different types of wave environments. \n",
    "\n",
    "In this case we will use a regular wave with a frequency of 0.3 Hz and an amplitude of 0.0625 m. \n",
    "We will use the `wecopttool.waves.regular_wave` function. "
   ]
  },
  {
   "cell_type": "code",
   "execution_count": 10,
   "metadata": {},
   "outputs": [],
   "source": [
    "f1 = df\n",
    "amplitude = 0 # 0.0625\n",
    "wavefreq = 0.3\n",
    "phase = 30\n",
    "wavedir = 0\n",
    "waves = wot.waves.regular_wave(f1, ifreq_end, wavefreq, amplitude, phase, wavedir, ifreq_start)\n"
   ]
  },
  {
   "cell_type": "markdown",
   "metadata": {},
   "source": [
    "### Objective function\n",
    "The objective function is the quantity (scalar) we want to optimize—in this case, the average mechanical power. The objective function is itself a function of the optimization state, the size of which we need to properly define our call to `scipy.optimize.minimize()`. The average mechanical power can be taken directly from the `PTO` object we created.\n",
    "\n",
    "One technical quirk here: `nstate_opt` is one smaller than would be expected for a state space representing the mean (DC) component and the real and imaginary Fourier coefficients. This is because WecOptTool excludes the imaginary Fourier component of the highest frequency (the 2-point wave). Since the 2-point wave is sampled at multiples of $\\pi$, the imaginary component is evaluated as $sin(n\\pi); n = 0, 1, 2, ..., n_{freq}$, which is always zero. Excluding this component speeds up the optimization as the state space is reduced by one."
   ]
  },
  {
   "cell_type": "code",
   "execution_count": 11,
   "metadata": {},
   "outputs": [],
   "source": [
    "obj_fun = pto.mechanical_average_power\n",
    "nstate_opt = wec.ncomponents\n"
   ]
  },
  {
   "cell_type": "markdown",
   "metadata": {},
   "source": [
    "### Solve\n",
    "We are now ready to solve the problem. WecOptTool uses `scipy.optimize.minimize` as its optimization driver, which is wrapped into `wecopttool.WEC.solve` for ease of use.\n",
    "\n",
    "Note that the only required inputs for defining and solving the problem are: (1) the waves, (2) the objective function, and (3) the size of the optimization state. Optional inputs can be provided to control the optimization execution if desired, which we do here to change the default iteration maximum and tolerance. See `scipy.optimize.minimize` docs for more details.\n",
    "\n",
    "To help the optimization we will scale the problem before solving it (see Documentation). WecOptTool allows you to scale the WEC dynamics state, your optimization state (in this case the Fourier coefficients for the PTO force), and the objective function separately. See the `wecopttool.WEC.solve()` function for more information.\n",
    "\n",
    "\n",
    "Pay attention to the `Exit mode`: an exit mode of $0$ indicates a successful solution. For an easy problem (linear, single Dof, unconstrained, etc.) your iterations shouldn't need to exceed 100. If they do, try adjusting the scales by orders of magnitude, one at a time."
   ]
  },
  {
   "cell_type": "code",
   "execution_count": 12,
   "metadata": {},
   "outputs": [],
   "source": [
    "options = {'maxiter': 100}\n",
    "# scale_x_wec = 1.0 # 1e1\n",
    "# scale_x_opt = 1.0 # 1e-3\n",
    "# scale_obj = 1.0 # 1e-2\n",
    "\n",
    "\n",
    "scale_x_wec = 1.0\n",
    "scale_x_opt = 1.0\n",
    "scale_obj = 1.0\n",
    "\n",
    "# results  = wec.solve(\n",
    "problem  = wec.solve(\n",
    "    waves,\n",
    "    obj_fun,\n",
    "    nstate_opt,\n",
    "    # x_wec_0 = x_wec*1.1,\n",
    "    # x_opt_0 = x_opt*0.9,\n",
    "    optim_options=options,\n",
    "    scale_x_wec=scale_x_wec,\n",
    "    scale_x_opt=scale_x_opt,\n",
    "    scale_obj=scale_obj,\n",
    "    # use_grad = False,\n",
    "    )\n",
    "\n",
    "# opt_mechanical_average_power = results.fun\n",
    "# print(f'Optimal average mechanical power: {opt_mechanical_average_power} W')\n"
   ]
  },
  {
   "cell_type": "markdown",
   "metadata": {},
   "source": [
    "## DEBUG"
   ]
  },
  {
   "cell_type": "code",
   "execution_count": 13,
   "metadata": {},
   "outputs": [
    {
     "name": "stdout",
     "output_type": "stream",
     "text": [
      "1.11.4\n",
      "Optimization terminated successfully    (Exit mode 0)\n",
      "            Current function value: 0.0004998016765365283\n",
      "            Iterations: 8\n",
      "            Function evaluations: 8\n",
      "            Gradient evaluations: 8\n"
     ]
    }
   ],
   "source": [
    "## SOLVE!!!! ##\n",
    "from scipy.optimize import minimize\n",
    "import scipy; print(scipy.__version__)\n",
    "\n",
    "optim_res = minimize(**problem)"
   ]
  },
  {
   "cell_type": "code",
   "execution_count": 14,
   "metadata": {},
   "outputs": [
    {
     "data": {
      "text/plain": [
       "dict_keys(['fun', 'x0', 'method', 'constraints', 'options', 'bounds', 'callback', 'jac'])"
      ]
     },
     "execution_count": 14,
     "metadata": {},
     "output_type": "execute_result"
    }
   ],
   "source": [
    "problem.keys()"
   ]
  },
  {
   "cell_type": "code",
   "execution_count": 15,
   "metadata": {},
   "outputs": [
    {
     "data": {
      "text/plain": [
       "'SLSQP'"
      ]
     },
     "execution_count": 15,
     "metadata": {},
     "output_type": "execute_result"
    }
   ],
   "source": [
    "problem['method']\n"
   ]
  },
  {
   "cell_type": "code",
   "execution_count": 16,
   "metadata": {},
   "outputs": [
    {
     "data": {
      "text/plain": [
       "{'maxiter': 100, 'disp': True}"
      ]
     },
     "execution_count": 16,
     "metadata": {},
     "output_type": "execute_result"
    }
   ],
   "source": [
    "problem['options']"
   ]
  },
  {
   "cell_type": "code",
   "execution_count": 17,
   "metadata": {},
   "outputs": [
    {
     "data": {
      "text/plain": [
       "True"
      ]
     },
     "execution_count": 17,
     "metadata": {},
     "output_type": "execute_result"
    }
   ],
   "source": [
    "problem['bounds'] == None"
   ]
  },
  {
   "cell_type": "code",
   "execution_count": 18,
   "metadata": {},
   "outputs": [],
   "source": [
    "# SETUP\n",
    "# idx = 3\n",
    "# x_wec = np.zeros(wec.ncomponents); x_wec[idx*2] = 1; x_wec[idx*2+1] = 1; x_wec[0] = 1\n",
    "# x_opt = np.zeros(wec.ncomponents); x_opt[idx*2] = 1; x_opt[idx*2+1] = 1; x_opt[0] = 1\n",
    "\n",
    "# x = np.concatenate([x_wec, x_opt])\n",
    "\n",
    "# t = wec.time"
   ]
  },
  {
   "cell_type": "code",
   "execution_count": 19,
   "metadata": {},
   "outputs": [],
   "source": [
    "# Optimal\n",
    "x_wec = np.array([\n",
    "         -5.34590357e-05,\n",
    "        # -1.44175178e-04, -1.69577759e-04,\n",
    "        # -1.93732274e-05,  2.95446742e-04,\n",
    "         9.23568964e-04,  -3.34575436e-04,\n",
    "        -6.84667669e-05, -4.50653781e-04,\n",
    "         9.28453882e-04,   7.75556889e-05,\n",
    "         1.65461770e-01,  -2.25669377e-01,\n",
    "         5.34106551e-04,   1.36036042e-04,\n",
    "        -1.36430591e-04,  4.02670813e-04,\n",
    "        -3.80444249e-05,  1.63276367e-05,\n",
    "        -1.57437036e-04,\n",
    "        ]);\n",
    "\n",
    "x_opt = np.array([\n",
    "        -1.30402770e+00,\n",
    "        # -3.48316585e+00, -4.09789281e+00,\n",
    "        # -4.67649366e-01,  6.92938769e+00,\n",
    "         2.06482440e+01, -7.26660182e+00,\n",
    "        -1.16610808e+00, -9.37008614e+00,\n",
    "         1.74020260e+01,  2.51384525e+00,\n",
    "         2.35013292e+03, -4.10306916e+03,\n",
    "         7.42264452e+00,  3.45914541e+00,\n",
    "        -3.14415012e+00,  4.46682294e+00,\n",
    "        -4.50072846e-01, -6.55878884e-03,\n",
    "        -1.16075834e+00,\n",
    "        ]);"
   ]
  },
  {
   "cell_type": "code",
   "execution_count": 20,
   "metadata": {},
   "outputs": [],
   "source": [
    "x = np.concatenate([x_wec, x_opt])\n",
    "\n",
    "t = wec.time"
   ]
  },
  {
   "cell_type": "code",
   "execution_count": 21,
   "metadata": {},
   "outputs": [
    {
     "ename": "ValueError",
     "evalue": "operands could not be broadcast together with shapes (32,) (36,) ",
     "output_type": "error",
     "traceback": [
      "\u001b[0;31m---------------------------------------------------------------------------\u001b[0m",
      "\u001b[0;31mValueError\u001b[0m                                Traceback (most recent call last)",
      "Cell \u001b[0;32mIn[21], line 3\u001b[0m\n\u001b[1;32m      1\u001b[0m \u001b[38;5;66;03m# objetive function\u001b[39;00m\n\u001b[1;32m      2\u001b[0m f \u001b[38;5;241m=\u001b[39m problem[\u001b[38;5;124m'\u001b[39m\u001b[38;5;124mfun\u001b[39m\u001b[38;5;124m'\u001b[39m]\n\u001b[0;32m----> 3\u001b[0m y \u001b[38;5;241m=\u001b[39m \u001b[43mf\u001b[49m\u001b[43m(\u001b[49m\u001b[43mx\u001b[49m\u001b[43m)\u001b[49m\n\u001b[1;32m      4\u001b[0m y\n",
      "File \u001b[0;32m~/repos/WecOptTool/wecopttool/core.py:816\u001b[0m, in \u001b[0;36mWEC.solve.<locals>.obj_fun_scaled\u001b[0;34m(x)\u001b[0m\n\u001b[1;32m    815\u001b[0m \u001b[38;5;28;01mdef\u001b[39;00m \u001b[38;5;21mobj_fun_scaled\u001b[39m(x):\n\u001b[0;32m--> 816\u001b[0m     x_wec, x_opt \u001b[38;5;241m=\u001b[39m \u001b[38;5;28mself\u001b[39m\u001b[38;5;241m.\u001b[39mdecompose_state(\u001b[43mx\u001b[49m\u001b[38;5;241;43m/\u001b[39;49m\u001b[43mscale\u001b[49m)\n\u001b[1;32m    817\u001b[0m     \u001b[38;5;28;01mreturn\u001b[39;00m obj_fun(\u001b[38;5;28mself\u001b[39m, x_wec, x_opt, waves)\u001b[38;5;241m*\u001b[39mscale_obj\u001b[38;5;241m*\u001b[39msign\n",
      "\u001b[0;31mValueError\u001b[0m: operands could not be broadcast together with shapes (32,) (36,) "
     ]
    }
   ],
   "source": [
    "# objetive function\n",
    "f = problem['fun']\n",
    "y = f(x)\n",
    "y"
   ]
  },
  {
   "cell_type": "code",
   "execution_count": null,
   "metadata": {},
   "outputs": [],
   "source": [
    "# jacobian\n",
    "f = problem['jac']\n",
    "y = f(x)\n",
    "plt.plot(y, 'o')"
   ]
  },
  {
   "cell_type": "code",
   "execution_count": null,
   "metadata": {},
   "outputs": [],
   "source": [
    "# constraint (dynamics in residual form)\n",
    "problem['constraints']"
   ]
  },
  {
   "cell_type": "code",
   "execution_count": null,
   "metadata": {},
   "outputs": [],
   "source": [
    "f = problem['constraints'][0]['fun']\n",
    "y = f(x)\n",
    "plt.plot(t, y)"
   ]
  },
  {
   "cell_type": "code",
   "execution_count": null,
   "metadata": {},
   "outputs": [],
   "source": [
    "f = problem['constraints'][0]['jac']\n",
    "y = f(x)\n",
    "plt.imshow(y, cmap=\"seismic\")\n",
    "plt.colorbar()\n",
    "print(y.shape)"
   ]
  },
  {
   "cell_type": "code",
   "execution_count": null,
   "metadata": {},
   "outputs": [],
   "source": [
    "f = problem['constraints'][0]['jac']\n",
    "y = f(x) * x\n",
    "plt.imshow(y, cmap=\"seismic\")\n",
    "plt.colorbar()"
   ]
  },
  {
   "cell_type": "code",
   "execution_count": null,
   "metadata": {},
   "outputs": [],
   "source": [
    "# callback\n",
    "f = problem['callback']\n",
    "y = f(x)\n",
    "y == None"
   ]
  },
  {
   "cell_type": "code",
   "execution_count": null,
   "metadata": {},
   "outputs": [],
   "source": [
    "# x0 initial guess\n",
    "plt.plot(problem['x0'], 'o')\n",
    "plt.plot([16, 16], [-3, 3], 'k--')"
   ]
  },
  {
   "cell_type": "code",
   "execution_count": null,
   "metadata": {},
   "outputs": [],
   "source": []
  },
  {
   "cell_type": "code",
   "execution_count": null,
   "metadata": {},
   "outputs": [],
   "source": []
  },
  {
   "cell_type": "code",
   "execution_count": null,
   "metadata": {},
   "outputs": [],
   "source": []
  }
 ],
 "metadata": {
  "kernelspec": {
   "display_name": "wot_dev",
   "language": "python",
   "name": "python3"
  },
  "language_info": {
   "codemirror_mode": {
    "name": "ipython",
    "version": 3
   },
   "file_extension": ".py",
   "mimetype": "text/x-python",
   "name": "python",
   "nbconvert_exporter": "python",
   "pygments_lexer": "ipython3",
   "version": "3.10.13"
  },
  "vscode": {
   "interpreter": {
    "hash": "a3e13d9eb6391ec8c830b5b864d7e2cac256aef786c5e95ba02dc5258710976f"
   }
  }
 },
 "nbformat": 4,
 "nbformat_minor": 2
}
