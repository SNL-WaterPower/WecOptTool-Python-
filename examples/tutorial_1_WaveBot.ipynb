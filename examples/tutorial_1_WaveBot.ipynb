{
 "cells": [
  {
   "cell_type": "markdown",
   "metadata": {},
   "source": [
    "# Tutorial 1 - WaveBot\n",
    "The goal of this tutorial is to familiarize new users with how to set up and run optimization problems using WecOptTool. \n",
    "This tutorial uses a one-body WEC, the WaveBot, in one degree of freedom in regular waves. \n",
    "\n",
    "![WaveBot Photo](https://live.staticflickr.com/65535/51855905347_de87ccaaba_z.jpg)\n",
    "\n",
    "At the end of this tutorial the user will perform control co-design of the WEC geometry and a corresponding optimal controller to maximize electrical power. \n",
    "We build up to this problem in three parts of successive complexity:\n",
    "\n",
    "1. [Optimal control for maximum mechanical power](#1.-Optimal-control-for-maximum-mechanical-power)\n",
    "2. [Optimal control for maximum electrical power](#2.-Optimal-control-for-maximum-electrical-power)\n",
    "3. [Control co-design of the WEC's geometry for maximum electrical power](#3.-Control-co-design-of-the-WEC-geometry-for-maximum-electrical-power)\n",
    "\n",
    "We will start by loading the necessary modules: \n",
    "\n",
    "* Import Autograd (wrapper on NumPy, required) for automatic differentiation\n",
    "* Import other packages we will use in this tutorial\n",
    "* Import WecOptTool "
   ]
  },
  {
   "cell_type": "code",
   "execution_count": null,
   "metadata": {},
   "outputs": [],
   "source": [
    "import autograd.numpy as np\n",
    "import capytaine as cpy\n",
    "import matplotlib.pyplot as plt\n",
    "from scipy.optimize import brute\n",
    "\n",
    "import wecopttool as wot"
   ]
  },
  {
   "cell_type": "markdown",
   "metadata": {},
   "source": [
    "## 1. Optimal control for maximum mechanical power\n",
    "This example illustrates how to set up, run, and analyze a basic optimization problem using WecOptTool.\n",
    "\n",
    "The objective of this example is to **find the optimal PTO force time series** that produces the most mechanical power subject to the WEC dynamics and a maximum force the PTO can exert.\n",
    "\n",
    "WecOptTool requires the following to be defined to successfully run its optimization routines:\n",
    "\n",
    "* The WEC object, including all of its properties and constraints\n",
    "* The wave condition\n",
    "* The objective function\n",
    "\n",
    "The graphic below shows all the requirements for this first part of the tutorial: from the wave on the left, to the objective (mechanical power) on the right.\n",
    "The WEC object (with its relevant subcomponents) is illustrated in the blue box in the middle. The three subcomponents are the WEC properties that are actually passed on to the optimizer.\n",
    "\n",
    "<div>\n",
    "<img src=\"https://live.staticflickr.com/65535/52435098523_37d6a2ca94_k.jpg\" width=\"1000\">\n",
    "</div>\n",
    "\n",
    "In short, the WEC hydrodynamic properties are modeled by\n",
    "\n",
    "1. Defining the WEC geometry\n",
    "2. Meshing the geometry\n",
    "3. Obtaining the BEM coefficients of the WEC based on the mesh\n",
    "4. Determening the intrinsic impedance model of the WEC based on its BEM coefficients\n",
    "\n",
    "For this first part of the tutorial, the heave-only, WEC-PTO kinematics are trivial (unity) and the PTO is assumed to be lossless."
   ]
  },
  {
   "cell_type": "markdown",
   "metadata": {},
   "source": [
    "### WEC object\n",
    "In this section we will create the `WEC` object, which contains all the information about the WEC and its dynamics. This constitutes the vast majority of the setup required to run WecOptTool.\n",
    "\n",
    "Our `WEC` object requires information about:\n",
    "\n",
    "* [The mesh of the WEC surface](#Mesh)\n",
    "* [Degrees of freedom to consider](#degrees-of-freedom)\n",
    "* [Linear hydrodynamic coefficients from a BEM solution](#bem-solution)\n",
    "* Any additional dynamic forces (e.g. PTO force, mooring, non-linear hydrodynamics)\n",
    "* Constraints (e.g. maximum PTO extension)\n",
    "\n",
    "In this case, we apply one additional force (the PTO force on the WEC) and one constraint (the maximum PTO force), which [we define below using the `PTO` class](#pto).\n",
    "\n",
    "#### Mesh\n",
    "First, we will create a surface mesh for the hull and store it using the `FloatingBody` object from Capytaine. The WaveBot mesh is pre-defined in the `wecopttool.geom` module, so we will call it directly from there. Note that the Capytaine `from_meshio` method can also import from other file types (STL, VTK, MSH, etc.), click [here](https://pypi.org/project/meshio/) for the full list of compatible mesh file types."
   ]
  },
  {
   "cell_type": "code",
   "execution_count": null,
   "metadata": {},
   "outputs": [],
   "source": [
    "wb = wot.geom.WaveBot()  # use standard dimensions\n",
    "mesh_size_factor = 0.5 # 1.0 for default, smaller to refine mesh\n",
    "mesh = wb.mesh(mesh_size_factor)\n",
    "fb = cpy.FloatingBody.from_meshio(mesh, name=\"WaveBot\")"
   ]
  },
  {
   "cell_type": "markdown",
   "metadata": {},
   "source": [
    "At this point we can visualize the mesh for inspection.\n",
    "Capytaine has built-in methods for visualizing meshes (`fb.show`, and `fb.show_matplotlib`). \n",
    "These methods are interactive when used outside a Jupyter notebook.  \n",
    "The included WaveBot example also has a method for plotting the cross-section of the device, `plot_cross_section`. "
   ]
  },
  {
   "cell_type": "code",
   "execution_count": null,
   "metadata": {},
   "outputs": [],
   "source": [
    "fb.show_matplotlib()\n",
    "_ = wb.plot_cross_section(show=True)  # specific to WaveBot"
   ]
  },
  {
   "cell_type": "markdown",
   "metadata": {},
   "source": [
    "#### Degrees of freedom\n",
    "The degrees of freedom can be added directly to the `FloatingBody` using the `add_translation_dof` and `add_rotation_dof` methods. The axis of rotation is automatically defined if the method is supplied a name of `\"Surge\"`, `\"Sway\"`, `\"Heave\"`, `\"Roll\"`, `\"Pitch\"`, or `\"Yaw\"`. We will only model the heave degree of freedom in this case."
   ]
  },
  {
   "cell_type": "code",
   "execution_count": null,
   "metadata": {},
   "outputs": [],
   "source": [
    "fb.add_translation_dof(name=\"Heave\")\n",
    "ndof = fb.nb_dofs"
   ]
  },
  {
   "cell_type": "markdown",
   "metadata": {},
   "source": [
    "#### BEM solution"
   ]
  },
  {
   "cell_type": "markdown",
   "metadata": {},
   "source": [
    "We will analyze 50 frequencies with a spacing of 0.05 Hz. These frequencies will be used for the Fourier representation of both the wave and the desired PTO force in the pseudo-spectral problem. See the [Theory](https://sandialabs.github.io/WecOptTool/theory.html) section of the WecOptTool documentation for more details on the pseudo-spectral problem formulation.\n",
    "\n",
    "The `fb.minimal_computable_wavelength` parameter checks the mesh to determine the minimum wavelength that can be reliably computed using Capytaine. This warning is ignored here because the BEM results have been validated, but can be used as a guide for mesh refinement to ensure accurate BEM results."
   ]
  },
  {
   "cell_type": "code",
   "execution_count": null,
   "metadata": {},
   "outputs": [],
   "source": [
    "f1 = 0.05\n",
    "nfreq = 50\n",
    "freq = wot.frequency(f1, nfreq, False) # False -> no zero frequency\n",
    "\n",
    "min_computable_wavelength = fb.minimal_computable_wavelength\n",
    "g = 9.81\n",
    "min_period = 1/(f1*nfreq)\n",
    "min_wavelength = (g*(min_period)**2)/(2*np.pi)\n",
    "\n",
    "if min_wavelength < min_computable_wavelength:\n",
    "    print(f'Warning: Minimum wavelength in frequency spectrum ({min_wavelength}) is smaller'\n",
    "         f' than the minimum computable wavelength ({min_computable_wavelength}).')"
   ]
  },
  {
   "cell_type": "markdown",
   "metadata": {},
   "source": [
    "With our Capytaine floating body created, we can now run the Boundary Element Method solver in Capytaine to get the hydrostatic and hydrodynamic coefficients of our WEC object. This is wrapped into the `wecopttool.run_bem` function.\n",
    "\n",
    "If you would like to save the BEM data to a NetCDF file for future use, see the `wecopttool.write_netcdf` function."
   ]
  },
  {
   "cell_type": "code",
   "execution_count": null,
   "metadata": {},
   "outputs": [],
   "source": [
    "bem_data = wot.run_bem(fb, freq)"
   ]
  },
  {
   "cell_type": "markdown",
   "metadata": {},
   "source": [
    "#### PTO\n",
    "WecOptTool includes the `PTO` class to encompass all properties of the power take-off system of the WEC. Data wrapped into our `PTO` class will be used be used to provide the additional force and constraint for our `WEC` object definition, as well as our optimization problem later.\n",
    "\n",
    "To create an instance of the `PTO` class, we need:\n",
    "\n",
    "* The kinematics matrix, which converts from the WEC degrees of freedom to the PTO degrees of freedom. In this case, the PTO extracts power directly from the heaving motion of the WEC, so the kinematics matrix is simply the $1 \\times 1$ identity matrix.\n",
    "* The definition of the PTO controller. The `wecopttool.pto` submodule includes P, PI, and PID controller functions that can be provided to the `PTO` class and return the PTO force. However, we will be using an unstructured controller in this case, which is the default when `controller=None`.\n",
    "* Any PTO impedance. We are only interested in mechanical power for this first problem, so we will leave this empty for now\n",
    "* The non-linear power conversion loss (assumed 0% if `None`)\n",
    "* The PTO system name, if desired"
   ]
  },
  {
   "cell_type": "code",
   "execution_count": null,
   "metadata": {},
   "outputs": [],
   "source": [
    "name = [\"PTO_Heave\",]\n",
    "kinematics = np.eye(ndof)\n",
    "controller = None\n",
    "loss = None\n",
    "pto_impedance = None\n",
    "pto = wot.pto.PTO(ndof, kinematics, controller, pto_impedance, loss, name)"
   ]
  },
  {
   "cell_type": "markdown",
   "metadata": {},
   "source": [
    "Now we define the PTO forcing on the WEC and the PTO constraints. We set the maximum PTO force as 750 Newtons. This value is chosen somewhat arbitrary to highlight different effects throughout this tutorial. In practice, the user would need to identify their limiting component in the PTO and then compute a suitable value. For example, if the generator drive has a maximal current $I_{max}$ of 10 A, with a generator torque constant $K_t$ of 8 Nm/A and a gear ratio $N$ of 9 rad/m, this results in a max PTO linear force of $F = N K_{t} I_{max} = 9$ rad/m $\\times 8$ Nm $\\times 10$ A $= 720$ N.\n",
    "\n",
    "We will enforce the constraint at 4 times more points than the dynamics; see [Theory]((https://sandialabs.github.io/WecOptTool/theory.html)) for why this is helpful for the pseudo-spectral problem. For our optimization problem, the constraints must be in the correct format for `scipy.optimize.minimize()`."
   ]
  },
  {
   "cell_type": "code",
   "execution_count": null,
   "metadata": {},
   "outputs": [],
   "source": [
    "# PTO dynamics forcing function\n",
    "f_add = {'PTO': pto.force_on_wec}\n",
    "\n",
    "# Constraint\n",
    "f_max = 750.0\n",
    "nsubsteps = 4\n",
    "\n",
    "def const_f_pto(wec, x_wec, x_opt, waves): # Format for scipy.optimize.minimize\n",
    "    f = pto.force_on_wec(wec, x_wec, x_opt, waves, nsubsteps)\n",
    "    return f_max - np.abs(f.flatten())\n",
    "\n",
    "ineq_cons = {'type': 'ineq',\n",
    "             'fun': const_f_pto,\n",
    "             }\n",
    "constraints = [ineq_cons]"
   ]
  },
  {
   "cell_type": "markdown",
   "metadata": {},
   "source": [
    "#### `WEC` creation\n",
    "We are now ready to create the `WEC` object itself! Since we ran the BEM already, we can define the object using the `wecopttool.WEC.from_bem` function. If we saved BEM data to a NetCDF file, we can also provide the path to that file instead of specifying the BEM `Dataset` directly."
   ]
  },
  {
   "cell_type": "code",
   "execution_count": null,
   "metadata": {},
   "outputs": [],
   "source": [
    "wec = wot.WEC.from_bem(\n",
    "    bem_data,\n",
    "    constraints=constraints,\n",
    "    friction=None,\n",
    "    f_add=f_add,\n",
    ")"
   ]
  },
  {
   "cell_type": "markdown",
   "metadata": {},
   "source": [
    "Note: You may receive a warning regarding negative linear damping values. By default, WecOptTool ensures that the BEM data does not contain non-negative damping values. If you would like to correct the BEM solution to a different minimum damping value besides zero, you can specify `min_damping`. "
   ]
  },
  {
   "cell_type": "markdown",
   "metadata": {},
   "source": [
    "### Waves\n",
    "The wave environment must be specified as a 2-dimensional `xarray.DataArray` containing the complex amplitude (in meters). \n",
    "The two coordinates are the radial frequency ``omega`` (in rad/s)  and the direction ``wave_direction`` (in radians). \n",
    "The `wecopttool.waves` submodule contains functions for creating this `xarray.DataArray` for different types of wave environments. \n",
    "\n",
    "In this case we will use a regular wave with a frequency of 0.3 Hz and an amplitude of 0.0625 m. \n",
    "We will use the `wecopttool.waves.regular_wave` function. "
   ]
  },
  {
   "cell_type": "code",
   "execution_count": null,
   "metadata": {},
   "outputs": [],
   "source": [
    "amplitude = 0.0625  \n",
    "wavefreq = 0.3\n",
    "phase = 30\n",
    "wavedir = 0\n",
    "waves = wot.waves.regular_wave(f1, nfreq, wavefreq, amplitude, phase, wavedir)"
   ]
  },
  {
   "cell_type": "markdown",
   "metadata": {},
   "source": [
    "### Objective function\n",
    "The objective function is the quantity we want to optimize—in this case, the average mechanical power. The objective function is itself a function of the optimization state, the size of which we need to properly define our call to `scipy.optimize.minimize()`. The average mechanical power can be taken directly from the `PTO` object we created.\n",
    "\n",
    "One technical quirk here: `nstate_opt` is one smaller than would be expected for a state space representing the mean (DC) component and the real and imaginary Fourier coefficients. This is because WecOptTool excludes the imaginary Fourier component of the highest frequency (the 2-point wave). Since the 2-point wave is sampled at multiples of $\\pi$, the imaginary component is evaluated as $sin(n\\pi); n = 0, 1, 2, ..., n_{freq}$, which is always zero."
   ]
  },
  {
   "cell_type": "code",
   "execution_count": null,
   "metadata": {},
   "outputs": [],
   "source": [
    "obj_fun = pto.mechanical_average_power\n",
    "nstate_opt = 2*nfreq"
   ]
  },
  {
   "cell_type": "markdown",
   "metadata": {},
   "source": [
    "### Solve\n",
    "We are now ready to solve the problem. WecOptTool uses `scipy.optimize.minimize` as its optimization driver, which is wrapped into `wecopttool.WEC.solve` for ease of use.\n",
    "\n",
    "Note that the only required inputs for defining and solving the problem are:\n",
    "\n",
    "1. The wave profile\n",
    "2. The objective function\n",
    "3. The size of the optimization state\n",
    "\n",
    "Optional inputs can be provided to control the optimization execution if desired, which we do here to change the default iteration maximum and tolerance. See the [`scipy.optimize.minimize`](https://docs.scipy.org/doc/scipy/reference/generated/scipy.optimize.minimize.html) documentation for more details.\n",
    "\n",
    "To help the optimization we will scale the problem before solving it (see the [Scaling](https://docs.scipy.org/doc/scipy/reference/generated/scipy.optimize.minimize.html) section of the Theory documentation). WecOptTool allows you to scale the WEC dynamics state, the optimization state (in this case, the Fourier coefficients for the PTO force), and the objective function separately. See the [`wecopttool.WEC.solve()`](https://sandialabs.github.io/WecOptTool/api_docs/wecopttool.WEC.solve.html#wecopttool-wec-solve) documentation for more information.\n",
    "\n",
    "\n",
    "Pay attention to the `Exit mode`: an exit mode of $0$ indicates a successful solution. For a simple problem (linear, single degree of freedom, unconstrained, etc.) your iterations should not need to exceed 100. If they do, try adjusting the scales by orders of magnitude, one at a time."
   ]
  },
  {
   "cell_type": "code",
   "execution_count": null,
   "metadata": {},
   "outputs": [],
   "source": [
    "options = {'maxiter': 200}\n",
    "scale_x_wec = 1e1\n",
    "scale_x_opt = 1e-3\n",
    "scale_obj = 1e-2\n",
    "\n",
    "results = wec.solve(\n",
    "    waves, \n",
    "    obj_fun, \n",
    "    nstate_opt,\n",
    "    optim_options=options, \n",
    "    scale_x_wec=scale_x_wec,\n",
    "    scale_x_opt=scale_x_opt,\n",
    "    scale_obj=scale_obj,\n",
    "    )\n",
    "\n",
    "opt_mechanical_average_power = results[0].fun\n",
    "print(f'Optimal average mechanical power: {opt_mechanical_average_power} W')"
   ]
  },
  {
   "cell_type": "markdown",
   "metadata": {},
   "source": [
    "### Analyzing results\n",
    "We will use two post-processing functions to obtain frequency and time domain results for the WEC and PTO responses. The pseudo-spectral method gives continuous in time results. To get smoother looking plots, we specify five subpoints betweeen co-location points."
   ]
  },
  {
   "cell_type": "code",
   "execution_count": null,
   "metadata": {},
   "outputs": [],
   "source": [
    "nsubsteps = 5\n",
    "pto_fdom, pto_tdom = pto.post_process(wec, results[0], waves.sel(realization=0), nsubsteps=nsubsteps)\n",
    "wec_fdom, wec_tdom = wec.post_process(results[0], waves.sel(realization=0), nsubsteps=nsubsteps)"
   ]
  },
  {
   "cell_type": "markdown",
   "metadata": {},
   "source": [
    "The `pto.post_process` function returns `xarray.Dataset` objects, which have built-in integration with PyPlot for smart plotting with automatic titles and formatting. We will plot the mechanical power (`mech_power`), position (`pos`), and the PTO force (`force`)."
   ]
  },
  {
   "cell_type": "code",
   "execution_count": null,
   "metadata": {},
   "outputs": [],
   "source": [
    "pto_tdom['power'].sel(type='mech').plot()"
   ]
  },
  {
   "cell_type": "markdown",
   "metadata": {},
   "source": [
    "We could similarly plot any time or frequency domain response of the WEC or PTO by calling the specific type of response (position, velocity, force, etc.). For example, to plot the WEC heave position and PTO force:"
   ]
  },
  {
   "cell_type": "code",
   "execution_count": null,
   "metadata": {},
   "outputs": [],
   "source": [
    "plt.figure()\n",
    "wec_tdom['pos'].plot()\n",
    "\n",
    "plt.figure()\n",
    "pto_tdom['force'].plot()"
   ]
  },
  {
   "cell_type": "markdown",
   "metadata": {},
   "source": [
    "Note that there are other dynamic responses available in the post-processed WEC and PTO variables (`wec_tdom`, `pto_tdom`, `wec_fdom`, `pto_fdom`). For example, the time domain PTO variable contains the following response:"
   ]
  },
  {
   "cell_type": "code",
   "execution_count": null,
   "metadata": {},
   "outputs": [],
   "source": [
    "pto_tdom"
   ]
  },
  {
   "cell_type": "markdown",
   "metadata": {},
   "source": [
    "## 2. Optimal control for maximum electrical power\n",
    "\n",
    "The rest of this tutorial will focus on a different objective function: we will now optimize for <u>electrical</u> power rather than mechanical, as this is a form of power that is usable and transportable.\n",
    "\n",
    "Since we are still dealing with the same WaveBot as in part 1, we can reuse the BEM, WEC-PTO kinematics, and wave data from before.\n",
    "\n",
    "<div>\n",
    "<img src=\"https://live.staticflickr.com/65535/52435033525_b8efc28d16_k.jpg\" width=\"1000\">\n",
    "</div>\n",
    "\n",
    "The biggest difference when considering electrical power is the addition of the PTO dynamics. In other words, we no longer assume a lossless PTO.\n",
    "We will express the PTO dynamics in the form of a [2-port impedance model](https://en.wikipedia.org/wiki/Impedance_parameters) to incorporate the dynamics of the drivetrain and generator.\n",
    "The additional mechanical energy storage through the drivetrain is modeled using Newton's second law, and we assume a linear generator using a power-invariant park transform.\n",
    "\n",
    "The PTO impedance matrix components are then obtained under open-circuit conditions: no load current ($i_{pto}$ in figure above) or no WEC velocity ($vel_{pto}$ above), respectively. See Section II of Michelén et al. [here](https://ieeexplore.ieee.org/stamp/stamp.jsp?arnumber=10114969) for more details about how the code below is derived."
   ]
  },
  {
   "cell_type": "code",
   "execution_count": null,
   "metadata": {},
   "outputs": [],
   "source": [
    "## PTO impedance definition\n",
    "omega = bem_data.omega.values\n",
    "gear_ratio = 12.0\n",
    "torque_constant = 6.7\n",
    "winding_resistance = 0.5\n",
    "winding_inductance = 0.0\n",
    "drivetrain_inertia = 2.0\n",
    "drivetrain_friction = 1.0\n",
    "drivetrain_stiffness = 0.0\n",
    "\n",
    "drivetrain_impedance = (1j*omega*drivetrain_inertia + \n",
    "                        drivetrain_friction + \n",
    "                        1/(1j*omega)*drivetrain_stiffness) \n",
    "\n",
    "winding_impedance = winding_resistance + 1j*omega*winding_inductance\n",
    "\n",
    "\n",
    "pto_impedance_11 = -1* gear_ratio**2 * drivetrain_impedance\n",
    "off_diag = np.sqrt(3.0/2.0) * torque_constant * gear_ratio\n",
    "pto_impedance_12 = -1*(off_diag+0j) * np.ones(omega.shape) \n",
    "pto_impedance_21 = -1*(off_diag+0j) * np.ones(omega.shape)\n",
    "pto_impedance_22 = winding_impedance\n",
    "pto_impedance_2 = np.array([[pto_impedance_11, pto_impedance_12],\n",
    "                            [pto_impedance_21, pto_impedance_22]])"
   ]
  },
  {
   "cell_type": "markdown",
   "metadata": {},
   "source": [
    "Next, we will create a new `PTO` object with this impedance matrix. We will also update the definitions of our PTO constraint and additional dynamic forcing function to use the new object. We will again set our maximum PTO force to 750 Newtons in this example."
   ]
  },
  {
   "cell_type": "code",
   "execution_count": null,
   "metadata": {},
   "outputs": [],
   "source": [
    "## Update PTO\n",
    "name_2 = ['PTO_Heave_Ex2']\n",
    "pto_2 = wot.pto.PTO(ndof, kinematics, controller, pto_impedance_2, loss, name_2)\n",
    "\n",
    "## Update PTO constraints and forcing\n",
    "def const_f_pto_2(wec, x_wec, x_opt, waves):\n",
    "    f = pto_2.force_on_wec(wec, x_wec, x_opt, waves, nsubsteps)\n",
    "    return f_max - np.abs(f.flatten())\n",
    "ineq_cons_2 = {'type': 'ineq', 'fun': const_f_pto_2}\n",
    "constraints_2 = [ineq_cons_2]\n",
    "f_add_2 = {'PTO': pto_2.force_on_wec}"
   ]
  },
  {
   "cell_type": "markdown",
   "metadata": {},
   "source": [
    "Finally, we will update our `WEC` object with the new PTO force constraint, then run our optimization problem. Note we are now using `average_power` instead of `mechanical_average_power` as our objective function."
   ]
  },
  {
   "cell_type": "code",
   "execution_count": null,
   "metadata": {},
   "outputs": [],
   "source": [
    "# Update WEC\n",
    "wec_2 = wot.WEC.from_bem(bem_data,\n",
    "                         constraints=constraints_2,\n",
    "                         friction=None,\n",
    "                         f_add=f_add_2\n",
    ")\n",
    "\n",
    "# Update objective function\n",
    "obj_fun_2 = pto_2.average_power\n",
    "\n",
    "# Solve\n",
    "scale_x_wec = 1e1  \n",
    "scale_x_opt = 1e-3  \n",
    "scale_obj = 1e-2  \n",
    "\n",
    "results_2 = wec_2.solve(\n",
    "    waves, \n",
    "    obj_fun_2, \n",
    "    nstate_opt, \n",
    "    scale_x_wec=scale_x_wec,\n",
    "    scale_x_opt=scale_x_opt,\n",
    "    scale_obj=scale_obj,\n",
    ")\n",
    "opt_average_power = results_2[0].fun\n",
    "print(f'Optimal average electrical power: {opt_average_power} W')\n",
    "\n",
    "# Post-process\n",
    "wec_fdom_2, wec_tdom_2 = wec_2.post_process(results_2[0], waves.sel(realization=0), nsubsteps)\n",
    "pto_fdom_2, pto_tdom_2 = pto_2.post_process(wec_2, results_2[0], waves.sel(realization=0), nsubsteps)"
   ]
  },
  {
   "cell_type": "markdown",
   "metadata": {},
   "source": [
    "We will compare our optimal results to the unconstrained case to gain some insight into the effect of the constraint on the optimal PTO force. Let's do the same process as before, but unset the `constraints` parameter in a new `WEC` object."
   ]
  },
  {
   "cell_type": "code",
   "execution_count": null,
   "metadata": {},
   "outputs": [],
   "source": [
    "wec_2_nocon = wot.WEC.from_bem(\n",
    "    bem_data,\n",
    "    constraints=None,\n",
    "    friction=None,\n",
    "    f_add=f_add_2)\n",
    "\n",
    "results_2_nocon = wec_2_nocon.solve(\n",
    "    waves,\n",
    "    obj_fun_2, \n",
    "    nstate_opt,\n",
    "    scale_x_wec=scale_x_wec,\n",
    "    scale_x_opt=scale_x_opt,\n",
    "    scale_obj=scale_obj,\n",
    ")\n",
    "opt_average_power = results_2_nocon[0].fun\n",
    "print(f'Optimal average electrical power: {opt_average_power} W')\n",
    "wec_fdom_2_nocon, wec_tdom_2_nocon = wec_2_nocon.post_process(\n",
    "    results_2_nocon[0], waves.sel(realization=0), nsubsteps)\n",
    "pto_fdom_2_nocon, pto_tdom_2_nocon = pto_2.post_process(\n",
    "    wec_2_nocon, results_2_nocon[0], waves.sel(realization=0), nsubsteps)"
   ]
  },
  {
   "cell_type": "markdown",
   "metadata": {},
   "source": [
    "Note that the optimal constrained PTO force follows the optimal unconstrained solution (sinusoidal) whenever the unconstrained solution is within the constraint. \n",
    "When the constraint is active the optimal PTO force is the maximum PTO force of 750 Newtons."
   ]
  },
  {
   "cell_type": "code",
   "execution_count": null,
   "metadata": {},
   "outputs": [],
   "source": [
    "plt.figure()\n",
    "wec_tdom['pos'].plot(label='optimal mechanical')\n",
    "wec_tdom_2['pos'].plot(label='optimal electrical, constrained')\n",
    "wec_tdom_2_nocon['pos'].plot(label='optimal electrical, unconstrained')\n",
    "plt.legend(loc='lower right')\n",
    "\n",
    "plt.figure()\n",
    "pto_tdom['force'].plot(label='optimal mechanical')\n",
    "pto_tdom_2['force'].plot(label='optimal electrical, constrained')\n",
    "pto_tdom_2_nocon['force'].plot(label='optimal electrical, unconstrained')\n",
    "plt.legend(loc='lower right')\n",
    "\n",
    "plt.figure()\n",
    "pto_tdom['power'].sel(type='mech').plot(label='optimal mechanical')\n",
    "pto_tdom_2['power'].sel(type='elec').plot(label='optimal electrical, constrained')\n",
    "pto_tdom_2_nocon['power'].sel(type='elec').plot(label='optimal electrical, unconstrained')\n",
    "plt.legend(loc='lower right')\n"
   ]
  },
  {
   "cell_type": "markdown",
   "metadata": {},
   "source": [
    "The attentive user might have noticed that the amplitude of the mechanical power is less compared to part 1 of the tutorial.\n",
    "We can see that optimizing for electrical power requires optimal state trajectories with less reactive mechanical power (i.e. power that is put into the system).\n",
    "\n",
    "The PTO force trajectory for optimizing mechanical power is saturated at the maximum for longer compared to the electrical power.\n",
    "This could inform the WEC designer optimizing for mechanical power to consider larger components that would not be utilized at their limit as frequently.\n",
    "However, the electrical power (_not_ the mechanical power) is the usable form of power, thus designing the WEC for optimal electrical power does not indicate a need for larger components and prevents this over-design."
   ]
  },
  {
   "cell_type": "markdown",
   "metadata": {},
   "source": [
    "## 3. Control co-design of the WEC geometry for maximum electrical power\n",
    "The first two examples only used the inner optimization loop in WecOptTool to optimize PTO power.\n",
    "In Part 3, we bring it all together and show how to use both the inner and outer optimization loops in WecOptTool to do control co-optimization of a hull design in conjunction with an optimal controller for electrical power.\n",
    "\n",
    "Again, we use the WaveBot WEC in one degree of freedom in regular waves. \n",
    "The goal is to **find the optimal keel radius** (`r2`) that maximizes the average produced electrical power, while maintaining a constant hull volume. \n",
    "A constant volume is achieved by setting the height of the conical section (`h2`) in conjunction with the keel radius.\n",
    "\n",
    "This example demonstrates a complete case of the control co-optimization studies WecOptTool is meant for. \n",
    "The inner optimization loop finds the control trajectory that produces the optimal PTO force for a given hull geometry, and the outer optimization loop finds the optimal hull geometry _amongst designs with optimal control trajectories_.\n",
    "\n",
    "The inner loop is consolidated into the `WEC.solve()` method, but the outer loop needs to be configured by the user for their particular design problem.\n",
    "In this example, we will do a simple *brute force* optimization using [`scipy.optimize.brute`](https://docs.scipy.org/doc/scipy/reference/generated/scipy.optimize.brute.html).  \n",
    "\n",
    "![Device Diagram](https://live.staticflickr.com/65535/51751577441_515afec334_z.jpg) \n",
    "<div>\n",
    "<img src=\"https://live.staticflickr.com/65535/52434071157_187eb4334c_k.jpg\" width=\"1000\">\n",
    "</div>\n",
    "\n"
   ]
  },
  {
   "cell_type": "markdown",
   "metadata": {},
   "source": [
    "### Problem setup\n",
    "First, we define a function for `h2` based on `r1` that maintains a constant volume. \n",
    "We see that, as expected, smaller values of `r2` require larger values of `h2` in order to maintain a constant hull volume."
   ]
  },
  {
   "cell_type": "code",
   "execution_count": null,
   "metadata": {},
   "outputs": [],
   "source": [
    "r1 = 0.88\n",
    "r2_0 = 0.35\n",
    "h2_0 = 0.37\n",
    "V0 = 1/3*np.pi*h2_0*(r1**2+r2_0**2+(r1*r2_0))\n",
    "\n",
    "r2_vals = np.linspace(0.05, 0.88*0.999, 8, endpoint=True)\n",
    "\n",
    "\n",
    "def h2_from_r2(r2, V=V0, r1=r1):\n",
    "    h2 = V/(1/3*np.pi*(r1**2+r2**2+(r1*r2)))\n",
    "    return h2\n",
    "\n",
    "\n",
    "# plot\n",
    "mapres = map(h2_from_r2, r2_vals)\n",
    "h2_vals = list(mapres)\n",
    "\n",
    "fig1, ax1 = plt.subplots(figsize=(8,5))\n",
    "for r2, h2 in zip(r2_vals.tolist(), h2_vals):\n",
    "    _ = wot.geom.WaveBot(r2=r2, h2=h2, freeboard=0.2).plot_cross_section(\n",
    "        ax=ax1, label=f\"r2={r2:.2f}, h2={h2:.2f}\")\n",
    "ax1.legend(loc='best', fontsize='small',ncol=2)\n",
    "_ = ax1.set_title('WaveBot hull cross-sections')\n"
   ]
  },
  {
   "cell_type": "markdown",
   "metadata": {},
   "source": [
    "Next we will define an objective function for our design optimization problem. We use the same workflow used in Part 2 to set up a WaveBot device and solve for the optimal solution, but wrap this in a function definition which sets `r2` and (indirectly) `h2`."
   ]
  },
  {
   "cell_type": "code",
   "execution_count": null,
   "metadata": {},
   "outputs": [],
   "source": [
    "def design_obj_fun(x):\n",
    "\n",
    "    # Unpack geometry variables\n",
    "    r2 = x[0]\n",
    "    h2 = h2_from_r2(r2)\n",
    "    print(f\"\\nr2 = {r2:.2f}:\")\n",
    "\n",
    "    # Set up Capytaine floating body\n",
    "    wb = wot.geom.WaveBot(r2=r2, h2=h2)\n",
    "    mesh = wb.mesh(mesh_size_factor=0.5)\n",
    "    fb = cpy.FloatingBody.from_meshio(mesh, name=\"WaveBot\")\n",
    "    fb.add_translation_dof(name=\"Heave\")\n",
    "    ndof = fb.nb_dofs\n",
    "\n",
    "    # Run BEM\n",
    "    f1 = 0.05\n",
    "    nfreq = 50\n",
    "    bem_data = wot.run_bem(fb, freq)\n",
    "\n",
    "    # Impedance definition\n",
    "    omega = bem_data.omega.values\n",
    "    gear_ratio = 12.0\n",
    "    torque_constant = 6.7\n",
    "    winding_resistance = 0.5\n",
    "    winding_inductance = 0.0\n",
    "    drivetrain_inertia = 2.0\n",
    "    drivetrain_friction = 1.0\n",
    "    drivetrain_stiffness = 0.0\n",
    "\n",
    "    drivetrain_impedance = (1j*omega*drivetrain_inertia + \n",
    "                            drivetrain_friction + \n",
    "                            1/(1j*omega)*drivetrain_stiffness) \n",
    "\n",
    "    winding_impedance = winding_resistance + 1j*omega*winding_inductance\n",
    "\n",
    "\n",
    "    pto_impedance_11 = -1* gear_ratio**2 * drivetrain_impedance\n",
    "    off_diag = np.sqrt(3.0/2.0) * torque_constant * gear_ratio\n",
    "    pto_impedance_12 = -1*(off_diag+0j) * np.ones(omega.shape) \n",
    "    pto_impedance_21 = -1*(off_diag+0j) * np.ones(omega.shape)\n",
    "    pto_impedance_22 = winding_impedance\n",
    "    pto_impedance_3 = np.array([[pto_impedance_11, pto_impedance_12],\n",
    "                            [pto_impedance_21, pto_impedance_22]])\n",
    "\n",
    "    # Set PTO object\n",
    "    name = [\"PTO_Heave\",]\n",
    "    kinematics = np.eye(ndof)\n",
    "    efficiency = None\n",
    "    controller = None\n",
    "    pto = wot.pto.PTO(ndof, kinematics, controller, pto_impedance_3, efficiency, name)\n",
    "    \n",
    "\n",
    "    # Set PTO constraint and additional dynamic force\n",
    "    nsubsteps = 4\n",
    "    f_max = 750.0\n",
    "\n",
    "    def const_f_pto(wec, x_wec, x_opt, waves):\n",
    "        f = pto.force_on_wec(wec, x_wec, x_opt, waves, nsubsteps)\n",
    "        return f_max - np.abs(f.flatten())\n",
    "\n",
    "    ineq_cons = {'type': 'ineq', 'fun': const_f_pto}\n",
    "    constraints = [ineq_cons]\n",
    "\n",
    "    f_add = {'PTO': pto.force_on_wec}\n",
    "\n",
    "    # Create WEC\n",
    "    wec = wot.WEC.from_bem(bem_data,\n",
    "            constraints=constraints,\n",
    "            friction=None, \n",
    "            f_add=f_add,\n",
    "            )\n",
    "\n",
    "    # Waves\n",
    "    wfreq = 0.3\n",
    "    amplitude = 0.0625\n",
    "    phase = -40\n",
    "    waves_3 = wot.waves.regular_wave(f1, nfreq, wfreq, amplitude, phase)\n",
    "\n",
    "    # Objective function\n",
    "    obj_fun = pto.average_power\n",
    "    nstate_opt = 2*nfreq\n",
    "    \n",
    "    # Solve\n",
    "    scale_x_wec = 1e1  \n",
    "    scale_x_opt = 1e-3  \n",
    "    scale_obj = 1e-2  \n",
    "    res = wec.solve(\n",
    "        waves, \n",
    "        obj_fun, \n",
    "        nstate_opt, \n",
    "        scale_x_wec=scale_x_wec,\n",
    "        scale_x_opt=scale_x_opt,\n",
    "        scale_obj=scale_obj)\n",
    "\n",
    "    return res[0].fun"
   ]
  },
  {
   "cell_type": "markdown",
   "metadata": {},
   "source": [
    "### Solve\n",
    "Finally, we call our wrapped function using `scipy.optimize.brute`.\n",
    "The optimization algorithm will call our objective function, which in turn will create a new WaveBot hull, run the necessary BEM calculations for the hull, and find the PTO force that provides the most electric power for that hull. \n",
    "This process will be conducted for the range of `r2` values that we specify.\n",
    "\n",
    "_(note: the cell below will likely take 5+ minutes to run on most personal computers)_"
   ]
  },
  {
   "cell_type": "code",
   "execution_count": null,
   "metadata": {},
   "outputs": [],
   "source": [
    "wot.set_loglevel(\"error\")  # Suppress warnings\n",
    "\n",
    "# range over which to search\n",
    "ranges = (slice(r2_vals[0], r2_vals[-1]+np.diff(r2_vals)[0], np.diff(r2_vals)[0]),)\n",
    "\n",
    "# solve\n",
    "opt_x0, opt_fval, x0s, fvals = brute(func=design_obj_fun, ranges=ranges, full_output=True,  finish=None)"
   ]
  },
  {
   "cell_type": "markdown",
   "metadata": {},
   "source": [
    "### Results\n",
    "From a quick plot of the results, we see that the power absorption (where negative power is power absorbed by the device) generally improves for smaller values of `r2` (note that WecOptTool convention defines negative power as the power absorbed by the device).\n",
    "It is also clear that when the WEC is cylindrical (where `r2=0.88`), power absorption is reduced."
   ]
  },
  {
   "cell_type": "code",
   "execution_count": null,
   "metadata": {},
   "outputs": [],
   "source": [
    "fig, ax = plt.subplots()\n",
    "colors = plt.rcParams['axes.prop_cycle'].by_key()['color'][:len(x0s)]\n",
    "ax.plot(x0s, fvals, 'k', zorder=0)\n",
    "ax.scatter(x0s, fvals, c=colors, zorder=1)\n",
    "\n",
    "ax.set_xlabel('Keel radius, $r_2$ [m]')\n",
    "ax.set_ylabel('Average Power [W]')\n",
    "ax.set_title('Design optimization results')\n",
    "fig.tight_layout()"
   ]
  },
  {
   "cell_type": "markdown",
   "metadata": {},
   "source": [
    "Note that in this case the difference in average power between the different keel radii is rather small.\n",
    "This is because the PTO force constraint is active most of the time, therefore all considered geometries perform similarily.\n",
    "If you remove the PTO constraint and re-run the co-optimization study, you will see that the impact of radius on average electrical power is significantly higher."
   ]
  }
 ],
 "metadata": {
  "kernelspec": {
   "display_name": "wot_dev",
   "language": "python",
   "name": "python3"
  },
  "language_info": {
   "codemirror_mode": {
    "name": "ipython",
    "version": 3
   },
   "file_extension": ".py",
   "mimetype": "text/x-python",
   "name": "python",
   "nbconvert_exporter": "python",
   "pygments_lexer": "ipython3",
   "version": "3.11.4"
  },
  "vscode": {
   "interpreter": {
    "hash": "a3e13d9eb6391ec8c830b5b864d7e2cac256aef786c5e95ba02dc5258710976f"
   }
  }
 },
 "nbformat": 4,
 "nbformat_minor": 2
}
