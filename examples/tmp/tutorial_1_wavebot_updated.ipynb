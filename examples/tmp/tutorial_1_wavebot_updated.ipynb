{
 "cells": [
  {
   "cell_type": "markdown",
   "metadata": {},
   "source": [
    "# Tutorial 1 - WaveBot\n",
    "The goal of this tutorial is to familiarize new users with how to set up and run optimization problems using WecOptTool. \n",
    "It uses a one-body WEC, the WaveBot, in one degree of freedom in regular waves. \n",
    "The goal is to **find the optimal PTO force time-series** that produce the most power subject to a maximum force the PTO can exert.\n",
    "\n",
    "![WaveBot Photo](https://live.staticflickr.com/65535/51855905347_de87ccaaba_z.jpg)\n",
    "\n",
    "This tutorial covers three examples of increasing complexity:\n",
    "* [Example 1: Single-loop optimization for mechanical power](#Example-1:-Single-loop-optimization-for-mechanical-power)\n",
    "* [Example 2: Single-loop optimization for electrical power](#Example-2:-Single-loop-optimization-for-electrical-power)\n",
    "* [Example 3: Multi-loop optimization for electrical power](#Example-3:-Multi-loop-optimization-for-electrical-power)\n",
    "\n",
    "We will start by loading the necessary modules:\n",
    "\n",
    "* Import Autograd (wrapper on NumPy, required) for automatic differentiation\n",
    "* Import other packages we will use in this tutorial \n",
    "* Import WecOptTool "
   ]
  },
  {
   "cell_type": "code",
   "execution_count": null,
   "metadata": {},
   "outputs": [],
   "source": [
    "import autograd.numpy as np\n",
    "import capytaine as cpy\n",
    "import matplotlib.pyplot as plt\n",
    "\n",
    "# wecopttool\n",
    "import wecopttool as wot"
   ]
  },
  {
   "cell_type": "markdown",
   "metadata": {},
   "source": [
    "## Example 1: Single-loop optimization for mechanical power\n",
    "This example illustrates how to set up, run, and analyze a basic optimization problem within WecOptTool.\n",
    "\n",
    "WecOptTool requires the following to be defined to successfully run its optimization routines:\n",
    "- The WEC object, including all of its properties and constraints\n",
    "- The wave spectrum\n",
    "- The objective function\n",
    "\n",
    "### WEC object\n",
    "In this section we will create the `WEC` object, which contains all the information about the WEC and its dynamics. This constitutes the vast majority of the setup required to run WecOptTool.\n",
    "\n",
    "Our `WEC` object requires information about the mesh, degrees of freedom, mass and hydrostatic properties, linear hydrodynamic coefficients (from a BEM solution), any additional dynamic forces (e.g. PTO force, mooring, non-linear hydrodynamics), and constraints (e.g. maximum PTO extension). \n",
    "In this case, the only additional force will be the PTO force and the only constraint will be a maximum PTO force of $2000 N$.\n",
    "\n",
    "##### Mesh\n",
    "First, we will create a surface mesh for the hull and store it using the `FloatingBody` object from Capytaine. The WaveBot mesh is pre-defined in the `wecopttool.geom` module, so we will call it directly from there. We will only model the heave degree of freedom in this case. Note that the Capytaine `from_meshio` method can also import from other file types (STL, VTK, MSH, etc.)"
   ]
  },
  {
   "cell_type": "code",
   "execution_count": null,
   "metadata": {},
   "outputs": [],
   "source": [
    "wb = wot.geom.WaveBot()  # use standard dimensions\n",
    "mesh_size_factor = 0.5 # 1.0 for default, smaller to refine mesh\n",
    "mesh = wb.mesh(mesh_size_factor)\n",
    "fb = cpy.FloatingBody.from_meshio(mesh, name=\"WaveBot\")\n",
    "fb.add_translation_dof(name=\"Heave\")\n",
    "ndof = fb.nb_dofs"
   ]
  },
  {
   "cell_type": "markdown",
   "metadata": {},
   "source": [
    "Next we will add the mass and hydrostatic stiffness properties. \n",
    "If these values are known they can be added directly.\n",
    "Here we will use the fact that the WaveBot is free floating and assume constant density to calculate these properties, which Capytaine can natively perform with the `FloatingBody` created above. For convenience, this functionality has been wrapped in `wecopttool.hydrostatics`."
   ]
  },
  {
   "cell_type": "code",
   "execution_count": null,
   "metadata": {},
   "outputs": [],
   "source": [
    "stiffness = wot.hydrostatics.stiffness_matrix(fb).values\n",
    "mass = wot.hydrostatics.inertia_matrix(fb).values"
   ]
  },
  {
   "cell_type": "markdown",
   "metadata": {},
   "source": [
    "At this point we can visualize the mesh for inspection.\n",
    "Capytaine has built-in methods for visualizing meshes (`fb.show`, and `fb.show_matplotlib`). \n",
    "When running outside a Notebook, these are interactive.  \n",
    "The included WaveBot example also has a method for plotting the cross-section of the device. "
   ]
  },
  {
   "cell_type": "code",
   "execution_count": null,
   "metadata": {},
   "outputs": [],
   "source": [
    "fb.show_matplotlib()\n",
    "_ = wb.plot_cross_section(show=True)  # specific to WaveBot"
   ]
  },
  {
   "cell_type": "markdown",
   "metadata": {},
   "source": [
    "##### BEM\n",
    "With our Capytaine floating body created, we can now run the Boundary Element Method solver in Capytaine to get the hydrostatic and hydrodynamic coefficients of our WEC object.This is wrapped into the `wecopttool.run_bem` function.\n",
    "\n",
    "We will analyze 50 frequencies with a spacing of 0.05 Hz. These frequencies will be used for the Fourier representation of both the wave and the desired PTO force in the pseudo-spectral problem. See the Theory section of the Documentation for more details on the pseudo-spectral problem formulation.\n",
    "\n",
    "If you would like to save our BEM data to a NetCDF file for future use, see the `wecopttool.write_netcdf` function."
   ]
  },
  {
   "cell_type": "code",
   "execution_count": null,
   "metadata": {},
   "outputs": [],
   "source": [
    "f1 = 0.05\n",
    "nfreq = 50\n",
    "freq = wot.frequency(f1, nfreq, False) # False -> no zero frequency\n",
    "\n",
    "bem_data = wot.run_bem(fb, freq)"
   ]
  },
  {
   "cell_type": "markdown",
   "metadata": {},
   "source": [
    "##### PTO\n",
    "WecOptTool includes the `PTO` class to encompass all properties of the power take-off system of the WEC. Data wrapped into our `PTO` class will be used to help define our `WEC` object and optimization problem later.\n",
    "\n",
    "To create an instance of the `PTO` class, we need:\n",
    "- The kinematics matrix, which converts from the WEC degrees of freedom to the PTO degrees of freedom. The PTO extracts power directly from the WEC's heave in this case, so the kinematics matrix is simply the $1 \\times 1$ identity matrix.\n",
    "- The definition of the PTO controller. The `wecopttool.pto` submodule includes P, PI, and PID controller functions that can be provided to the `PTO` class and return the PTO force. However, we will be using an unstructured controller in this case, so we will set `None` for the controller.\n",
    "- Any PTO impedance. We're only interested in mechanical power for this first problem, so we will leave this empty for now\n",
    "- The power conversion efficiency (assumed 100% if `None`)\n",
    "- The PTO system name, if desired"
   ]
  },
  {
   "cell_type": "code",
   "execution_count": null,
   "metadata": {},
   "outputs": [],
   "source": [
    "name = [\"PTO_Heave\",]\n",
    "kinematics = np.eye(ndof)\n",
    "controller = None\n",
    "efficiency = None\n",
    "pto_impedance = None\n",
    "pto = wot.pto.PTO(ndof, kinematics, controller, pto_impedance, efficiency, name)"
   ]
  },
  {
   "cell_type": "markdown",
   "metadata": {},
   "source": [
    "Now let's define the PTO forcing on the WEC and the PTO constraints. For our optimization problem, the constraints must be in the correct format for `scipy.optimize.minimize()`. We will enforce the constraint at 4 times more points than the dynamics (see Theory for why this is helpful for the pseudo-spectral problem)."
   ]
  },
  {
   "cell_type": "code",
   "execution_count": null,
   "metadata": {},
   "outputs": [],
   "source": [
    "# PTO dynamics forcing function\n",
    "f_add = {'PTO': pto.force_on_wec}\n",
    "\n",
    "# Constraint\n",
    "f_max = 2000.0\n",
    "nsubsteps = 4\n",
    "\n",
    "def const_f_pto(wec, x_wec, x_opt, waves): # Format for scipy.optimize.minimize\n",
    "    f = pto.force_on_wec(wec, x_wec, x_opt, nsubsteps)\n",
    "    return f_max - np.abs(f.flatten())\n",
    "\n",
    "ineq_cons = {'type': 'ineq',\n",
    "             'fun': const_f_pto,\n",
    "             }\n",
    "constraints = [ineq_cons]"
   ]
  },
  {
   "cell_type": "markdown",
   "metadata": {},
   "source": [
    "##### `WEC` creation\n",
    "We are now ready to create the `WEC` object itself! Since we ran our BEM already, we can define the object using the `wecopttool.WEC.from_bem` function. If we saved our BEM data to a NetCDF file, we can also provide the path to that file instead of specifying the BEM `Dataset` directly."
   ]
  },
  {
   "cell_type": "code",
   "execution_count": null,
   "metadata": {},
   "outputs": [],
   "source": [
    "wec = wot.WEC.from_bem(bem_data,\n",
    "                    inertia_matrix=mass,\n",
    "                    hydrostatic_stiffness=stiffness,\n",
    "                    constraints=constraints,\n",
    "                    friction=None,\n",
    "                    f_add=f_add,\n",
    "                    )"
   ]
  },
  {
   "cell_type": "markdown",
   "metadata": {},
   "source": [
    "### Waves\n",
    "The wave environment must be specified as an `xarray.Dataset` containing two 2-dimensional `xarray.DataArray`: (1) the amplitude spectrum  magnitude ``S``\n",
    "(m^2*s) and (2) the phase ``phase`` (rad). \n",
    "The two coordinates are the wave frequency ``omega`` (rad/s)  and the direction ``wave_direction`` (rad). \n",
    "The `wecopttool.waves` submodule contains functions for creating this `xarray.Dataset` for different types of wave environments. \n",
    "\n",
    "In this case we will use a regular wave with a frequency of 0.3 Hz and an amplitude of 0.0625 m. \n",
    "We will use the `wecopttool.waves.regular_wave` function. \n",
    "\n",
    "Now we may create a regular wave using the `wecopttool.waves` submodule. In this case, we will use a wave with a frequency of 0.3 Hz and an amplitude of 0.0625 m."
   ]
  },
  {
   "cell_type": "code",
   "execution_count": null,
   "metadata": {},
   "outputs": [],
   "source": [
    "amplitude = 0.0625  \n",
    "wavefreq = 0.3\n",
    "phase = 30\n",
    "wavedir = 0\n",
    "waves = wot.waves.regular_wave(f1, nfreq, wavefreq, amplitude, phase, wavedir)"
   ]
  },
  {
   "cell_type": "markdown",
   "metadata": {},
   "source": [
    "### Objective function\n",
    "The objective function is the quantity (scalar) we want to optimize -- in this case, the average mechanical power. The objective function is itself a function of the optimization state, the size of which we need to properly bound our call to `scipy.optimize.minimize()`. The average mechanical power can be taken directly from the `PTO` object we created:"
   ]
  },
  {
   "cell_type": "code",
   "execution_count": null,
   "metadata": {},
   "outputs": [],
   "source": [
    "obj_fun = pto.mechanical_average_power\n",
    "nstate_opt = 2*nfreq+1"
   ]
  },
  {
   "cell_type": "markdown",
   "metadata": {},
   "source": [
    "### Solve\n",
    "We are now ready to solve the problem. WecOptTool uses `scipy.optimize.minimize` as its optimization driver, which is wrapped into `wecopttool.WEC.solve` for ease of use.\n",
    "\n",
    "Note that the only required inputs for defining and solving the problem are: (1) the waves, (2) the objective function, and (3) the size of the optimization state. Optional inputs can be provided to control the optimization execution if desired (see `scipy.optimize.minimize` docs for details). `solve` returns the frequency and time domain response of the WEC, with the optimal value of our objective function returned in the third output, `results`.\n",
    "\n",
    "Pay attention to the `Exit mode`: an exit mode of $0$ indicates a successful solution.\n",
    "\n",
    "`results` also contains the raw optimized state (i.e. the optimal PTO force Fourier coefficients), which we can postprocess into quantities of interest using the `wecopttool.pto.post_process` function."
   ]
  },
  {
   "cell_type": "code",
   "execution_count": null,
   "metadata": {},
   "outputs": [],
   "source": [
    "wec_fdom, wec_tdom, results = wec.solve(\n",
    "    waves, \n",
    "    obj_fun, \n",
    "    nstate_opt, \n",
    "    )\n",
    "opt_mechanical_average_power = results.fun\n",
    "\n",
    "pto_fdom, pto_tdom = pto.post_process(wec, results, waves)"
   ]
  },
  {
   "cell_type": "markdown",
   "metadata": {},
   "source": [
    "### Analyzing results"
   ]
  },
  {
   "cell_type": "code",
   "execution_count": null,
   "metadata": {},
   "outputs": [],
   "source": [
    "plt.figure()\n"
   ]
  },
  {
   "cell_type": "markdown",
   "metadata": {},
   "source": [
    "## Example 2: Single-loop optimization for electrical power"
   ]
  },
  {
   "cell_type": "markdown",
   "metadata": {},
   "source": [
    "## Example 3: Multi-loop optimization for electrical power"
   ]
  }
 ],
 "metadata": {
  "kernelspec": {
   "display_name": "Python 3.9.13 ('wecopttool')",
   "language": "python",
   "name": "python3"
  },
  "language_info": {
   "codemirror_mode": {
    "name": "ipython",
    "version": 3
   },
   "file_extension": ".py",
   "mimetype": "text/x-python",
   "name": "python",
   "nbconvert_exporter": "python",
   "pygments_lexer": "ipython3",
   "version": "3.9.13"
  },
  "orig_nbformat": 4,
  "vscode": {
   "interpreter": {
    "hash": "e1061e7e7d947ef5fe5cd8ec1b5b8139db00305378c032d9cd9a04181a3d6b1b"
   }
  }
 },
 "nbformat": 4,
 "nbformat_minor": 2
}
