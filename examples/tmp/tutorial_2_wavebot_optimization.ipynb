{
 "cells": [
  {
   "cell_type": "markdown",
   "metadata": {},
   "source": [
    "# Tutorial 2 - WaveBot Optimization\n",
    "The goal of this tutorial is to show a simple example of using both outer and inner optimization loops in WecOptTool. \n",
    "Like the first tutorial, it uses the WaveBot WEC in one degree of freedom in regular waves. \n",
    "The goal is to **find the optimal keel radius** (`r2`) that maximizes the average absorbed power, while maintaining a constant volume. \n",
    "A constant volume is achieved by setting the height of the conical section (`h2`) in conjunction with the keel radius (`r2`).\n",
    "\n",
    "This example demonstrates a complete case of the types of optimization studies WecOptTool is meant for. \n",
    "The main optimization (outer optimization loop) is to find the optimal geometry (radius `r2`), and for each geometry considered the optimal PTO force (inner optimization loop) will be found.\n",
    "The inner loop was showcased in *Tutorial 1* and uses a gradient-based optimization method, with the gradients obtained with automatic differentiation. \n",
    "The outer loop optimization is for the user to setup. \n",
    "Note however that automatic differentiation is not an option due to the presence of the inner optimization loop. \n",
    "In this example, we will do a simple *brute force* optimization using `scipy.optimize.brute`.  \n",
    "\n",
    "![Device Diagram](https://live.staticflickr.com/65535/51751577441_515afec334_z.jpg)"
   ]
  },
  {
   "cell_type": "code",
   "execution_count": null,
   "metadata": {},
   "outputs": [],
   "source": [
    "import os\n",
    "import logging\n",
    "from datetime import datetime\n",
    "\n",
    "import autograd.numpy as np\n",
    "from autograd.builtins import isinstance, tuple, list, dict\n",
    "import capytaine as cpy\n",
    "import matplotlib.pyplot as plt\n",
    "from scipy.optimize import brute\n",
    "\n",
    "import wecopttool as wot\n",
    "\n",
    "\n",
    "logging.basicConfig(level=logging.ERROR)\n",
    "\n",
    "results_super_dir = 'results_tutorial_2'\n",
    "if not os.path.exists(results_super_dir):\n",
    "    os.makedirs(results_super_dir)\n"
   ]
  },
  {
   "cell_type": "markdown",
   "metadata": {},
   "source": [
    "## Problem setup\n",
    "First, we define a function for `h2` based on `r1` that maintains a constant volume. \n",
    "We see that, as expected, smaller values of `r2` require larger values of `h2` in order to maintain a constant hull volume."
   ]
  },
  {
   "cell_type": "code",
   "execution_count": null,
   "metadata": {},
   "outputs": [],
   "source": [
    "r1 = 0.88\n",
    "r2_0 = 0.35\n",
    "h2_0 = 0.37\n",
    "V0 = 1/3*np.pi*h2_0*(r1**2+r2_0**2+(r1*r2_0))\n",
    "\n",
    "r2_vals = np.linspace(0.05, 0.88*0.999, 8, endpoint=True)\n",
    "\n",
    "\n",
    "def h2_from_r2(r2, V=V0, r1=r1):\n",
    "    h2 = V/(1/3*np.pi*(r1**2+r2**2+(r1*r2)))\n",
    "    return h2\n",
    "\n",
    "\n",
    "# plot\n",
    "mapres = map(h2_from_r2, r2_vals)\n",
    "h2_vals = list(mapres)\n",
    "\n",
    "fig1, ax1 = plt.subplots(figsize=(8,5))\n",
    "for r2, h2 in zip(r2_vals.tolist(), h2_vals):\n",
    "    _ = wot.geom.WaveBot(r2=r2, h2=h2, freeboard=0.2).plot_cross_section(\n",
    "        ax=ax1, label=f\"r2={r2:.2f}, h2={h2:.2f}\")\n",
    "ax1.legend(loc='best', fontsize='small',ncol=2)\n",
    "_ = ax1.set_title('WaveBot hull cross-sections')\n"
   ]
  },
  {
   "cell_type": "markdown",
   "metadata": {},
   "source": [
    "Next we will define an objective function for our design optimization problem. We use the same workflow illustrated in Tutorial 1 to set up a WaveBot device and solve for the optimal solution, but wrap this in a function definition which can set `r2` and (indirectly) `h2`."
   ]
  },
  {
   "cell_type": "code",
   "execution_count": null,
   "metadata": {},
   "outputs": [],
   "source": [
    "def design_obj_fun(x):\n",
    "    r2 = x[0]\n",
    "    print(f\"\\nr2 = {r2:.2f}:\")\n",
    "    start_time = datetime.now()\n",
    "    \n",
    "    ## WEC ##\n",
    "    # geometry\n",
    "    h2 = h2_from_r2(r2)\n",
    "\n",
    "    # mesh\n",
    "    wb = wot.geom.WaveBot(r2=r2, h2=h2)\n",
    "    mesh = wb.mesh(mesh_size_factor=0.5)\n",
    "\n",
    "    # capytaine floating body (mesh + DOFs)\n",
    "    fb = cpy.FloatingBody.from_meshio(mesh, name=\"WaveBot\")\n",
    "    fb.add_translation_dof(name=\"HEAVE\")\n",
    "\n",
    "    # mass & hydrostatic stiffness\n",
    "    hs_data = wot.hydrostatics.hydrostatics(fb)\n",
    "    mass_33 = wot.hydrostatics.mass_matrix_constant_density(hs_data)[2, 2]\n",
    "    mass = np.atleast_2d(mass_33)\n",
    "    stiffness_33 = wot.hydrostatics.stiffness_matrix(hs_data)[2, 2]\n",
    "    stiffness = np.atleast_2d(stiffness_33)\n",
    "\n",
    "    # frequencies\n",
    "    f0 = 0.05\n",
    "    nfreq = 50\n",
    "\n",
    "    # PTOs (additional force + constraint + objective function)\n",
    "    kinematics = np.eye(fb.nb_dofs)\n",
    "    pto = wot.pto.PseudoSpectralPTO(nfreq, kinematics)\n",
    "\n",
    "    # constraints at 4x points\n",
    "    nsubsteps = 4\n",
    "    f_max = 2000.0\n",
    "\n",
    "    def const_f_pto(wec, x_wec, x_opt):\n",
    "        f = pto.force_on_wec(wec, x_wec, x_opt, nsubsteps)\n",
    "        return f_max - np.abs(f.flatten())\n",
    "\n",
    "    ineq_cons = {'type': 'ineq',\n",
    "                 'fun': const_f_pto,\n",
    "                 }\n",
    "    constraints = [ineq_cons]\n",
    "\n",
    "    # additional friction\n",
    "    dissipation = 160.3\n",
    "\n",
    "    # create WECs\n",
    "    f_added = {'PTO force': pto.force_on_wec}\n",
    "\n",
    "    my_wec = wot.WEC(fb, mass, stiffness, f0, nfreq, f_add=f_added,\n",
    "                     constraints=constraints, dissipation=dissipation)\n",
    "\n",
    "    # create save directory\n",
    "    results_dir = os.path.join(results_super_dir, f\"{r2:.2f}\")\n",
    "    if not os.path.exists(results_dir):\n",
    "      os.makedirs(results_dir)\n",
    "\n",
    "    # read BEM if available, else run & save\n",
    "    fname = os.path.join(results_dir, 'bem.nc')\n",
    "    if os.path.exists(fname):\n",
    "        my_wec.read_bem(fname)\n",
    "    else:\n",
    "        my_wec.run_bem()\n",
    "        my_wec.write_bem(fname)\n",
    "        mesh.write(os.path.join(results_dir, f\"{r2:.2f}.stl\"))\n",
    "\n",
    "    ## WAVE ##\n",
    "    wfreq = 0.6\n",
    "    amplitude = 0.0625\n",
    "    phase = -40\n",
    "    waves = wot.waves.regular_wave(f0, nfreq, wfreq, amplitude, phase)\n",
    "\n",
    "    ## OBJECTIVE FUNCTION ##\n",
    "    obj_fun = pto.average_power\n",
    "    nstate_opt = pto.nstate\n",
    "\n",
    "    ## SOLVE ##\n",
    "    scale_x_wec = 1e4\n",
    "    scale_x_opt = 1\n",
    "    scale_obj = 1e-1\n",
    "    options = {'maxiter': 1000, 'ftol': 1e-8}\n",
    "    \n",
    "\n",
    "    _, _, _, _, avg_power, _ = my_wec.solve(\n",
    "        waves, obj_fun, nstate_opt, optim_options=options, \n",
    "        scale_x_opt=scale_x_opt, scale_x_wec=scale_x_wec, scale_obj=scale_obj)\n",
    "\n",
    "    print(f'time (hh:mm:ss): {datetime.now()-start_time}')\n",
    "\n",
    "    return avg_power\n"
   ]
  },
  {
   "cell_type": "markdown",
   "metadata": {},
   "source": [
    "## Solve\n",
    "Finally, we may call this objective function with an optimization algorithm. \n",
    "Here, a simple *brute force* optimization approach is used for illustrative purposes, but any variety of options could be applied. \n",
    "The optimization algorithm will call our objective function, which in turn will create a new WaveBot hull, run the necessary BEM calculations for the hull, and find the PTO force that provides the most absorbed power for that hull. \n",
    "This process will be conducted for the range of `r2` values that we specify."
   ]
  },
  {
   "cell_type": "code",
   "execution_count": null,
   "metadata": {},
   "outputs": [],
   "source": [
    "# range over which to search\n",
    "ranges = (slice(r2_vals[0], r2_vals[-1]+np.diff(r2_vals)[0], np.diff(r2_vals)[0]),)\n",
    "\n",
    "# solve\n",
    "res = brute(func=design_obj_fun, ranges=ranges, full_output=True,  finish=None)"
   ]
  },
  {
   "cell_type": "markdown",
   "metadata": {},
   "source": [
    "## Results\n",
    "From a quick plot of the results, we see that the power absorption (where negative power is power absorbed by the device) generally improves for smaller values of `r2`.\n",
    "It is also clear that when the WEC is cylindrical (where `r2=0.88`), power absorption is reduced."
   ]
  },
  {
   "cell_type": "code",
   "execution_count": null,
   "metadata": {},
   "outputs": [],
   "source": [
    "fig2, ax2 = plt.subplots()\n",
    "colors = plt.rcParams['axes.prop_cycle'].by_key()['color'][:len(res[2])]\n",
    "\n",
    "ax2.plot(res[2], res[3], 'k', zorder=0)\n",
    "ax2.scatter(res[2], res[3], c=colors, zorder=1)\n",
    "\n",
    "ax2.set_xlabel('Keel radius, $r_2$ [m]')\n",
    "ax2.set_ylabel('Average Power [W]')\n",
    "ax2.set_title('Design optimization results')\n",
    "fig2.tight_layout()\n",
    "\n",
    "plt.show()"
   ]
  }
 ],
 "metadata": {
  "interpreter": {
   "hash": "52432d6ee3f19a0e95d153c6ef95316a5902a04bd0ac4e408b2228923a5e25ec"
  },
  "kernelspec": {
   "display_name": "Python 3 (ipykernel)",
   "language": "python",
   "name": "python3"
  },
  "language_info": {
   "codemirror_mode": {
    "name": "ipython",
    "version": 3
   },
   "file_extension": ".py",
   "mimetype": "text/x-python",
   "name": "python",
   "nbconvert_exporter": "python",
   "pygments_lexer": "ipython3",
   "version": "3.9.9"
  }
 },
 "nbformat": 4,
 "nbformat_minor": 2
}
