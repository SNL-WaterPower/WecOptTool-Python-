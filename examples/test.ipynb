{
 "cells": [
  {
   "cell_type": "code",
   "execution_count": null,
   "metadata": {},
   "outputs": [],
   "source": [
    "import autograd.numpy as np\n",
    "import capytaine as cpy\n",
    "import matplotlib.pyplot as plt\n",
    "import datetime\n",
    "\n",
    "# wecopttool\n",
    "import wecopttool as wot\n",
    "\n",
    "\n",
    "wb = wot.geom.WaveBot()  # use standard dimensions\n",
    "mesh_size_factor = 0.5 # 1.0 for default, smaller to refine mesh\n",
    "mesh = wb.mesh(mesh_size_factor)\n",
    "fb = cpy.FloatingBody.from_meshio(mesh, name=\"WaveBot\")\n",
    "fb.add_translation_dof(name=\"Heave\")\n",
    "ndof = fb.nb_dofs\n",
    "\n",
    "stiffness = wot.hydrostatics.stiffness_matrix(fb).values\n",
    "mass = wot.hydrostatics.inertia_matrix(fb).values\n",
    "\n",
    "f1 = 0.05\n",
    "nfreq = 50\n",
    "freq = wot.frequency(f1, nfreq, False) # False -> no zero frequency\n",
    "\n",
    "bem_data = wot.run_bem(fb, freq)\n",
    "\n",
    "name = [\"PTO_Heave\",]\n",
    "kinematics = np.eye(ndof)\n",
    "controller = None\n",
    "efficiency = None\n",
    "pto_impedance = None\n",
    "pto = wot.pto.PTO(ndof, kinematics, controller, pto_impedance, efficiency, name)\n",
    "\n",
    "# PTO dynamics forcing function\n",
    "f_add = {'PTO': pto.force_on_wec}\n",
    "\n",
    "# Constraint\n",
    "f_max = 2000.0\n",
    "nsubsteps = 4\n",
    "\n",
    "def const_f_pto(wec, x_wec, x_opt, waves): # Format for scipy.optimize.minimize\n",
    "    f = pto.force_on_wec(wec, x_wec, x_opt, nsubsteps)\n",
    "    return f_max - np.abs(f.flatten())\n",
    "\n",
    "ineq_cons = {'type': 'ineq',\n",
    "             'fun': const_f_pto,\n",
    "             }\n",
    "constraints =  [ineq_cons]\n",
    "\n",
    "wec = wot.WEC.from_bem(bem_data,\n",
    "                    inertia_matrix=mass,\n",
    "                    hydrostatic_stiffness=stiffness,\n",
    "                    constraints=constraints,\n",
    "                    friction=None,\n",
    "                    f_add=f_add,\n",
    "                    )\n",
    "\n",
    "amplitude = 0.0625  \n",
    "wavefreq = 0.3\n",
    "phase = 30\n",
    "wavedir = 0\n",
    "waves = wot.waves.regular_wave(f1, nfreq, wavefreq, amplitude, phase, wavedir)\n",
    "\n",
    "obj_fun = pto.mechanical_average_power\n",
    "nstate_opt = 2*nfreq+1\n",
    "\n",
    "scale_x_wec = 1e1\n",
    "scale_x_opt = 1e-3\n",
    "scale_obj = 1e-2\n",
    "\n",
    "options = {'maxiter': 1000, 'ftol': 1e-8}\n",
    "results = wec.solve(\n",
    "    waves, \n",
    "    obj_fun, \n",
    "    nstate_opt,\n",
    "    optim_options=options,\n",
    "    scale_obj=scale_obj, scale_x_wec=scale_x_wec, scale_x_opt=scale_x_opt, \n",
    "    )\n",
    "opt_mechanical_average_power = results.fun\n",
    "print(f'Optimal average mechanical power: {opt_mechanical_average_power} W')\n",
    "\n",
    "wec_fdom, wec_tdom = wec.post_process(results, waves)\n",
    "pto_fdom, pto_tdom = pto.post_process(wec, results, waves)"
   ]
  },
  {
   "cell_type": "code",
   "execution_count": null,
   "metadata": {},
   "outputs": [],
   "source": [
    "for var in ['pos', 'vel', 'acc']:\n",
    "    fig, ax = plt.subplots()\n",
    "    wec_tdom[var].plot(ax=ax, label=\"wec\")\n",
    "    pto_tdom[var].plot(ax=ax, label=\"pto\", linestyle='--')\n",
    "    plt.legend()"
   ]
  },
  {
   "cell_type": "code",
   "execution_count": null,
   "metadata": {},
   "outputs": [],
   "source": [
    "fig, ax = plt.subplots()\n",
    "wec_tdom['force'].sel(type='PTO').plot(ax=ax, label=\"wec\")\n",
    "pto_tdom['force'].plot(ax=ax, label=\"pto\", linestyle='--')\n",
    "plt.legend()"
   ]
  },
  {
   "cell_type": "code",
   "execution_count": null,
   "metadata": {},
   "outputs": [],
   "source": []
  }
 ],
 "metadata": {
  "kernelspec": {
   "display_name": "Python 3.9.13 ('.venv': venv)",
   "language": "python",
   "name": "python3"
  },
  "language_info": {
   "codemirror_mode": {
    "name": "ipython",
    "version": 3
   },
   "file_extension": ".py",
   "mimetype": "text/x-python",
   "name": "python",
   "nbconvert_exporter": "python",
   "pygments_lexer": "ipython3",
   "version": "3.9.13"
  },
  "vscode": {
   "interpreter": {
    "hash": "8a99fe84a51380becd6c0d876e03b021061773a8f92955d853b256702fd3d0dd"
   }
  }
 },
 "nbformat": 4,
 "nbformat_minor": 2
}
